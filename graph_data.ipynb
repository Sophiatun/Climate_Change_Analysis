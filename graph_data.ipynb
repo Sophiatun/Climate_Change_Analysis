{
 "cells": [
  {
   "cell_type": "markdown",
   "metadata": {},
   "source": [
    "# Graphs\n",
    "----"
   ]
  },
  {
   "cell_type": "code",
   "execution_count": 97,
   "metadata": {},
   "outputs": [],
   "source": [
    "# Import Libraries\n",
    "import pandas as pd\n",
    "import json\n",
    "import requests\n",
    "import numpy as np\n",
    "import datetime as dt\n",
    "import plotly.express as px\n",
    "import plotly.graph_objects as go"
   ]
  },
  {
   "cell_type": "markdown",
   "metadata": {},
   "source": [
    "# Global Overview\n",
    "How have global temperature trends evolved throughout our date range? <br>"
   ]
  },
  {
   "cell_type": "markdown",
   "metadata": {},
   "source": [
    "#### Analysis: On average, global temperatures have shown a great increase over time, as displayed in the graph below (ranging from 1850 to 1950).\n",
    "\"Ocean currents act as conveyer belts of warm and cold water, sending heat toward the polar regions and helping tropical areas cool off. The world's ocean is crucial to heating the planet. While land areas and the atmosphere absorb some sunlight, the majority of the sun's radiation is absorbed by the ocean.\" <br>\n",
    " -- Ocean Explorer (https://www.coastal.ca.gov/coastalvoices/resources/NOAAOceanExplorerClimate.pdf)\n",
    "<br>\n",
    "- Water has a higher specific heat capacity than land (ie. requires more energy for its temperature to change)\n",
    "- Water can be distributed more evenly in the ocean since the body of water is so vast (larger volume as compared to land, much much greater), thus resulting in slower temperature changes in the ocean as compared to land\n",
    "- Water absorbs more incoming solar radiation => higher ocean temperatures\n",
    "- Oceans contribute to higher humidity levels in the atmosphere. Humidity traps heat, which them contributed to higher overall temperature of the Earth's atmosphere\n",
    "- Land has lower thermal intertia, meaning it warm up quickly and cools down quickly\n",
    "- Ocean has higher thermal inertia, meaning it takes time to warm up and cool down. Even though the sun is not out, it will still release stored heat, which then helps moderate temperature changes in the atmosphere"
   ]
  },
  {
   "cell_type": "code",
   "execution_count": 2,
   "metadata": {},
   "outputs": [
    {
     "data": {
      "text/html": [
       "<div>\n",
       "<style scoped>\n",
       "    .dataframe tbody tr th:only-of-type {\n",
       "        vertical-align: middle;\n",
       "    }\n",
       "\n",
       "    .dataframe tbody tr th {\n",
       "        vertical-align: top;\n",
       "    }\n",
       "\n",
       "    .dataframe thead th {\n",
       "        text-align: right;\n",
       "    }\n",
       "</style>\n",
       "<table border=\"1\" class=\"dataframe\">\n",
       "  <thead>\n",
       "    <tr style=\"text-align: right;\">\n",
       "      <th></th>\n",
       "      <th>Year</th>\n",
       "      <th>LandAverageTemperature</th>\n",
       "      <th>LandMaxTemperature</th>\n",
       "      <th>LandMinTemperature</th>\n",
       "      <th>LandAndOceanAverageTemperature</th>\n",
       "    </tr>\n",
       "  </thead>\n",
       "  <tbody>\n",
       "    <tr>\n",
       "      <th>0</th>\n",
       "      <td>1850</td>\n",
       "      <td>7.900667</td>\n",
       "      <td>13.476667</td>\n",
       "      <td>1.964333</td>\n",
       "      <td>14.867167</td>\n",
       "    </tr>\n",
       "    <tr>\n",
       "      <th>1</th>\n",
       "      <td>1851</td>\n",
       "      <td>8.178583</td>\n",
       "      <td>13.081000</td>\n",
       "      <td>2.203917</td>\n",
       "      <td>14.991833</td>\n",
       "    </tr>\n",
       "    <tr>\n",
       "      <th>2</th>\n",
       "      <td>1852</td>\n",
       "      <td>8.100167</td>\n",
       "      <td>13.397333</td>\n",
       "      <td>2.337000</td>\n",
       "      <td>15.006500</td>\n",
       "    </tr>\n",
       "    <tr>\n",
       "      <th>3</th>\n",
       "      <td>1853</td>\n",
       "      <td>8.041833</td>\n",
       "      <td>13.886583</td>\n",
       "      <td>1.892500</td>\n",
       "      <td>14.955167</td>\n",
       "    </tr>\n",
       "    <tr>\n",
       "      <th>4</th>\n",
       "      <td>1854</td>\n",
       "      <td>8.210500</td>\n",
       "      <td>13.977417</td>\n",
       "      <td>1.762167</td>\n",
       "      <td>14.991000</td>\n",
       "    </tr>\n",
       "    <tr>\n",
       "      <th>...</th>\n",
       "      <td>...</td>\n",
       "      <td>...</td>\n",
       "      <td>...</td>\n",
       "      <td>...</td>\n",
       "      <td>...</td>\n",
       "    </tr>\n",
       "    <tr>\n",
       "      <th>161</th>\n",
       "      <td>2011</td>\n",
       "      <td>9.516000</td>\n",
       "      <td>15.284833</td>\n",
       "      <td>3.827667</td>\n",
       "      <td>15.769500</td>\n",
       "    </tr>\n",
       "    <tr>\n",
       "      <th>162</th>\n",
       "      <td>2012</td>\n",
       "      <td>9.507333</td>\n",
       "      <td>15.332833</td>\n",
       "      <td>3.756167</td>\n",
       "      <td>15.802333</td>\n",
       "    </tr>\n",
       "    <tr>\n",
       "      <th>163</th>\n",
       "      <td>2013</td>\n",
       "      <td>9.606500</td>\n",
       "      <td>15.373833</td>\n",
       "      <td>3.911333</td>\n",
       "      <td>15.854417</td>\n",
       "    </tr>\n",
       "    <tr>\n",
       "      <th>164</th>\n",
       "      <td>2014</td>\n",
       "      <td>9.570667</td>\n",
       "      <td>15.313583</td>\n",
       "      <td>3.877750</td>\n",
       "      <td>15.913000</td>\n",
       "    </tr>\n",
       "    <tr>\n",
       "      <th>165</th>\n",
       "      <td>2015</td>\n",
       "      <td>9.831000</td>\n",
       "      <td>15.572667</td>\n",
       "      <td>4.148833</td>\n",
       "      <td>16.058583</td>\n",
       "    </tr>\n",
       "  </tbody>\n",
       "</table>\n",
       "<p>166 rows × 5 columns</p>\n",
       "</div>"
      ],
      "text/plain": [
       "     Year  LandAverageTemperature  LandMaxTemperature  LandMinTemperature  \\\n",
       "0    1850                7.900667           13.476667            1.964333   \n",
       "1    1851                8.178583           13.081000            2.203917   \n",
       "2    1852                8.100167           13.397333            2.337000   \n",
       "3    1853                8.041833           13.886583            1.892500   \n",
       "4    1854                8.210500           13.977417            1.762167   \n",
       "..    ...                     ...                 ...                 ...   \n",
       "161  2011                9.516000           15.284833            3.827667   \n",
       "162  2012                9.507333           15.332833            3.756167   \n",
       "163  2013                9.606500           15.373833            3.911333   \n",
       "164  2014                9.570667           15.313583            3.877750   \n",
       "165  2015                9.831000           15.572667            4.148833   \n",
       "\n",
       "     LandAndOceanAverageTemperature  \n",
       "0                         14.867167  \n",
       "1                         14.991833  \n",
       "2                         15.006500  \n",
       "3                         14.955167  \n",
       "4                         14.991000  \n",
       "..                              ...  \n",
       "161                       15.769500  \n",
       "162                       15.802333  \n",
       "163                       15.854417  \n",
       "164                       15.913000  \n",
       "165                       16.058583  \n",
       "\n",
       "[166 rows x 5 columns]"
      ]
     },
     "execution_count": 2,
     "metadata": {},
     "output_type": "execute_result"
    }
   ],
   "source": [
    "# Read CSV File\n",
    "global_df = pd.read_csv(\"Cleaned Data/Global.csv\")\n",
    "temp_global_df = global_df[global_df['Year']<=1900]\n",
    "global_df"
   ]
  },
  {
   "cell_type": "code",
   "execution_count": 3,
   "metadata": {},
   "outputs": [
    {
     "data": {
      "text/plain": [
       "8.829749999999999"
      ]
     },
     "execution_count": 3,
     "metadata": {},
     "output_type": "execute_result"
    }
   ],
   "source": [
    "temp = temp_global_df['LandAverageTemperature'].max()\n",
    "temp"
   ]
  },
  {
   "cell_type": "code",
   "execution_count": 4,
   "metadata": {},
   "outputs": [
    {
     "data": {
      "text/html": [
       "<div>\n",
       "<style scoped>\n",
       "    .dataframe tbody tr th:only-of-type {\n",
       "        vertical-align: middle;\n",
       "    }\n",
       "\n",
       "    .dataframe tbody tr th {\n",
       "        vertical-align: top;\n",
       "    }\n",
       "\n",
       "    .dataframe thead th {\n",
       "        text-align: right;\n",
       "    }\n",
       "</style>\n",
       "<table border=\"1\" class=\"dataframe\">\n",
       "  <thead>\n",
       "    <tr style=\"text-align: right;\">\n",
       "      <th></th>\n",
       "      <th>Year</th>\n",
       "      <th>LandAverageTemperature</th>\n",
       "      <th>LandMaxTemperature</th>\n",
       "      <th>LandMinTemperature</th>\n",
       "      <th>LandAndOceanAverageTemperature</th>\n",
       "    </tr>\n",
       "  </thead>\n",
       "  <tbody>\n",
       "    <tr>\n",
       "      <th>28</th>\n",
       "      <td>1878</td>\n",
       "      <td>8.82975</td>\n",
       "      <td>14.742167</td>\n",
       "      <td>2.981667</td>\n",
       "      <td>15.357417</td>\n",
       "    </tr>\n",
       "  </tbody>\n",
       "</table>\n",
       "</div>"
      ],
      "text/plain": [
       "    Year  LandAverageTemperature  LandMaxTemperature  LandMinTemperature  \\\n",
       "28  1878                 8.82975           14.742167            2.981667   \n",
       "\n",
       "    LandAndOceanAverageTemperature  \n",
       "28                       15.357417  "
      ]
     },
     "execution_count": 4,
     "metadata": {},
     "output_type": "execute_result"
    }
   ],
   "source": [
    "# Find the spike in temperature (seen a few years after 1875 tick in chart below)\n",
    "filtered_df = temp_global_df[temp_global_df['LandAverageTemperature'] == temp]\n",
    "filtered_df"
   ]
  },
  {
   "cell_type": "code",
   "execution_count": 5,
   "metadata": {},
   "outputs": [
    {
     "data": {
      "application/vnd.plotly.v1+json": {
       "config": {
        "plotlyServerURL": "https://plot.ly"
       },
       "data": [
        {
         "hovertemplate": "Year=%{x}<br>Temperature (°C)=%{y}<extra></extra>",
         "legendgroup": "",
         "line": {
          "color": "#636efa",
          "dash": "solid"
         },
         "marker": {
          "symbol": "circle"
         },
         "mode": "lines",
         "name": "",
         "orientation": "v",
         "showlegend": false,
         "type": "scatter",
         "x": [
          1850,
          1851,
          1852,
          1853,
          1854,
          1855,
          1856,
          1857,
          1858,
          1859,
          1860,
          1861,
          1862,
          1863,
          1864,
          1865,
          1866,
          1867,
          1868,
          1869,
          1870,
          1871,
          1872,
          1873,
          1874,
          1875,
          1876,
          1877,
          1878,
          1879,
          1880,
          1881,
          1882,
          1883,
          1884,
          1885,
          1886,
          1887,
          1888,
          1889,
          1890,
          1891,
          1892,
          1893,
          1894,
          1895,
          1896,
          1897,
          1898,
          1899,
          1900,
          1901,
          1902,
          1903,
          1904,
          1905,
          1906,
          1907,
          1908,
          1909,
          1910,
          1911,
          1912,
          1913,
          1914,
          1915,
          1916,
          1917,
          1918,
          1919,
          1920,
          1921,
          1922,
          1923,
          1924,
          1925,
          1926,
          1927,
          1928,
          1929,
          1930,
          1931,
          1932,
          1933,
          1934,
          1935,
          1936,
          1937,
          1938,
          1939,
          1940,
          1941,
          1942,
          1943,
          1944,
          1945,
          1946,
          1947,
          1948,
          1949,
          1950,
          1951,
          1952,
          1953,
          1954,
          1955,
          1956,
          1957,
          1958,
          1959,
          1960,
          1961,
          1962,
          1963,
          1964,
          1965,
          1966,
          1967,
          1968,
          1969,
          1970,
          1971,
          1972,
          1973,
          1974,
          1975,
          1976,
          1977,
          1978,
          1979,
          1980,
          1981,
          1982,
          1983,
          1984,
          1985,
          1986,
          1987,
          1988,
          1989,
          1990,
          1991,
          1992,
          1993,
          1994,
          1995,
          1996,
          1997,
          1998,
          1999,
          2000,
          2001,
          2002,
          2003,
          2004,
          2005,
          2006,
          2007,
          2008,
          2009,
          2010,
          2011,
          2012,
          2013,
          2014,
          2015
         ],
         "xaxis": "x",
         "y": [
          7.900666666666667,
          8.178583333333334,
          8.100166666666667,
          8.041833333333333,
          8.2105,
          8.11075,
          7.995916666666666,
          7.758166666666667,
          8.10025,
          8.252,
          7.960833333333333,
          7.8465,
          7.558583333333334,
          8.111833333333333,
          7.983583333333333,
          8.177833333333334,
          8.292166666666667,
          8.436333333333334,
          8.247916666666667,
          8.432083333333333,
          8.201333333333332,
          8.115083333333333,
          8.193833333333332,
          8.351083333333333,
          8.4335,
          7.859583333333333,
          8.080083333333333,
          8.539583333333333,
          8.829749999999999,
          8.165833333333333,
          8.11875,
          8.270916666666666,
          8.128916666666667,
          7.976916666666667,
          7.773666666666666,
          7.919666666666667,
          7.9545,
          7.914916666666667,
          8.0905,
          8.319,
          7.971666666666667,
          8.019333333333334,
          8.065833333333332,
          8.05675,
          8.161,
          8.147,
          8.214916666666667,
          8.293333333333333,
          8.177999999999999,
          8.396333333333333,
          8.501583333333334,
          8.541916666666667,
          8.304416666666667,
          8.220166666666666,
          8.090916666666667,
          8.225166666666667,
          8.379083333333332,
          7.947166666666667,
          8.186083333333334,
          8.17825,
          8.223,
          8.177,
          8.165416666666667,
          8.29775,
          8.5905,
          8.593166666666667,
          8.22525,
          8.023333333333333,
          8.130833333333333,
          8.38225,
          8.358749999999999,
          8.571,
          8.408,
          8.422166666666667,
          8.506833333333335,
          8.534416666666667,
          8.728833333333332,
          8.522083333333333,
          8.632166666666667,
          8.242416666666667,
          8.633583333333332,
          8.71925,
          8.70525,
          8.33825,
          8.628333333333334,
          8.51575,
          8.554,
          8.698333333333332,
          8.863666666666667,
          8.760333333333334,
          8.764666666666667,
          8.768666666666666,
          8.728416666666666,
          8.755083333333333,
          8.845,
          8.584833333333334,
          8.676916666666667,
          8.797083333333333,
          8.74675,
          8.58675,
          8.365250000000001,
          8.625666666666667,
          8.638250000000001,
          8.87375,
          8.560666666666666,
          8.62625,
          8.279583333333333,
          8.7325,
          8.77375,
          8.732666666666667,
          8.58375,
          8.797666666666666,
          8.745916666666666,
          8.856,
          8.409666666666666,
          8.527416666666666,
          8.599333333333332,
          8.700083333333334,
          8.516333333333334,
          8.595083333333333,
          8.700916666666666,
          8.59925,
          8.499583333333334,
          8.94825,
          8.4675,
          8.744833333333334,
          8.34725,
          8.85025,
          8.69275,
          8.733416666666667,
          8.980333333333332,
          9.165833333333332,
          8.639166666666666,
          9.028166666666666,
          8.691833333333333,
          8.658,
          8.833583333333333,
          8.994416666666666,
          9.201583333333334,
          8.921999999999999,
          9.234166666666669,
          9.179416666666668,
          8.836583333333333,
          8.866583333333333,
          9.03875,
          9.347083333333334,
          9.038916666666667,
          9.202583333333331,
          9.522666666666668,
          9.285083333333334,
          9.201166666666667,
          9.414583333333333,
          9.570416666666668,
          9.525583333333334,
          9.324583333333331,
          9.700916666666666,
          9.5325,
          9.732166666666666,
          9.43175,
          9.50525,
          9.703083333333334,
          9.516,
          9.507333333333332,
          9.6065,
          9.570666666666666,
          9.831
         ],
         "yaxis": "y"
        }
       ],
       "layout": {
        "legend": {
         "tracegroupgap": 0
        },
        "template": {
         "data": {
          "bar": [
           {
            "error_x": {
             "color": "#2a3f5f"
            },
            "error_y": {
             "color": "#2a3f5f"
            },
            "marker": {
             "line": {
              "color": "#E5ECF6",
              "width": 0.5
             },
             "pattern": {
              "fillmode": "overlay",
              "size": 10,
              "solidity": 0.2
             }
            },
            "type": "bar"
           }
          ],
          "barpolar": [
           {
            "marker": {
             "line": {
              "color": "#E5ECF6",
              "width": 0.5
             },
             "pattern": {
              "fillmode": "overlay",
              "size": 10,
              "solidity": 0.2
             }
            },
            "type": "barpolar"
           }
          ],
          "carpet": [
           {
            "aaxis": {
             "endlinecolor": "#2a3f5f",
             "gridcolor": "white",
             "linecolor": "white",
             "minorgridcolor": "white",
             "startlinecolor": "#2a3f5f"
            },
            "baxis": {
             "endlinecolor": "#2a3f5f",
             "gridcolor": "white",
             "linecolor": "white",
             "minorgridcolor": "white",
             "startlinecolor": "#2a3f5f"
            },
            "type": "carpet"
           }
          ],
          "choropleth": [
           {
            "colorbar": {
             "outlinewidth": 0,
             "ticks": ""
            },
            "type": "choropleth"
           }
          ],
          "contour": [
           {
            "colorbar": {
             "outlinewidth": 0,
             "ticks": ""
            },
            "colorscale": [
             [
              0,
              "#0d0887"
             ],
             [
              0.1111111111111111,
              "#46039f"
             ],
             [
              0.2222222222222222,
              "#7201a8"
             ],
             [
              0.3333333333333333,
              "#9c179e"
             ],
             [
              0.4444444444444444,
              "#bd3786"
             ],
             [
              0.5555555555555556,
              "#d8576b"
             ],
             [
              0.6666666666666666,
              "#ed7953"
             ],
             [
              0.7777777777777778,
              "#fb9f3a"
             ],
             [
              0.8888888888888888,
              "#fdca26"
             ],
             [
              1,
              "#f0f921"
             ]
            ],
            "type": "contour"
           }
          ],
          "contourcarpet": [
           {
            "colorbar": {
             "outlinewidth": 0,
             "ticks": ""
            },
            "type": "contourcarpet"
           }
          ],
          "heatmap": [
           {
            "colorbar": {
             "outlinewidth": 0,
             "ticks": ""
            },
            "colorscale": [
             [
              0,
              "#0d0887"
             ],
             [
              0.1111111111111111,
              "#46039f"
             ],
             [
              0.2222222222222222,
              "#7201a8"
             ],
             [
              0.3333333333333333,
              "#9c179e"
             ],
             [
              0.4444444444444444,
              "#bd3786"
             ],
             [
              0.5555555555555556,
              "#d8576b"
             ],
             [
              0.6666666666666666,
              "#ed7953"
             ],
             [
              0.7777777777777778,
              "#fb9f3a"
             ],
             [
              0.8888888888888888,
              "#fdca26"
             ],
             [
              1,
              "#f0f921"
             ]
            ],
            "type": "heatmap"
           }
          ],
          "heatmapgl": [
           {
            "colorbar": {
             "outlinewidth": 0,
             "ticks": ""
            },
            "colorscale": [
             [
              0,
              "#0d0887"
             ],
             [
              0.1111111111111111,
              "#46039f"
             ],
             [
              0.2222222222222222,
              "#7201a8"
             ],
             [
              0.3333333333333333,
              "#9c179e"
             ],
             [
              0.4444444444444444,
              "#bd3786"
             ],
             [
              0.5555555555555556,
              "#d8576b"
             ],
             [
              0.6666666666666666,
              "#ed7953"
             ],
             [
              0.7777777777777778,
              "#fb9f3a"
             ],
             [
              0.8888888888888888,
              "#fdca26"
             ],
             [
              1,
              "#f0f921"
             ]
            ],
            "type": "heatmapgl"
           }
          ],
          "histogram": [
           {
            "marker": {
             "pattern": {
              "fillmode": "overlay",
              "size": 10,
              "solidity": 0.2
             }
            },
            "type": "histogram"
           }
          ],
          "histogram2d": [
           {
            "colorbar": {
             "outlinewidth": 0,
             "ticks": ""
            },
            "colorscale": [
             [
              0,
              "#0d0887"
             ],
             [
              0.1111111111111111,
              "#46039f"
             ],
             [
              0.2222222222222222,
              "#7201a8"
             ],
             [
              0.3333333333333333,
              "#9c179e"
             ],
             [
              0.4444444444444444,
              "#bd3786"
             ],
             [
              0.5555555555555556,
              "#d8576b"
             ],
             [
              0.6666666666666666,
              "#ed7953"
             ],
             [
              0.7777777777777778,
              "#fb9f3a"
             ],
             [
              0.8888888888888888,
              "#fdca26"
             ],
             [
              1,
              "#f0f921"
             ]
            ],
            "type": "histogram2d"
           }
          ],
          "histogram2dcontour": [
           {
            "colorbar": {
             "outlinewidth": 0,
             "ticks": ""
            },
            "colorscale": [
             [
              0,
              "#0d0887"
             ],
             [
              0.1111111111111111,
              "#46039f"
             ],
             [
              0.2222222222222222,
              "#7201a8"
             ],
             [
              0.3333333333333333,
              "#9c179e"
             ],
             [
              0.4444444444444444,
              "#bd3786"
             ],
             [
              0.5555555555555556,
              "#d8576b"
             ],
             [
              0.6666666666666666,
              "#ed7953"
             ],
             [
              0.7777777777777778,
              "#fb9f3a"
             ],
             [
              0.8888888888888888,
              "#fdca26"
             ],
             [
              1,
              "#f0f921"
             ]
            ],
            "type": "histogram2dcontour"
           }
          ],
          "mesh3d": [
           {
            "colorbar": {
             "outlinewidth": 0,
             "ticks": ""
            },
            "type": "mesh3d"
           }
          ],
          "parcoords": [
           {
            "line": {
             "colorbar": {
              "outlinewidth": 0,
              "ticks": ""
             }
            },
            "type": "parcoords"
           }
          ],
          "pie": [
           {
            "automargin": true,
            "type": "pie"
           }
          ],
          "scatter": [
           {
            "fillpattern": {
             "fillmode": "overlay",
             "size": 10,
             "solidity": 0.2
            },
            "type": "scatter"
           }
          ],
          "scatter3d": [
           {
            "line": {
             "colorbar": {
              "outlinewidth": 0,
              "ticks": ""
             }
            },
            "marker": {
             "colorbar": {
              "outlinewidth": 0,
              "ticks": ""
             }
            },
            "type": "scatter3d"
           }
          ],
          "scattercarpet": [
           {
            "marker": {
             "colorbar": {
              "outlinewidth": 0,
              "ticks": ""
             }
            },
            "type": "scattercarpet"
           }
          ],
          "scattergeo": [
           {
            "marker": {
             "colorbar": {
              "outlinewidth": 0,
              "ticks": ""
             }
            },
            "type": "scattergeo"
           }
          ],
          "scattergl": [
           {
            "marker": {
             "colorbar": {
              "outlinewidth": 0,
              "ticks": ""
             }
            },
            "type": "scattergl"
           }
          ],
          "scattermapbox": [
           {
            "marker": {
             "colorbar": {
              "outlinewidth": 0,
              "ticks": ""
             }
            },
            "type": "scattermapbox"
           }
          ],
          "scatterpolar": [
           {
            "marker": {
             "colorbar": {
              "outlinewidth": 0,
              "ticks": ""
             }
            },
            "type": "scatterpolar"
           }
          ],
          "scatterpolargl": [
           {
            "marker": {
             "colorbar": {
              "outlinewidth": 0,
              "ticks": ""
             }
            },
            "type": "scatterpolargl"
           }
          ],
          "scatterternary": [
           {
            "marker": {
             "colorbar": {
              "outlinewidth": 0,
              "ticks": ""
             }
            },
            "type": "scatterternary"
           }
          ],
          "surface": [
           {
            "colorbar": {
             "outlinewidth": 0,
             "ticks": ""
            },
            "colorscale": [
             [
              0,
              "#0d0887"
             ],
             [
              0.1111111111111111,
              "#46039f"
             ],
             [
              0.2222222222222222,
              "#7201a8"
             ],
             [
              0.3333333333333333,
              "#9c179e"
             ],
             [
              0.4444444444444444,
              "#bd3786"
             ],
             [
              0.5555555555555556,
              "#d8576b"
             ],
             [
              0.6666666666666666,
              "#ed7953"
             ],
             [
              0.7777777777777778,
              "#fb9f3a"
             ],
             [
              0.8888888888888888,
              "#fdca26"
             ],
             [
              1,
              "#f0f921"
             ]
            ],
            "type": "surface"
           }
          ],
          "table": [
           {
            "cells": {
             "fill": {
              "color": "#EBF0F8"
             },
             "line": {
              "color": "white"
             }
            },
            "header": {
             "fill": {
              "color": "#C8D4E3"
             },
             "line": {
              "color": "white"
             }
            },
            "type": "table"
           }
          ]
         },
         "layout": {
          "annotationdefaults": {
           "arrowcolor": "#2a3f5f",
           "arrowhead": 0,
           "arrowwidth": 1
          },
          "autotypenumbers": "strict",
          "coloraxis": {
           "colorbar": {
            "outlinewidth": 0,
            "ticks": ""
           }
          },
          "colorscale": {
           "diverging": [
            [
             0,
             "#8e0152"
            ],
            [
             0.1,
             "#c51b7d"
            ],
            [
             0.2,
             "#de77ae"
            ],
            [
             0.3,
             "#f1b6da"
            ],
            [
             0.4,
             "#fde0ef"
            ],
            [
             0.5,
             "#f7f7f7"
            ],
            [
             0.6,
             "#e6f5d0"
            ],
            [
             0.7,
             "#b8e186"
            ],
            [
             0.8,
             "#7fbc41"
            ],
            [
             0.9,
             "#4d9221"
            ],
            [
             1,
             "#276419"
            ]
           ],
           "sequential": [
            [
             0,
             "#0d0887"
            ],
            [
             0.1111111111111111,
             "#46039f"
            ],
            [
             0.2222222222222222,
             "#7201a8"
            ],
            [
             0.3333333333333333,
             "#9c179e"
            ],
            [
             0.4444444444444444,
             "#bd3786"
            ],
            [
             0.5555555555555556,
             "#d8576b"
            ],
            [
             0.6666666666666666,
             "#ed7953"
            ],
            [
             0.7777777777777778,
             "#fb9f3a"
            ],
            [
             0.8888888888888888,
             "#fdca26"
            ],
            [
             1,
             "#f0f921"
            ]
           ],
           "sequentialminus": [
            [
             0,
             "#0d0887"
            ],
            [
             0.1111111111111111,
             "#46039f"
            ],
            [
             0.2222222222222222,
             "#7201a8"
            ],
            [
             0.3333333333333333,
             "#9c179e"
            ],
            [
             0.4444444444444444,
             "#bd3786"
            ],
            [
             0.5555555555555556,
             "#d8576b"
            ],
            [
             0.6666666666666666,
             "#ed7953"
            ],
            [
             0.7777777777777778,
             "#fb9f3a"
            ],
            [
             0.8888888888888888,
             "#fdca26"
            ],
            [
             1,
             "#f0f921"
            ]
           ]
          },
          "colorway": [
           "#636efa",
           "#EF553B",
           "#00cc96",
           "#ab63fa",
           "#FFA15A",
           "#19d3f3",
           "#FF6692",
           "#B6E880",
           "#FF97FF",
           "#FECB52"
          ],
          "font": {
           "color": "#2a3f5f"
          },
          "geo": {
           "bgcolor": "white",
           "lakecolor": "white",
           "landcolor": "#E5ECF6",
           "showlakes": true,
           "showland": true,
           "subunitcolor": "white"
          },
          "hoverlabel": {
           "align": "left"
          },
          "hovermode": "closest",
          "mapbox": {
           "style": "light"
          },
          "paper_bgcolor": "white",
          "plot_bgcolor": "#E5ECF6",
          "polar": {
           "angularaxis": {
            "gridcolor": "white",
            "linecolor": "white",
            "ticks": ""
           },
           "bgcolor": "#E5ECF6",
           "radialaxis": {
            "gridcolor": "white",
            "linecolor": "white",
            "ticks": ""
           }
          },
          "scene": {
           "xaxis": {
            "backgroundcolor": "#E5ECF6",
            "gridcolor": "white",
            "gridwidth": 2,
            "linecolor": "white",
            "showbackground": true,
            "ticks": "",
            "zerolinecolor": "white"
           },
           "yaxis": {
            "backgroundcolor": "#E5ECF6",
            "gridcolor": "white",
            "gridwidth": 2,
            "linecolor": "white",
            "showbackground": true,
            "ticks": "",
            "zerolinecolor": "white"
           },
           "zaxis": {
            "backgroundcolor": "#E5ECF6",
            "gridcolor": "white",
            "gridwidth": 2,
            "linecolor": "white",
            "showbackground": true,
            "ticks": "",
            "zerolinecolor": "white"
           }
          },
          "shapedefaults": {
           "line": {
            "color": "#2a3f5f"
           }
          },
          "ternary": {
           "aaxis": {
            "gridcolor": "white",
            "linecolor": "white",
            "ticks": ""
           },
           "baxis": {
            "gridcolor": "white",
            "linecolor": "white",
            "ticks": ""
           },
           "bgcolor": "#E5ECF6",
           "caxis": {
            "gridcolor": "white",
            "linecolor": "white",
            "ticks": ""
           }
          },
          "title": {
           "x": 0.05
          },
          "xaxis": {
           "automargin": true,
           "gridcolor": "white",
           "linecolor": "white",
           "ticks": "",
           "title": {
            "standoff": 15
           },
           "zerolinecolor": "white",
           "zerolinewidth": 2
          },
          "yaxis": {
           "automargin": true,
           "gridcolor": "white",
           "linecolor": "white",
           "ticks": "",
           "title": {
            "standoff": 15
           },
           "zerolinecolor": "white",
           "zerolinewidth": 2
          }
         }
        },
        "title": {
         "text": "Average Global Land Temperature (1850-2015)"
        },
        "xaxis": {
         "anchor": "y",
         "domain": [
          0,
          1
         ],
         "title": {
          "text": "Year"
         }
        },
        "yaxis": {
         "anchor": "x",
         "domain": [
          0,
          1
         ],
         "title": {
          "text": "Temperature (°C)"
         }
        }
       }
      }
     },
     "metadata": {},
     "output_type": "display_data"
    }
   ],
   "source": [
    "# Graph average global land temperature data\n",
    "global_x = global_df['Year']\n",
    "global_y = global_df['LandAverageTemperature']\n",
    "\n",
    "fig1 = px.line(x=global_x, y=global_y, labels={'x': 'Year', 'y': 'Temperature (°C)'}, title='Average Global Land Temperature (1850-2015)')\n",
    "\n",
    "# Show the plot\n",
    "fig1.show()"
   ]
  },
  {
   "cell_type": "markdown",
   "metadata": {},
   "source": [
    "El Nino 1877/78 - explanation for spike in global temperature graph"
   ]
  },
  {
   "cell_type": "code",
   "execution_count": 6,
   "metadata": {},
   "outputs": [
    {
     "data": {
      "application/vnd.plotly.v1+json": {
       "config": {
        "plotlyServerURL": "https://plot.ly"
       },
       "data": [
        {
         "hovertemplate": "variable=wide_variable_0<br>x=%{x}<br>value=%{y}<extra></extra>",
         "legendgroup": "wide_variable_0",
         "line": {
          "color": "#00cc96",
          "dash": "solid"
         },
         "marker": {
          "symbol": "circle"
         },
         "mode": "lines",
         "name": "Max Temperature",
         "orientation": "v",
         "showlegend": true,
         "type": "scatter",
         "x": [
          1850,
          1851,
          1852,
          1853,
          1854,
          1855,
          1856,
          1857,
          1858,
          1859,
          1860,
          1861,
          1862,
          1863,
          1864,
          1865,
          1866,
          1867,
          1868,
          1869,
          1870,
          1871,
          1872,
          1873,
          1874,
          1875,
          1876,
          1877,
          1878,
          1879,
          1880,
          1881,
          1882,
          1883,
          1884,
          1885,
          1886,
          1887,
          1888,
          1889,
          1890,
          1891,
          1892,
          1893,
          1894,
          1895,
          1896,
          1897,
          1898,
          1899,
          1900,
          1901,
          1902,
          1903,
          1904,
          1905,
          1906,
          1907,
          1908,
          1909,
          1910,
          1911,
          1912,
          1913,
          1914,
          1915,
          1916,
          1917,
          1918,
          1919,
          1920,
          1921,
          1922,
          1923,
          1924,
          1925,
          1926,
          1927,
          1928,
          1929,
          1930,
          1931,
          1932,
          1933,
          1934,
          1935,
          1936,
          1937,
          1938,
          1939,
          1940,
          1941,
          1942,
          1943,
          1944,
          1945,
          1946,
          1947,
          1948,
          1949,
          1950,
          1951,
          1952,
          1953,
          1954,
          1955,
          1956,
          1957,
          1958,
          1959,
          1960,
          1961,
          1962,
          1963,
          1964,
          1965,
          1966,
          1967,
          1968,
          1969,
          1970,
          1971,
          1972,
          1973,
          1974,
          1975,
          1976,
          1977,
          1978,
          1979,
          1980,
          1981,
          1982,
          1983,
          1984,
          1985,
          1986,
          1987,
          1988,
          1989,
          1990,
          1991,
          1992,
          1993,
          1994,
          1995,
          1996,
          1997,
          1998,
          1999,
          2000,
          2001,
          2002,
          2003,
          2004,
          2005,
          2006,
          2007,
          2008,
          2009,
          2010,
          2011,
          2012,
          2013,
          2014,
          2015
         ],
         "xaxis": "x",
         "y": [
          13.476666666666668,
          13.081,
          13.397333333333334,
          13.886583333333334,
          13.977416666666668,
          13.493166666666667,
          13.47025,
          13.437583333333334,
          13.683,
          13.860333333333337,
          13.96025,
          13.85675,
          14.24725,
          13.619916666666668,
          13.918916666666668,
          14.298083333333333,
          14.165916666666668,
          14.14675,
          14.097916666666668,
          14.0695,
          14.210083333333335,
          13.983833333333337,
          14.285083333333333,
          14.010166666666668,
          13.8835,
          14.008416666666667,
          13.934833333333335,
          14.430333333333332,
          14.742166666666668,
          14.06575,
          13.913416666666668,
          14.050416666666663,
          14.11425,
          13.96225,
          13.692083333333334,
          13.911583333333333,
          13.9465,
          13.890083333333337,
          13.909166666666666,
          14.294083333333331,
          13.928916666666666,
          14.033333333333331,
          13.970583333333336,
          13.936666666666667,
          14.0405,
          14.077666666666667,
          14.107916666666666,
          14.186750000000002,
          14.231833333333334,
          14.331583333333334,
          14.3895,
          14.512166666666667,
          14.36425,
          14.08575,
          14.063666666666668,
          14.082166666666666,
          14.244,
          13.807833333333331,
          14.03875,
          14.026583333333337,
          14.097333333333331,
          13.987833333333334,
          14.053333333333336,
          14.20175,
          14.3145,
          14.474166666666669,
          14.097166666666666,
          13.925916666666666,
          13.961083333333336,
          14.156333333333334,
          14.142666666666663,
          14.424416666666668,
          14.20525,
          14.18175,
          14.223833333333332,
          14.344333333333331,
          14.45225,
          14.297833333333331,
          14.362166666666669,
          13.956416666666668,
          14.32625,
          14.41975,
          14.432083333333331,
          14.078333333333331,
          14.384250000000002,
          14.286916666666668,
          14.314583333333331,
          14.476333333333336,
          14.649916666666668,
          14.594666666666669,
          14.579083333333337,
          14.536166666666666,
          14.53425,
          14.603000000000002,
          14.727166666666667,
          14.43875,
          14.481500000000002,
          14.5625,
          14.615583333333332,
          14.414666666666667,
          14.17375,
          14.430166666666668,
          14.462583333333331,
          14.63925,
          14.286583333333333,
          14.329083333333337,
          14.023666666666664,
          14.381916666666667,
          14.4775,
          14.4165,
          14.317416666666666,
          14.514916666666666,
          14.54016666666667,
          14.61225,
          14.156833333333331,
          14.268416666666669,
          14.325916666666666,
          14.4065,
          14.16425,
          14.212083333333332,
          14.40325,
          14.35275,
          14.164916666666668,
          14.566,
          14.081916666666666,
          14.383666666666668,
          14.008,
          14.4855,
          14.28125,
          14.45775,
          14.672916666666666,
          14.855166666666667,
          14.300916666666666,
          14.679833333333336,
          14.342666666666666,
          14.267166666666668,
          14.516833333333333,
          14.699833333333336,
          14.89,
          14.6215,
          14.957666666666668,
          14.839583333333335,
          14.471333333333334,
          14.519750000000002,
          14.72925,
          15.026416666666668,
          14.73725,
          14.868,
          15.169416666666663,
          14.98275,
          14.898833333333334,
          15.159166666666666,
          15.312333333333331,
          15.249333333333333,
          15.018,
          15.349833333333336,
          15.262,
          15.533083333333332,
          15.19175,
          15.266583333333337,
          15.449,
          15.284833333333331,
          15.332833333333332,
          15.373833333333335,
          15.313583333333334,
          15.572666666666668
         ],
         "yaxis": "y"
        },
        {
         "hovertemplate": "variable=wide_variable_1<br>x=%{x}<br>value=%{y}<extra></extra>",
         "legendgroup": "wide_variable_1",
         "line": {
          "color": "#ab63fa",
          "dash": "solid"
         },
         "marker": {
          "symbol": "circle"
         },
         "mode": "lines",
         "name": "Min Temperature",
         "orientation": "v",
         "showlegend": true,
         "type": "scatter",
         "x": [
          1850,
          1851,
          1852,
          1853,
          1854,
          1855,
          1856,
          1857,
          1858,
          1859,
          1860,
          1861,
          1862,
          1863,
          1864,
          1865,
          1866,
          1867,
          1868,
          1869,
          1870,
          1871,
          1872,
          1873,
          1874,
          1875,
          1876,
          1877,
          1878,
          1879,
          1880,
          1881,
          1882,
          1883,
          1884,
          1885,
          1886,
          1887,
          1888,
          1889,
          1890,
          1891,
          1892,
          1893,
          1894,
          1895,
          1896,
          1897,
          1898,
          1899,
          1900,
          1901,
          1902,
          1903,
          1904,
          1905,
          1906,
          1907,
          1908,
          1909,
          1910,
          1911,
          1912,
          1913,
          1914,
          1915,
          1916,
          1917,
          1918,
          1919,
          1920,
          1921,
          1922,
          1923,
          1924,
          1925,
          1926,
          1927,
          1928,
          1929,
          1930,
          1931,
          1932,
          1933,
          1934,
          1935,
          1936,
          1937,
          1938,
          1939,
          1940,
          1941,
          1942,
          1943,
          1944,
          1945,
          1946,
          1947,
          1948,
          1949,
          1950,
          1951,
          1952,
          1953,
          1954,
          1955,
          1956,
          1957,
          1958,
          1959,
          1960,
          1961,
          1962,
          1963,
          1964,
          1965,
          1966,
          1967,
          1968,
          1969,
          1970,
          1971,
          1972,
          1973,
          1974,
          1975,
          1976,
          1977,
          1978,
          1979,
          1980,
          1981,
          1982,
          1983,
          1984,
          1985,
          1986,
          1987,
          1988,
          1989,
          1990,
          1991,
          1992,
          1993,
          1994,
          1995,
          1996,
          1997,
          1998,
          1999,
          2000,
          2001,
          2002,
          2003,
          2004,
          2005,
          2006,
          2007,
          2008,
          2009,
          2010,
          2011,
          2012,
          2013,
          2014,
          2015
         ],
         "xaxis": "x",
         "y": [
          1.964333333333333,
          2.2039166666666667,
          2.337,
          1.8925,
          1.7621666666666664,
          1.7028333333333332,
          1.5250833333333336,
          1.856833333333333,
          2.11075,
          2.4601666666666664,
          2.3441666666666667,
          2.26275,
          2.48275,
          2.7670833333333333,
          2.4101666666666666,
          2.551833333333333,
          2.43225,
          2.4636666666666667,
          2.369666666666667,
          2.165083333333333,
          2.424833333333333,
          2.158,
          2.187416666666666,
          1.904083333333333,
          2.0616666666666665,
          1.6141666666666663,
          2.1346666666666665,
          2.6485833333333333,
          2.981666666666667,
          2.0789166666666667,
          2.054416666666667,
          2.4264166666666664,
          2.272583333333333,
          1.8801666666666663,
          1.64775,
          1.87425,
          1.971166666666667,
          1.9069166666666664,
          1.9540833333333327,
          2.3480833333333333,
          1.8507500000000003,
          1.9055,
          1.981666666666667,
          1.907166666666667,
          2.12375,
          2.075833333333333,
          2.11475,
          2.294083333333333,
          2.153,
          2.430083333333333,
          2.5756666666666663,
          2.4905,
          2.20375,
          2.2833333333333337,
          2.1710833333333333,
          2.34325,
          2.4864166666666665,
          2.0031666666666665,
          2.17475,
          2.157583333333333,
          2.1576666666666666,
          2.2501666666666664,
          2.201,
          2.3190833333333334,
          2.6870833333333333,
          2.6437500000000003,
          2.2625,
          2.0195833333333337,
          2.185666666666666,
          2.451083333333333,
          2.44575,
          2.6770833333333326,
          2.433333333333333,
          2.45625,
          2.5061666666666667,
          2.5415,
          2.7685833333333334,
          2.53525,
          2.66825,
          2.3010833333333336,
          2.74,
          2.818583333333333,
          2.7625,
          2.4244166666666667,
          2.7665833333333336,
          2.58775,
          2.6394166666666665,
          2.75,
          3.033,
          2.8806666666666665,
          2.890333333333333,
          2.9148333333333336,
          2.920083333333334,
          2.936583333333333,
          3.0596666666666668,
          2.772333333333333,
          2.830583333333333,
          2.964583333333333,
          2.9154166666666668,
          2.8021666666666665,
          2.578583333333333,
          2.735666666666667,
          2.8201666666666667,
          3.107666666666667,
          2.865833333333333,
          2.861416666666667,
          2.56175,
          3.001,
          3.1145,
          3.1085833333333333,
          2.932583333333333,
          3.12875,
          3.0085833333333336,
          3.1575833333333336,
          2.7688333333333333,
          2.841416666666667,
          2.8994166666666668,
          3.0370833333333334,
          2.85725,
          2.962916666666666,
          3.04275,
          2.96225,
          2.8448333333333338,
          3.3701666666666665,
          2.900916666666667,
          3.121083333333333,
          2.734166666666667,
          3.294583333333333,
          3.170916666666667,
          3.2000833333333336,
          3.404666666666667,
          3.635916666666666,
          3.2399166666666663,
          3.5524166666666663,
          3.18675,
          3.1756666666666664,
          3.319333333333333,
          3.431416666666667,
          3.654,
          3.3343333333333334,
          3.65875,
          3.6221666666666663,
          3.2635,
          3.2845833333333334,
          3.3960833333333333,
          3.7035,
          3.3811666666666667,
          3.5901666666666663,
          3.9491666666666663,
          3.662333333333333,
          3.581833333333333,
          3.7406666666666655,
          3.8645833333333335,
          3.8515833333333336,
          3.6644166666666655,
          4.113833333333333,
          3.864833333333333,
          4.00925,
          3.724833333333333,
          3.7969166666666654,
          4.023916666666667,
          3.827666666666666,
          3.756166666666666,
          3.911333333333333,
          3.87775,
          4.148833333333333
         ],
         "yaxis": "y"
        }
       ],
       "layout": {
        "legend": {
         "title": {
          "text": "variable"
         },
         "tracegroupgap": 0
        },
        "template": {
         "data": {
          "bar": [
           {
            "error_x": {
             "color": "#2a3f5f"
            },
            "error_y": {
             "color": "#2a3f5f"
            },
            "marker": {
             "line": {
              "color": "#E5ECF6",
              "width": 0.5
             },
             "pattern": {
              "fillmode": "overlay",
              "size": 10,
              "solidity": 0.2
             }
            },
            "type": "bar"
           }
          ],
          "barpolar": [
           {
            "marker": {
             "line": {
              "color": "#E5ECF6",
              "width": 0.5
             },
             "pattern": {
              "fillmode": "overlay",
              "size": 10,
              "solidity": 0.2
             }
            },
            "type": "barpolar"
           }
          ],
          "carpet": [
           {
            "aaxis": {
             "endlinecolor": "#2a3f5f",
             "gridcolor": "white",
             "linecolor": "white",
             "minorgridcolor": "white",
             "startlinecolor": "#2a3f5f"
            },
            "baxis": {
             "endlinecolor": "#2a3f5f",
             "gridcolor": "white",
             "linecolor": "white",
             "minorgridcolor": "white",
             "startlinecolor": "#2a3f5f"
            },
            "type": "carpet"
           }
          ],
          "choropleth": [
           {
            "colorbar": {
             "outlinewidth": 0,
             "ticks": ""
            },
            "type": "choropleth"
           }
          ],
          "contour": [
           {
            "colorbar": {
             "outlinewidth": 0,
             "ticks": ""
            },
            "colorscale": [
             [
              0,
              "#0d0887"
             ],
             [
              0.1111111111111111,
              "#46039f"
             ],
             [
              0.2222222222222222,
              "#7201a8"
             ],
             [
              0.3333333333333333,
              "#9c179e"
             ],
             [
              0.4444444444444444,
              "#bd3786"
             ],
             [
              0.5555555555555556,
              "#d8576b"
             ],
             [
              0.6666666666666666,
              "#ed7953"
             ],
             [
              0.7777777777777778,
              "#fb9f3a"
             ],
             [
              0.8888888888888888,
              "#fdca26"
             ],
             [
              1,
              "#f0f921"
             ]
            ],
            "type": "contour"
           }
          ],
          "contourcarpet": [
           {
            "colorbar": {
             "outlinewidth": 0,
             "ticks": ""
            },
            "type": "contourcarpet"
           }
          ],
          "heatmap": [
           {
            "colorbar": {
             "outlinewidth": 0,
             "ticks": ""
            },
            "colorscale": [
             [
              0,
              "#0d0887"
             ],
             [
              0.1111111111111111,
              "#46039f"
             ],
             [
              0.2222222222222222,
              "#7201a8"
             ],
             [
              0.3333333333333333,
              "#9c179e"
             ],
             [
              0.4444444444444444,
              "#bd3786"
             ],
             [
              0.5555555555555556,
              "#d8576b"
             ],
             [
              0.6666666666666666,
              "#ed7953"
             ],
             [
              0.7777777777777778,
              "#fb9f3a"
             ],
             [
              0.8888888888888888,
              "#fdca26"
             ],
             [
              1,
              "#f0f921"
             ]
            ],
            "type": "heatmap"
           }
          ],
          "heatmapgl": [
           {
            "colorbar": {
             "outlinewidth": 0,
             "ticks": ""
            },
            "colorscale": [
             [
              0,
              "#0d0887"
             ],
             [
              0.1111111111111111,
              "#46039f"
             ],
             [
              0.2222222222222222,
              "#7201a8"
             ],
             [
              0.3333333333333333,
              "#9c179e"
             ],
             [
              0.4444444444444444,
              "#bd3786"
             ],
             [
              0.5555555555555556,
              "#d8576b"
             ],
             [
              0.6666666666666666,
              "#ed7953"
             ],
             [
              0.7777777777777778,
              "#fb9f3a"
             ],
             [
              0.8888888888888888,
              "#fdca26"
             ],
             [
              1,
              "#f0f921"
             ]
            ],
            "type": "heatmapgl"
           }
          ],
          "histogram": [
           {
            "marker": {
             "pattern": {
              "fillmode": "overlay",
              "size": 10,
              "solidity": 0.2
             }
            },
            "type": "histogram"
           }
          ],
          "histogram2d": [
           {
            "colorbar": {
             "outlinewidth": 0,
             "ticks": ""
            },
            "colorscale": [
             [
              0,
              "#0d0887"
             ],
             [
              0.1111111111111111,
              "#46039f"
             ],
             [
              0.2222222222222222,
              "#7201a8"
             ],
             [
              0.3333333333333333,
              "#9c179e"
             ],
             [
              0.4444444444444444,
              "#bd3786"
             ],
             [
              0.5555555555555556,
              "#d8576b"
             ],
             [
              0.6666666666666666,
              "#ed7953"
             ],
             [
              0.7777777777777778,
              "#fb9f3a"
             ],
             [
              0.8888888888888888,
              "#fdca26"
             ],
             [
              1,
              "#f0f921"
             ]
            ],
            "type": "histogram2d"
           }
          ],
          "histogram2dcontour": [
           {
            "colorbar": {
             "outlinewidth": 0,
             "ticks": ""
            },
            "colorscale": [
             [
              0,
              "#0d0887"
             ],
             [
              0.1111111111111111,
              "#46039f"
             ],
             [
              0.2222222222222222,
              "#7201a8"
             ],
             [
              0.3333333333333333,
              "#9c179e"
             ],
             [
              0.4444444444444444,
              "#bd3786"
             ],
             [
              0.5555555555555556,
              "#d8576b"
             ],
             [
              0.6666666666666666,
              "#ed7953"
             ],
             [
              0.7777777777777778,
              "#fb9f3a"
             ],
             [
              0.8888888888888888,
              "#fdca26"
             ],
             [
              1,
              "#f0f921"
             ]
            ],
            "type": "histogram2dcontour"
           }
          ],
          "mesh3d": [
           {
            "colorbar": {
             "outlinewidth": 0,
             "ticks": ""
            },
            "type": "mesh3d"
           }
          ],
          "parcoords": [
           {
            "line": {
             "colorbar": {
              "outlinewidth": 0,
              "ticks": ""
             }
            },
            "type": "parcoords"
           }
          ],
          "pie": [
           {
            "automargin": true,
            "type": "pie"
           }
          ],
          "scatter": [
           {
            "fillpattern": {
             "fillmode": "overlay",
             "size": 10,
             "solidity": 0.2
            },
            "type": "scatter"
           }
          ],
          "scatter3d": [
           {
            "line": {
             "colorbar": {
              "outlinewidth": 0,
              "ticks": ""
             }
            },
            "marker": {
             "colorbar": {
              "outlinewidth": 0,
              "ticks": ""
             }
            },
            "type": "scatter3d"
           }
          ],
          "scattercarpet": [
           {
            "marker": {
             "colorbar": {
              "outlinewidth": 0,
              "ticks": ""
             }
            },
            "type": "scattercarpet"
           }
          ],
          "scattergeo": [
           {
            "marker": {
             "colorbar": {
              "outlinewidth": 0,
              "ticks": ""
             }
            },
            "type": "scattergeo"
           }
          ],
          "scattergl": [
           {
            "marker": {
             "colorbar": {
              "outlinewidth": 0,
              "ticks": ""
             }
            },
            "type": "scattergl"
           }
          ],
          "scattermapbox": [
           {
            "marker": {
             "colorbar": {
              "outlinewidth": 0,
              "ticks": ""
             }
            },
            "type": "scattermapbox"
           }
          ],
          "scatterpolar": [
           {
            "marker": {
             "colorbar": {
              "outlinewidth": 0,
              "ticks": ""
             }
            },
            "type": "scatterpolar"
           }
          ],
          "scatterpolargl": [
           {
            "marker": {
             "colorbar": {
              "outlinewidth": 0,
              "ticks": ""
             }
            },
            "type": "scatterpolargl"
           }
          ],
          "scatterternary": [
           {
            "marker": {
             "colorbar": {
              "outlinewidth": 0,
              "ticks": ""
             }
            },
            "type": "scatterternary"
           }
          ],
          "surface": [
           {
            "colorbar": {
             "outlinewidth": 0,
             "ticks": ""
            },
            "colorscale": [
             [
              0,
              "#0d0887"
             ],
             [
              0.1111111111111111,
              "#46039f"
             ],
             [
              0.2222222222222222,
              "#7201a8"
             ],
             [
              0.3333333333333333,
              "#9c179e"
             ],
             [
              0.4444444444444444,
              "#bd3786"
             ],
             [
              0.5555555555555556,
              "#d8576b"
             ],
             [
              0.6666666666666666,
              "#ed7953"
             ],
             [
              0.7777777777777778,
              "#fb9f3a"
             ],
             [
              0.8888888888888888,
              "#fdca26"
             ],
             [
              1,
              "#f0f921"
             ]
            ],
            "type": "surface"
           }
          ],
          "table": [
           {
            "cells": {
             "fill": {
              "color": "#EBF0F8"
             },
             "line": {
              "color": "white"
             }
            },
            "header": {
             "fill": {
              "color": "#C8D4E3"
             },
             "line": {
              "color": "white"
             }
            },
            "type": "table"
           }
          ]
         },
         "layout": {
          "annotationdefaults": {
           "arrowcolor": "#2a3f5f",
           "arrowhead": 0,
           "arrowwidth": 1
          },
          "autotypenumbers": "strict",
          "coloraxis": {
           "colorbar": {
            "outlinewidth": 0,
            "ticks": ""
           }
          },
          "colorscale": {
           "diverging": [
            [
             0,
             "#8e0152"
            ],
            [
             0.1,
             "#c51b7d"
            ],
            [
             0.2,
             "#de77ae"
            ],
            [
             0.3,
             "#f1b6da"
            ],
            [
             0.4,
             "#fde0ef"
            ],
            [
             0.5,
             "#f7f7f7"
            ],
            [
             0.6,
             "#e6f5d0"
            ],
            [
             0.7,
             "#b8e186"
            ],
            [
             0.8,
             "#7fbc41"
            ],
            [
             0.9,
             "#4d9221"
            ],
            [
             1,
             "#276419"
            ]
           ],
           "sequential": [
            [
             0,
             "#0d0887"
            ],
            [
             0.1111111111111111,
             "#46039f"
            ],
            [
             0.2222222222222222,
             "#7201a8"
            ],
            [
             0.3333333333333333,
             "#9c179e"
            ],
            [
             0.4444444444444444,
             "#bd3786"
            ],
            [
             0.5555555555555556,
             "#d8576b"
            ],
            [
             0.6666666666666666,
             "#ed7953"
            ],
            [
             0.7777777777777778,
             "#fb9f3a"
            ],
            [
             0.8888888888888888,
             "#fdca26"
            ],
            [
             1,
             "#f0f921"
            ]
           ],
           "sequentialminus": [
            [
             0,
             "#0d0887"
            ],
            [
             0.1111111111111111,
             "#46039f"
            ],
            [
             0.2222222222222222,
             "#7201a8"
            ],
            [
             0.3333333333333333,
             "#9c179e"
            ],
            [
             0.4444444444444444,
             "#bd3786"
            ],
            [
             0.5555555555555556,
             "#d8576b"
            ],
            [
             0.6666666666666666,
             "#ed7953"
            ],
            [
             0.7777777777777778,
             "#fb9f3a"
            ],
            [
             0.8888888888888888,
             "#fdca26"
            ],
            [
             1,
             "#f0f921"
            ]
           ]
          },
          "colorway": [
           "#636efa",
           "#EF553B",
           "#00cc96",
           "#ab63fa",
           "#FFA15A",
           "#19d3f3",
           "#FF6692",
           "#B6E880",
           "#FF97FF",
           "#FECB52"
          ],
          "font": {
           "color": "#2a3f5f"
          },
          "geo": {
           "bgcolor": "white",
           "lakecolor": "white",
           "landcolor": "#E5ECF6",
           "showlakes": true,
           "showland": true,
           "subunitcolor": "white"
          },
          "hoverlabel": {
           "align": "left"
          },
          "hovermode": "closest",
          "mapbox": {
           "style": "light"
          },
          "paper_bgcolor": "white",
          "plot_bgcolor": "#E5ECF6",
          "polar": {
           "angularaxis": {
            "gridcolor": "white",
            "linecolor": "white",
            "ticks": ""
           },
           "bgcolor": "#E5ECF6",
           "radialaxis": {
            "gridcolor": "white",
            "linecolor": "white",
            "ticks": ""
           }
          },
          "scene": {
           "xaxis": {
            "backgroundcolor": "#E5ECF6",
            "gridcolor": "white",
            "gridwidth": 2,
            "linecolor": "white",
            "showbackground": true,
            "ticks": "",
            "zerolinecolor": "white"
           },
           "yaxis": {
            "backgroundcolor": "#E5ECF6",
            "gridcolor": "white",
            "gridwidth": 2,
            "linecolor": "white",
            "showbackground": true,
            "ticks": "",
            "zerolinecolor": "white"
           },
           "zaxis": {
            "backgroundcolor": "#E5ECF6",
            "gridcolor": "white",
            "gridwidth": 2,
            "linecolor": "white",
            "showbackground": true,
            "ticks": "",
            "zerolinecolor": "white"
           }
          },
          "shapedefaults": {
           "line": {
            "color": "#2a3f5f"
           }
          },
          "ternary": {
           "aaxis": {
            "gridcolor": "white",
            "linecolor": "white",
            "ticks": ""
           },
           "baxis": {
            "gridcolor": "white",
            "linecolor": "white",
            "ticks": ""
           },
           "bgcolor": "#E5ECF6",
           "caxis": {
            "gridcolor": "white",
            "linecolor": "white",
            "ticks": ""
           }
          },
          "title": {
           "x": 0.05
          },
          "xaxis": {
           "automargin": true,
           "gridcolor": "white",
           "linecolor": "white",
           "ticks": "",
           "title": {
            "standoff": 15
           },
           "zerolinecolor": "white",
           "zerolinewidth": 2
          },
          "yaxis": {
           "automargin": true,
           "gridcolor": "white",
           "linecolor": "white",
           "ticks": "",
           "title": {
            "standoff": 15
           },
           "zerolinecolor": "white",
           "zerolinewidth": 2
          }
         }
        },
        "title": {
         "text": "Global Land Temperature (Max and Min)"
        },
        "xaxis": {
         "anchor": "y",
         "domain": [
          0,
          1
         ],
         "title": {
          "text": "Year"
         }
        },
        "yaxis": {
         "anchor": "x",
         "domain": [
          0,
          1
         ],
         "title": {
          "text": "Temperature (°C)"
         }
        }
       }
      }
     },
     "metadata": {},
     "output_type": "display_data"
    }
   ],
   "source": [
    "# Graph global minimum and maximum temperature data\n",
    "global_max_y = global_df['LandMaxTemperature']\n",
    "global_min_y = global_df['LandMinTemperature']\n",
    "\n",
    "fig2 = px.line(x=global_x, y=[global_max_y, global_min_y], title='Global Land Temperature (Max and Min)', color_discrete_map={0: 'blue', 1: 'green'})\n",
    "\n",
    "# Update Axis Titles\n",
    "fig2.update_xaxes(title_text='Year')\n",
    "fig2.update_yaxes(title_text='Temperature (°C)')\n",
    "fig2.data[0].name = 'Max Temperature'\n",
    "fig2.data[1].name = 'Min Temperature'\n",
    "\n",
    "# Show the plot\n",
    "fig2.show()"
   ]
  },
  {
   "cell_type": "code",
   "execution_count": 7,
   "metadata": {},
   "outputs": [
    {
     "data": {
      "application/vnd.plotly.v1+json": {
       "config": {
        "plotlyServerURL": "https://plot.ly"
       },
       "data": [
        {
         "hovertemplate": "variable=wide_variable_0<br>x=%{x}<br>value=%{y}<extra></extra>",
         "legendgroup": "wide_variable_0",
         "line": {
          "color": "#00cc96",
          "dash": "solid"
         },
         "marker": {
          "symbol": "circle"
         },
         "mode": "lines",
         "name": "Land & Ocean Avg Temp",
         "orientation": "v",
         "showlegend": true,
         "type": "scatter",
         "x": [
          1850,
          1851,
          1852,
          1853,
          1854,
          1855,
          1856,
          1857,
          1858,
          1859,
          1860,
          1861,
          1862,
          1863,
          1864,
          1865,
          1866,
          1867,
          1868,
          1869,
          1870,
          1871,
          1872,
          1873,
          1874,
          1875,
          1876,
          1877,
          1878,
          1879,
          1880,
          1881,
          1882,
          1883,
          1884,
          1885,
          1886,
          1887,
          1888,
          1889,
          1890,
          1891,
          1892,
          1893,
          1894,
          1895,
          1896,
          1897,
          1898,
          1899,
          1900,
          1901,
          1902,
          1903,
          1904,
          1905,
          1906,
          1907,
          1908,
          1909,
          1910,
          1911,
          1912,
          1913,
          1914,
          1915,
          1916,
          1917,
          1918,
          1919,
          1920,
          1921,
          1922,
          1923,
          1924,
          1925,
          1926,
          1927,
          1928,
          1929,
          1930,
          1931,
          1932,
          1933,
          1934,
          1935,
          1936,
          1937,
          1938,
          1939,
          1940,
          1941,
          1942,
          1943,
          1944,
          1945,
          1946,
          1947,
          1948,
          1949,
          1950,
          1951,
          1952,
          1953,
          1954,
          1955,
          1956,
          1957,
          1958,
          1959,
          1960,
          1961,
          1962,
          1963,
          1964,
          1965,
          1966,
          1967,
          1968,
          1969,
          1970,
          1971,
          1972,
          1973,
          1974,
          1975,
          1976,
          1977,
          1978,
          1979,
          1980,
          1981,
          1982,
          1983,
          1984,
          1985,
          1986,
          1987,
          1988,
          1989,
          1990,
          1991,
          1992,
          1993,
          1994,
          1995,
          1996,
          1997,
          1998,
          1999,
          2000,
          2001,
          2002,
          2003,
          2004,
          2005,
          2006,
          2007,
          2008,
          2009,
          2010,
          2011,
          2012,
          2013,
          2014,
          2015
         ],
         "xaxis": "x",
         "y": [
          14.867166666666668,
          14.991833333333334,
          15.0065,
          14.955166666666669,
          14.991,
          15.021083333333335,
          14.879333333333332,
          14.75825,
          14.8815,
          14.929916666666664,
          14.882916666666668,
          14.800666666666666,
          14.740083333333333,
          14.93575,
          14.8965,
          14.996666666666668,
          15.057,
          15.058666666666667,
          15.096916666666669,
          15.0655,
          15.004333333333332,
          15.005916666666666,
          15.019333333333334,
          15.04925,
          14.957,
          14.921916666666666,
          14.909416666666669,
          15.282666666666666,
          15.357416666666666,
          15.064416666666666,
          15.008666666666668,
          15.087166666666668,
          15.056583333333334,
          14.96325,
          14.83325,
          14.854416666666664,
          14.83525,
          14.816,
          14.994083333333334,
          15.113416666666666,
          14.84075,
          14.943833333333332,
          14.8825,
          14.91225,
          14.91475,
          14.969,
          15.090583333333331,
          15.075333333333331,
          14.886916666666666,
          15.048333333333334,
          15.143916666666668,
          15.073333333333332,
          14.958333333333334,
          14.836583333333332,
          14.810416666666669,
          14.954666666666666,
          15.031916666666667,
          14.874833333333331,
          14.838166666666666,
          14.790333333333336,
          14.819083333333332,
          14.776000000000002,
          14.877166666666668,
          14.90875,
          15.07625,
          15.14375,
          14.901333333333334,
          14.80975,
          14.959833333333334,
          15.006750000000002,
          15.02625,
          15.102083333333336,
          15.012333333333332,
          15.027833333333334,
          15.039333333333332,
          15.090333333333334,
          15.241083333333334,
          15.12225,
          15.13225,
          14.967416666666669,
          15.1725,
          15.22825,
          15.188,
          15.012916666666667,
          15.1445,
          15.118833333333331,
          15.166166666666667,
          15.3005,
          15.293083333333334,
          15.302333333333332,
          15.372083333333334,
          15.384666666666668,
          15.325333333333331,
          15.345,
          15.449083333333334,
          15.33075,
          15.262750000000002,
          15.310166666666667,
          15.261166666666666,
          15.22275,
          15.1395,
          15.311166666666669,
          15.363083333333334,
          15.421083333333334,
          15.230583333333334,
          15.174333333333337,
          15.106000000000002,
          15.374083333333331,
          15.382083333333334,
          15.3405,
          15.291916666666667,
          15.379916666666666,
          15.325583333333334,
          15.376666666666669,
          15.117083333333332,
          15.195750000000002,
          15.264666666666663,
          15.294166666666667,
          15.263916666666669,
          15.3905,
          15.332666666666666,
          15.2,
          15.292916666666668,
          15.40475,
          15.168083333333334,
          15.238666666666669,
          15.131083333333336,
          15.40825,
          15.300916666666666,
          15.414166666666668,
          15.491833333333332,
          15.516166666666669,
          15.341916666666668,
          15.52025,
          15.344166666666666,
          15.340666666666666,
          15.384,
          15.524500000000002,
          15.555750000000002,
          15.441583333333334,
          15.629333333333332,
          15.598,
          15.453,
          15.466416666666667,
          15.534999999999998,
          15.637833333333331,
          15.524666666666668,
          15.713833333333334,
          15.826,
          15.600333333333332,
          15.610666666666669,
          15.7675,
          15.829166666666667,
          15.826583333333334,
          15.75725,
          15.87925,
          15.8135,
          15.827333333333334,
          15.72125,
          15.827166666666663,
          15.895499999999998,
          15.7695,
          15.802333333333335,
          15.854416666666667,
          15.912999999999998,
          16.058583333333335
         ],
         "yaxis": "y"
        },
        {
         "hovertemplate": "variable=wide_variable_1<br>x=%{x}<br>value=%{y}<extra></extra>",
         "legendgroup": "wide_variable_1",
         "line": {
          "color": "#ab63fa",
          "dash": "solid"
         },
         "marker": {
          "symbol": "circle"
         },
         "mode": "lines",
         "name": "Land Avg Temp",
         "orientation": "v",
         "showlegend": true,
         "type": "scatter",
         "x": [
          1850,
          1851,
          1852,
          1853,
          1854,
          1855,
          1856,
          1857,
          1858,
          1859,
          1860,
          1861,
          1862,
          1863,
          1864,
          1865,
          1866,
          1867,
          1868,
          1869,
          1870,
          1871,
          1872,
          1873,
          1874,
          1875,
          1876,
          1877,
          1878,
          1879,
          1880,
          1881,
          1882,
          1883,
          1884,
          1885,
          1886,
          1887,
          1888,
          1889,
          1890,
          1891,
          1892,
          1893,
          1894,
          1895,
          1896,
          1897,
          1898,
          1899,
          1900,
          1901,
          1902,
          1903,
          1904,
          1905,
          1906,
          1907,
          1908,
          1909,
          1910,
          1911,
          1912,
          1913,
          1914,
          1915,
          1916,
          1917,
          1918,
          1919,
          1920,
          1921,
          1922,
          1923,
          1924,
          1925,
          1926,
          1927,
          1928,
          1929,
          1930,
          1931,
          1932,
          1933,
          1934,
          1935,
          1936,
          1937,
          1938,
          1939,
          1940,
          1941,
          1942,
          1943,
          1944,
          1945,
          1946,
          1947,
          1948,
          1949,
          1950,
          1951,
          1952,
          1953,
          1954,
          1955,
          1956,
          1957,
          1958,
          1959,
          1960,
          1961,
          1962,
          1963,
          1964,
          1965,
          1966,
          1967,
          1968,
          1969,
          1970,
          1971,
          1972,
          1973,
          1974,
          1975,
          1976,
          1977,
          1978,
          1979,
          1980,
          1981,
          1982,
          1983,
          1984,
          1985,
          1986,
          1987,
          1988,
          1989,
          1990,
          1991,
          1992,
          1993,
          1994,
          1995,
          1996,
          1997,
          1998,
          1999,
          2000,
          2001,
          2002,
          2003,
          2004,
          2005,
          2006,
          2007,
          2008,
          2009,
          2010,
          2011,
          2012,
          2013,
          2014,
          2015
         ],
         "xaxis": "x",
         "y": [
          7.900666666666667,
          8.178583333333334,
          8.100166666666667,
          8.041833333333333,
          8.2105,
          8.11075,
          7.995916666666666,
          7.758166666666667,
          8.10025,
          8.252,
          7.960833333333333,
          7.8465,
          7.558583333333334,
          8.111833333333333,
          7.983583333333333,
          8.177833333333334,
          8.292166666666667,
          8.436333333333334,
          8.247916666666667,
          8.432083333333333,
          8.201333333333332,
          8.115083333333333,
          8.193833333333332,
          8.351083333333333,
          8.4335,
          7.859583333333333,
          8.080083333333333,
          8.539583333333333,
          8.829749999999999,
          8.165833333333333,
          8.11875,
          8.270916666666666,
          8.128916666666667,
          7.976916666666667,
          7.773666666666666,
          7.919666666666667,
          7.9545,
          7.914916666666667,
          8.0905,
          8.319,
          7.971666666666667,
          8.019333333333334,
          8.065833333333332,
          8.05675,
          8.161,
          8.147,
          8.214916666666667,
          8.293333333333333,
          8.177999999999999,
          8.396333333333333,
          8.501583333333334,
          8.541916666666667,
          8.304416666666667,
          8.220166666666666,
          8.090916666666667,
          8.225166666666667,
          8.379083333333332,
          7.947166666666667,
          8.186083333333334,
          8.17825,
          8.223,
          8.177,
          8.165416666666667,
          8.29775,
          8.5905,
          8.593166666666667,
          8.22525,
          8.023333333333333,
          8.130833333333333,
          8.38225,
          8.358749999999999,
          8.571,
          8.408,
          8.422166666666667,
          8.506833333333335,
          8.534416666666667,
          8.728833333333332,
          8.522083333333333,
          8.632166666666667,
          8.242416666666667,
          8.633583333333332,
          8.71925,
          8.70525,
          8.33825,
          8.628333333333334,
          8.51575,
          8.554,
          8.698333333333332,
          8.863666666666667,
          8.760333333333334,
          8.764666666666667,
          8.768666666666666,
          8.728416666666666,
          8.755083333333333,
          8.845,
          8.584833333333334,
          8.676916666666667,
          8.797083333333333,
          8.74675,
          8.58675,
          8.365250000000001,
          8.625666666666667,
          8.638250000000001,
          8.87375,
          8.560666666666666,
          8.62625,
          8.279583333333333,
          8.7325,
          8.77375,
          8.732666666666667,
          8.58375,
          8.797666666666666,
          8.745916666666666,
          8.856,
          8.409666666666666,
          8.527416666666666,
          8.599333333333332,
          8.700083333333334,
          8.516333333333334,
          8.595083333333333,
          8.700916666666666,
          8.59925,
          8.499583333333334,
          8.94825,
          8.4675,
          8.744833333333334,
          8.34725,
          8.85025,
          8.69275,
          8.733416666666667,
          8.980333333333332,
          9.165833333333332,
          8.639166666666666,
          9.028166666666666,
          8.691833333333333,
          8.658,
          8.833583333333333,
          8.994416666666666,
          9.201583333333334,
          8.921999999999999,
          9.234166666666669,
          9.179416666666668,
          8.836583333333333,
          8.866583333333333,
          9.03875,
          9.347083333333334,
          9.038916666666667,
          9.202583333333331,
          9.522666666666668,
          9.285083333333334,
          9.201166666666667,
          9.414583333333333,
          9.570416666666668,
          9.525583333333334,
          9.324583333333331,
          9.700916666666666,
          9.5325,
          9.732166666666666,
          9.43175,
          9.50525,
          9.703083333333334,
          9.516,
          9.507333333333332,
          9.6065,
          9.570666666666666,
          9.831
         ],
         "yaxis": "y"
        }
       ],
       "layout": {
        "legend": {
         "title": {
          "text": "variable"
         },
         "tracegroupgap": 0
        },
        "template": {
         "data": {
          "bar": [
           {
            "error_x": {
             "color": "#2a3f5f"
            },
            "error_y": {
             "color": "#2a3f5f"
            },
            "marker": {
             "line": {
              "color": "#E5ECF6",
              "width": 0.5
             },
             "pattern": {
              "fillmode": "overlay",
              "size": 10,
              "solidity": 0.2
             }
            },
            "type": "bar"
           }
          ],
          "barpolar": [
           {
            "marker": {
             "line": {
              "color": "#E5ECF6",
              "width": 0.5
             },
             "pattern": {
              "fillmode": "overlay",
              "size": 10,
              "solidity": 0.2
             }
            },
            "type": "barpolar"
           }
          ],
          "carpet": [
           {
            "aaxis": {
             "endlinecolor": "#2a3f5f",
             "gridcolor": "white",
             "linecolor": "white",
             "minorgridcolor": "white",
             "startlinecolor": "#2a3f5f"
            },
            "baxis": {
             "endlinecolor": "#2a3f5f",
             "gridcolor": "white",
             "linecolor": "white",
             "minorgridcolor": "white",
             "startlinecolor": "#2a3f5f"
            },
            "type": "carpet"
           }
          ],
          "choropleth": [
           {
            "colorbar": {
             "outlinewidth": 0,
             "ticks": ""
            },
            "type": "choropleth"
           }
          ],
          "contour": [
           {
            "colorbar": {
             "outlinewidth": 0,
             "ticks": ""
            },
            "colorscale": [
             [
              0,
              "#0d0887"
             ],
             [
              0.1111111111111111,
              "#46039f"
             ],
             [
              0.2222222222222222,
              "#7201a8"
             ],
             [
              0.3333333333333333,
              "#9c179e"
             ],
             [
              0.4444444444444444,
              "#bd3786"
             ],
             [
              0.5555555555555556,
              "#d8576b"
             ],
             [
              0.6666666666666666,
              "#ed7953"
             ],
             [
              0.7777777777777778,
              "#fb9f3a"
             ],
             [
              0.8888888888888888,
              "#fdca26"
             ],
             [
              1,
              "#f0f921"
             ]
            ],
            "type": "contour"
           }
          ],
          "contourcarpet": [
           {
            "colorbar": {
             "outlinewidth": 0,
             "ticks": ""
            },
            "type": "contourcarpet"
           }
          ],
          "heatmap": [
           {
            "colorbar": {
             "outlinewidth": 0,
             "ticks": ""
            },
            "colorscale": [
             [
              0,
              "#0d0887"
             ],
             [
              0.1111111111111111,
              "#46039f"
             ],
             [
              0.2222222222222222,
              "#7201a8"
             ],
             [
              0.3333333333333333,
              "#9c179e"
             ],
             [
              0.4444444444444444,
              "#bd3786"
             ],
             [
              0.5555555555555556,
              "#d8576b"
             ],
             [
              0.6666666666666666,
              "#ed7953"
             ],
             [
              0.7777777777777778,
              "#fb9f3a"
             ],
             [
              0.8888888888888888,
              "#fdca26"
             ],
             [
              1,
              "#f0f921"
             ]
            ],
            "type": "heatmap"
           }
          ],
          "heatmapgl": [
           {
            "colorbar": {
             "outlinewidth": 0,
             "ticks": ""
            },
            "colorscale": [
             [
              0,
              "#0d0887"
             ],
             [
              0.1111111111111111,
              "#46039f"
             ],
             [
              0.2222222222222222,
              "#7201a8"
             ],
             [
              0.3333333333333333,
              "#9c179e"
             ],
             [
              0.4444444444444444,
              "#bd3786"
             ],
             [
              0.5555555555555556,
              "#d8576b"
             ],
             [
              0.6666666666666666,
              "#ed7953"
             ],
             [
              0.7777777777777778,
              "#fb9f3a"
             ],
             [
              0.8888888888888888,
              "#fdca26"
             ],
             [
              1,
              "#f0f921"
             ]
            ],
            "type": "heatmapgl"
           }
          ],
          "histogram": [
           {
            "marker": {
             "pattern": {
              "fillmode": "overlay",
              "size": 10,
              "solidity": 0.2
             }
            },
            "type": "histogram"
           }
          ],
          "histogram2d": [
           {
            "colorbar": {
             "outlinewidth": 0,
             "ticks": ""
            },
            "colorscale": [
             [
              0,
              "#0d0887"
             ],
             [
              0.1111111111111111,
              "#46039f"
             ],
             [
              0.2222222222222222,
              "#7201a8"
             ],
             [
              0.3333333333333333,
              "#9c179e"
             ],
             [
              0.4444444444444444,
              "#bd3786"
             ],
             [
              0.5555555555555556,
              "#d8576b"
             ],
             [
              0.6666666666666666,
              "#ed7953"
             ],
             [
              0.7777777777777778,
              "#fb9f3a"
             ],
             [
              0.8888888888888888,
              "#fdca26"
             ],
             [
              1,
              "#f0f921"
             ]
            ],
            "type": "histogram2d"
           }
          ],
          "histogram2dcontour": [
           {
            "colorbar": {
             "outlinewidth": 0,
             "ticks": ""
            },
            "colorscale": [
             [
              0,
              "#0d0887"
             ],
             [
              0.1111111111111111,
              "#46039f"
             ],
             [
              0.2222222222222222,
              "#7201a8"
             ],
             [
              0.3333333333333333,
              "#9c179e"
             ],
             [
              0.4444444444444444,
              "#bd3786"
             ],
             [
              0.5555555555555556,
              "#d8576b"
             ],
             [
              0.6666666666666666,
              "#ed7953"
             ],
             [
              0.7777777777777778,
              "#fb9f3a"
             ],
             [
              0.8888888888888888,
              "#fdca26"
             ],
             [
              1,
              "#f0f921"
             ]
            ],
            "type": "histogram2dcontour"
           }
          ],
          "mesh3d": [
           {
            "colorbar": {
             "outlinewidth": 0,
             "ticks": ""
            },
            "type": "mesh3d"
           }
          ],
          "parcoords": [
           {
            "line": {
             "colorbar": {
              "outlinewidth": 0,
              "ticks": ""
             }
            },
            "type": "parcoords"
           }
          ],
          "pie": [
           {
            "automargin": true,
            "type": "pie"
           }
          ],
          "scatter": [
           {
            "fillpattern": {
             "fillmode": "overlay",
             "size": 10,
             "solidity": 0.2
            },
            "type": "scatter"
           }
          ],
          "scatter3d": [
           {
            "line": {
             "colorbar": {
              "outlinewidth": 0,
              "ticks": ""
             }
            },
            "marker": {
             "colorbar": {
              "outlinewidth": 0,
              "ticks": ""
             }
            },
            "type": "scatter3d"
           }
          ],
          "scattercarpet": [
           {
            "marker": {
             "colorbar": {
              "outlinewidth": 0,
              "ticks": ""
             }
            },
            "type": "scattercarpet"
           }
          ],
          "scattergeo": [
           {
            "marker": {
             "colorbar": {
              "outlinewidth": 0,
              "ticks": ""
             }
            },
            "type": "scattergeo"
           }
          ],
          "scattergl": [
           {
            "marker": {
             "colorbar": {
              "outlinewidth": 0,
              "ticks": ""
             }
            },
            "type": "scattergl"
           }
          ],
          "scattermapbox": [
           {
            "marker": {
             "colorbar": {
              "outlinewidth": 0,
              "ticks": ""
             }
            },
            "type": "scattermapbox"
           }
          ],
          "scatterpolar": [
           {
            "marker": {
             "colorbar": {
              "outlinewidth": 0,
              "ticks": ""
             }
            },
            "type": "scatterpolar"
           }
          ],
          "scatterpolargl": [
           {
            "marker": {
             "colorbar": {
              "outlinewidth": 0,
              "ticks": ""
             }
            },
            "type": "scatterpolargl"
           }
          ],
          "scatterternary": [
           {
            "marker": {
             "colorbar": {
              "outlinewidth": 0,
              "ticks": ""
             }
            },
            "type": "scatterternary"
           }
          ],
          "surface": [
           {
            "colorbar": {
             "outlinewidth": 0,
             "ticks": ""
            },
            "colorscale": [
             [
              0,
              "#0d0887"
             ],
             [
              0.1111111111111111,
              "#46039f"
             ],
             [
              0.2222222222222222,
              "#7201a8"
             ],
             [
              0.3333333333333333,
              "#9c179e"
             ],
             [
              0.4444444444444444,
              "#bd3786"
             ],
             [
              0.5555555555555556,
              "#d8576b"
             ],
             [
              0.6666666666666666,
              "#ed7953"
             ],
             [
              0.7777777777777778,
              "#fb9f3a"
             ],
             [
              0.8888888888888888,
              "#fdca26"
             ],
             [
              1,
              "#f0f921"
             ]
            ],
            "type": "surface"
           }
          ],
          "table": [
           {
            "cells": {
             "fill": {
              "color": "#EBF0F8"
             },
             "line": {
              "color": "white"
             }
            },
            "header": {
             "fill": {
              "color": "#C8D4E3"
             },
             "line": {
              "color": "white"
             }
            },
            "type": "table"
           }
          ]
         },
         "layout": {
          "annotationdefaults": {
           "arrowcolor": "#2a3f5f",
           "arrowhead": 0,
           "arrowwidth": 1
          },
          "autotypenumbers": "strict",
          "coloraxis": {
           "colorbar": {
            "outlinewidth": 0,
            "ticks": ""
           }
          },
          "colorscale": {
           "diverging": [
            [
             0,
             "#8e0152"
            ],
            [
             0.1,
             "#c51b7d"
            ],
            [
             0.2,
             "#de77ae"
            ],
            [
             0.3,
             "#f1b6da"
            ],
            [
             0.4,
             "#fde0ef"
            ],
            [
             0.5,
             "#f7f7f7"
            ],
            [
             0.6,
             "#e6f5d0"
            ],
            [
             0.7,
             "#b8e186"
            ],
            [
             0.8,
             "#7fbc41"
            ],
            [
             0.9,
             "#4d9221"
            ],
            [
             1,
             "#276419"
            ]
           ],
           "sequential": [
            [
             0,
             "#0d0887"
            ],
            [
             0.1111111111111111,
             "#46039f"
            ],
            [
             0.2222222222222222,
             "#7201a8"
            ],
            [
             0.3333333333333333,
             "#9c179e"
            ],
            [
             0.4444444444444444,
             "#bd3786"
            ],
            [
             0.5555555555555556,
             "#d8576b"
            ],
            [
             0.6666666666666666,
             "#ed7953"
            ],
            [
             0.7777777777777778,
             "#fb9f3a"
            ],
            [
             0.8888888888888888,
             "#fdca26"
            ],
            [
             1,
             "#f0f921"
            ]
           ],
           "sequentialminus": [
            [
             0,
             "#0d0887"
            ],
            [
             0.1111111111111111,
             "#46039f"
            ],
            [
             0.2222222222222222,
             "#7201a8"
            ],
            [
             0.3333333333333333,
             "#9c179e"
            ],
            [
             0.4444444444444444,
             "#bd3786"
            ],
            [
             0.5555555555555556,
             "#d8576b"
            ],
            [
             0.6666666666666666,
             "#ed7953"
            ],
            [
             0.7777777777777778,
             "#fb9f3a"
            ],
            [
             0.8888888888888888,
             "#fdca26"
            ],
            [
             1,
             "#f0f921"
            ]
           ]
          },
          "colorway": [
           "#636efa",
           "#EF553B",
           "#00cc96",
           "#ab63fa",
           "#FFA15A",
           "#19d3f3",
           "#FF6692",
           "#B6E880",
           "#FF97FF",
           "#FECB52"
          ],
          "font": {
           "color": "#2a3f5f"
          },
          "geo": {
           "bgcolor": "white",
           "lakecolor": "white",
           "landcolor": "#E5ECF6",
           "showlakes": true,
           "showland": true,
           "subunitcolor": "white"
          },
          "hoverlabel": {
           "align": "left"
          },
          "hovermode": "closest",
          "mapbox": {
           "style": "light"
          },
          "paper_bgcolor": "white",
          "plot_bgcolor": "#E5ECF6",
          "polar": {
           "angularaxis": {
            "gridcolor": "white",
            "linecolor": "white",
            "ticks": ""
           },
           "bgcolor": "#E5ECF6",
           "radialaxis": {
            "gridcolor": "white",
            "linecolor": "white",
            "ticks": ""
           }
          },
          "scene": {
           "xaxis": {
            "backgroundcolor": "#E5ECF6",
            "gridcolor": "white",
            "gridwidth": 2,
            "linecolor": "white",
            "showbackground": true,
            "ticks": "",
            "zerolinecolor": "white"
           },
           "yaxis": {
            "backgroundcolor": "#E5ECF6",
            "gridcolor": "white",
            "gridwidth": 2,
            "linecolor": "white",
            "showbackground": true,
            "ticks": "",
            "zerolinecolor": "white"
           },
           "zaxis": {
            "backgroundcolor": "#E5ECF6",
            "gridcolor": "white",
            "gridwidth": 2,
            "linecolor": "white",
            "showbackground": true,
            "ticks": "",
            "zerolinecolor": "white"
           }
          },
          "shapedefaults": {
           "line": {
            "color": "#2a3f5f"
           }
          },
          "ternary": {
           "aaxis": {
            "gridcolor": "white",
            "linecolor": "white",
            "ticks": ""
           },
           "baxis": {
            "gridcolor": "white",
            "linecolor": "white",
            "ticks": ""
           },
           "bgcolor": "#E5ECF6",
           "caxis": {
            "gridcolor": "white",
            "linecolor": "white",
            "ticks": ""
           }
          },
          "title": {
           "x": 0.05
          },
          "xaxis": {
           "automargin": true,
           "gridcolor": "white",
           "linecolor": "white",
           "ticks": "",
           "title": {
            "standoff": 15
           },
           "zerolinecolor": "white",
           "zerolinewidth": 2
          },
          "yaxis": {
           "automargin": true,
           "gridcolor": "white",
           "linecolor": "white",
           "ticks": "",
           "title": {
            "standoff": 15
           },
           "zerolinecolor": "white",
           "zerolinewidth": 2
          }
         }
        },
        "title": {
         "text": "Global Land and Ocean Average Temperature"
        },
        "xaxis": {
         "anchor": "y",
         "domain": [
          0,
          1
         ],
         "title": {
          "text": "Year"
         }
        },
        "yaxis": {
         "anchor": "x",
         "domain": [
          0,
          1
         ],
         "title": {
          "text": "Temperature (°C)"
         }
        }
       }
      }
     },
     "metadata": {},
     "output_type": "display_data"
    }
   ],
   "source": [
    "# Graph temperature data\n",
    "global_landocean_y = global_df['LandAndOceanAverageTemperature']\n",
    "global_land_y = global_df['LandAverageTemperature']\n",
    "\n",
    "fig3 = px.line(x=global_x, y=[global_landocean_y, global_land_y], title='Global Land and Ocean Average Temperature', color_discrete_map={0: 'blue', 1: 'green'})\n",
    "\n",
    "# Update Axis Titles\n",
    "fig3.update_xaxes(title_text='Year')\n",
    "fig3.update_yaxes(title_text='Temperature (°C)')\n",
    "fig3.data[0].name = 'Land & Ocean Avg Temp'\n",
    "fig3.data[1].name = 'Land Avg Temp'\n",
    "\n",
    "# Show the plot\n",
    "fig3.show()"
   ]
  },
  {
   "cell_type": "markdown",
   "metadata": {},
   "source": [
    "# Country-specific Trends\n",
    "Identify if any particular continents are experiencing more rapid temperature increases than others. <br>\n",
    "How have temperature trends evolved throughout our date range in South Africa, India, Germany, United States, Brazil, and Australia<s>, and Antarctica</s>?"
   ]
  },
  {
   "cell_type": "code",
   "execution_count": 8,
   "metadata": {},
   "outputs": [
    {
     "data": {
      "text/html": [
       "<div>\n",
       "<style scoped>\n",
       "    .dataframe tbody tr th:only-of-type {\n",
       "        vertical-align: middle;\n",
       "    }\n",
       "\n",
       "    .dataframe tbody tr th {\n",
       "        vertical-align: top;\n",
       "    }\n",
       "\n",
       "    .dataframe thead th {\n",
       "        text-align: right;\n",
       "    }\n",
       "</style>\n",
       "<table border=\"1\" class=\"dataframe\">\n",
       "  <thead>\n",
       "    <tr style=\"text-align: right;\">\n",
       "      <th></th>\n",
       "      <th>Unnamed: 0</th>\n",
       "      <th>Country</th>\n",
       "      <th>Year</th>\n",
       "      <th>Yearly Average Temperature</th>\n",
       "    </tr>\n",
       "  </thead>\n",
       "  <tbody>\n",
       "    <tr>\n",
       "      <th>0</th>\n",
       "      <td>32691</td>\n",
       "      <td>Afghanistan</td>\n",
       "      <td>1950</td>\n",
       "      <td>13.043500</td>\n",
       "    </tr>\n",
       "    <tr>\n",
       "      <th>1</th>\n",
       "      <td>32692</td>\n",
       "      <td>Africa</td>\n",
       "      <td>1950</td>\n",
       "      <td>23.880833</td>\n",
       "    </tr>\n",
       "    <tr>\n",
       "      <th>2</th>\n",
       "      <td>32693</td>\n",
       "      <td>Albania</td>\n",
       "      <td>1950</td>\n",
       "      <td>13.812833</td>\n",
       "    </tr>\n",
       "    <tr>\n",
       "      <th>3</th>\n",
       "      <td>32694</td>\n",
       "      <td>Algeria</td>\n",
       "      <td>1950</td>\n",
       "      <td>22.781833</td>\n",
       "    </tr>\n",
       "    <tr>\n",
       "      <th>4</th>\n",
       "      <td>32695</td>\n",
       "      <td>American Samoa</td>\n",
       "      <td>1950</td>\n",
       "      <td>26.520083</td>\n",
       "    </tr>\n",
       "  </tbody>\n",
       "</table>\n",
       "</div>"
      ],
      "text/plain": [
       "   Unnamed: 0         Country  Year  Yearly Average Temperature\n",
       "0       32691     Afghanistan  1950                   13.043500\n",
       "1       32692          Africa  1950                   23.880833\n",
       "2       32693         Albania  1950                   13.812833\n",
       "3       32694         Algeria  1950                   22.781833\n",
       "4       32695  American Samoa  1950                   26.520083"
      ]
     },
     "execution_count": 8,
     "metadata": {},
     "output_type": "execute_result"
    }
   ],
   "source": [
    "# Read CSV File\n",
    "countries_df = pd.read_csv(\"Cleaned Data/Countries.csv\")\n",
    "countries_df.head()"
   ]
  },
  {
   "cell_type": "code",
   "execution_count": 9,
   "metadata": {},
   "outputs": [],
   "source": [
    "# Filter data for selected countries\n",
    "south_africa_df = countries_df[countries_df['Country'].isin(['South Africa'])]\n",
    "india_df = countries_df[countries_df['Country'].isin(['India'])]\n",
    "germany_df = countries_df[countries_df['Country'].isin(['Germany'])]\n",
    "united_states_df = countries_df[countries_df['Country'].isin(['United States'])]\n",
    "brazil_df = countries_df[countries_df['Country'].isin(['Brazil'])]\n",
    "australia_df = countries_df[countries_df['Country'].isin(['Australia'])]\n",
    "\n",
    "# Get x and y values to plot\n",
    "countries_x = south_africa_df['Year']\n",
    "south_africa_y = south_africa_df['Yearly Average Temperature']\n",
    "india_y = india_df['Yearly Average Temperature']\n",
    "germany_y = germany_df['Yearly Average Temperature']\n",
    "united_states_y = united_states_df['Yearly Average Temperature']\n",
    "brazil_y = brazil_df['Yearly Average Temperature']\n",
    "australia_y = australia_df['Yearly Average Temperature']"
   ]
  },
  {
   "cell_type": "code",
   "execution_count": 10,
   "metadata": {},
   "outputs": [
    {
     "data": {
      "application/vnd.plotly.v1+json": {
       "config": {
        "plotlyServerURL": "https://plot.ly"
       },
       "data": [
        {
         "hovertemplate": "variable=wide_variable_0<br>x=%{x}<br>value=%{y}<extra></extra>",
         "legendgroup": "wide_variable_0",
         "line": {
          "color": "#636efa",
          "dash": "solid"
         },
         "marker": {
          "symbol": "circle"
         },
         "mode": "lines",
         "name": "South Africa",
         "orientation": "v",
         "showlegend": true,
         "type": "scatter",
         "x": [
          1950,
          1951,
          1952,
          1953,
          1954,
          1955,
          1956,
          1957,
          1958,
          1959,
          1960,
          1961,
          1962,
          1963,
          1964,
          1965,
          1966,
          1967,
          1968,
          1969,
          1970,
          1971,
          1972,
          1973,
          1974,
          1975,
          1976,
          1977,
          1978,
          1979,
          1980,
          1981,
          1982,
          1983,
          1984,
          1985,
          1986,
          1987,
          1988,
          1989,
          1990,
          1991,
          1992,
          1993,
          1994,
          1995,
          1996,
          1997,
          1998,
          1999,
          2000,
          2001,
          2002,
          2003,
          2004,
          2005,
          2006,
          2007,
          2008,
          2009,
          2010,
          2011,
          2012,
          2013
         ],
         "xaxis": "x",
         "y": [
          17.451166666666666,
          17.002333333333336,
          17.517500000000002,
          17.312416666666667,
          17.066583333333334,
          16.601833333333335,
          17.09325,
          17.426333333333332,
          17.422833333333333,
          17.33216666666667,
          17.571583333333333,
          17.545166666666667,
          17.738666666666667,
          17.50583333333333,
          17.262,
          17.399916666666666,
          17.80666666666667,
          17.307833333333335,
          17.043583333333334,
          17.772333333333332,
          17.72025,
          17.28575,
          17.621166666666667,
          17.584416666666666,
          17.175416666666667,
          17.1505,
          16.963833333333334,
          17.66,
          17.40975,
          17.789833333333334,
          17.609833333333334,
          17.115750000000002,
          17.752083333333335,
          18.20358333333333,
          17.96816666666667,
          18.056083333333333,
          17.955000000000002,
          18.103583333333333,
          17.628833333333333,
          17.406166666666667,
          17.728333333333335,
          17.752,
          18.25616666666667,
          18.20275,
          17.61475,
          17.87075,
          17.258666666666667,
          17.61525,
          18.095333333333333,
          18.5455,
          17.585583333333336,
          17.867916666666666,
          17.949416666666668,
          18.261666666666667,
          18.082833333333337,
          18.217916666666667,
          17.5975,
          17.98625,
          17.956083333333336,
          17.886,
          18.302666666666667,
          17.552416666666666,
          17.84691666666667,
          17.325375
         ],
         "yaxis": "y"
        },
        {
         "hovertemplate": "variable=wide_variable_1<br>x=%{x}<br>value=%{y}<extra></extra>",
         "legendgroup": "wide_variable_1",
         "line": {
          "color": "#EF553B",
          "dash": "solid"
         },
         "marker": {
          "symbol": "circle"
         },
         "mode": "lines",
         "name": "India",
         "orientation": "v",
         "showlegend": true,
         "type": "scatter",
         "x": [
          1950,
          1951,
          1952,
          1953,
          1954,
          1955,
          1956,
          1957,
          1958,
          1959,
          1960,
          1961,
          1962,
          1963,
          1964,
          1965,
          1966,
          1967,
          1968,
          1969,
          1970,
          1971,
          1972,
          1973,
          1974,
          1975,
          1976,
          1977,
          1978,
          1979,
          1980,
          1981,
          1982,
          1983,
          1984,
          1985,
          1986,
          1987,
          1988,
          1989,
          1990,
          1991,
          1992,
          1993,
          1994,
          1995,
          1996,
          1997,
          1998,
          1999,
          2000,
          2001,
          2002,
          2003,
          2004,
          2005,
          2006,
          2007,
          2008,
          2009,
          2010,
          2011,
          2012,
          2013
         ],
         "xaxis": "x",
         "y": [
          23.659333333333336,
          24.22066666666667,
          24.3655,
          24.56158333333333,
          24.167166666666663,
          23.952166666666667,
          23.899666666666665,
          24.026416666666663,
          24.67633333333333,
          24.26683333333333,
          24.287166666666668,
          23.81525,
          23.88475,
          24.09575,
          24.0705,
          24.09091666666667,
          24.438583333333337,
          23.992083333333337,
          23.86475,
          24.501166666666663,
          24.07408333333333,
          23.634,
          24.272166666666667,
          24.38658333333333,
          24.17575,
          23.862166666666667,
          24.199583333333333,
          24.28891666666667,
          24.00733333333333,
          24.553583333333336,
          24.593083333333336,
          24.228416666666664,
          24.21825,
          23.938,
          24.18508333333333,
          24.48633333333333,
          24.2945,
          24.78908333333333,
          24.72775,
          24.162333333333333,
          24.17816666666667,
          24.311750000000004,
          24.222916666666663,
          24.408666666666665,
          24.29641666666667,
          24.42975,
          24.436916666666665,
          24.04733333333333,
          24.755416666666665,
          24.65983333333333,
          24.498,
          24.581916666666668,
          24.913,
          24.649916666666662,
          24.63458333333333,
          24.495416666666667,
          24.732083333333332,
          24.649916666666662,
          24.406,
          25.146666666666665,
          25.050833333333333,
          24.41558333333333,
          24.640833333333333,
          25.41325
         ],
         "yaxis": "y"
        },
        {
         "hovertemplate": "variable=wide_variable_2<br>x=%{x}<br>value=%{y}<extra></extra>",
         "legendgroup": "wide_variable_2",
         "line": {
          "color": "#00cc96",
          "dash": "solid"
         },
         "marker": {
          "symbol": "circle"
         },
         "mode": "lines",
         "name": "Germany",
         "orientation": "v",
         "showlegend": true,
         "type": "scatter",
         "x": [
          1950,
          1951,
          1952,
          1953,
          1954,
          1955,
          1956,
          1957,
          1958,
          1959,
          1960,
          1961,
          1962,
          1963,
          1964,
          1965,
          1966,
          1967,
          1968,
          1969,
          1970,
          1971,
          1972,
          1973,
          1974,
          1975,
          1976,
          1977,
          1978,
          1979,
          1980,
          1981,
          1982,
          1983,
          1984,
          1985,
          1986,
          1987,
          1988,
          1989,
          1990,
          1991,
          1992,
          1993,
          1994,
          1995,
          1996,
          1997,
          1998,
          1999,
          2000,
          2001,
          2002,
          2003,
          2004,
          2005,
          2006,
          2007,
          2008,
          2009,
          2010,
          2011,
          2012,
          2013
         ],
         "xaxis": "x",
         "y": [
          8.653416666666667,
          8.816416666666667,
          8.006833333333333,
          9.067,
          7.788833333333334,
          7.684083333333334,
          6.9695,
          8.686083333333334,
          8.325833333333334,
          9.18275,
          8.514166666666666,
          9.124166666666666,
          7.324916666666667,
          7.2205,
          8.236333333333333,
          7.633,
          8.645666666666667,
          9.041666666666666,
          8.323583333333334,
          7.913,
          7.856083333333334,
          8.600166666666667,
          8.054833333333333,
          8.402833333333334,
          8.970416666666667,
          9.093666666666667,
          8.6505,
          8.804833333333333,
          7.932749999999999,
          7.901666666666666,
          7.727250000000001,
          8.320500000000001,
          9.073333333333334,
          9.185666666666668,
          8.123,
          7.613333333333333,
          8.085083333333333,
          7.58925,
          9.195583333333332,
          9.679833333333333,
          9.6895,
          8.523083333333334,
          9.505833333333332,
          8.6335,
          9.847,
          9.0335,
          7.374416666666666,
          9.048666666666668,
          9.17175,
          9.62075,
          10.020416666666666,
          9.090416666666666,
          9.637333333333334,
          9.49425,
          9.053416666666667,
          9.128416666666666,
          9.706,
          9.9975,
          9.642166666666666,
          9.359166666666669,
          8.009,
          9.819583333333334,
          9.227166666666667,
          9.23525
         ],
         "yaxis": "y"
        },
        {
         "hovertemplate": "variable=wide_variable_3<br>x=%{x}<br>value=%{y}<extra></extra>",
         "legendgroup": "wide_variable_3",
         "line": {
          "color": "#ab63fa",
          "dash": "solid"
         },
         "marker": {
          "symbol": "circle"
         },
         "mode": "lines",
         "name": "United States",
         "orientation": "v",
         "showlegend": true,
         "type": "scatter",
         "x": [
          1950,
          1951,
          1952,
          1953,
          1954,
          1955,
          1956,
          1957,
          1958,
          1959,
          1960,
          1961,
          1962,
          1963,
          1964,
          1965,
          1966,
          1967,
          1968,
          1969,
          1970,
          1971,
          1972,
          1973,
          1974,
          1975,
          1976,
          1977,
          1978,
          1979,
          1980,
          1981,
          1982,
          1983,
          1984,
          1985,
          1986,
          1987,
          1988,
          1989,
          1990,
          1991,
          1992,
          1993,
          1994,
          1995,
          1996,
          1997,
          1998,
          1999,
          2000,
          2001,
          2002,
          2003,
          2004,
          2005,
          2006,
          2007,
          2008,
          2009,
          2010,
          2011,
          2012,
          2013
         ],
         "xaxis": "x",
         "y": [
          8.656416666666667,
          8.416583333333334,
          8.979416666666667,
          9.530416666666666,
          9.410583333333332,
          8.517166666666666,
          8.699916666666667,
          9.126333333333331,
          8.970166666666668,
          8.825333333333333,
          8.69225,
          8.642000000000001,
          8.9565,
          9.08,
          8.491666666666667,
          8.647666666666668,
          8.483,
          8.902,
          8.55325,
          8.770833333333334,
          8.673,
          8.4425,
          8.428083333333333,
          8.934666666666667,
          8.815916666666666,
          8.431,
          8.65125,
          9.269833333333333,
          8.751416666666666,
          8.571583333333333,
          9.1355,
          9.7215,
          8.5395,
          8.912333333333333,
          8.811166666666667,
          8.587000000000002,
          9.5595,
          9.628166666666669,
          9.275333333333334,
          8.873083333333334,
          9.521583333333334,
          9.493666666666666,
          9.056333333333331,
          8.86725,
          9.270333333333332,
          9.331,
          8.754333333333333,
          9.172916666666667,
          10.141166666666669,
          9.567,
          9.64975,
          9.785583333333332,
          9.816166666666666,
          9.755083333333332,
          9.6675,
          9.892666666666669,
          9.9745,
          9.8375,
          8.951416666666667,
          9.137083333333331,
          9.505583333333334,
          9.549916666666666,
          10.261083333333334,
          11.297111111111112
         ],
         "yaxis": "y"
        },
        {
         "hovertemplate": "variable=wide_variable_4<br>x=%{x}<br>value=%{y}<extra></extra>",
         "legendgroup": "wide_variable_4",
         "line": {
          "color": "#FFA15A",
          "dash": "solid"
         },
         "marker": {
          "symbol": "circle"
         },
         "mode": "lines",
         "name": "Brazil",
         "orientation": "v",
         "showlegend": true,
         "type": "scatter",
         "x": [
          1950,
          1951,
          1952,
          1953,
          1954,
          1955,
          1956,
          1957,
          1958,
          1959,
          1960,
          1961,
          1962,
          1963,
          1964,
          1965,
          1966,
          1967,
          1968,
          1969,
          1970,
          1971,
          1972,
          1973,
          1974,
          1975,
          1976,
          1977,
          1978,
          1979,
          1980,
          1981,
          1982,
          1983,
          1984,
          1985,
          1986,
          1987,
          1988,
          1989,
          1990,
          1991,
          1992,
          1993,
          1994,
          1995,
          1996,
          1997,
          1998,
          1999,
          2000,
          2001,
          2002,
          2003,
          2004,
          2005,
          2006,
          2007,
          2008,
          2009,
          2010,
          2011,
          2012,
          2013
         ],
         "xaxis": "x",
         "y": [
          24.639,
          24.79733333333333,
          24.85166666666667,
          24.99558333333333,
          24.967,
          24.765500000000003,
          24.47966666666667,
          24.801916666666667,
          25.268083333333333,
          25.15725,
          24.75266666666667,
          25.146416666666667,
          24.84233333333333,
          25.17158333333333,
          24.73408333333333,
          24.983833333333333,
          25.08641666666667,
          25.013666666666666,
          24.63125,
          25.282750000000004,
          25.19108333333333,
          24.608500000000003,
          25.09733333333333,
          25.169583333333332,
          24.5815,
          24.67675,
          24.719000000000005,
          25.13233333333333,
          24.9275,
          24.944333333333333,
          25.148,
          24.983416666666667,
          25.23033333333333,
          25.35075,
          25.109916666666667,
          24.965666666666667,
          25.131,
          25.56341666666667,
          25.177333333333337,
          24.871416666666665,
          25.27491666666667,
          25.29216666666667,
          25.25133333333333,
          25.354916666666668,
          25.454666666666668,
          25.55441666666667,
          25.33783333333333,
          25.559416666666667,
          25.95875,
          25.286583333333336,
          25.1965,
          25.504416666666668,
          25.80033333333333,
          25.621,
          25.4965,
          25.806,
          25.517,
          25.668000000000003,
          25.41033333333333,
          25.600583333333333,
          25.812416666666667,
          25.428916666666662,
          25.71708333333333,
          25.348125
         ],
         "yaxis": "y"
        },
        {
         "hovertemplate": "variable=wide_variable_5<br>x=%{x}<br>value=%{y}<extra></extra>",
         "legendgroup": "wide_variable_5",
         "line": {
          "color": "#19d3f3",
          "dash": "solid"
         },
         "marker": {
          "symbol": "circle"
         },
         "mode": "lines",
         "name": "Australia",
         "orientation": "v",
         "showlegend": true,
         "type": "scatter",
         "x": [
          1950,
          1951,
          1952,
          1953,
          1954,
          1955,
          1956,
          1957,
          1958,
          1959,
          1960,
          1961,
          1962,
          1963,
          1964,
          1965,
          1966,
          1967,
          1968,
          1969,
          1970,
          1971,
          1972,
          1973,
          1974,
          1975,
          1976,
          1977,
          1978,
          1979,
          1980,
          1981,
          1982,
          1983,
          1984,
          1985,
          1986,
          1987,
          1988,
          1989,
          1990,
          1991,
          1992,
          1993,
          1994,
          1995,
          1996,
          1997,
          1998,
          1999,
          2000,
          2001,
          2002,
          2003,
          2004,
          2005,
          2006,
          2007,
          2008,
          2009,
          2010,
          2011,
          2012,
          2013
         ],
         "xaxis": "x",
         "y": [
          21.322916666666668,
          21.557,
          21.487,
          21.47458333333333,
          21.558666666666667,
          21.56308333333333,
          21.006,
          21.902666666666665,
          21.99725,
          22.098166666666668,
          21.2105,
          21.964250000000003,
          21.802916666666665,
          21.69783333333333,
          21.65075,
          22.09208333333333,
          21.361,
          21.625416666666663,
          21.462166666666665,
          21.847583333333333,
          21.77575,
          21.65433333333333,
          22.012083333333333,
          22.41275,
          21.23808333333333,
          21.692666666666668,
          21.193416666666668,
          21.8925,
          21.605166666666666,
          22.252333333333336,
          22.586166666666667,
          22.16408333333333,
          21.9105,
          22.26108333333333,
          21.516916666666663,
          22.04341666666667,
          22.09325,
          22.07241666666667,
          22.63008333333333,
          21.86283333333333,
          22.35575,
          22.48741666666667,
          21.932583333333337,
          22.16016666666667,
          22.03025,
          21.955166666666667,
          22.325333333333333,
          22.086,
          22.66483333333333,
          22.0645,
          21.709666666666667,
          21.79275,
          22.46083333333333,
          22.44033333333333,
          22.286916666666663,
          22.896833333333333,
          22.264416666666666,
          22.48675,
          22.225916666666667,
          22.690583333333333,
          22.078166666666664,
          21.767,
          22.0245,
          22.142875
         ],
         "yaxis": "y"
        }
       ],
       "layout": {
        "legend": {
         "title": {
          "text": "variable"
         },
         "tracegroupgap": 0
        },
        "template": {
         "data": {
          "bar": [
           {
            "error_x": {
             "color": "#2a3f5f"
            },
            "error_y": {
             "color": "#2a3f5f"
            },
            "marker": {
             "line": {
              "color": "#E5ECF6",
              "width": 0.5
             },
             "pattern": {
              "fillmode": "overlay",
              "size": 10,
              "solidity": 0.2
             }
            },
            "type": "bar"
           }
          ],
          "barpolar": [
           {
            "marker": {
             "line": {
              "color": "#E5ECF6",
              "width": 0.5
             },
             "pattern": {
              "fillmode": "overlay",
              "size": 10,
              "solidity": 0.2
             }
            },
            "type": "barpolar"
           }
          ],
          "carpet": [
           {
            "aaxis": {
             "endlinecolor": "#2a3f5f",
             "gridcolor": "white",
             "linecolor": "white",
             "minorgridcolor": "white",
             "startlinecolor": "#2a3f5f"
            },
            "baxis": {
             "endlinecolor": "#2a3f5f",
             "gridcolor": "white",
             "linecolor": "white",
             "minorgridcolor": "white",
             "startlinecolor": "#2a3f5f"
            },
            "type": "carpet"
           }
          ],
          "choropleth": [
           {
            "colorbar": {
             "outlinewidth": 0,
             "ticks": ""
            },
            "type": "choropleth"
           }
          ],
          "contour": [
           {
            "colorbar": {
             "outlinewidth": 0,
             "ticks": ""
            },
            "colorscale": [
             [
              0,
              "#0d0887"
             ],
             [
              0.1111111111111111,
              "#46039f"
             ],
             [
              0.2222222222222222,
              "#7201a8"
             ],
             [
              0.3333333333333333,
              "#9c179e"
             ],
             [
              0.4444444444444444,
              "#bd3786"
             ],
             [
              0.5555555555555556,
              "#d8576b"
             ],
             [
              0.6666666666666666,
              "#ed7953"
             ],
             [
              0.7777777777777778,
              "#fb9f3a"
             ],
             [
              0.8888888888888888,
              "#fdca26"
             ],
             [
              1,
              "#f0f921"
             ]
            ],
            "type": "contour"
           }
          ],
          "contourcarpet": [
           {
            "colorbar": {
             "outlinewidth": 0,
             "ticks": ""
            },
            "type": "contourcarpet"
           }
          ],
          "heatmap": [
           {
            "colorbar": {
             "outlinewidth": 0,
             "ticks": ""
            },
            "colorscale": [
             [
              0,
              "#0d0887"
             ],
             [
              0.1111111111111111,
              "#46039f"
             ],
             [
              0.2222222222222222,
              "#7201a8"
             ],
             [
              0.3333333333333333,
              "#9c179e"
             ],
             [
              0.4444444444444444,
              "#bd3786"
             ],
             [
              0.5555555555555556,
              "#d8576b"
             ],
             [
              0.6666666666666666,
              "#ed7953"
             ],
             [
              0.7777777777777778,
              "#fb9f3a"
             ],
             [
              0.8888888888888888,
              "#fdca26"
             ],
             [
              1,
              "#f0f921"
             ]
            ],
            "type": "heatmap"
           }
          ],
          "heatmapgl": [
           {
            "colorbar": {
             "outlinewidth": 0,
             "ticks": ""
            },
            "colorscale": [
             [
              0,
              "#0d0887"
             ],
             [
              0.1111111111111111,
              "#46039f"
             ],
             [
              0.2222222222222222,
              "#7201a8"
             ],
             [
              0.3333333333333333,
              "#9c179e"
             ],
             [
              0.4444444444444444,
              "#bd3786"
             ],
             [
              0.5555555555555556,
              "#d8576b"
             ],
             [
              0.6666666666666666,
              "#ed7953"
             ],
             [
              0.7777777777777778,
              "#fb9f3a"
             ],
             [
              0.8888888888888888,
              "#fdca26"
             ],
             [
              1,
              "#f0f921"
             ]
            ],
            "type": "heatmapgl"
           }
          ],
          "histogram": [
           {
            "marker": {
             "pattern": {
              "fillmode": "overlay",
              "size": 10,
              "solidity": 0.2
             }
            },
            "type": "histogram"
           }
          ],
          "histogram2d": [
           {
            "colorbar": {
             "outlinewidth": 0,
             "ticks": ""
            },
            "colorscale": [
             [
              0,
              "#0d0887"
             ],
             [
              0.1111111111111111,
              "#46039f"
             ],
             [
              0.2222222222222222,
              "#7201a8"
             ],
             [
              0.3333333333333333,
              "#9c179e"
             ],
             [
              0.4444444444444444,
              "#bd3786"
             ],
             [
              0.5555555555555556,
              "#d8576b"
             ],
             [
              0.6666666666666666,
              "#ed7953"
             ],
             [
              0.7777777777777778,
              "#fb9f3a"
             ],
             [
              0.8888888888888888,
              "#fdca26"
             ],
             [
              1,
              "#f0f921"
             ]
            ],
            "type": "histogram2d"
           }
          ],
          "histogram2dcontour": [
           {
            "colorbar": {
             "outlinewidth": 0,
             "ticks": ""
            },
            "colorscale": [
             [
              0,
              "#0d0887"
             ],
             [
              0.1111111111111111,
              "#46039f"
             ],
             [
              0.2222222222222222,
              "#7201a8"
             ],
             [
              0.3333333333333333,
              "#9c179e"
             ],
             [
              0.4444444444444444,
              "#bd3786"
             ],
             [
              0.5555555555555556,
              "#d8576b"
             ],
             [
              0.6666666666666666,
              "#ed7953"
             ],
             [
              0.7777777777777778,
              "#fb9f3a"
             ],
             [
              0.8888888888888888,
              "#fdca26"
             ],
             [
              1,
              "#f0f921"
             ]
            ],
            "type": "histogram2dcontour"
           }
          ],
          "mesh3d": [
           {
            "colorbar": {
             "outlinewidth": 0,
             "ticks": ""
            },
            "type": "mesh3d"
           }
          ],
          "parcoords": [
           {
            "line": {
             "colorbar": {
              "outlinewidth": 0,
              "ticks": ""
             }
            },
            "type": "parcoords"
           }
          ],
          "pie": [
           {
            "automargin": true,
            "type": "pie"
           }
          ],
          "scatter": [
           {
            "fillpattern": {
             "fillmode": "overlay",
             "size": 10,
             "solidity": 0.2
            },
            "type": "scatter"
           }
          ],
          "scatter3d": [
           {
            "line": {
             "colorbar": {
              "outlinewidth": 0,
              "ticks": ""
             }
            },
            "marker": {
             "colorbar": {
              "outlinewidth": 0,
              "ticks": ""
             }
            },
            "type": "scatter3d"
           }
          ],
          "scattercarpet": [
           {
            "marker": {
             "colorbar": {
              "outlinewidth": 0,
              "ticks": ""
             }
            },
            "type": "scattercarpet"
           }
          ],
          "scattergeo": [
           {
            "marker": {
             "colorbar": {
              "outlinewidth": 0,
              "ticks": ""
             }
            },
            "type": "scattergeo"
           }
          ],
          "scattergl": [
           {
            "marker": {
             "colorbar": {
              "outlinewidth": 0,
              "ticks": ""
             }
            },
            "type": "scattergl"
           }
          ],
          "scattermapbox": [
           {
            "marker": {
             "colorbar": {
              "outlinewidth": 0,
              "ticks": ""
             }
            },
            "type": "scattermapbox"
           }
          ],
          "scatterpolar": [
           {
            "marker": {
             "colorbar": {
              "outlinewidth": 0,
              "ticks": ""
             }
            },
            "type": "scatterpolar"
           }
          ],
          "scatterpolargl": [
           {
            "marker": {
             "colorbar": {
              "outlinewidth": 0,
              "ticks": ""
             }
            },
            "type": "scatterpolargl"
           }
          ],
          "scatterternary": [
           {
            "marker": {
             "colorbar": {
              "outlinewidth": 0,
              "ticks": ""
             }
            },
            "type": "scatterternary"
           }
          ],
          "surface": [
           {
            "colorbar": {
             "outlinewidth": 0,
             "ticks": ""
            },
            "colorscale": [
             [
              0,
              "#0d0887"
             ],
             [
              0.1111111111111111,
              "#46039f"
             ],
             [
              0.2222222222222222,
              "#7201a8"
             ],
             [
              0.3333333333333333,
              "#9c179e"
             ],
             [
              0.4444444444444444,
              "#bd3786"
             ],
             [
              0.5555555555555556,
              "#d8576b"
             ],
             [
              0.6666666666666666,
              "#ed7953"
             ],
             [
              0.7777777777777778,
              "#fb9f3a"
             ],
             [
              0.8888888888888888,
              "#fdca26"
             ],
             [
              1,
              "#f0f921"
             ]
            ],
            "type": "surface"
           }
          ],
          "table": [
           {
            "cells": {
             "fill": {
              "color": "#EBF0F8"
             },
             "line": {
              "color": "white"
             }
            },
            "header": {
             "fill": {
              "color": "#C8D4E3"
             },
             "line": {
              "color": "white"
             }
            },
            "type": "table"
           }
          ]
         },
         "layout": {
          "annotationdefaults": {
           "arrowcolor": "#2a3f5f",
           "arrowhead": 0,
           "arrowwidth": 1
          },
          "autotypenumbers": "strict",
          "coloraxis": {
           "colorbar": {
            "outlinewidth": 0,
            "ticks": ""
           }
          },
          "colorscale": {
           "diverging": [
            [
             0,
             "#8e0152"
            ],
            [
             0.1,
             "#c51b7d"
            ],
            [
             0.2,
             "#de77ae"
            ],
            [
             0.3,
             "#f1b6da"
            ],
            [
             0.4,
             "#fde0ef"
            ],
            [
             0.5,
             "#f7f7f7"
            ],
            [
             0.6,
             "#e6f5d0"
            ],
            [
             0.7,
             "#b8e186"
            ],
            [
             0.8,
             "#7fbc41"
            ],
            [
             0.9,
             "#4d9221"
            ],
            [
             1,
             "#276419"
            ]
           ],
           "sequential": [
            [
             0,
             "#0d0887"
            ],
            [
             0.1111111111111111,
             "#46039f"
            ],
            [
             0.2222222222222222,
             "#7201a8"
            ],
            [
             0.3333333333333333,
             "#9c179e"
            ],
            [
             0.4444444444444444,
             "#bd3786"
            ],
            [
             0.5555555555555556,
             "#d8576b"
            ],
            [
             0.6666666666666666,
             "#ed7953"
            ],
            [
             0.7777777777777778,
             "#fb9f3a"
            ],
            [
             0.8888888888888888,
             "#fdca26"
            ],
            [
             1,
             "#f0f921"
            ]
           ],
           "sequentialminus": [
            [
             0,
             "#0d0887"
            ],
            [
             0.1111111111111111,
             "#46039f"
            ],
            [
             0.2222222222222222,
             "#7201a8"
            ],
            [
             0.3333333333333333,
             "#9c179e"
            ],
            [
             0.4444444444444444,
             "#bd3786"
            ],
            [
             0.5555555555555556,
             "#d8576b"
            ],
            [
             0.6666666666666666,
             "#ed7953"
            ],
            [
             0.7777777777777778,
             "#fb9f3a"
            ],
            [
             0.8888888888888888,
             "#fdca26"
            ],
            [
             1,
             "#f0f921"
            ]
           ]
          },
          "colorway": [
           "#636efa",
           "#EF553B",
           "#00cc96",
           "#ab63fa",
           "#FFA15A",
           "#19d3f3",
           "#FF6692",
           "#B6E880",
           "#FF97FF",
           "#FECB52"
          ],
          "font": {
           "color": "#2a3f5f"
          },
          "geo": {
           "bgcolor": "white",
           "lakecolor": "white",
           "landcolor": "#E5ECF6",
           "showlakes": true,
           "showland": true,
           "subunitcolor": "white"
          },
          "hoverlabel": {
           "align": "left"
          },
          "hovermode": "closest",
          "mapbox": {
           "style": "light"
          },
          "paper_bgcolor": "white",
          "plot_bgcolor": "#E5ECF6",
          "polar": {
           "angularaxis": {
            "gridcolor": "white",
            "linecolor": "white",
            "ticks": ""
           },
           "bgcolor": "#E5ECF6",
           "radialaxis": {
            "gridcolor": "white",
            "linecolor": "white",
            "ticks": ""
           }
          },
          "scene": {
           "xaxis": {
            "backgroundcolor": "#E5ECF6",
            "gridcolor": "white",
            "gridwidth": 2,
            "linecolor": "white",
            "showbackground": true,
            "ticks": "",
            "zerolinecolor": "white"
           },
           "yaxis": {
            "backgroundcolor": "#E5ECF6",
            "gridcolor": "white",
            "gridwidth": 2,
            "linecolor": "white",
            "showbackground": true,
            "ticks": "",
            "zerolinecolor": "white"
           },
           "zaxis": {
            "backgroundcolor": "#E5ECF6",
            "gridcolor": "white",
            "gridwidth": 2,
            "linecolor": "white",
            "showbackground": true,
            "ticks": "",
            "zerolinecolor": "white"
           }
          },
          "shapedefaults": {
           "line": {
            "color": "#2a3f5f"
           }
          },
          "ternary": {
           "aaxis": {
            "gridcolor": "white",
            "linecolor": "white",
            "ticks": ""
           },
           "baxis": {
            "gridcolor": "white",
            "linecolor": "white",
            "ticks": ""
           },
           "bgcolor": "#E5ECF6",
           "caxis": {
            "gridcolor": "white",
            "linecolor": "white",
            "ticks": ""
           }
          },
          "title": {
           "x": 0.05
          },
          "xaxis": {
           "automargin": true,
           "gridcolor": "white",
           "linecolor": "white",
           "ticks": "",
           "title": {
            "standoff": 15
           },
           "zerolinecolor": "white",
           "zerolinewidth": 2
          },
          "yaxis": {
           "automargin": true,
           "gridcolor": "white",
           "linecolor": "white",
           "ticks": "",
           "title": {
            "standoff": 15
           },
           "zerolinecolor": "white",
           "zerolinewidth": 2
          }
         }
        },
        "title": {
         "text": "Temperature Trends in Selected Countries"
        },
        "xaxis": {
         "anchor": "y",
         "domain": [
          0,
          1
         ],
         "title": {
          "text": "Year"
         }
        },
        "yaxis": {
         "anchor": "x",
         "domain": [
          0,
          1
         ],
         "title": {
          "text": "Yearly Average Temperature (°C)"
         }
        }
       }
      }
     },
     "metadata": {},
     "output_type": "display_data"
    }
   ],
   "source": [
    "\n",
    "# Plot temperature trends for each country\n",
    "fig4 = px.line(x=countries_x, y=[south_africa_y, india_y, germany_y, united_states_y, brazil_y, australia_y], title='Temperature Trends in Selected Countries')\n",
    "\n",
    "# Update Axis Titles\n",
    "fig4.update_xaxes(title_text='Year')\n",
    "fig4.update_yaxes(title_text='Yearly Average Temperature (°C)')\n",
    "fig4.data[0].name = 'South Africa'\n",
    "fig4.data[1].name = 'India'\n",
    "fig4.data[2].name = 'Germany'\n",
    "fig4.data[3].name = 'United States'\n",
    "fig4.data[4].name = 'Brazil'\n",
    "fig4.data[5].name = 'Australia'\n",
    "\n",
    "# Show the plot\n",
    "fig4.show()"
   ]
  },
  {
   "cell_type": "markdown",
   "metadata": {},
   "source": [
    "# Hotspots and Cooling\n",
    "Which countries/regions are experiencing the most rapid increase in temperature, and are there any regions experiencing a decrease? <br>\n",
    "Antarctica is a continent, but is relevant + extremely important to our analysis -> we look at its data <br>"
   ]
  },
  {
   "cell_type": "code",
   "execution_count": 30,
   "metadata": {},
   "outputs": [
    {
     "data": {
      "text/html": [
       "<div>\n",
       "<style scoped>\n",
       "    .dataframe tbody tr th:only-of-type {\n",
       "        vertical-align: middle;\n",
       "    }\n",
       "\n",
       "    .dataframe tbody tr th {\n",
       "        vertical-align: top;\n",
       "    }\n",
       "\n",
       "    .dataframe thead th {\n",
       "        text-align: right;\n",
       "    }\n",
       "</style>\n",
       "<table border=\"1\" class=\"dataframe\">\n",
       "  <thead>\n",
       "    <tr style=\"text-align: right;\">\n",
       "      <th></th>\n",
       "      <th>State</th>\n",
       "      <th>Country</th>\n",
       "      <th>Year</th>\n",
       "      <th>Yearly Average Temperature</th>\n",
       "    </tr>\n",
       "  </thead>\n",
       "  <tbody>\n",
       "    <tr>\n",
       "      <th>0</th>\n",
       "      <td>Acre</td>\n",
       "      <td>Brazil</td>\n",
       "      <td>1950</td>\n",
       "      <td>25.753667</td>\n",
       "    </tr>\n",
       "    <tr>\n",
       "      <th>1</th>\n",
       "      <td>Adygey</td>\n",
       "      <td>Russia</td>\n",
       "      <td>1950</td>\n",
       "      <td>9.967750</td>\n",
       "    </tr>\n",
       "    <tr>\n",
       "      <th>2</th>\n",
       "      <td>Aga Buryat</td>\n",
       "      <td>Russia</td>\n",
       "      <td>1950</td>\n",
       "      <td>-1.543167</td>\n",
       "    </tr>\n",
       "    <tr>\n",
       "      <th>3</th>\n",
       "      <td>Alabama</td>\n",
       "      <td>United States</td>\n",
       "      <td>1950</td>\n",
       "      <td>17.393417</td>\n",
       "    </tr>\n",
       "    <tr>\n",
       "      <th>4</th>\n",
       "      <td>Alagoas</td>\n",
       "      <td>Brazil</td>\n",
       "      <td>1950</td>\n",
       "      <td>24.559833</td>\n",
       "    </tr>\n",
       "  </tbody>\n",
       "</table>\n",
       "</div>"
      ],
      "text/plain": [
       "        State        Country  Year  Yearly Average Temperature\n",
       "0        Acre         Brazil  1950                   25.753667\n",
       "1      Adygey         Russia  1950                    9.967750\n",
       "2  Aga Buryat         Russia  1950                   -1.543167\n",
       "3     Alabama  United States  1950                   17.393417\n",
       "4     Alagoas         Brazil  1950                   24.559833"
      ]
     },
     "execution_count": 30,
     "metadata": {},
     "output_type": "execute_result"
    }
   ],
   "source": [
    "# Read CSV File\n",
    "states_df = pd.read_csv(\"Cleaned Data/States.csv\")\n",
    "states_df.head()"
   ]
  },
  {
   "cell_type": "code",
   "execution_count": 31,
   "metadata": {},
   "outputs": [
    {
     "name": "stdout",
     "output_type": "stream",
     "text": [
      "[1950 1951 1952 1953 1954 1955 1956 1957 1958 1959 1960 1961 1962 1963\n",
      " 1964 1965 1966 1967 1968 1969 1970 1971 1972 1973 1974 1975 1976 1977\n",
      " 1978 1979 1980 1981 1982 1983 1984 1985 1986 1987 1988 1989 1990 1991\n",
      " 1992 1993 1994 1995 1996 1997 1998 1999 2000 2001 2002 2003 2004 2005\n",
      " 2006 2007 2008 2009 2010 2011 2012 2013]\n"
     ]
    }
   ],
   "source": [
    "# Get years (unique)\n",
    "year_list = states_df['Year'].unique()\n",
    "print(year_list) # our x-values to graph"
   ]
  },
  {
   "cell_type": "code",
   "execution_count": 49,
   "metadata": {},
   "outputs": [
    {
     "name": "stdout",
     "output_type": "stream",
     "text": [
      "['Brazil' 'Russia' 'United States' 'Canada' 'India' 'China' 'Australia']\n"
     ]
    }
   ],
   "source": [
    "# Get countries (unique)\n",
    "countries_list = states_df['Country'].unique()\n",
    "print(countries_list)"
   ]
  },
  {
   "cell_type": "code",
   "execution_count": 111,
   "metadata": {},
   "outputs": [
    {
     "data": {
      "text/html": [
       "<div>\n",
       "<style scoped>\n",
       "    .dataframe tbody tr th:only-of-type {\n",
       "        vertical-align: middle;\n",
       "    }\n",
       "\n",
       "    .dataframe tbody tr th {\n",
       "        vertical-align: top;\n",
       "    }\n",
       "\n",
       "    .dataframe thead th {\n",
       "        text-align: right;\n",
       "    }\n",
       "</style>\n",
       "<table border=\"1\" class=\"dataframe\">\n",
       "  <thead>\n",
       "    <tr style=\"text-align: right;\">\n",
       "      <th></th>\n",
       "      <th>Year Range</th>\n",
       "      <th>% Change in Yearly Avg Temp for Brazil</th>\n",
       "      <th>% Change in Yearly Avg Temp for Russia</th>\n",
       "      <th>% Change in Yearly Avg Temp for United States</th>\n",
       "      <th>% Change in Yearly Avg Temp for Canada</th>\n",
       "      <th>% Change in Yearly Avg Temp for India</th>\n",
       "      <th>% Change in Yearly Avg Temp for China</th>\n",
       "      <th>% Change in Yearly Avg Temp for Australia</th>\n",
       "      <th>Years</th>\n",
       "    </tr>\n",
       "  </thead>\n",
       "  <tbody>\n",
       "    <tr>\n",
       "      <th>0</th>\n",
       "      <td>1950 - 1951</td>\n",
       "      <td>0.642613</td>\n",
       "      <td>-9.859301</td>\n",
       "      <td>-2.770584</td>\n",
       "      <td>-9.402954</td>\n",
       "      <td>2.372566</td>\n",
       "      <td>3.438151</td>\n",
       "      <td>1.097802</td>\n",
       "      <td>1951</td>\n",
       "    </tr>\n",
       "    <tr>\n",
       "      <th>1</th>\n",
       "      <td>1951 - 1952</td>\n",
       "      <td>0.219110</td>\n",
       "      <td>22.139078</td>\n",
       "      <td>6.687195</td>\n",
       "      <td>-26.116382</td>\n",
       "      <td>0.597974</td>\n",
       "      <td>-3.327510</td>\n",
       "      <td>-0.324721</td>\n",
       "      <td>1952</td>\n",
       "    </tr>\n",
       "    <tr>\n",
       "      <th>2</th>\n",
       "      <td>1952 - 1953</td>\n",
       "      <td>0.579103</td>\n",
       "      <td>-22.603673</td>\n",
       "      <td>6.136256</td>\n",
       "      <td>-0.677597</td>\n",
       "      <td>0.804758</td>\n",
       "      <td>5.743434</td>\n",
       "      <td>-0.057787</td>\n",
       "      <td>1953</td>\n",
       "    </tr>\n",
       "    <tr>\n",
       "      <th>3</th>\n",
       "      <td>1953 - 1954</td>\n",
       "      <td>-0.114354</td>\n",
       "      <td>11.254860</td>\n",
       "      <td>-1.257378</td>\n",
       "      <td>19.418007</td>\n",
       "      <td>-1.605828</td>\n",
       "      <td>-9.275170</td>\n",
       "      <td>0.391548</td>\n",
       "      <td>1954</td>\n",
       "    </tr>\n",
       "    <tr>\n",
       "      <th>4</th>\n",
       "      <td>1954 - 1955</td>\n",
       "      <td>-0.807065</td>\n",
       "      <td>5.817452</td>\n",
       "      <td>-9.493744</td>\n",
       "      <td>4.630250</td>\n",
       "      <td>-0.889637</td>\n",
       "      <td>5.190185</td>\n",
       "      <td>0.020487</td>\n",
       "      <td>1955</td>\n",
       "    </tr>\n",
       "    <tr>\n",
       "      <th>...</th>\n",
       "      <td>...</td>\n",
       "      <td>...</td>\n",
       "      <td>...</td>\n",
       "      <td>...</td>\n",
       "      <td>...</td>\n",
       "      <td>...</td>\n",
       "      <td>...</td>\n",
       "      <td>...</td>\n",
       "      <td>...</td>\n",
       "    </tr>\n",
       "    <tr>\n",
       "      <th>58</th>\n",
       "      <td>2008 - 2009</td>\n",
       "      <td>0.748711</td>\n",
       "      <td>39.422665</td>\n",
       "      <td>2.074160</td>\n",
       "      <td>-3.728925</td>\n",
       "      <td>3.034773</td>\n",
       "      <td>3.217208</td>\n",
       "      <td>2.090652</td>\n",
       "      <td>2009</td>\n",
       "    </tr>\n",
       "    <tr>\n",
       "      <th>59</th>\n",
       "      <td>2009 - 2010</td>\n",
       "      <td>0.827455</td>\n",
       "      <td>-1.907707</td>\n",
       "      <td>4.033016</td>\n",
       "      <td>-54.343927</td>\n",
       "      <td>-0.381098</td>\n",
       "      <td>-3.343150</td>\n",
       "      <td>-2.698990</td>\n",
       "      <td>2010</td>\n",
       "    </tr>\n",
       "    <tr>\n",
       "      <th>60</th>\n",
       "      <td>2010 - 2011</td>\n",
       "      <td>-1.485719</td>\n",
       "      <td>-24.753443</td>\n",
       "      <td>0.466393</td>\n",
       "      <td>88.413154</td>\n",
       "      <td>-2.535844</td>\n",
       "      <td>-2.534748</td>\n",
       "      <td>-1.409386</td>\n",
       "      <td>2011</td>\n",
       "    </tr>\n",
       "    <tr>\n",
       "      <th>61</th>\n",
       "      <td>2011 - 2012</td>\n",
       "      <td>1.133224</td>\n",
       "      <td>14.703937</td>\n",
       "      <td>7.446836</td>\n",
       "      <td>-10.689938</td>\n",
       "      <td>0.922567</td>\n",
       "      <td>-3.805856</td>\n",
       "      <td>1.182983</td>\n",
       "      <td>2012</td>\n",
       "    </tr>\n",
       "    <tr>\n",
       "      <th>62</th>\n",
       "      <td>2012 - 2013</td>\n",
       "      <td>-1.434682</td>\n",
       "      <td>-41.997181</td>\n",
       "      <td>10.096671</td>\n",
       "      <td>-48.355280</td>\n",
       "      <td>3.134702</td>\n",
       "      <td>31.339417</td>\n",
       "      <td>0.537470</td>\n",
       "      <td>2013</td>\n",
       "    </tr>\n",
       "  </tbody>\n",
       "</table>\n",
       "<p>63 rows × 9 columns</p>\n",
       "</div>"
      ],
      "text/plain": [
       "     Year Range  % Change in Yearly Avg Temp for Brazil  \\\n",
       "0   1950 - 1951                                0.642613   \n",
       "1   1951 - 1952                                0.219110   \n",
       "2   1952 - 1953                                0.579103   \n",
       "3   1953 - 1954                               -0.114354   \n",
       "4   1954 - 1955                               -0.807065   \n",
       "..          ...                                     ...   \n",
       "58  2008 - 2009                                0.748711   \n",
       "59  2009 - 2010                                0.827455   \n",
       "60  2010 - 2011                               -1.485719   \n",
       "61  2011 - 2012                                1.133224   \n",
       "62  2012 - 2013                               -1.434682   \n",
       "\n",
       "    % Change in Yearly Avg Temp for Russia  \\\n",
       "0                                -9.859301   \n",
       "1                                22.139078   \n",
       "2                               -22.603673   \n",
       "3                                11.254860   \n",
       "4                                 5.817452   \n",
       "..                                     ...   \n",
       "58                               39.422665   \n",
       "59                               -1.907707   \n",
       "60                              -24.753443   \n",
       "61                               14.703937   \n",
       "62                              -41.997181   \n",
       "\n",
       "    % Change in Yearly Avg Temp for United States  \\\n",
       "0                                       -2.770584   \n",
       "1                                        6.687195   \n",
       "2                                        6.136256   \n",
       "3                                       -1.257378   \n",
       "4                                       -9.493744   \n",
       "..                                            ...   \n",
       "58                                       2.074160   \n",
       "59                                       4.033016   \n",
       "60                                       0.466393   \n",
       "61                                       7.446836   \n",
       "62                                      10.096671   \n",
       "\n",
       "    % Change in Yearly Avg Temp for Canada  \\\n",
       "0                                -9.402954   \n",
       "1                               -26.116382   \n",
       "2                                -0.677597   \n",
       "3                                19.418007   \n",
       "4                                 4.630250   \n",
       "..                                     ...   \n",
       "58                               -3.728925   \n",
       "59                              -54.343927   \n",
       "60                               88.413154   \n",
       "61                              -10.689938   \n",
       "62                              -48.355280   \n",
       "\n",
       "    % Change in Yearly Avg Temp for India  \\\n",
       "0                                2.372566   \n",
       "1                                0.597974   \n",
       "2                                0.804758   \n",
       "3                               -1.605828   \n",
       "4                               -0.889637   \n",
       "..                                    ...   \n",
       "58                               3.034773   \n",
       "59                              -0.381098   \n",
       "60                              -2.535844   \n",
       "61                               0.922567   \n",
       "62                               3.134702   \n",
       "\n",
       "    % Change in Yearly Avg Temp for China  \\\n",
       "0                                3.438151   \n",
       "1                               -3.327510   \n",
       "2                                5.743434   \n",
       "3                               -9.275170   \n",
       "4                                5.190185   \n",
       "..                                    ...   \n",
       "58                               3.217208   \n",
       "59                              -3.343150   \n",
       "60                              -2.534748   \n",
       "61                              -3.805856   \n",
       "62                              31.339417   \n",
       "\n",
       "    % Change in Yearly Avg Temp for Australia  Years  \n",
       "0                                    1.097802   1951  \n",
       "1                                   -0.324721   1952  \n",
       "2                                   -0.057787   1953  \n",
       "3                                    0.391548   1954  \n",
       "4                                    0.020487   1955  \n",
       "..                                        ...    ...  \n",
       "58                                   2.090652   2009  \n",
       "59                                  -2.698990   2010  \n",
       "60                                  -1.409386   2011  \n",
       "61                                   1.182983   2012  \n",
       "62                                   0.537470   2013  \n",
       "\n",
       "[63 rows x 9 columns]"
      ]
     },
     "execution_count": 111,
     "metadata": {},
     "output_type": "execute_result"
    }
   ],
   "source": [
    "# Find percent change between each year ((final-initial)/initial)x100%\n",
    "\n",
    "# make list of years (ie. Change in yearly average temperature from 1950-1951, 1951-1952, ...)\n",
    "# year_list total 64 values, years list total 63 values\n",
    "years = [] \n",
    "for i in range(len(year_list)-1):\n",
    "    label = str(year_list[i]) + ' - ' + str(year_list[i+1])\n",
    "    years.append(label)\n",
    "years\n",
    "\n",
    "# make empty df for specified countries of interest\n",
    "percent_change_df = pd.DataFrame({'Year Range': years})\n",
    "for i in range(7):\n",
    "    # get data for country at index i\n",
    "    country = countries_list[i]\n",
    "    data = countries_df[countries_df['Country']==country]\n",
    "    data = data.reset_index(drop=True)\n",
    "\n",
    "    # loop to find percent change (iterates for length of the data minus 1, ie. range(len(data))-1)\n",
    "    temp = []\n",
    "    for j in range(len(data)-1):\n",
    "        final = data['Yearly Average Temperature'][j+1]\n",
    "        initial = data['Yearly Average Temperature'][j]\n",
    "        val = (final - initial)/initial\n",
    "        val = val*100\n",
    "        temp.append(val)\n",
    "    # append new calculated data to a dataframe\n",
    "    percent_change_df['% Change in Yearly Avg Temp for ' + country] = temp\n",
    "\n",
    "percent_change_df['Years'] = year_list[1:64]\n",
    "\n",
    "# Data frame holds the percent change in yearly average temperature for the specified country/region\n",
    "percent_change_df"
   ]
  },
  {
   "cell_type": "code",
   "execution_count": 122,
   "metadata": {},
   "outputs": [
    {
     "data": {
      "application/vnd.plotly.v1+json": {
       "config": {
        "plotlyServerURL": "https://plot.ly"
       },
       "data": [
        {
         "hovertemplate": "<extra></extra>",
         "legendgroup": "",
         "line": {
          "color": "#636efa",
          "dash": "solid"
         },
         "marker": {
          "symbol": "circle"
         },
         "mode": "lines",
         "name": "",
         "orientation": "v",
         "showlegend": false,
         "type": "scatter",
         "xaxis": "x",
         "yaxis": "y"
        },
        {
         "fill": "tozeroy",
         "name": "Brazil",
         "type": "scatter",
         "x": [
          1951,
          1952,
          1953,
          1954,
          1955,
          1956,
          1957,
          1958,
          1959,
          1960,
          1961,
          1962,
          1963,
          1964,
          1965,
          1966,
          1967,
          1968,
          1969,
          1970,
          1971,
          1972,
          1973,
          1974,
          1975,
          1976,
          1977,
          1978,
          1979,
          1980,
          1981,
          1982,
          1983,
          1984,
          1985,
          1986,
          1987,
          1988,
          1989,
          1990,
          1991,
          1992,
          1993,
          1994,
          1995,
          1996,
          1997,
          1998,
          1999,
          2000,
          2001,
          2002,
          2003,
          2004,
          2005,
          2006,
          2007,
          2008,
          2009,
          2010,
          2011,
          2012,
          2013
         ],
         "y": [
          0.6426126601458316,
          0.2191095816754732,
          0.5791026758768373,
          -0.1143535357913101,
          -0.8070653262306077,
          -1.154159348017737,
          1.3163986437723694,
          1.8795590394559538,
          -0.4386297602047326,
          -1.6082176443503613,
          1.5907376982951213,
          -1.2092511524173617,
          1.3253585948716649,
          -1.7380710391016327,
          1.0097402706791332,
          0.4105988539255462,
          -0.2899975750489252,
          -1.5288309057715017,
          2.645013955848778,
          -0.36256604470111875,
          -2.312656925565575,
          1.986440999383662,
          0.28787919035223014,
          -2.3364841822967546,
          0.38748652441877046,
          0.17121379436111456,
          1.6721280526450375,
          -0.8150191652187747,
          0.06752916792030636,
          0.816484705945239,
          -0.6544589364296678,
          0.9883222537616504,
          0.477269424370153,
          -0.9500047664599057,
          -0.5744742283095307,
          0.6622428134638219,
          1.720650458265363,
          -1.5102962892936131,
          -1.2150479267065823,
          1.6223442572967146,
          0.06824948318326399,
          -0.1614465611882684,
          0.4102093618818933,
          0.39341482092559393,
          0.3918731339374583,
          -0.8475377707050232,
          0.8745157110250361,
          1.5623726415248043,
          -2.589364536684787,
          -0.3562495262639382,
          1.222061265122804,
          1.1602565568708554,
          -0.6950814588958757,
          -0.48592951094804115,
          1.213892102837644,
          -1.1198945981554733,
          0.591762354508772,
          -1.0038439561581443,
          0.7487111542548405,
          0.8274551035620985,
          -1.4857190822246595,
          1.1332243148384311,
          -1.4346818748886054
         ]
        },
        {
         "fill": "tozeroy",
         "name": "Russia",
         "type": "scatter",
         "x": [
          1951,
          1952,
          1953,
          1954,
          1955,
          1956,
          1957,
          1958,
          1959,
          1960,
          1961,
          1962,
          1963,
          1964,
          1965,
          1966,
          1967,
          1968,
          1969,
          1970,
          1971,
          1972,
          1973,
          1974,
          1975,
          1976,
          1977,
          1978,
          1979,
          1980,
          1981,
          1982,
          1983,
          1984,
          1985,
          1986,
          1987,
          1988,
          1989,
          1990,
          1991,
          1992,
          1993,
          1994,
          1995,
          1996,
          1997,
          1998,
          1999,
          2000,
          2001,
          2002,
          2003,
          2004,
          2005,
          2006,
          2007,
          2008,
          2009,
          2010,
          2011,
          2012,
          2013
         ],
         "y": [
          -9.859301409957359,
          22.139077977946652,
          -22.603673265589794,
          11.254860251425386,
          5.817452357071224,
          3.3249407582938137,
          -7.834874220597703,
          14.852486041773572,
          -21.37063467345529,
          22.672085694111964,
          -16.436433063791547,
          -10.968684900208313,
          13.40315124068307,
          15.527970980731473,
          2.101397090594833,
          6.807826320021448,
          -30.84725615796078,
          28.10596077083219,
          21.048080506895207,
          -18.3784316381954,
          -9.984759547916866,
          14.70144499949709,
          -15.230036244592554,
          17.340482388841963,
          -26.98755528129177,
          43.12679854305431,
          -6.984983971655118,
          -4.663220267247108,
          12.336890171394128,
          -8.19031220007903,
          -23.144091377269444,
          22.35668280193622,
          -22.476336826273872,
          33.96946564885492,
          4.2860965512899085,
          -11.391010354091804,
          28.243650671981197,
          -30.978376368079907,
          -5.938612527662867,
          -1.2357044947728122,
          5.321595028482642,
          15.724569270710429,
          -5.741090093305467,
          5.986188492814785,
          -36.09839914258009,
          53.67658804110539,
          -10.681865428591228,
          22.915939330462795,
          -8.546226310889494,
          -5.88194696067776,
          -1.2099435359683153,
          -8.189207244655602,
          -7.035876705406766,
          17.2392051137105,
          -22.153811916992744,
          36.16027824761177,
          -37.53761634823989,
          11.103330438923248,
          39.42266481784951,
          -1.9077067737152356,
          -24.753442586686838,
          14.703936892133573,
          -41.99718075222655
         ]
        },
        {
         "fill": "tozeroy",
         "name": "United States",
         "type": "scatter",
         "x": [
          1951,
          1952,
          1953,
          1954,
          1955,
          1956,
          1957,
          1958,
          1959,
          1960,
          1961,
          1962,
          1963,
          1964,
          1965,
          1966,
          1967,
          1968,
          1969,
          1970,
          1971,
          1972,
          1973,
          1974,
          1975,
          1976,
          1977,
          1978,
          1979,
          1980,
          1981,
          1982,
          1983,
          1984,
          1985,
          1986,
          1987,
          1988,
          1989,
          1990,
          1991,
          1992,
          1993,
          1994,
          1995,
          1996,
          1997,
          1998,
          1999,
          2000,
          2001,
          2002,
          2003,
          2004,
          2005,
          2006,
          2007,
          2008,
          2009,
          2010,
          2011,
          2012,
          2013
         ],
         "y": [
          -2.7705844412141283,
          6.6871949227220115,
          6.136256067116443,
          -1.25737769422464,
          -9.493743745959765,
          2.145666594916155,
          4.901387944328945,
          -1.711165491800255,
          -1.6146113970383433,
          -1.5079694817948344,
          -0.5781011820874727,
          3.639203887988878,
          1.3788868419583535,
          -6.479441997063137,
          1.8370951913640892,
          -1.9041745364838356,
          4.93929034539666,
          -3.9176589530442487,
          2.5438673408743306,
          -1.1154394299287473,
          -2.657673238787032,
          -0.17076300463923494,
          6.010658809337829,
          -1.3290926727354166,
          -4.366155911183378,
          2.6123828727315868,
          7.150219139816021,
          -5.592513349754584,
          -2.05490539626917,
          6.57890899192099,
          6.414536697498771,
          -12.158617497299803,
          4.365985518277796,
          -1.1351310917455133,
          -2.5441201505665,
          11.325259112612066,
          0.7183081402444571,
          -3.66459519811665,
          -4.336771364910519,
          7.308620641077419,
          -0.293193533988583,
          -4.606579825146606,
          -2.0878574846331945,
          4.545753568844131,
          0.654417316889015,
          -6.180116457685846,
          4.781441571793027,
          10.555530320236214,
          -5.661741745690026,
          0.8649524406814988,
          1.4076357764017966,
          0.3125345959617563,
          -0.6222727812961707,
          -0.8978225027976643,
          2.329109559520748,
          0.8272120762854513,
          -1.3735024311995632,
          -9.007200338839477,
          2.074159583678536,
          4.033015641388147,
          0.4663925587593163,
          7.446836359828625,
          10.096670537819548
         ]
        },
        {
         "fill": "tozeroy",
         "name": "Canada",
         "type": "scatter",
         "x": [
          1951,
          1952,
          1953,
          1954,
          1955,
          1956,
          1957,
          1958,
          1959,
          1960,
          1961,
          1962,
          1963,
          1964,
          1965,
          1966,
          1967,
          1968,
          1969,
          1970,
          1971,
          1972,
          1973,
          1974,
          1975,
          1976,
          1977,
          1978,
          1979,
          1980,
          1981,
          1982,
          1983,
          1984,
          1985,
          1986,
          1987,
          1988,
          1989,
          1990,
          1991,
          1992,
          1993,
          1994,
          1995,
          1996,
          1997,
          1998,
          1999,
          2000,
          2001,
          2002,
          2003,
          2004,
          2005,
          2006,
          2007,
          2008,
          2009,
          2010,
          2011,
          2012,
          2013
         ],
         "y": [
          -9.402953734163944,
          -26.116381841218804,
          -0.6775974569181897,
          19.41800724332519,
          4.630250026448498,
          13.60465116279069,
          -10.855472979989026,
          -14.889757883351344,
          22.65822042348522,
          -15.707090028054049,
          15.006996709655438,
          -3.834391134203697,
          -5.37051602092807,
          18.319631403017446,
          1.093396860301722,
          -6.803625377643498,
          2.737616701244825,
          -12.047014277825976,
          -3.0870508888051864,
          13.344932257348036,
          -4.577223292726728,
          39.70223325062035,
          -38.56311631040608,
          34.97029150217329,
          -12.32771483018922,
          -3.1391116802588055,
          -19.824301991823965,
          38.006899694070185,
          -5.56079615130649,
          -11.763139056751406,
          -35.084806520385634,
          104.9059784346209,
          -19.121443363308853,
          -2.4727731888251636,
          5.759651867436265,
          -1.1680892304553299,
          -30.97871901181894,
          23.384845463609157,
          22.984929901822166,
          -1.0134691195794963,
          -11.853044156447572,
          11.346009036144581,
          -10.700458180465615,
          0.7308114657881633,
          -2.6915269528606913,
          14.529089082901967,
          -14.362330083988253,
          -39.64512190318644,
          24.762619505987548,
          26.34951354744221,
          -22.99683301939518,
          40.73277600064518,
          -11.536845322229428,
          27.55754199594074,
          -32.79110313658447,
          -25.646643999496288,
          65.06672989634849,
          5.770454125710543,
          -3.7289253632889126,
          -54.34392696640534,
          88.41315382917676,
          -10.68993791730114,
          -48.355280415508105
         ]
        },
        {
         "fill": "tozeroy",
         "name": "India",
         "type": "scatter",
         "x": [
          1951,
          1952,
          1953,
          1954,
          1955,
          1956,
          1957,
          1958,
          1959,
          1960,
          1961,
          1962,
          1963,
          1964,
          1965,
          1966,
          1967,
          1968,
          1969,
          1970,
          1971,
          1972,
          1973,
          1974,
          1975,
          1976,
          1977,
          1978,
          1979,
          1980,
          1981,
          1982,
          1983,
          1984,
          1985,
          1986,
          1987,
          1988,
          1989,
          1990,
          1991,
          1992,
          1993,
          1994,
          1995,
          1996,
          1997,
          1998,
          1999,
          2000,
          2001,
          2002,
          2003,
          2004,
          2005,
          2006,
          2007,
          2008,
          2009,
          2010,
          2011,
          2012,
          2013
         ],
         "y": [
          2.3725661472568977,
          0.5979741818281809,
          0.8047580937527672,
          -1.6058275287627422,
          -0.889636766135858,
          -0.21918685157223905,
          0.5303421247158163,
          2.705008723037488,
          -1.6594847964986608,
          0.0837906333061045,
          -1.943070071299666,
          0.29182981492951554,
          0.8834088696762517,
          -0.10479026384320791,
          0.08482028485768645,
          1.4431442002691282,
          -1.8270289808124458,
          -0.5307306229485539,
          2.6667644398816748,
          -1.7431142734699663,
          -1.8280377584470036,
          2.7002059180277005,
          0.47139041288717604,
          -0.864546420675289,
          -1.297098676704275,
          1.4140235938340302,
          0.3691523614387407,
          -1.1593079147896836,
          2.275346421926651,
          0.16087264927386827,
          -1.4828017362605548,
          -0.04196174602135828,
          -1.1571851805972864,
          1.032180354805466,
          1.2456024891375868,
          -0.783430212771743,
          2.035783133356649,
          -0.24742073964008404,
          -2.2865673854947075,
          0.06552899140536936,
          0.5524957089385081,
          -0.3653925913738856,
          0.7668358131934387,
          -0.45987763908992424,
          0.5487777690125607,
          0.02933581664432319,
          -1.5942409537482605,
          2.9445399351279473,
          -0.3861107838351895,
          -0.6562628836366712,
          0.3425449696573887,
          1.3468572765210147,
          -1.0560082420155654,
          -0.062204402313722866,
          -0.5649239720582425,
          0.9661671401112367,
          -0.332227033037395,
          -0.9895232911537784,
          3.034772870059272,
          -0.38109756097560227,
          -2.535843784305257,
          0.9225665302556194,
          3.1347018837295884
         ]
        },
        {
         "fill": "tozeroy",
         "name": "China",
         "type": "scatter",
         "x": [
          1951,
          1952,
          1953,
          1954,
          1955,
          1956,
          1957,
          1958,
          1959,
          1960,
          1961,
          1962,
          1963,
          1964,
          1965,
          1966,
          1967,
          1968,
          1969,
          1970,
          1971,
          1972,
          1973,
          1974,
          1975,
          1976,
          1977,
          1978,
          1979,
          1980,
          1981,
          1982,
          1983,
          1984,
          1985,
          1986,
          1987,
          1988,
          1989,
          1990,
          1991,
          1992,
          1993,
          1994,
          1995,
          1996,
          1997,
          1998,
          1999,
          2000,
          2001,
          2002,
          2003,
          2004,
          2005,
          2006,
          2007,
          2008,
          2009,
          2010,
          2011,
          2012,
          2013
         ],
         "y": [
          3.4381509272969133,
          -3.327510493243086,
          5.743434013878604,
          -9.275169696682005,
          5.190184691047977,
          -6.003481720964942,
          1.4075563551698735,
          10.106188687121662,
          0.08648981671268077,
          -2.113026184951935,
          2.3170598976914016,
          -4.920396657486961,
          5.203619909502248,
          -4.344794989956263,
          0.7979938976937243,
          2.383607642250505,
          -8.035286794982282,
          5.066965157293286,
          -4.028541697636389,
          1.7374019000412961,
          4.233804460909953,
          -0.4649747428640958,
          5.7989801034571276,
          -7.631046639311115,
          6.629709809417748,
          -8.868573306263283,
          5.874777860767008,
          2.8729201128734045,
          0.36770791458771357,
          -1.7528772868098417,
          -0.34052349492210493,
          3.2243704657290233,
          -3.1423010128559166,
          -5.879592303341745,
          3.4111104008182838,
          1.9274754892869783,
          5.514179665704378,
          -0.3885593415183796,
          0.2619734564339423,
          5.473255291964504,
          -7.056486816832552,
          -3.3640185050372153,
          0.8894181115660797,
          8.332831524815413,
          -3.794245819992878,
          -3.4516229676792944,
          5.811949444657217,
          9.29101438783819,
          -2.627765933224308,
          -7.680452366527435,
          4.950666037279667,
          2.622947222923079,
          -3.510497284816347,
          2.535894708854034,
          -3.8799390619428844,
          7.209819923113245,
          2.2489934574735666,
          -6.899026876262532,
          3.2172083750949834,
          -3.343150436434249,
          -2.534747905189845,
          -3.805856034433927,
          31.339417132764204
         ]
        },
        {
         "fill": "tozeroy",
         "name": "Australia",
         "type": "scatter",
         "x": [
          1951,
          1952,
          1953,
          1954,
          1955,
          1956,
          1957,
          1958,
          1959,
          1960,
          1961,
          1962,
          1963,
          1964,
          1965,
          1966,
          1967,
          1968,
          1969,
          1970,
          1971,
          1972,
          1973,
          1974,
          1975,
          1976,
          1977,
          1978,
          1979,
          1980,
          1981,
          1982,
          1983,
          1984,
          1985,
          1986,
          1987,
          1988,
          1989,
          1990,
          1991,
          1992,
          1993,
          1994,
          1995,
          1996,
          1997,
          1998,
          1999,
          2000,
          2001,
          2002,
          2003,
          2004,
          2005,
          2006,
          2007,
          2008,
          2009,
          2010,
          2011,
          2012,
          2013
         ],
         "y": [
          1.097801660967257,
          -0.32472050841954025,
          -0.05778687888801016,
          0.391548148004435,
          0.02048673387344952,
          -2.5835049873046816,
          4.268621663651646,
          0.4318347841967621,
          0.45876946739554514,
          -4.016924480914712,
          3.5536644586407853,
          -0.734526939610224,
          -0.4819691555028936,
          -0.21699555255132916,
          2.0384205320062017,
          -3.309254823560464,
          1.2378477911458363,
          -0.7548987495423884,
          1.7957957025152844,
          -0.32879303965732637,
          -0.5575774274900681,
          1.6520942690454703,
          1.8202123833500512,
          -5.241064423895643,
          2.1404159979910578,
          -2.3014690064230616,
          3.298587218515171,
          -1.3124738304594394,
          2.995425476930691,
          1.5002172056862844,
          -1.868769231904499,
          -1.1441182995010615,
          1.600069981667827,
          -3.3429040964613055,
          2.4469119258877976,
          0.2260690077536319,
          -0.09429727782617835,
          2.526531983735337,
          -3.3903984740076845,
          2.254587313324758,
          0.5889610801099103,
          -2.4673057895341524,
          1.0376494636974594,
          -0.5862621370176367,
          -0.3408192523159376,
          1.686011644943101,
          -1.0720258002866752,
          2.6208155996256997,
          -2.6487436483833178,
          -1.6081639435896202,
          0.38270202214068005,
          3.065621976727711,
          -0.09126998849849031,
          -0.683664829696537,
          2.736657904675032,
          -2.762026772261089,
          0.9986039008432815,
          -1.1599423364129282,
          2.0906524290336703,
          -2.69899040350807,
          -1.409386346994384,
          1.1829834152616359,
          0.5374696360870863
         ]
        }
       ],
       "layout": {
        "legend": {
         "tracegroupgap": 0
        },
        "margin": {
         "t": 60
        },
        "shapes": [
         {
          "line": {
           "color": "black",
           "dash": "dash",
           "width": 0.5
          },
          "type": "line",
          "x0": 0,
          "x1": 1,
          "xref": "x domain",
          "y0": 0,
          "y1": 0,
          "yref": "y"
         }
        ],
        "template": {
         "data": {
          "bar": [
           {
            "error_x": {
             "color": "#2a3f5f"
            },
            "error_y": {
             "color": "#2a3f5f"
            },
            "marker": {
             "line": {
              "color": "#E5ECF6",
              "width": 0.5
             },
             "pattern": {
              "fillmode": "overlay",
              "size": 10,
              "solidity": 0.2
             }
            },
            "type": "bar"
           }
          ],
          "barpolar": [
           {
            "marker": {
             "line": {
              "color": "#E5ECF6",
              "width": 0.5
             },
             "pattern": {
              "fillmode": "overlay",
              "size": 10,
              "solidity": 0.2
             }
            },
            "type": "barpolar"
           }
          ],
          "carpet": [
           {
            "aaxis": {
             "endlinecolor": "#2a3f5f",
             "gridcolor": "white",
             "linecolor": "white",
             "minorgridcolor": "white",
             "startlinecolor": "#2a3f5f"
            },
            "baxis": {
             "endlinecolor": "#2a3f5f",
             "gridcolor": "white",
             "linecolor": "white",
             "minorgridcolor": "white",
             "startlinecolor": "#2a3f5f"
            },
            "type": "carpet"
           }
          ],
          "choropleth": [
           {
            "colorbar": {
             "outlinewidth": 0,
             "ticks": ""
            },
            "type": "choropleth"
           }
          ],
          "contour": [
           {
            "colorbar": {
             "outlinewidth": 0,
             "ticks": ""
            },
            "colorscale": [
             [
              0,
              "#0d0887"
             ],
             [
              0.1111111111111111,
              "#46039f"
             ],
             [
              0.2222222222222222,
              "#7201a8"
             ],
             [
              0.3333333333333333,
              "#9c179e"
             ],
             [
              0.4444444444444444,
              "#bd3786"
             ],
             [
              0.5555555555555556,
              "#d8576b"
             ],
             [
              0.6666666666666666,
              "#ed7953"
             ],
             [
              0.7777777777777778,
              "#fb9f3a"
             ],
             [
              0.8888888888888888,
              "#fdca26"
             ],
             [
              1,
              "#f0f921"
             ]
            ],
            "type": "contour"
           }
          ],
          "contourcarpet": [
           {
            "colorbar": {
             "outlinewidth": 0,
             "ticks": ""
            },
            "type": "contourcarpet"
           }
          ],
          "heatmap": [
           {
            "colorbar": {
             "outlinewidth": 0,
             "ticks": ""
            },
            "colorscale": [
             [
              0,
              "#0d0887"
             ],
             [
              0.1111111111111111,
              "#46039f"
             ],
             [
              0.2222222222222222,
              "#7201a8"
             ],
             [
              0.3333333333333333,
              "#9c179e"
             ],
             [
              0.4444444444444444,
              "#bd3786"
             ],
             [
              0.5555555555555556,
              "#d8576b"
             ],
             [
              0.6666666666666666,
              "#ed7953"
             ],
             [
              0.7777777777777778,
              "#fb9f3a"
             ],
             [
              0.8888888888888888,
              "#fdca26"
             ],
             [
              1,
              "#f0f921"
             ]
            ],
            "type": "heatmap"
           }
          ],
          "heatmapgl": [
           {
            "colorbar": {
             "outlinewidth": 0,
             "ticks": ""
            },
            "colorscale": [
             [
              0,
              "#0d0887"
             ],
             [
              0.1111111111111111,
              "#46039f"
             ],
             [
              0.2222222222222222,
              "#7201a8"
             ],
             [
              0.3333333333333333,
              "#9c179e"
             ],
             [
              0.4444444444444444,
              "#bd3786"
             ],
             [
              0.5555555555555556,
              "#d8576b"
             ],
             [
              0.6666666666666666,
              "#ed7953"
             ],
             [
              0.7777777777777778,
              "#fb9f3a"
             ],
             [
              0.8888888888888888,
              "#fdca26"
             ],
             [
              1,
              "#f0f921"
             ]
            ],
            "type": "heatmapgl"
           }
          ],
          "histogram": [
           {
            "marker": {
             "pattern": {
              "fillmode": "overlay",
              "size": 10,
              "solidity": 0.2
             }
            },
            "type": "histogram"
           }
          ],
          "histogram2d": [
           {
            "colorbar": {
             "outlinewidth": 0,
             "ticks": ""
            },
            "colorscale": [
             [
              0,
              "#0d0887"
             ],
             [
              0.1111111111111111,
              "#46039f"
             ],
             [
              0.2222222222222222,
              "#7201a8"
             ],
             [
              0.3333333333333333,
              "#9c179e"
             ],
             [
              0.4444444444444444,
              "#bd3786"
             ],
             [
              0.5555555555555556,
              "#d8576b"
             ],
             [
              0.6666666666666666,
              "#ed7953"
             ],
             [
              0.7777777777777778,
              "#fb9f3a"
             ],
             [
              0.8888888888888888,
              "#fdca26"
             ],
             [
              1,
              "#f0f921"
             ]
            ],
            "type": "histogram2d"
           }
          ],
          "histogram2dcontour": [
           {
            "colorbar": {
             "outlinewidth": 0,
             "ticks": ""
            },
            "colorscale": [
             [
              0,
              "#0d0887"
             ],
             [
              0.1111111111111111,
              "#46039f"
             ],
             [
              0.2222222222222222,
              "#7201a8"
             ],
             [
              0.3333333333333333,
              "#9c179e"
             ],
             [
              0.4444444444444444,
              "#bd3786"
             ],
             [
              0.5555555555555556,
              "#d8576b"
             ],
             [
              0.6666666666666666,
              "#ed7953"
             ],
             [
              0.7777777777777778,
              "#fb9f3a"
             ],
             [
              0.8888888888888888,
              "#fdca26"
             ],
             [
              1,
              "#f0f921"
             ]
            ],
            "type": "histogram2dcontour"
           }
          ],
          "mesh3d": [
           {
            "colorbar": {
             "outlinewidth": 0,
             "ticks": ""
            },
            "type": "mesh3d"
           }
          ],
          "parcoords": [
           {
            "line": {
             "colorbar": {
              "outlinewidth": 0,
              "ticks": ""
             }
            },
            "type": "parcoords"
           }
          ],
          "pie": [
           {
            "automargin": true,
            "type": "pie"
           }
          ],
          "scatter": [
           {
            "fillpattern": {
             "fillmode": "overlay",
             "size": 10,
             "solidity": 0.2
            },
            "type": "scatter"
           }
          ],
          "scatter3d": [
           {
            "line": {
             "colorbar": {
              "outlinewidth": 0,
              "ticks": ""
             }
            },
            "marker": {
             "colorbar": {
              "outlinewidth": 0,
              "ticks": ""
             }
            },
            "type": "scatter3d"
           }
          ],
          "scattercarpet": [
           {
            "marker": {
             "colorbar": {
              "outlinewidth": 0,
              "ticks": ""
             }
            },
            "type": "scattercarpet"
           }
          ],
          "scattergeo": [
           {
            "marker": {
             "colorbar": {
              "outlinewidth": 0,
              "ticks": ""
             }
            },
            "type": "scattergeo"
           }
          ],
          "scattergl": [
           {
            "marker": {
             "colorbar": {
              "outlinewidth": 0,
              "ticks": ""
             }
            },
            "type": "scattergl"
           }
          ],
          "scattermapbox": [
           {
            "marker": {
             "colorbar": {
              "outlinewidth": 0,
              "ticks": ""
             }
            },
            "type": "scattermapbox"
           }
          ],
          "scatterpolar": [
           {
            "marker": {
             "colorbar": {
              "outlinewidth": 0,
              "ticks": ""
             }
            },
            "type": "scatterpolar"
           }
          ],
          "scatterpolargl": [
           {
            "marker": {
             "colorbar": {
              "outlinewidth": 0,
              "ticks": ""
             }
            },
            "type": "scatterpolargl"
           }
          ],
          "scatterternary": [
           {
            "marker": {
             "colorbar": {
              "outlinewidth": 0,
              "ticks": ""
             }
            },
            "type": "scatterternary"
           }
          ],
          "surface": [
           {
            "colorbar": {
             "outlinewidth": 0,
             "ticks": ""
            },
            "colorscale": [
             [
              0,
              "#0d0887"
             ],
             [
              0.1111111111111111,
              "#46039f"
             ],
             [
              0.2222222222222222,
              "#7201a8"
             ],
             [
              0.3333333333333333,
              "#9c179e"
             ],
             [
              0.4444444444444444,
              "#bd3786"
             ],
             [
              0.5555555555555556,
              "#d8576b"
             ],
             [
              0.6666666666666666,
              "#ed7953"
             ],
             [
              0.7777777777777778,
              "#fb9f3a"
             ],
             [
              0.8888888888888888,
              "#fdca26"
             ],
             [
              1,
              "#f0f921"
             ]
            ],
            "type": "surface"
           }
          ],
          "table": [
           {
            "cells": {
             "fill": {
              "color": "#EBF0F8"
             },
             "line": {
              "color": "white"
             }
            },
            "header": {
             "fill": {
              "color": "#C8D4E3"
             },
             "line": {
              "color": "white"
             }
            },
            "type": "table"
           }
          ]
         },
         "layout": {
          "annotationdefaults": {
           "arrowcolor": "#2a3f5f",
           "arrowhead": 0,
           "arrowwidth": 1
          },
          "autotypenumbers": "strict",
          "coloraxis": {
           "colorbar": {
            "outlinewidth": 0,
            "ticks": ""
           }
          },
          "colorscale": {
           "diverging": [
            [
             0,
             "#8e0152"
            ],
            [
             0.1,
             "#c51b7d"
            ],
            [
             0.2,
             "#de77ae"
            ],
            [
             0.3,
             "#f1b6da"
            ],
            [
             0.4,
             "#fde0ef"
            ],
            [
             0.5,
             "#f7f7f7"
            ],
            [
             0.6,
             "#e6f5d0"
            ],
            [
             0.7,
             "#b8e186"
            ],
            [
             0.8,
             "#7fbc41"
            ],
            [
             0.9,
             "#4d9221"
            ],
            [
             1,
             "#276419"
            ]
           ],
           "sequential": [
            [
             0,
             "#0d0887"
            ],
            [
             0.1111111111111111,
             "#46039f"
            ],
            [
             0.2222222222222222,
             "#7201a8"
            ],
            [
             0.3333333333333333,
             "#9c179e"
            ],
            [
             0.4444444444444444,
             "#bd3786"
            ],
            [
             0.5555555555555556,
             "#d8576b"
            ],
            [
             0.6666666666666666,
             "#ed7953"
            ],
            [
             0.7777777777777778,
             "#fb9f3a"
            ],
            [
             0.8888888888888888,
             "#fdca26"
            ],
            [
             1,
             "#f0f921"
            ]
           ],
           "sequentialminus": [
            [
             0,
             "#0d0887"
            ],
            [
             0.1111111111111111,
             "#46039f"
            ],
            [
             0.2222222222222222,
             "#7201a8"
            ],
            [
             0.3333333333333333,
             "#9c179e"
            ],
            [
             0.4444444444444444,
             "#bd3786"
            ],
            [
             0.5555555555555556,
             "#d8576b"
            ],
            [
             0.6666666666666666,
             "#ed7953"
            ],
            [
             0.7777777777777778,
             "#fb9f3a"
            ],
            [
             0.8888888888888888,
             "#fdca26"
            ],
            [
             1,
             "#f0f921"
            ]
           ]
          },
          "colorway": [
           "#636efa",
           "#EF553B",
           "#00cc96",
           "#ab63fa",
           "#FFA15A",
           "#19d3f3",
           "#FF6692",
           "#B6E880",
           "#FF97FF",
           "#FECB52"
          ],
          "font": {
           "color": "#2a3f5f"
          },
          "geo": {
           "bgcolor": "white",
           "lakecolor": "white",
           "landcolor": "#E5ECF6",
           "showlakes": true,
           "showland": true,
           "subunitcolor": "white"
          },
          "hoverlabel": {
           "align": "left"
          },
          "hovermode": "closest",
          "mapbox": {
           "style": "light"
          },
          "paper_bgcolor": "white",
          "plot_bgcolor": "#E5ECF6",
          "polar": {
           "angularaxis": {
            "gridcolor": "white",
            "linecolor": "white",
            "ticks": ""
           },
           "bgcolor": "#E5ECF6",
           "radialaxis": {
            "gridcolor": "white",
            "linecolor": "white",
            "ticks": ""
           }
          },
          "scene": {
           "xaxis": {
            "backgroundcolor": "#E5ECF6",
            "gridcolor": "white",
            "gridwidth": 2,
            "linecolor": "white",
            "showbackground": true,
            "ticks": "",
            "zerolinecolor": "white"
           },
           "yaxis": {
            "backgroundcolor": "#E5ECF6",
            "gridcolor": "white",
            "gridwidth": 2,
            "linecolor": "white",
            "showbackground": true,
            "ticks": "",
            "zerolinecolor": "white"
           },
           "zaxis": {
            "backgroundcolor": "#E5ECF6",
            "gridcolor": "white",
            "gridwidth": 2,
            "linecolor": "white",
            "showbackground": true,
            "ticks": "",
            "zerolinecolor": "white"
           }
          },
          "shapedefaults": {
           "line": {
            "color": "#2a3f5f"
           }
          },
          "ternary": {
           "aaxis": {
            "gridcolor": "white",
            "linecolor": "white",
            "ticks": ""
           },
           "baxis": {
            "gridcolor": "white",
            "linecolor": "white",
            "ticks": ""
           },
           "bgcolor": "#E5ECF6",
           "caxis": {
            "gridcolor": "white",
            "linecolor": "white",
            "ticks": ""
           }
          },
          "title": {
           "x": 0.05
          },
          "xaxis": {
           "automargin": true,
           "gridcolor": "white",
           "linecolor": "white",
           "ticks": "",
           "title": {
            "standoff": 15
           },
           "zerolinecolor": "white",
           "zerolinewidth": 2
          },
          "yaxis": {
           "automargin": true,
           "gridcolor": "white",
           "linecolor": "white",
           "ticks": "",
           "title": {
            "standoff": 15
           },
           "zerolinecolor": "white",
           "zerolinewidth": 2
          }
         }
        },
        "title": {
         "text": "Percent Change in Yearly Average Temperature"
        },
        "xaxis": {
         "anchor": "y",
         "domain": [
          0,
          1
         ],
         "title": {
          "text": "Year"
         }
        },
        "yaxis": {
         "anchor": "x",
         "domain": [
          0,
          1
         ],
         "title": {
          "text": "Change in Temperature (%)"
         }
        }
       }
      }
     },
     "metadata": {},
     "output_type": "display_data"
    }
   ],
   "source": [
    "# Draw the lie plot (fill area for easier visualization)\n",
    "fig5 = px.line()\n",
    "fig5_x = percent_change_df['Years']\n",
    "fig5_y_Brazil = percent_change_df['% Change in Yearly Avg Temp for Brazil']\n",
    "fig5_y_Russia = percent_change_df['% Change in Yearly Avg Temp for Russia']\n",
    "fig5_y_United_States = percent_change_df['% Change in Yearly Avg Temp for United States']\n",
    "fig5_y_Canada = percent_change_df['% Change in Yearly Avg Temp for Canada']\n",
    "fig5_y_India = percent_change_df['% Change in Yearly Avg Temp for India']\n",
    "fig5_y_China = percent_change_df['% Change in Yearly Avg Temp for China']\n",
    "fig5_y_Australia = percent_change_df['% Change in Yearly Avg Temp for Australia']\n",
    "\n",
    "\n",
    "# Add filled areas for Area 1 and Area 2\n",
    "fig5.add_trace(go.Scatter(x=fig5_x, y=fig5_y_Brazil, fill='tozeroy', name='Brazil'))\n",
    "fig5.add_trace(go.Scatter(x=fig5_x, y=fig5_y_Russia, fill='tozeroy', name='Russia'))\n",
    "fig5.add_trace(go.Scatter(x=fig5_x, y=fig5_y_United_States, fill='tozeroy', name='United States'))\n",
    "fig5.add_trace(go.Scatter(x=fig5_x, y=fig5_y_Canada, fill='tozeroy', name='Canada'))\n",
    "fig5.add_trace(go.Scatter(x=fig5_x, y=fig5_y_India, fill='tozeroy', name='India'))\n",
    "fig5.add_trace(go.Scatter(x=fig5_x, y=fig5_y_China, fill='tozeroy', name='China'))\n",
    "fig5.add_trace(go.Scatter(x=fig5_x, y=fig5_y_Australia, fill='tozeroy', name='Australia'))\n",
    "\n",
    "# Add a horizontal line at y=0\n",
    "fig5.add_hline(y=0, line=dict(color='black', width=0.5, dash='dash'))\n",
    "\n",
    "# Update layout with axis labels and title\n",
    "fig5.update_layout(xaxis_title='Year', yaxis_title='Change in Temperature (%)', title='Percent Change in Yearly Average Temperature')\n",
    "\n",
    "# Show the plot\n",
    "fig5.show()\n",
    "\n",
    "# Graph is interactive: click, hold and drag the box to zom in and get a closer view of the graph!"
   ]
  },
  {
   "cell_type": "markdown",
   "metadata": {},
   "source": [
    "Each drastic change shows a shift in the specified country's temperature, such that positive values indicate an increase in yearly average temperature and negative values indicate a decrease in yearly average temperature. <br> <br>\n",
    "An example is the peek for Canada in 1982, which was when Canada had a tropical cyclone sweep in, causing a great rise in temperatures and a subtropical storm. (https://www.ec.gc.ca/ouragans-hurricanes/default.asp?lang=en&n=98CAD67D-1) The two negative peeks we see the few years after is the result of Canada's atmospheric temperature \"readjusting\" itself after the drastic change. <br> <br>\n",
    "The surrounding ocean aids in readjusting atmospheric (land and ocean) temperatures to regulate changes and maintain a sort of homeostasis."
   ]
  },
  {
   "cell_type": "markdown",
   "metadata": {},
   "source": [
    "# Population & Air Pollution"
   ]
  },
  {
   "cell_type": "code",
   "execution_count": 92,
   "metadata": {},
   "outputs": [
    {
     "data": {
      "text/html": [
       "<div>\n",
       "<style scoped>\n",
       "    .dataframe tbody tr th:only-of-type {\n",
       "        vertical-align: middle;\n",
       "    }\n",
       "\n",
       "    .dataframe tbody tr th {\n",
       "        vertical-align: top;\n",
       "    }\n",
       "\n",
       "    .dataframe thead th {\n",
       "        text-align: right;\n",
       "    }\n",
       "</style>\n",
       "<table border=\"1\" class=\"dataframe\">\n",
       "  <thead>\n",
       "    <tr style=\"text-align: right;\">\n",
       "      <th></th>\n",
       "      <th>Country</th>\n",
       "      <th>Year</th>\n",
       "      <th>Yearly Average Temperature</th>\n",
       "    </tr>\n",
       "  </thead>\n",
       "  <tbody>\n",
       "    <tr>\n",
       "      <th>0</th>\n",
       "      <td>Afghanistan</td>\n",
       "      <td>1950</td>\n",
       "      <td>13.043500</td>\n",
       "    </tr>\n",
       "    <tr>\n",
       "      <th>1</th>\n",
       "      <td>Africa</td>\n",
       "      <td>1950</td>\n",
       "      <td>23.880833</td>\n",
       "    </tr>\n",
       "    <tr>\n",
       "      <th>2</th>\n",
       "      <td>Albania</td>\n",
       "      <td>1950</td>\n",
       "      <td>13.812833</td>\n",
       "    </tr>\n",
       "    <tr>\n",
       "      <th>3</th>\n",
       "      <td>Algeria</td>\n",
       "      <td>1950</td>\n",
       "      <td>22.781833</td>\n",
       "    </tr>\n",
       "    <tr>\n",
       "      <th>4</th>\n",
       "      <td>American Samoa</td>\n",
       "      <td>1950</td>\n",
       "      <td>26.520083</td>\n",
       "    </tr>\n",
       "  </tbody>\n",
       "</table>\n",
       "</div>"
      ],
      "text/plain": [
       "          Country  Year  Yearly Average Temperature\n",
       "0     Afghanistan  1950                   13.043500\n",
       "1          Africa  1950                   23.880833\n",
       "2         Albania  1950                   13.812833\n",
       "3         Algeria  1950                   22.781833\n",
       "4  American Samoa  1950                   26.520083"
      ]
     },
     "execution_count": 92,
     "metadata": {},
     "output_type": "execute_result"
    }
   ],
   "source": [
    "# Read CSV fie\n",
    "countries_df = pd.read_csv(\"Cleaned Data/Countries.csv\")\n",
    "countries_df.head()"
   ]
  },
  {
   "cell_type": "code",
   "execution_count": 94,
   "metadata": {},
   "outputs": [
    {
     "data": {
      "text/html": [
       "<div>\n",
       "<style scoped>\n",
       "    .dataframe tbody tr th:only-of-type {\n",
       "        vertical-align: middle;\n",
       "    }\n",
       "\n",
       "    .dataframe tbody tr th {\n",
       "        vertical-align: top;\n",
       "    }\n",
       "\n",
       "    .dataframe thead th {\n",
       "        text-align: right;\n",
       "    }\n",
       "</style>\n",
       "<table border=\"1\" class=\"dataframe\">\n",
       "  <thead>\n",
       "    <tr style=\"text-align: right;\">\n",
       "      <th></th>\n",
       "      <th>Country</th>\n",
       "      <th>Year</th>\n",
       "      <th>Yearly Average Temperature</th>\n",
       "    </tr>\n",
       "  </thead>\n",
       "  <tbody>\n",
       "    <tr>\n",
       "      <th>15276</th>\n",
       "      <td>Brazil</td>\n",
       "      <td>2013</td>\n",
       "      <td>25.348125</td>\n",
       "    </tr>\n",
       "    <tr>\n",
       "      <th>15330</th>\n",
       "      <td>Germany</td>\n",
       "      <td>2013</td>\n",
       "      <td>9.235250</td>\n",
       "    </tr>\n",
       "    <tr>\n",
       "      <th>15348</th>\n",
       "      <td>India</td>\n",
       "      <td>2013</td>\n",
       "      <td>25.413250</td>\n",
       "    </tr>\n",
       "    <tr>\n",
       "      <th>15447</th>\n",
       "      <td>South Africa</td>\n",
       "      <td>2013</td>\n",
       "      <td>17.325375</td>\n",
       "    </tr>\n",
       "    <tr>\n",
       "      <th>15477</th>\n",
       "      <td>United States</td>\n",
       "      <td>2013</td>\n",
       "      <td>11.297111</td>\n",
       "    </tr>\n",
       "  </tbody>\n",
       "</table>\n",
       "</div>"
      ],
      "text/plain": [
       "             Country  Year  Yearly Average Temperature\n",
       "15276         Brazil  2013                   25.348125\n",
       "15330        Germany  2013                    9.235250\n",
       "15348          India  2013                   25.413250\n",
       "15447   South Africa  2013                   17.325375\n",
       "15477  United States  2013                   11.297111"
      ]
     },
     "execution_count": 94,
     "metadata": {},
     "output_type": "execute_result"
    }
   ],
   "source": [
    "selected_countries = ['South Africa', 'India', 'Germany', 'United States', 'Brazil', 'Australia']\n",
    "\n",
    "# Filter the DataFrame\n",
    "selected_countries_df = countries_df[(countries_df['Country'].isin(selected_countries)) & (countries_df['Year'] >= 1973)]\n",
    "\n",
    "# Display the filtered DataFrame\n",
    "selected_countries_df.tail()"
   ]
  },
  {
   "cell_type": "code",
   "execution_count": 95,
   "metadata": {},
   "outputs": [
    {
     "data": {
      "text/html": [
       "<div>\n",
       "<style scoped>\n",
       "    .dataframe tbody tr th:only-of-type {\n",
       "        vertical-align: middle;\n",
       "    }\n",
       "\n",
       "    .dataframe tbody tr th {\n",
       "        vertical-align: top;\n",
       "    }\n",
       "\n",
       "    .dataframe thead th {\n",
       "        text-align: right;\n",
       "    }\n",
       "</style>\n",
       "<table border=\"1\" class=\"dataframe\">\n",
       "  <thead>\n",
       "    <tr style=\"text-align: right;\">\n",
       "      <th></th>\n",
       "      <th>Country</th>\n",
       "      <th>Year</th>\n",
       "      <th>Population</th>\n",
       "    </tr>\n",
       "  </thead>\n",
       "  <tbody>\n",
       "    <tr>\n",
       "      <th>295</th>\n",
       "      <td>South Africa</td>\n",
       "      <td>2022</td>\n",
       "      <td>59893885</td>\n",
       "    </tr>\n",
       "    <tr>\n",
       "      <th>296</th>\n",
       "      <td>India</td>\n",
       "      <td>2022</td>\n",
       "      <td>1417173173</td>\n",
       "    </tr>\n",
       "    <tr>\n",
       "      <th>297</th>\n",
       "      <td>Germany</td>\n",
       "      <td>2022</td>\n",
       "      <td>83797985</td>\n",
       "    </tr>\n",
       "    <tr>\n",
       "      <th>298</th>\n",
       "      <td>Brazil</td>\n",
       "      <td>2022</td>\n",
       "      <td>215313498</td>\n",
       "    </tr>\n",
       "    <tr>\n",
       "      <th>299</th>\n",
       "      <td>Australia</td>\n",
       "      <td>2022</td>\n",
       "      <td>26005540</td>\n",
       "    </tr>\n",
       "  </tbody>\n",
       "</table>\n",
       "</div>"
      ],
      "text/plain": [
       "          Country  Year  Population\n",
       "295  South Africa  2022    59893885\n",
       "296         India  2022  1417173173\n",
       "297       Germany  2022    83797985\n",
       "298        Brazil  2022   215313498\n",
       "299     Australia  2022    26005540"
      ]
     },
     "execution_count": 95,
     "metadata": {},
     "output_type": "execute_result"
    }
   ],
   "source": [
    "# Read the \"population\" CSV file\n",
    "population_df = pd.read_csv('Cleaned Data/Clean_population.csv')\n",
    "\n",
    "population_df.tail()"
   ]
  },
  {
   "cell_type": "code",
   "execution_count": 17,
   "metadata": {},
   "outputs": [
    {
     "name": "stdout",
     "output_type": "stream",
     "text": [
      "           Country  Year  Yearly Average Temperature  Population\n",
      "0        Australia  1973                   22.412750    13380000\n",
      "1           Brazil  1973                   25.169583   103666904\n",
      "2          Germany  1973                    8.402833    78936666\n",
      "3            India  1973                   24.386583   596107483\n",
      "4     South Africa  1973                   17.584417    24382513\n",
      "..             ...   ...                         ...         ...\n",
      "241         Brazil  2013                   25.348125   201721767\n",
      "242        Germany  2013                    9.235250    80645605\n",
      "243          India  2013                   25.413250  1291132063\n",
      "244   South Africa  2013                   17.325375    53873616\n",
      "245  United States  2013                   11.297111   316059947\n",
      "\n",
      "[246 rows x 4 columns]\n"
     ]
    },
    {
     "data": {
      "application/vnd.plotly.v1+json": {
       "config": {
        "plotlyServerURL": "https://plot.ly"
       },
       "data": [
        {
         "customdata": [
          [
           1973,
           "Australia"
          ]
         ],
         "hovertemplate": "Country=%{customdata[1]}<br>Year=%{customdata[0]}<br>Population (millions)=%{marker.size}<br>Temperature (°F)=%{y}<extra></extra>",
         "ids": [
          "Australia"
         ],
         "legendgroup": "Australia",
         "marker": {
          "color": "#636efa",
          "size": [
           13380000
          ],
          "sizemode": "area",
          "sizeref": 201739.38484375,
          "symbol": "circle"
         },
         "mode": "markers",
         "name": "Australia",
         "orientation": "v",
         "showlegend": true,
         "type": "scatter",
         "x": [
          13380000
         ],
         "xaxis": "x",
         "y": [
          22.41275
         ],
         "yaxis": "y"
        },
        {
         "customdata": [
          [
           1973,
           "Brazil"
          ]
         ],
         "hovertemplate": "Country=%{customdata[1]}<br>Year=%{customdata[0]}<br>Population (millions)=%{marker.size}<br>Temperature (°F)=%{y}<extra></extra>",
         "ids": [
          "Brazil"
         ],
         "legendgroup": "Brazil",
         "marker": {
          "color": "#EF553B",
          "size": [
           103666904
          ],
          "sizemode": "area",
          "sizeref": 201739.38484375,
          "symbol": "circle"
         },
         "mode": "markers",
         "name": "Brazil",
         "orientation": "v",
         "showlegend": true,
         "type": "scatter",
         "x": [
          103666904
         ],
         "xaxis": "x",
         "y": [
          25.169583333333332
         ],
         "yaxis": "y"
        },
        {
         "customdata": [
          [
           1973,
           "Germany"
          ]
         ],
         "hovertemplate": "Country=%{customdata[1]}<br>Year=%{customdata[0]}<br>Population (millions)=%{marker.size}<br>Temperature (°F)=%{y}<extra></extra>",
         "ids": [
          "Germany"
         ],
         "legendgroup": "Germany",
         "marker": {
          "color": "#00cc96",
          "size": [
           78936666
          ],
          "sizemode": "area",
          "sizeref": 201739.38484375,
          "symbol": "circle"
         },
         "mode": "markers",
         "name": "Germany",
         "orientation": "v",
         "showlegend": true,
         "type": "scatter",
         "x": [
          78936666
         ],
         "xaxis": "x",
         "y": [
          8.402833333333334
         ],
         "yaxis": "y"
        },
        {
         "customdata": [
          [
           1973,
           "India"
          ]
         ],
         "hovertemplate": "Country=%{customdata[1]}<br>Year=%{customdata[0]}<br>Population (millions)=%{marker.size}<br>Temperature (°F)=%{y}<extra></extra>",
         "ids": [
          "India"
         ],
         "legendgroup": "India",
         "marker": {
          "color": "#ab63fa",
          "size": [
           596107483
          ],
          "sizemode": "area",
          "sizeref": 201739.38484375,
          "symbol": "circle"
         },
         "mode": "markers",
         "name": "India",
         "orientation": "v",
         "showlegend": true,
         "type": "scatter",
         "x": [
          596107483
         ],
         "xaxis": "x",
         "y": [
          24.38658333333333
         ],
         "yaxis": "y"
        },
        {
         "customdata": [
          [
           1973,
           "South Africa"
          ]
         ],
         "hovertemplate": "Country=%{customdata[1]}<br>Year=%{customdata[0]}<br>Population (millions)=%{marker.size}<br>Temperature (°F)=%{y}<extra></extra>",
         "ids": [
          "South Africa"
         ],
         "legendgroup": "South Africa",
         "marker": {
          "color": "#FFA15A",
          "size": [
           24382513
          ],
          "sizemode": "area",
          "sizeref": 201739.38484375,
          "symbol": "circle"
         },
         "mode": "markers",
         "name": "South Africa",
         "orientation": "v",
         "showlegend": true,
         "type": "scatter",
         "x": [
          24382513
         ],
         "xaxis": "x",
         "y": [
          17.584416666666666
         ],
         "yaxis": "y"
        },
        {
         "customdata": [
          [
           1973,
           "United States"
          ]
         ],
         "hovertemplate": "Country=%{customdata[1]}<br>Year=%{customdata[0]}<br>Population (millions)=%{marker.size}<br>Temperature (°F)=%{y}<extra></extra>",
         "ids": [
          "United States"
         ],
         "legendgroup": "United States",
         "marker": {
          "color": "#19d3f3",
          "size": [
           211909000
          ],
          "sizemode": "area",
          "sizeref": 201739.38484375,
          "symbol": "circle"
         },
         "mode": "markers",
         "name": "United States",
         "orientation": "v",
         "showlegend": true,
         "type": "scatter",
         "x": [
          211909000
         ],
         "xaxis": "x",
         "y": [
          8.934666666666667
         ],
         "yaxis": "y"
        }
       ],
       "frames": [
        {
         "data": [
          {
           "customdata": [
            [
             1973,
             "Australia"
            ]
           ],
           "hovertemplate": "Country=%{customdata[1]}<br>Year=%{customdata[0]}<br>Population (millions)=%{marker.size}<br>Temperature (°F)=%{y}<extra></extra>",
           "ids": [
            "Australia"
           ],
           "legendgroup": "Australia",
           "marker": {
            "color": "#636efa",
            "size": [
             13380000
            ],
            "sizemode": "area",
            "sizeref": 201739.38484375,
            "symbol": "circle"
           },
           "mode": "markers",
           "name": "Australia",
           "orientation": "v",
           "showlegend": true,
           "type": "scatter",
           "x": [
            13380000
           ],
           "xaxis": "x",
           "y": [
            22.41275
           ],
           "yaxis": "y"
          },
          {
           "customdata": [
            [
             1973,
             "Brazil"
            ]
           ],
           "hovertemplate": "Country=%{customdata[1]}<br>Year=%{customdata[0]}<br>Population (millions)=%{marker.size}<br>Temperature (°F)=%{y}<extra></extra>",
           "ids": [
            "Brazil"
           ],
           "legendgroup": "Brazil",
           "marker": {
            "color": "#EF553B",
            "size": [
             103666904
            ],
            "sizemode": "area",
            "sizeref": 201739.38484375,
            "symbol": "circle"
           },
           "mode": "markers",
           "name": "Brazil",
           "orientation": "v",
           "showlegend": true,
           "type": "scatter",
           "x": [
            103666904
           ],
           "xaxis": "x",
           "y": [
            25.169583333333332
           ],
           "yaxis": "y"
          },
          {
           "customdata": [
            [
             1973,
             "Germany"
            ]
           ],
           "hovertemplate": "Country=%{customdata[1]}<br>Year=%{customdata[0]}<br>Population (millions)=%{marker.size}<br>Temperature (°F)=%{y}<extra></extra>",
           "ids": [
            "Germany"
           ],
           "legendgroup": "Germany",
           "marker": {
            "color": "#00cc96",
            "size": [
             78936666
            ],
            "sizemode": "area",
            "sizeref": 201739.38484375,
            "symbol": "circle"
           },
           "mode": "markers",
           "name": "Germany",
           "orientation": "v",
           "showlegend": true,
           "type": "scatter",
           "x": [
            78936666
           ],
           "xaxis": "x",
           "y": [
            8.402833333333334
           ],
           "yaxis": "y"
          },
          {
           "customdata": [
            [
             1973,
             "India"
            ]
           ],
           "hovertemplate": "Country=%{customdata[1]}<br>Year=%{customdata[0]}<br>Population (millions)=%{marker.size}<br>Temperature (°F)=%{y}<extra></extra>",
           "ids": [
            "India"
           ],
           "legendgroup": "India",
           "marker": {
            "color": "#ab63fa",
            "size": [
             596107483
            ],
            "sizemode": "area",
            "sizeref": 201739.38484375,
            "symbol": "circle"
           },
           "mode": "markers",
           "name": "India",
           "orientation": "v",
           "showlegend": true,
           "type": "scatter",
           "x": [
            596107483
           ],
           "xaxis": "x",
           "y": [
            24.38658333333333
           ],
           "yaxis": "y"
          },
          {
           "customdata": [
            [
             1973,
             "South Africa"
            ]
           ],
           "hovertemplate": "Country=%{customdata[1]}<br>Year=%{customdata[0]}<br>Population (millions)=%{marker.size}<br>Temperature (°F)=%{y}<extra></extra>",
           "ids": [
            "South Africa"
           ],
           "legendgroup": "South Africa",
           "marker": {
            "color": "#FFA15A",
            "size": [
             24382513
            ],
            "sizemode": "area",
            "sizeref": 201739.38484375,
            "symbol": "circle"
           },
           "mode": "markers",
           "name": "South Africa",
           "orientation": "v",
           "showlegend": true,
           "type": "scatter",
           "x": [
            24382513
           ],
           "xaxis": "x",
           "y": [
            17.584416666666666
           ],
           "yaxis": "y"
          },
          {
           "customdata": [
            [
             1973,
             "United States"
            ]
           ],
           "hovertemplate": "Country=%{customdata[1]}<br>Year=%{customdata[0]}<br>Population (millions)=%{marker.size}<br>Temperature (°F)=%{y}<extra></extra>",
           "ids": [
            "United States"
           ],
           "legendgroup": "United States",
           "marker": {
            "color": "#19d3f3",
            "size": [
             211909000
            ],
            "sizemode": "area",
            "sizeref": 201739.38484375,
            "symbol": "circle"
           },
           "mode": "markers",
           "name": "United States",
           "orientation": "v",
           "showlegend": true,
           "type": "scatter",
           "x": [
            211909000
           ],
           "xaxis": "x",
           "y": [
            8.934666666666667
           ],
           "yaxis": "y"
          }
         ],
         "name": "1973"
        },
        {
         "data": [
          {
           "customdata": [
            [
             1974,
             "Australia"
            ]
           ],
           "hovertemplate": "Country=%{customdata[1]}<br>Year=%{customdata[0]}<br>Population (millions)=%{marker.size}<br>Temperature (°F)=%{y}<extra></extra>",
           "ids": [
            "Australia"
           ],
           "legendgroup": "Australia",
           "marker": {
            "color": "#636efa",
            "size": [
             13723000
            ],
            "sizemode": "area",
            "sizeref": 201739.38484375,
            "symbol": "circle"
           },
           "mode": "markers",
           "name": "Australia",
           "orientation": "v",
           "showlegend": true,
           "type": "scatter",
           "x": [
            13723000
           ],
           "xaxis": "x",
           "y": [
            21.23808333333333
           ],
           "yaxis": "y"
          },
          {
           "customdata": [
            [
             1974,
             "Brazil"
            ]
           ],
           "hovertemplate": "Country=%{customdata[1]}<br>Year=%{customdata[0]}<br>Population (millions)=%{marker.size}<br>Temperature (°F)=%{y}<extra></extra>",
           "ids": [
            "Brazil"
           ],
           "legendgroup": "Brazil",
           "marker": {
            "color": "#EF553B",
            "size": [
             106167372
            ],
            "sizemode": "area",
            "sizeref": 201739.38484375,
            "symbol": "circle"
           },
           "mode": "markers",
           "name": "Brazil",
           "orientation": "v",
           "showlegend": true,
           "type": "scatter",
           "x": [
            106167372
           ],
           "xaxis": "x",
           "y": [
            24.5815
           ],
           "yaxis": "y"
          },
          {
           "customdata": [
            [
             1974,
             "Germany"
            ]
           ],
           "hovertemplate": "Country=%{customdata[1]}<br>Year=%{customdata[0]}<br>Population (millions)=%{marker.size}<br>Temperature (°F)=%{y}<extra></extra>",
           "ids": [
            "Germany"
           ],
           "legendgroup": "Germany",
           "marker": {
            "color": "#00cc96",
            "size": [
             78967433
            ],
            "sizemode": "area",
            "sizeref": 201739.38484375,
            "symbol": "circle"
           },
           "mode": "markers",
           "name": "Germany",
           "orientation": "v",
           "showlegend": true,
           "type": "scatter",
           "x": [
            78967433
           ],
           "xaxis": "x",
           "y": [
            8.970416666666667
           ],
           "yaxis": "y"
          },
          {
           "customdata": [
            [
             1974,
             "India"
            ]
           ],
           "hovertemplate": "Country=%{customdata[1]}<br>Year=%{customdata[0]}<br>Population (millions)=%{marker.size}<br>Temperature (°F)=%{y}<extra></extra>",
           "ids": [
            "India"
           ],
           "legendgroup": "India",
           "marker": {
            "color": "#ab63fa",
            "size": [
             609721951
            ],
            "sizemode": "area",
            "sizeref": 201739.38484375,
            "symbol": "circle"
           },
           "mode": "markers",
           "name": "India",
           "orientation": "v",
           "showlegend": true,
           "type": "scatter",
           "x": [
            609721951
           ],
           "xaxis": "x",
           "y": [
            24.17575
           ],
           "yaxis": "y"
          },
          {
           "customdata": [
            [
             1974,
             "South Africa"
            ]
           ],
           "hovertemplate": "Country=%{customdata[1]}<br>Year=%{customdata[0]}<br>Population (millions)=%{marker.size}<br>Temperature (°F)=%{y}<extra></extra>",
           "ids": [
            "South Africa"
           ],
           "legendgroup": "South Africa",
           "marker": {
            "color": "#FFA15A",
            "size": [
             25077016
            ],
            "sizemode": "area",
            "sizeref": 201739.38484375,
            "symbol": "circle"
           },
           "mode": "markers",
           "name": "South Africa",
           "orientation": "v",
           "showlegend": true,
           "type": "scatter",
           "x": [
            25077016
           ],
           "xaxis": "x",
           "y": [
            17.175416666666667
           ],
           "yaxis": "y"
          },
          {
           "customdata": [
            [
             1974,
             "United States"
            ]
           ],
           "hovertemplate": "Country=%{customdata[1]}<br>Year=%{customdata[0]}<br>Population (millions)=%{marker.size}<br>Temperature (°F)=%{y}<extra></extra>",
           "ids": [
            "United States"
           ],
           "legendgroup": "United States",
           "marker": {
            "color": "#19d3f3",
            "size": [
             213854000
            ],
            "sizemode": "area",
            "sizeref": 201739.38484375,
            "symbol": "circle"
           },
           "mode": "markers",
           "name": "United States",
           "orientation": "v",
           "showlegend": true,
           "type": "scatter",
           "x": [
            213854000
           ],
           "xaxis": "x",
           "y": [
            8.815916666666666
           ],
           "yaxis": "y"
          }
         ],
         "name": "1974"
        },
        {
         "data": [
          {
           "customdata": [
            [
             1975,
             "Australia"
            ]
           ],
           "hovertemplate": "Country=%{customdata[1]}<br>Year=%{customdata[0]}<br>Population (millions)=%{marker.size}<br>Temperature (°F)=%{y}<extra></extra>",
           "ids": [
            "Australia"
           ],
           "legendgroup": "Australia",
           "marker": {
            "color": "#636efa",
            "size": [
             13893000
            ],
            "sizemode": "area",
            "sizeref": 201739.38484375,
            "symbol": "circle"
           },
           "mode": "markers",
           "name": "Australia",
           "orientation": "v",
           "showlegend": true,
           "type": "scatter",
           "x": [
            13893000
           ],
           "xaxis": "x",
           "y": [
            21.692666666666668
           ],
           "yaxis": "y"
          },
          {
           "customdata": [
            [
             1975,
             "Brazil"
            ]
           ],
           "hovertemplate": "Country=%{customdata[1]}<br>Year=%{customdata[0]}<br>Population (millions)=%{marker.size}<br>Temperature (°F)=%{y}<extra></extra>",
           "ids": [
            "Brazil"
           ],
           "legendgroup": "Brazil",
           "marker": {
            "color": "#EF553B",
            "size": [
             108700515
            ],
            "sizemode": "area",
            "sizeref": 201739.38484375,
            "symbol": "circle"
           },
           "mode": "markers",
           "name": "Brazil",
           "orientation": "v",
           "showlegend": true,
           "type": "scatter",
           "x": [
            108700515
           ],
           "xaxis": "x",
           "y": [
            24.67675
           ],
           "yaxis": "y"
          },
          {
           "customdata": [
            [
             1975,
             "Germany"
            ]
           ],
           "hovertemplate": "Country=%{customdata[1]}<br>Year=%{customdata[0]}<br>Population (millions)=%{marker.size}<br>Temperature (°F)=%{y}<extra></extra>",
           "ids": [
            "Germany"
           ],
           "legendgroup": "Germany",
           "marker": {
            "color": "#00cc96",
            "size": [
             78673554
            ],
            "sizemode": "area",
            "sizeref": 201739.38484375,
            "symbol": "circle"
           },
           "mode": "markers",
           "name": "Germany",
           "orientation": "v",
           "showlegend": true,
           "type": "scatter",
           "x": [
            78673554
           ],
           "xaxis": "x",
           "y": [
            9.093666666666667
           ],
           "yaxis": "y"
          },
          {
           "customdata": [
            [
             1975,
             "India"
            ]
           ],
           "hovertemplate": "Country=%{customdata[1]}<br>Year=%{customdata[0]}<br>Population (millions)=%{marker.size}<br>Temperature (°F)=%{y}<extra></extra>",
           "ids": [
            "India"
           ],
           "legendgroup": "India",
           "marker": {
            "color": "#ab63fa",
            "size": [
             623524219
            ],
            "sizemode": "area",
            "sizeref": 201739.38484375,
            "symbol": "circle"
           },
           "mode": "markers",
           "name": "India",
           "orientation": "v",
           "showlegend": true,
           "type": "scatter",
           "x": [
            623524219
           ],
           "xaxis": "x",
           "y": [
            23.862166666666667
           ],
           "yaxis": "y"
          },
          {
           "customdata": [
            [
             1975,
             "South Africa"
            ]
           ],
           "hovertemplate": "Country=%{customdata[1]}<br>Year=%{customdata[0]}<br>Population (millions)=%{marker.size}<br>Temperature (°F)=%{y}<extra></extra>",
           "ids": [
            "South Africa"
           ],
           "legendgroup": "South Africa",
           "marker": {
            "color": "#FFA15A",
            "size": [
             25777964
            ],
            "sizemode": "area",
            "sizeref": 201739.38484375,
            "symbol": "circle"
           },
           "mode": "markers",
           "name": "South Africa",
           "orientation": "v",
           "showlegend": true,
           "type": "scatter",
           "x": [
            25777964
           ],
           "xaxis": "x",
           "y": [
            17.1505
           ],
           "yaxis": "y"
          },
          {
           "customdata": [
            [
             1975,
             "United States"
            ]
           ],
           "hovertemplate": "Country=%{customdata[1]}<br>Year=%{customdata[0]}<br>Population (millions)=%{marker.size}<br>Temperature (°F)=%{y}<extra></extra>",
           "ids": [
            "United States"
           ],
           "legendgroup": "United States",
           "marker": {
            "color": "#19d3f3",
            "size": [
             215973000
            ],
            "sizemode": "area",
            "sizeref": 201739.38484375,
            "symbol": "circle"
           },
           "mode": "markers",
           "name": "United States",
           "orientation": "v",
           "showlegend": true,
           "type": "scatter",
           "x": [
            215973000
           ],
           "xaxis": "x",
           "y": [
            8.431
           ],
           "yaxis": "y"
          }
         ],
         "name": "1975"
        },
        {
         "data": [
          {
           "customdata": [
            [
             1976,
             "Australia"
            ]
           ],
           "hovertemplate": "Country=%{customdata[1]}<br>Year=%{customdata[0]}<br>Population (millions)=%{marker.size}<br>Temperature (°F)=%{y}<extra></extra>",
           "ids": [
            "Australia"
           ],
           "legendgroup": "Australia",
           "marker": {
            "color": "#636efa",
            "size": [
             14033000
            ],
            "sizemode": "area",
            "sizeref": 201739.38484375,
            "symbol": "circle"
           },
           "mode": "markers",
           "name": "Australia",
           "orientation": "v",
           "showlegend": true,
           "type": "scatter",
           "x": [
            14033000
           ],
           "xaxis": "x",
           "y": [
            21.193416666666668
           ],
           "yaxis": "y"
          },
          {
           "customdata": [
            [
             1976,
             "Brazil"
            ]
           ],
           "hovertemplate": "Country=%{customdata[1]}<br>Year=%{customdata[0]}<br>Population (millions)=%{marker.size}<br>Temperature (°F)=%{y}<extra></extra>",
           "ids": [
            "Brazil"
           ],
           "legendgroup": "Brazil",
           "marker": {
            "color": "#EF553B",
            "size": [
             111286504
            ],
            "sizemode": "area",
            "sizeref": 201739.38484375,
            "symbol": "circle"
           },
           "mode": "markers",
           "name": "Brazil",
           "orientation": "v",
           "showlegend": true,
           "type": "scatter",
           "x": [
            111286504
           ],
           "xaxis": "x",
           "y": [
            24.719000000000005
           ],
           "yaxis": "y"
          },
          {
           "customdata": [
            [
             1976,
             "Germany"
            ]
           ],
           "hovertemplate": "Country=%{customdata[1]}<br>Year=%{customdata[0]}<br>Population (millions)=%{marker.size}<br>Temperature (°F)=%{y}<extra></extra>",
           "ids": [
            "Germany"
           ],
           "legendgroup": "Germany",
           "marker": {
            "color": "#00cc96",
            "size": [
             78336950
            ],
            "sizemode": "area",
            "sizeref": 201739.38484375,
            "symbol": "circle"
           },
           "mode": "markers",
           "name": "Germany",
           "orientation": "v",
           "showlegend": true,
           "type": "scatter",
           "x": [
            78336950
           ],
           "xaxis": "x",
           "y": [
            8.6505
           ],
           "yaxis": "y"
          },
          {
           "customdata": [
            [
             1976,
             "India"
            ]
           ],
           "hovertemplate": "Country=%{customdata[1]}<br>Year=%{customdata[0]}<br>Population (millions)=%{marker.size}<br>Temperature (°F)=%{y}<extra></extra>",
           "ids": [
            "India"
           ],
           "legendgroup": "India",
           "marker": {
            "color": "#ab63fa",
            "size": [
             637451448
            ],
            "sizemode": "area",
            "sizeref": 201739.38484375,
            "symbol": "circle"
           },
           "mode": "markers",
           "name": "India",
           "orientation": "v",
           "showlegend": true,
           "type": "scatter",
           "x": [
            637451448
           ],
           "xaxis": "x",
           "y": [
            24.199583333333333
           ],
           "yaxis": "y"
          },
          {
           "customdata": [
            [
             1976,
             "South Africa"
            ]
           ],
           "hovertemplate": "Country=%{customdata[1]}<br>Year=%{customdata[0]}<br>Population (millions)=%{marker.size}<br>Temperature (°F)=%{y}<extra></extra>",
           "ids": [
            "South Africa"
           ],
           "legendgroup": "South Africa",
           "marker": {
            "color": "#FFA15A",
            "size": [
             26480300
            ],
            "sizemode": "area",
            "sizeref": 201739.38484375,
            "symbol": "circle"
           },
           "mode": "markers",
           "name": "South Africa",
           "orientation": "v",
           "showlegend": true,
           "type": "scatter",
           "x": [
            26480300
           ],
           "xaxis": "x",
           "y": [
            16.963833333333334
           ],
           "yaxis": "y"
          },
          {
           "customdata": [
            [
             1976,
             "United States"
            ]
           ],
           "hovertemplate": "Country=%{customdata[1]}<br>Year=%{customdata[0]}<br>Population (millions)=%{marker.size}<br>Temperature (°F)=%{y}<extra></extra>",
           "ids": [
            "United States"
           ],
           "legendgroup": "United States",
           "marker": {
            "color": "#19d3f3",
            "size": [
             218035000
            ],
            "sizemode": "area",
            "sizeref": 201739.38484375,
            "symbol": "circle"
           },
           "mode": "markers",
           "name": "United States",
           "orientation": "v",
           "showlegend": true,
           "type": "scatter",
           "x": [
            218035000
           ],
           "xaxis": "x",
           "y": [
            8.65125
           ],
           "yaxis": "y"
          }
         ],
         "name": "1976"
        },
        {
         "data": [
          {
           "customdata": [
            [
             1977,
             "Australia"
            ]
           ],
           "hovertemplate": "Country=%{customdata[1]}<br>Year=%{customdata[0]}<br>Population (millions)=%{marker.size}<br>Temperature (°F)=%{y}<extra></extra>",
           "ids": [
            "Australia"
           ],
           "legendgroup": "Australia",
           "marker": {
            "color": "#636efa",
            "size": [
             14192000
            ],
            "sizemode": "area",
            "sizeref": 201739.38484375,
            "symbol": "circle"
           },
           "mode": "markers",
           "name": "Australia",
           "orientation": "v",
           "showlegend": true,
           "type": "scatter",
           "x": [
            14192000
           ],
           "xaxis": "x",
           "y": [
            21.8925
           ],
           "yaxis": "y"
          },
          {
           "customdata": [
            [
             1977,
             "Brazil"
            ]
           ],
           "hovertemplate": "Country=%{customdata[1]}<br>Year=%{customdata[0]}<br>Population (millions)=%{marker.size}<br>Temperature (°F)=%{y}<extra></extra>",
           "ids": [
            "Brazil"
           ],
           "legendgroup": "Brazil",
           "marker": {
            "color": "#EF553B",
            "size": [
             113939886
            ],
            "sizemode": "area",
            "sizeref": 201739.38484375,
            "symbol": "circle"
           },
           "mode": "markers",
           "name": "Brazil",
           "orientation": "v",
           "showlegend": true,
           "type": "scatter",
           "x": [
            113939886
           ],
           "xaxis": "x",
           "y": [
            25.13233333333333
           ],
           "yaxis": "y"
          },
          {
           "customdata": [
            [
             1977,
             "Germany"
            ]
           ],
           "hovertemplate": "Country=%{customdata[1]}<br>Year=%{customdata[0]}<br>Population (millions)=%{marker.size}<br>Temperature (°F)=%{y}<extra></extra>",
           "ids": [
            "Germany"
           ],
           "legendgroup": "Germany",
           "marker": {
            "color": "#00cc96",
            "size": [
             78159814
            ],
            "sizemode": "area",
            "sizeref": 201739.38484375,
            "symbol": "circle"
           },
           "mode": "markers",
           "name": "Germany",
           "orientation": "v",
           "showlegend": true,
           "type": "scatter",
           "x": [
            78159814
           ],
           "xaxis": "x",
           "y": [
            8.804833333333333
           ],
           "yaxis": "y"
          },
          {
           "customdata": [
            [
             1977,
             "India"
            ]
           ],
           "hovertemplate": "Country=%{customdata[1]}<br>Year=%{customdata[0]}<br>Population (millions)=%{marker.size}<br>Temperature (°F)=%{y}<extra></extra>",
           "ids": [
            "India"
           ],
           "legendgroup": "India",
           "marker": {
            "color": "#ab63fa",
            "size": [
             651685628
            ],
            "sizemode": "area",
            "sizeref": 201739.38484375,
            "symbol": "circle"
           },
           "mode": "markers",
           "name": "India",
           "orientation": "v",
           "showlegend": true,
           "type": "scatter",
           "x": [
            651685628
           ],
           "xaxis": "x",
           "y": [
            24.28891666666667
           ],
           "yaxis": "y"
          },
          {
           "customdata": [
            [
             1977,
             "South Africa"
            ]
           ],
           "hovertemplate": "Country=%{customdata[1]}<br>Year=%{customdata[0]}<br>Population (millions)=%{marker.size}<br>Temperature (°F)=%{y}<extra></extra>",
           "ids": [
            "South Africa"
           ],
           "legendgroup": "South Africa",
           "marker": {
            "color": "#FFA15A",
            "size": [
             27199838
            ],
            "sizemode": "area",
            "sizeref": 201739.38484375,
            "symbol": "circle"
           },
           "mode": "markers",
           "name": "South Africa",
           "orientation": "v",
           "showlegend": true,
           "type": "scatter",
           "x": [
            27199838
           ],
           "xaxis": "x",
           "y": [
            17.66
           ],
           "yaxis": "y"
          },
          {
           "customdata": [
            [
             1977,
             "United States"
            ]
           ],
           "hovertemplate": "Country=%{customdata[1]}<br>Year=%{customdata[0]}<br>Population (millions)=%{marker.size}<br>Temperature (°F)=%{y}<extra></extra>",
           "ids": [
            "United States"
           ],
           "legendgroup": "United States",
           "marker": {
            "color": "#19d3f3",
            "size": [
             220239000
            ],
            "sizemode": "area",
            "sizeref": 201739.38484375,
            "symbol": "circle"
           },
           "mode": "markers",
           "name": "United States",
           "orientation": "v",
           "showlegend": true,
           "type": "scatter",
           "x": [
            220239000
           ],
           "xaxis": "x",
           "y": [
            9.269833333333333
           ],
           "yaxis": "y"
          }
         ],
         "name": "1977"
        },
        {
         "data": [
          {
           "customdata": [
            [
             1978,
             "Australia"
            ]
           ],
           "hovertemplate": "Country=%{customdata[1]}<br>Year=%{customdata[0]}<br>Population (millions)=%{marker.size}<br>Temperature (°F)=%{y}<extra></extra>",
           "ids": [
            "Australia"
           ],
           "legendgroup": "Australia",
           "marker": {
            "color": "#636efa",
            "size": [
             14358000
            ],
            "sizemode": "area",
            "sizeref": 201739.38484375,
            "symbol": "circle"
           },
           "mode": "markers",
           "name": "Australia",
           "orientation": "v",
           "showlegend": true,
           "type": "scatter",
           "x": [
            14358000
           ],
           "xaxis": "x",
           "y": [
            21.605166666666666
           ],
           "yaxis": "y"
          },
          {
           "customdata": [
            [
             1978,
             "Brazil"
            ]
           ],
           "hovertemplate": "Country=%{customdata[1]}<br>Year=%{customdata[0]}<br>Population (millions)=%{marker.size}<br>Temperature (°F)=%{y}<extra></extra>",
           "ids": [
            "Brazil"
           ],
           "legendgroup": "Brazil",
           "marker": {
            "color": "#EF553B",
            "size": [
             116664382
            ],
            "sizemode": "area",
            "sizeref": 201739.38484375,
            "symbol": "circle"
           },
           "mode": "markers",
           "name": "Brazil",
           "orientation": "v",
           "showlegend": true,
           "type": "scatter",
           "x": [
            116664382
           ],
           "xaxis": "x",
           "y": [
            24.9275
           ],
           "yaxis": "y"
          },
          {
           "customdata": [
            [
             1978,
             "Germany"
            ]
           ],
           "hovertemplate": "Country=%{customdata[1]}<br>Year=%{customdata[0]}<br>Population (millions)=%{marker.size}<br>Temperature (°F)=%{y}<extra></extra>",
           "ids": [
            "Germany"
           ],
           "legendgroup": "Germany",
           "marker": {
            "color": "#00cc96",
            "size": [
             78091820
            ],
            "sizemode": "area",
            "sizeref": 201739.38484375,
            "symbol": "circle"
           },
           "mode": "markers",
           "name": "Germany",
           "orientation": "v",
           "showlegend": true,
           "type": "scatter",
           "x": [
            78091820
           ],
           "xaxis": "x",
           "y": [
            7.932749999999999
           ],
           "yaxis": "y"
          },
          {
           "customdata": [
            [
             1978,
             "India"
            ]
           ],
           "hovertemplate": "Country=%{customdata[1]}<br>Year=%{customdata[0]}<br>Population (millions)=%{marker.size}<br>Temperature (°F)=%{y}<extra></extra>",
           "ids": [
            "India"
           ],
           "legendgroup": "India",
           "marker": {
            "color": "#ab63fa",
            "size": [
             666267760
            ],
            "sizemode": "area",
            "sizeref": 201739.38484375,
            "symbol": "circle"
           },
           "mode": "markers",
           "name": "India",
           "orientation": "v",
           "showlegend": true,
           "type": "scatter",
           "x": [
            666267760
           ],
           "xaxis": "x",
           "y": [
            24.00733333333333
           ],
           "yaxis": "y"
          },
          {
           "customdata": [
            [
             1978,
             "South Africa"
            ]
           ],
           "hovertemplate": "Country=%{customdata[1]}<br>Year=%{customdata[0]}<br>Population (millions)=%{marker.size}<br>Temperature (°F)=%{y}<extra></extra>",
           "ids": [
            "South Africa"
           ],
           "legendgroup": "South Africa",
           "marker": {
            "color": "#FFA15A",
            "size": [
             27943445
            ],
            "sizemode": "area",
            "sizeref": 201739.38484375,
            "symbol": "circle"
           },
           "mode": "markers",
           "name": "South Africa",
           "orientation": "v",
           "showlegend": true,
           "type": "scatter",
           "x": [
            27943445
           ],
           "xaxis": "x",
           "y": [
            17.40975
           ],
           "yaxis": "y"
          },
          {
           "customdata": [
            [
             1978,
             "United States"
            ]
           ],
           "hovertemplate": "Country=%{customdata[1]}<br>Year=%{customdata[0]}<br>Population (millions)=%{marker.size}<br>Temperature (°F)=%{y}<extra></extra>",
           "ids": [
            "United States"
           ],
           "legendgroup": "United States",
           "marker": {
            "color": "#19d3f3",
            "size": [
             222585000
            ],
            "sizemode": "area",
            "sizeref": 201739.38484375,
            "symbol": "circle"
           },
           "mode": "markers",
           "name": "United States",
           "orientation": "v",
           "showlegend": true,
           "type": "scatter",
           "x": [
            222585000
           ],
           "xaxis": "x",
           "y": [
            8.751416666666666
           ],
           "yaxis": "y"
          }
         ],
         "name": "1978"
        },
        {
         "data": [
          {
           "customdata": [
            [
             1979,
             "Australia"
            ]
           ],
           "hovertemplate": "Country=%{customdata[1]}<br>Year=%{customdata[0]}<br>Population (millions)=%{marker.size}<br>Temperature (°F)=%{y}<extra></extra>",
           "ids": [
            "Australia"
           ],
           "legendgroup": "Australia",
           "marker": {
            "color": "#636efa",
            "size": [
             14514000
            ],
            "sizemode": "area",
            "sizeref": 201739.38484375,
            "symbol": "circle"
           },
           "mode": "markers",
           "name": "Australia",
           "orientation": "v",
           "showlegend": true,
           "type": "scatter",
           "x": [
            14514000
           ],
           "xaxis": "x",
           "y": [
            22.252333333333336
           ],
           "yaxis": "y"
          },
          {
           "customdata": [
            [
             1979,
             "Brazil"
            ]
           ],
           "hovertemplate": "Country=%{customdata[1]}<br>Year=%{customdata[0]}<br>Population (millions)=%{marker.size}<br>Temperature (°F)=%{y}<extra></extra>",
           "ids": [
            "Brazil"
           ],
           "legendgroup": "Brazil",
           "marker": {
            "color": "#EF553B",
            "size": [
             119447303
            ],
            "sizemode": "area",
            "sizeref": 201739.38484375,
            "symbol": "circle"
           },
           "mode": "markers",
           "name": "Brazil",
           "orientation": "v",
           "showlegend": true,
           "type": "scatter",
           "x": [
            119447303
           ],
           "xaxis": "x",
           "y": [
            24.944333333333333
           ],
           "yaxis": "y"
          },
          {
           "customdata": [
            [
             1979,
             "Germany"
            ]
           ],
           "hovertemplate": "Country=%{customdata[1]}<br>Year=%{customdata[0]}<br>Population (millions)=%{marker.size}<br>Temperature (°F)=%{y}<extra></extra>",
           "ids": [
            "Germany"
           ],
           "legendgroup": "Germany",
           "marker": {
            "color": "#00cc96",
            "size": [
             78126350
            ],
            "sizemode": "area",
            "sizeref": 201739.38484375,
            "symbol": "circle"
           },
           "mode": "markers",
           "name": "Germany",
           "orientation": "v",
           "showlegend": true,
           "type": "scatter",
           "x": [
            78126350
           ],
           "xaxis": "x",
           "y": [
            7.901666666666666
           ],
           "yaxis": "y"
          },
          {
           "customdata": [
            [
             1979,
             "India"
            ]
           ],
           "hovertemplate": "Country=%{customdata[1]}<br>Year=%{customdata[0]}<br>Population (millions)=%{marker.size}<br>Temperature (°F)=%{y}<extra></extra>",
           "ids": [
            "India"
           ],
           "legendgroup": "India",
           "marker": {
            "color": "#ab63fa",
            "size": [
             681248383
            ],
            "sizemode": "area",
            "sizeref": 201739.38484375,
            "symbol": "circle"
           },
           "mode": "markers",
           "name": "India",
           "orientation": "v",
           "showlegend": true,
           "type": "scatter",
           "x": [
            681248383
           ],
           "xaxis": "x",
           "y": [
            24.553583333333336
           ],
           "yaxis": "y"
          },
          {
           "customdata": [
            [
             1979,
             "South Africa"
            ]
           ],
           "hovertemplate": "Country=%{customdata[1]}<br>Year=%{customdata[0]}<br>Population (millions)=%{marker.size}<br>Temperature (°F)=%{y}<extra></extra>",
           "ids": [
            "South Africa"
           ],
           "legendgroup": "South Africa",
           "marker": {
            "color": "#FFA15A",
            "size": [
             28697014
            ],
            "sizemode": "area",
            "sizeref": 201739.38484375,
            "symbol": "circle"
           },
           "mode": "markers",
           "name": "South Africa",
           "orientation": "v",
           "showlegend": true,
           "type": "scatter",
           "x": [
            28697014
           ],
           "xaxis": "x",
           "y": [
            17.789833333333334
           ],
           "yaxis": "y"
          },
          {
           "customdata": [
            [
             1979,
             "United States"
            ]
           ],
           "hovertemplate": "Country=%{customdata[1]}<br>Year=%{customdata[0]}<br>Population (millions)=%{marker.size}<br>Temperature (°F)=%{y}<extra></extra>",
           "ids": [
            "United States"
           ],
           "legendgroup": "United States",
           "marker": {
            "color": "#19d3f3",
            "size": [
             225055000
            ],
            "sizemode": "area",
            "sizeref": 201739.38484375,
            "symbol": "circle"
           },
           "mode": "markers",
           "name": "United States",
           "orientation": "v",
           "showlegend": true,
           "type": "scatter",
           "x": [
            225055000
           ],
           "xaxis": "x",
           "y": [
            8.571583333333333
           ],
           "yaxis": "y"
          }
         ],
         "name": "1979"
        },
        {
         "data": [
          {
           "customdata": [
            [
             1980,
             "Australia"
            ]
           ],
           "hovertemplate": "Country=%{customdata[1]}<br>Year=%{customdata[0]}<br>Population (millions)=%{marker.size}<br>Temperature (°F)=%{y}<extra></extra>",
           "ids": [
            "Australia"
           ],
           "legendgroup": "Australia",
           "marker": {
            "color": "#636efa",
            "size": [
             14692000
            ],
            "sizemode": "area",
            "sizeref": 201739.38484375,
            "symbol": "circle"
           },
           "mode": "markers",
           "name": "Australia",
           "orientation": "v",
           "showlegend": true,
           "type": "scatter",
           "x": [
            14692000
           ],
           "xaxis": "x",
           "y": [
            22.586166666666667
           ],
           "yaxis": "y"
          },
          {
           "customdata": [
            [
             1980,
             "Brazil"
            ]
           ],
           "hovertemplate": "Country=%{customdata[1]}<br>Year=%{customdata[0]}<br>Population (millions)=%{marker.size}<br>Temperature (°F)=%{y}<extra></extra>",
           "ids": [
            "Brazil"
           ],
           "legendgroup": "Brazil",
           "marker": {
            "color": "#EF553B",
            "size": [
             122288383
            ],
            "sizemode": "area",
            "sizeref": 201739.38484375,
            "symbol": "circle"
           },
           "mode": "markers",
           "name": "Brazil",
           "orientation": "v",
           "showlegend": true,
           "type": "scatter",
           "x": [
            122288383
           ],
           "xaxis": "x",
           "y": [
            25.148
           ],
           "yaxis": "y"
          },
          {
           "customdata": [
            [
             1980,
             "Germany"
            ]
           ],
           "hovertemplate": "Country=%{customdata[1]}<br>Year=%{customdata[0]}<br>Population (millions)=%{marker.size}<br>Temperature (°F)=%{y}<extra></extra>",
           "ids": [
            "Germany"
           ],
           "legendgroup": "Germany",
           "marker": {
            "color": "#00cc96",
            "size": [
             78288576
            ],
            "sizemode": "area",
            "sizeref": 201739.38484375,
            "symbol": "circle"
           },
           "mode": "markers",
           "name": "Germany",
           "orientation": "v",
           "showlegend": true,
           "type": "scatter",
           "x": [
            78288576
           ],
           "xaxis": "x",
           "y": [
            7.727250000000001
           ],
           "yaxis": "y"
          },
          {
           "customdata": [
            [
             1980,
             "India"
            ]
           ],
           "hovertemplate": "Country=%{customdata[1]}<br>Year=%{customdata[0]}<br>Population (millions)=%{marker.size}<br>Temperature (°F)=%{y}<extra></extra>",
           "ids": [
            "India"
           ],
           "legendgroup": "India",
           "marker": {
            "color": "#ab63fa",
            "size": [
             696828385
            ],
            "sizemode": "area",
            "sizeref": 201739.38484375,
            "symbol": "circle"
           },
           "mode": "markers",
           "name": "India",
           "orientation": "v",
           "showlegend": true,
           "type": "scatter",
           "x": [
            696828385
           ],
           "xaxis": "x",
           "y": [
            24.593083333333336
           ],
           "yaxis": "y"
          },
          {
           "customdata": [
            [
             1980,
             "South Africa"
            ]
           ],
           "hovertemplate": "Country=%{customdata[1]}<br>Year=%{customdata[0]}<br>Population (millions)=%{marker.size}<br>Temperature (°F)=%{y}<extra></extra>",
           "ids": [
            "South Africa"
           ],
           "legendgroup": "South Africa",
           "marker": {
            "color": "#FFA15A",
            "size": [
             29463549
            ],
            "sizemode": "area",
            "sizeref": 201739.38484375,
            "symbol": "circle"
           },
           "mode": "markers",
           "name": "South Africa",
           "orientation": "v",
           "showlegend": true,
           "type": "scatter",
           "x": [
            29463549
           ],
           "xaxis": "x",
           "y": [
            17.609833333333334
           ],
           "yaxis": "y"
          },
          {
           "customdata": [
            [
             1980,
             "United States"
            ]
           ],
           "hovertemplate": "Country=%{customdata[1]}<br>Year=%{customdata[0]}<br>Population (millions)=%{marker.size}<br>Temperature (°F)=%{y}<extra></extra>",
           "ids": [
            "United States"
           ],
           "legendgroup": "United States",
           "marker": {
            "color": "#19d3f3",
            "size": [
             227225000
            ],
            "sizemode": "area",
            "sizeref": 201739.38484375,
            "symbol": "circle"
           },
           "mode": "markers",
           "name": "United States",
           "orientation": "v",
           "showlegend": true,
           "type": "scatter",
           "x": [
            227225000
           ],
           "xaxis": "x",
           "y": [
            9.1355
           ],
           "yaxis": "y"
          }
         ],
         "name": "1980"
        },
        {
         "data": [
          {
           "customdata": [
            [
             1981,
             "Australia"
            ]
           ],
           "hovertemplate": "Country=%{customdata[1]}<br>Year=%{customdata[0]}<br>Population (millions)=%{marker.size}<br>Temperature (°F)=%{y}<extra></extra>",
           "ids": [
            "Australia"
           ],
           "legendgroup": "Australia",
           "marker": {
            "color": "#636efa",
            "size": [
             14923260
            ],
            "sizemode": "area",
            "sizeref": 201739.38484375,
            "symbol": "circle"
           },
           "mode": "markers",
           "name": "Australia",
           "orientation": "v",
           "showlegend": true,
           "type": "scatter",
           "x": [
            14923260
           ],
           "xaxis": "x",
           "y": [
            22.16408333333333
           ],
           "yaxis": "y"
          },
          {
           "customdata": [
            [
             1981,
             "Brazil"
            ]
           ],
           "hovertemplate": "Country=%{customdata[1]}<br>Year=%{customdata[0]}<br>Population (millions)=%{marker.size}<br>Temperature (°F)=%{y}<extra></extra>",
           "ids": [
            "Brazil"
           ],
           "legendgroup": "Brazil",
           "marker": {
            "color": "#EF553B",
            "size": [
             125168060
            ],
            "sizemode": "area",
            "sizeref": 201739.38484375,
            "symbol": "circle"
           },
           "mode": "markers",
           "name": "Brazil",
           "orientation": "v",
           "showlegend": true,
           "type": "scatter",
           "x": [
            125168060
           ],
           "xaxis": "x",
           "y": [
            24.983416666666667
           ],
           "yaxis": "y"
          },
          {
           "customdata": [
            [
             1981,
             "Germany"
            ]
           ],
           "hovertemplate": "Country=%{customdata[1]}<br>Year=%{customdata[0]}<br>Population (millions)=%{marker.size}<br>Temperature (°F)=%{y}<extra></extra>",
           "ids": [
            "Germany"
           ],
           "legendgroup": "Germany",
           "marker": {
            "color": "#00cc96",
            "size": [
             78407907
            ],
            "sizemode": "area",
            "sizeref": 201739.38484375,
            "symbol": "circle"
           },
           "mode": "markers",
           "name": "Germany",
           "orientation": "v",
           "showlegend": true,
           "type": "scatter",
           "x": [
            78407907
           ],
           "xaxis": "x",
           "y": [
            8.320500000000001
           ],
           "yaxis": "y"
          },
          {
           "customdata": [
            [
             1981,
             "India"
            ]
           ],
           "hovertemplate": "Country=%{customdata[1]}<br>Year=%{customdata[0]}<br>Population (millions)=%{marker.size}<br>Temperature (°F)=%{y}<extra></extra>",
           "ids": [
            "India"
           ],
           "legendgroup": "India",
           "marker": {
            "color": "#ab63fa",
            "size": [
             712869298
            ],
            "sizemode": "area",
            "sizeref": 201739.38484375,
            "symbol": "circle"
           },
           "mode": "markers",
           "name": "India",
           "orientation": "v",
           "showlegend": true,
           "type": "scatter",
           "x": [
            712869298
           ],
           "xaxis": "x",
           "y": [
            24.228416666666664
           ],
           "yaxis": "y"
          },
          {
           "customdata": [
            [
             1981,
             "South Africa"
            ]
           ],
           "hovertemplate": "Country=%{customdata[1]}<br>Year=%{customdata[0]}<br>Population (millions)=%{marker.size}<br>Temperature (°F)=%{y}<extra></extra>",
           "ids": [
            "South Africa"
           ],
           "legendgroup": "South Africa",
           "marker": {
            "color": "#FFA15A",
            "size": [
             30232561
            ],
            "sizemode": "area",
            "sizeref": 201739.38484375,
            "symbol": "circle"
           },
           "mode": "markers",
           "name": "South Africa",
           "orientation": "v",
           "showlegend": true,
           "type": "scatter",
           "x": [
            30232561
           ],
           "xaxis": "x",
           "y": [
            17.115750000000002
           ],
           "yaxis": "y"
          },
          {
           "customdata": [
            [
             1981,
             "United States"
            ]
           ],
           "hovertemplate": "Country=%{customdata[1]}<br>Year=%{customdata[0]}<br>Population (millions)=%{marker.size}<br>Temperature (°F)=%{y}<extra></extra>",
           "ids": [
            "United States"
           ],
           "legendgroup": "United States",
           "marker": {
            "color": "#19d3f3",
            "size": [
             229466000
            ],
            "sizemode": "area",
            "sizeref": 201739.38484375,
            "symbol": "circle"
           },
           "mode": "markers",
           "name": "United States",
           "orientation": "v",
           "showlegend": true,
           "type": "scatter",
           "x": [
            229466000
           ],
           "xaxis": "x",
           "y": [
            9.7215
           ],
           "yaxis": "y"
          }
         ],
         "name": "1981"
        },
        {
         "data": [
          {
           "customdata": [
            [
             1982,
             "Australia"
            ]
           ],
           "hovertemplate": "Country=%{customdata[1]}<br>Year=%{customdata[0]}<br>Population (millions)=%{marker.size}<br>Temperature (°F)=%{y}<extra></extra>",
           "ids": [
            "Australia"
           ],
           "legendgroup": "Australia",
           "marker": {
            "color": "#636efa",
            "size": [
             15184247
            ],
            "sizemode": "area",
            "sizeref": 201739.38484375,
            "symbol": "circle"
           },
           "mode": "markers",
           "name": "Australia",
           "orientation": "v",
           "showlegend": true,
           "type": "scatter",
           "x": [
            15184247
           ],
           "xaxis": "x",
           "y": [
            21.9105
           ],
           "yaxis": "y"
          },
          {
           "customdata": [
            [
             1982,
             "Brazil"
            ]
           ],
           "hovertemplate": "Country=%{customdata[1]}<br>Year=%{customdata[0]}<br>Population (millions)=%{marker.size}<br>Temperature (°F)=%{y}<extra></extra>",
           "ids": [
            "Brazil"
           ],
           "legendgroup": "Brazil",
           "marker": {
            "color": "#EF553B",
            "size": [
             128065095
            ],
            "sizemode": "area",
            "sizeref": 201739.38484375,
            "symbol": "circle"
           },
           "mode": "markers",
           "name": "Brazil",
           "orientation": "v",
           "showlegend": true,
           "type": "scatter",
           "x": [
            128065095
           ],
           "xaxis": "x",
           "y": [
            25.23033333333333
           ],
           "yaxis": "y"
          },
          {
           "customdata": [
            [
             1982,
             "Germany"
            ]
           ],
           "hovertemplate": "Country=%{customdata[1]}<br>Year=%{customdata[0]}<br>Population (millions)=%{marker.size}<br>Temperature (°F)=%{y}<extra></extra>",
           "ids": [
            "Germany"
           ],
           "legendgroup": "Germany",
           "marker": {
            "color": "#00cc96",
            "size": [
             78333366
            ],
            "sizemode": "area",
            "sizeref": 201739.38484375,
            "symbol": "circle"
           },
           "mode": "markers",
           "name": "Germany",
           "orientation": "v",
           "showlegend": true,
           "type": "scatter",
           "x": [
            78333366
           ],
           "xaxis": "x",
           "y": [
            9.073333333333334
           ],
           "yaxis": "y"
          },
          {
           "customdata": [
            [
             1982,
             "India"
            ]
           ],
           "hovertemplate": "Country=%{customdata[1]}<br>Year=%{customdata[0]}<br>Population (millions)=%{marker.size}<br>Temperature (°F)=%{y}<extra></extra>",
           "ids": [
            "India"
           ],
           "legendgroup": "India",
           "marker": {
            "color": "#ab63fa",
            "size": [
             729169466
            ],
            "sizemode": "area",
            "sizeref": 201739.38484375,
            "symbol": "circle"
           },
           "mode": "markers",
           "name": "India",
           "orientation": "v",
           "showlegend": true,
           "type": "scatter",
           "x": [
            729169466
           ],
           "xaxis": "x",
           "y": [
            24.21825
           ],
           "yaxis": "y"
          },
          {
           "customdata": [
            [
             1982,
             "South Africa"
            ]
           ],
           "hovertemplate": "Country=%{customdata[1]}<br>Year=%{customdata[0]}<br>Population (millions)=%{marker.size}<br>Temperature (°F)=%{y}<extra></extra>",
           "ids": [
            "South Africa"
           ],
           "legendgroup": "South Africa",
           "marker": {
            "color": "#FFA15A",
            "size": [
             31022417
            ],
            "sizemode": "area",
            "sizeref": 201739.38484375,
            "symbol": "circle"
           },
           "mode": "markers",
           "name": "South Africa",
           "orientation": "v",
           "showlegend": true,
           "type": "scatter",
           "x": [
            31022417
           ],
           "xaxis": "x",
           "y": [
            17.752083333333335
           ],
           "yaxis": "y"
          },
          {
           "customdata": [
            [
             1982,
             "United States"
            ]
           ],
           "hovertemplate": "Country=%{customdata[1]}<br>Year=%{customdata[0]}<br>Population (millions)=%{marker.size}<br>Temperature (°F)=%{y}<extra></extra>",
           "ids": [
            "United States"
           ],
           "legendgroup": "United States",
           "marker": {
            "color": "#19d3f3",
            "size": [
             231664000
            ],
            "sizemode": "area",
            "sizeref": 201739.38484375,
            "symbol": "circle"
           },
           "mode": "markers",
           "name": "United States",
           "orientation": "v",
           "showlegend": true,
           "type": "scatter",
           "x": [
            231664000
           ],
           "xaxis": "x",
           "y": [
            8.5395
           ],
           "yaxis": "y"
          }
         ],
         "name": "1982"
        },
        {
         "data": [
          {
           "customdata": [
            [
             1983,
             "Australia"
            ]
           ],
           "hovertemplate": "Country=%{customdata[1]}<br>Year=%{customdata[0]}<br>Population (millions)=%{marker.size}<br>Temperature (°F)=%{y}<extra></extra>",
           "ids": [
            "Australia"
           ],
           "legendgroup": "Australia",
           "marker": {
            "color": "#636efa",
            "size": [
             15393472
            ],
            "sizemode": "area",
            "sizeref": 201739.38484375,
            "symbol": "circle"
           },
           "mode": "markers",
           "name": "Australia",
           "orientation": "v",
           "showlegend": true,
           "type": "scatter",
           "x": [
            15393472
           ],
           "xaxis": "x",
           "y": [
            22.26108333333333
           ],
           "yaxis": "y"
          },
          {
           "customdata": [
            [
             1983,
             "Brazil"
            ]
           ],
           "hovertemplate": "Country=%{customdata[1]}<br>Year=%{customdata[0]}<br>Population (millions)=%{marker.size}<br>Temperature (°F)=%{y}<extra></extra>",
           "ids": [
            "Brazil"
           ],
           "legendgroup": "Brazil",
           "marker": {
            "color": "#EF553B",
            "size": [
             130977370
            ],
            "sizemode": "area",
            "sizeref": 201739.38484375,
            "symbol": "circle"
           },
           "mode": "markers",
           "name": "Brazil",
           "orientation": "v",
           "showlegend": true,
           "type": "scatter",
           "x": [
            130977370
           ],
           "xaxis": "x",
           "y": [
            25.35075
           ],
           "yaxis": "y"
          },
          {
           "customdata": [
            [
             1983,
             "Germany"
            ]
           ],
           "hovertemplate": "Country=%{customdata[1]}<br>Year=%{customdata[0]}<br>Population (millions)=%{marker.size}<br>Temperature (°F)=%{y}<extra></extra>",
           "ids": [
            "Germany"
           ],
           "legendgroup": "Germany",
           "marker": {
            "color": "#00cc96",
            "size": [
             78128282
            ],
            "sizemode": "area",
            "sizeref": 201739.38484375,
            "symbol": "circle"
           },
           "mode": "markers",
           "name": "Germany",
           "orientation": "v",
           "showlegend": true,
           "type": "scatter",
           "x": [
            78128282
           ],
           "xaxis": "x",
           "y": [
            9.185666666666668
           ],
           "yaxis": "y"
          },
          {
           "customdata": [
            [
             1983,
             "India"
            ]
           ],
           "hovertemplate": "Country=%{customdata[1]}<br>Year=%{customdata[0]}<br>Population (millions)=%{marker.size}<br>Temperature (°F)=%{y}<extra></extra>",
           "ids": [
            "India"
           ],
           "legendgroup": "India",
           "marker": {
            "color": "#ab63fa",
            "size": [
             745826546
            ],
            "sizemode": "area",
            "sizeref": 201739.38484375,
            "symbol": "circle"
           },
           "mode": "markers",
           "name": "India",
           "orientation": "v",
           "showlegend": true,
           "type": "scatter",
           "x": [
            745826546
           ],
           "xaxis": "x",
           "y": [
            23.938
           ],
           "yaxis": "y"
          },
          {
           "customdata": [
            [
             1983,
             "South Africa"
            ]
           ],
           "hovertemplate": "Country=%{customdata[1]}<br>Year=%{customdata[0]}<br>Population (millions)=%{marker.size}<br>Temperature (°F)=%{y}<extra></extra>",
           "ids": [
            "South Africa"
           ],
           "legendgroup": "South Africa",
           "marker": {
            "color": "#FFA15A",
            "size": [
             31865176
            ],
            "sizemode": "area",
            "sizeref": 201739.38484375,
            "symbol": "circle"
           },
           "mode": "markers",
           "name": "South Africa",
           "orientation": "v",
           "showlegend": true,
           "type": "scatter",
           "x": [
            31865176
           ],
           "xaxis": "x",
           "y": [
            18.20358333333333
           ],
           "yaxis": "y"
          },
          {
           "customdata": [
            [
             1983,
             "United States"
            ]
           ],
           "hovertemplate": "Country=%{customdata[1]}<br>Year=%{customdata[0]}<br>Population (millions)=%{marker.size}<br>Temperature (°F)=%{y}<extra></extra>",
           "ids": [
            "United States"
           ],
           "legendgroup": "United States",
           "marker": {
            "color": "#19d3f3",
            "size": [
             233792000
            ],
            "sizemode": "area",
            "sizeref": 201739.38484375,
            "symbol": "circle"
           },
           "mode": "markers",
           "name": "United States",
           "orientation": "v",
           "showlegend": true,
           "type": "scatter",
           "x": [
            233792000
           ],
           "xaxis": "x",
           "y": [
            8.912333333333333
           ],
           "yaxis": "y"
          }
         ],
         "name": "1983"
        },
        {
         "data": [
          {
           "customdata": [
            [
             1984,
             "Australia"
            ]
           ],
           "hovertemplate": "Country=%{customdata[1]}<br>Year=%{customdata[0]}<br>Population (millions)=%{marker.size}<br>Temperature (°F)=%{y}<extra></extra>",
           "ids": [
            "Australia"
           ],
           "legendgroup": "Australia",
           "marker": {
            "color": "#636efa",
            "size": [
             15579391
            ],
            "sizemode": "area",
            "sizeref": 201739.38484375,
            "symbol": "circle"
           },
           "mode": "markers",
           "name": "Australia",
           "orientation": "v",
           "showlegend": true,
           "type": "scatter",
           "x": [
            15579391
           ],
           "xaxis": "x",
           "y": [
            21.516916666666663
           ],
           "yaxis": "y"
          },
          {
           "customdata": [
            [
             1984,
             "Brazil"
            ]
           ],
           "hovertemplate": "Country=%{customdata[1]}<br>Year=%{customdata[0]}<br>Population (millions)=%{marker.size}<br>Temperature (°F)=%{y}<extra></extra>",
           "ids": [
            "Brazil"
           ],
           "legendgroup": "Brazil",
           "marker": {
            "color": "#EF553B",
            "size": [
             133888775
            ],
            "sizemode": "area",
            "sizeref": 201739.38484375,
            "symbol": "circle"
           },
           "mode": "markers",
           "name": "Brazil",
           "orientation": "v",
           "showlegend": true,
           "type": "scatter",
           "x": [
            133888775
           ],
           "xaxis": "x",
           "y": [
            25.109916666666667
           ],
           "yaxis": "y"
          },
          {
           "customdata": [
            [
             1984,
             "Germany"
            ]
           ],
           "hovertemplate": "Country=%{customdata[1]}<br>Year=%{customdata[0]}<br>Population (millions)=%{marker.size}<br>Temperature (°F)=%{y}<extra></extra>",
           "ids": [
            "Germany"
           ],
           "legendgroup": "Germany",
           "marker": {
            "color": "#00cc96",
            "size": [
             77858685
            ],
            "sizemode": "area",
            "sizeref": 201739.38484375,
            "symbol": "circle"
           },
           "mode": "markers",
           "name": "Germany",
           "orientation": "v",
           "showlegend": true,
           "type": "scatter",
           "x": [
            77858685
           ],
           "xaxis": "x",
           "y": [
            8.123
           ],
           "yaxis": "y"
          },
          {
           "customdata": [
            [
             1984,
             "India"
            ]
           ],
           "hovertemplate": "Country=%{customdata[1]}<br>Year=%{customdata[0]}<br>Population (millions)=%{marker.size}<br>Temperature (°F)=%{y}<extra></extra>",
           "ids": [
            "India"
           ],
           "legendgroup": "India",
           "marker": {
            "color": "#ab63fa",
            "size": [
             762895156
            ],
            "sizemode": "area",
            "sizeref": 201739.38484375,
            "symbol": "circle"
           },
           "mode": "markers",
           "name": "India",
           "orientation": "v",
           "showlegend": true,
           "type": "scatter",
           "x": [
            762895156
           ],
           "xaxis": "x",
           "y": [
            24.18508333333333
           ],
           "yaxis": "y"
          },
          {
           "customdata": [
            [
             1984,
             "South Africa"
            ]
           ],
           "hovertemplate": "Country=%{customdata[1]}<br>Year=%{customdata[0]}<br>Population (millions)=%{marker.size}<br>Temperature (°F)=%{y}<extra></extra>",
           "ids": [
            "South Africa"
           ],
           "legendgroup": "South Africa",
           "marker": {
            "color": "#FFA15A",
            "size": [
             32768207
            ],
            "sizemode": "area",
            "sizeref": 201739.38484375,
            "symbol": "circle"
           },
           "mode": "markers",
           "name": "South Africa",
           "orientation": "v",
           "showlegend": true,
           "type": "scatter",
           "x": [
            32768207
           ],
           "xaxis": "x",
           "y": [
            17.96816666666667
           ],
           "yaxis": "y"
          },
          {
           "customdata": [
            [
             1984,
             "United States"
            ]
           ],
           "hovertemplate": "Country=%{customdata[1]}<br>Year=%{customdata[0]}<br>Population (millions)=%{marker.size}<br>Temperature (°F)=%{y}<extra></extra>",
           "ids": [
            "United States"
           ],
           "legendgroup": "United States",
           "marker": {
            "color": "#19d3f3",
            "size": [
             235825000
            ],
            "sizemode": "area",
            "sizeref": 201739.38484375,
            "symbol": "circle"
           },
           "mode": "markers",
           "name": "United States",
           "orientation": "v",
           "showlegend": true,
           "type": "scatter",
           "x": [
            235825000
           ],
           "xaxis": "x",
           "y": [
            8.811166666666667
           ],
           "yaxis": "y"
          }
         ],
         "name": "1984"
        },
        {
         "data": [
          {
           "customdata": [
            [
             1985,
             "Australia"
            ]
           ],
           "hovertemplate": "Country=%{customdata[1]}<br>Year=%{customdata[0]}<br>Population (millions)=%{marker.size}<br>Temperature (°F)=%{y}<extra></extra>",
           "ids": [
            "Australia"
           ],
           "legendgroup": "Australia",
           "marker": {
            "color": "#636efa",
            "size": [
             15788312
            ],
            "sizemode": "area",
            "sizeref": 201739.38484375,
            "symbol": "circle"
           },
           "mode": "markers",
           "name": "Australia",
           "orientation": "v",
           "showlegend": true,
           "type": "scatter",
           "x": [
            15788312
           ],
           "xaxis": "x",
           "y": [
            22.04341666666667
           ],
           "yaxis": "y"
          },
          {
           "customdata": [
            [
             1985,
             "Brazil"
            ]
           ],
           "hovertemplate": "Country=%{customdata[1]}<br>Year=%{customdata[0]}<br>Population (millions)=%{marker.size}<br>Temperature (°F)=%{y}<extra></extra>",
           "ids": [
            "Brazil"
           ],
           "legendgroup": "Brazil",
           "marker": {
            "color": "#EF553B",
            "size": [
             136783180
            ],
            "sizemode": "area",
            "sizeref": 201739.38484375,
            "symbol": "circle"
           },
           "mode": "markers",
           "name": "Brazil",
           "orientation": "v",
           "showlegend": true,
           "type": "scatter",
           "x": [
            136783180
           ],
           "xaxis": "x",
           "y": [
            24.965666666666667
           ],
           "yaxis": "y"
          },
          {
           "customdata": [
            [
             1985,
             "Germany"
            ]
           ],
           "hovertemplate": "Country=%{customdata[1]}<br>Year=%{customdata[0]}<br>Population (millions)=%{marker.size}<br>Temperature (°F)=%{y}<extra></extra>",
           "ids": [
            "Germany"
           ],
           "legendgroup": "Germany",
           "marker": {
            "color": "#00cc96",
            "size": [
             77684873
            ],
            "sizemode": "area",
            "sizeref": 201739.38484375,
            "symbol": "circle"
           },
           "mode": "markers",
           "name": "Germany",
           "orientation": "v",
           "showlegend": true,
           "type": "scatter",
           "x": [
            77684873
           ],
           "xaxis": "x",
           "y": [
            7.613333333333333
           ],
           "yaxis": "y"
          },
          {
           "customdata": [
            [
             1985,
             "India"
            ]
           ],
           "hovertemplate": "Country=%{customdata[1]}<br>Year=%{customdata[0]}<br>Population (millions)=%{marker.size}<br>Temperature (°F)=%{y}<extra></extra>",
           "ids": [
            "India"
           ],
           "legendgroup": "India",
           "marker": {
            "color": "#ab63fa",
            "size": [
             780242084
            ],
            "sizemode": "area",
            "sizeref": 201739.38484375,
            "symbol": "circle"
           },
           "mode": "markers",
           "name": "India",
           "orientation": "v",
           "showlegend": true,
           "type": "scatter",
           "x": [
            780242084
           ],
           "xaxis": "x",
           "y": [
            24.48633333333333
           ],
           "yaxis": "y"
          },
          {
           "customdata": [
            [
             1985,
             "South Africa"
            ]
           ],
           "hovertemplate": "Country=%{customdata[1]}<br>Year=%{customdata[0]}<br>Population (millions)=%{marker.size}<br>Temperature (°F)=%{y}<extra></extra>",
           "ids": [
            "South Africa"
           ],
           "legendgroup": "South Africa",
           "marker": {
            "color": "#FFA15A",
            "size": [
             33752964
            ],
            "sizemode": "area",
            "sizeref": 201739.38484375,
            "symbol": "circle"
           },
           "mode": "markers",
           "name": "South Africa",
           "orientation": "v",
           "showlegend": true,
           "type": "scatter",
           "x": [
            33752964
           ],
           "xaxis": "x",
           "y": [
            18.056083333333333
           ],
           "yaxis": "y"
          },
          {
           "customdata": [
            [
             1985,
             "United States"
            ]
           ],
           "hovertemplate": "Country=%{customdata[1]}<br>Year=%{customdata[0]}<br>Population (millions)=%{marker.size}<br>Temperature (°F)=%{y}<extra></extra>",
           "ids": [
            "United States"
           ],
           "legendgroup": "United States",
           "marker": {
            "color": "#19d3f3",
            "size": [
             237924000
            ],
            "sizemode": "area",
            "sizeref": 201739.38484375,
            "symbol": "circle"
           },
           "mode": "markers",
           "name": "United States",
           "orientation": "v",
           "showlegend": true,
           "type": "scatter",
           "x": [
            237924000
           ],
           "xaxis": "x",
           "y": [
            8.587000000000002
           ],
           "yaxis": "y"
          }
         ],
         "name": "1985"
        },
        {
         "data": [
          {
           "customdata": [
            [
             1986,
             "Australia"
            ]
           ],
           "hovertemplate": "Country=%{customdata[1]}<br>Year=%{customdata[0]}<br>Population (millions)=%{marker.size}<br>Temperature (°F)=%{y}<extra></extra>",
           "ids": [
            "Australia"
           ],
           "legendgroup": "Australia",
           "marker": {
            "color": "#636efa",
            "size": [
             16018350
            ],
            "sizemode": "area",
            "sizeref": 201739.38484375,
            "symbol": "circle"
           },
           "mode": "markers",
           "name": "Australia",
           "orientation": "v",
           "showlegend": true,
           "type": "scatter",
           "x": [
            16018350
           ],
           "xaxis": "x",
           "y": [
            22.09325
           ],
           "yaxis": "y"
          },
          {
           "customdata": [
            [
             1986,
             "Brazil"
            ]
           ],
           "hovertemplate": "Country=%{customdata[1]}<br>Year=%{customdata[0]}<br>Population (millions)=%{marker.size}<br>Temperature (°F)=%{y}<extra></extra>",
           "ids": [
            "Brazil"
           ],
           "legendgroup": "Brazil",
           "marker": {
            "color": "#EF553B",
            "size": [
             139643355
            ],
            "sizemode": "area",
            "sizeref": 201739.38484375,
            "symbol": "circle"
           },
           "mode": "markers",
           "name": "Brazil",
           "orientation": "v",
           "showlegend": true,
           "type": "scatter",
           "x": [
            139643355
           ],
           "xaxis": "x",
           "y": [
            25.131
           ],
           "yaxis": "y"
          },
          {
           "customdata": [
            [
             1986,
             "Germany"
            ]
           ],
           "hovertemplate": "Country=%{customdata[1]}<br>Year=%{customdata[0]}<br>Population (millions)=%{marker.size}<br>Temperature (°F)=%{y}<extra></extra>",
           "ids": [
            "Germany"
           ],
           "legendgroup": "Germany",
           "marker": {
            "color": "#00cc96",
            "size": [
             77720436
            ],
            "sizemode": "area",
            "sizeref": 201739.38484375,
            "symbol": "circle"
           },
           "mode": "markers",
           "name": "Germany",
           "orientation": "v",
           "showlegend": true,
           "type": "scatter",
           "x": [
            77720436
           ],
           "xaxis": "x",
           "y": [
            8.085083333333333
           ],
           "yaxis": "y"
          },
          {
           "customdata": [
            [
             1986,
             "India"
            ]
           ],
           "hovertemplate": "Country=%{customdata[1]}<br>Year=%{customdata[0]}<br>Population (millions)=%{marker.size}<br>Temperature (°F)=%{y}<extra></extra>",
           "ids": [
            "India"
           ],
           "legendgroup": "India",
           "marker": {
            "color": "#ab63fa",
            "size": [
             797878993
            ],
            "sizemode": "area",
            "sizeref": 201739.38484375,
            "symbol": "circle"
           },
           "mode": "markers",
           "name": "India",
           "orientation": "v",
           "showlegend": true,
           "type": "scatter",
           "x": [
            797878993
           ],
           "xaxis": "x",
           "y": [
            24.2945
           ],
           "yaxis": "y"
          },
          {
           "customdata": [
            [
             1986,
             "South Africa"
            ]
           ],
           "hovertemplate": "Country=%{customdata[1]}<br>Year=%{customdata[0]}<br>Population (millions)=%{marker.size}<br>Temperature (°F)=%{y}<extra></extra>",
           "ids": [
            "South Africa"
           ],
           "legendgroup": "South Africa",
           "marker": {
            "color": "#FFA15A",
            "size": [
             34877834
            ],
            "sizemode": "area",
            "sizeref": 201739.38484375,
            "symbol": "circle"
           },
           "mode": "markers",
           "name": "South Africa",
           "orientation": "v",
           "showlegend": true,
           "type": "scatter",
           "x": [
            34877834
           ],
           "xaxis": "x",
           "y": [
            17.955000000000002
           ],
           "yaxis": "y"
          },
          {
           "customdata": [
            [
             1986,
             "United States"
            ]
           ],
           "hovertemplate": "Country=%{customdata[1]}<br>Year=%{customdata[0]}<br>Population (millions)=%{marker.size}<br>Temperature (°F)=%{y}<extra></extra>",
           "ids": [
            "United States"
           ],
           "legendgroup": "United States",
           "marker": {
            "color": "#19d3f3",
            "size": [
             240133000
            ],
            "sizemode": "area",
            "sizeref": 201739.38484375,
            "symbol": "circle"
           },
           "mode": "markers",
           "name": "United States",
           "orientation": "v",
           "showlegend": true,
           "type": "scatter",
           "x": [
            240133000
           ],
           "xaxis": "x",
           "y": [
            9.5595
           ],
           "yaxis": "y"
          }
         ],
         "name": "1986"
        },
        {
         "data": [
          {
           "customdata": [
            [
             1987,
             "Australia"
            ]
           ],
           "hovertemplate": "Country=%{customdata[1]}<br>Year=%{customdata[0]}<br>Population (millions)=%{marker.size}<br>Temperature (°F)=%{y}<extra></extra>",
           "ids": [
            "Australia"
           ],
           "legendgroup": "Australia",
           "marker": {
            "color": "#636efa",
            "size": [
             16263874
            ],
            "sizemode": "area",
            "sizeref": 201739.38484375,
            "symbol": "circle"
           },
           "mode": "markers",
           "name": "Australia",
           "orientation": "v",
           "showlegend": true,
           "type": "scatter",
           "x": [
            16263874
           ],
           "xaxis": "x",
           "y": [
            22.07241666666667
           ],
           "yaxis": "y"
          },
          {
           "customdata": [
            [
             1987,
             "Brazil"
            ]
           ],
           "hovertemplate": "Country=%{customdata[1]}<br>Year=%{customdata[0]}<br>Population (millions)=%{marker.size}<br>Temperature (°F)=%{y}<extra></extra>",
           "ids": [
            "Brazil"
           ],
           "legendgroup": "Brazil",
           "marker": {
            "color": "#EF553B",
            "size": [
             142466264
            ],
            "sizemode": "area",
            "sizeref": 201739.38484375,
            "symbol": "circle"
           },
           "mode": "markers",
           "name": "Brazil",
           "orientation": "v",
           "showlegend": true,
           "type": "scatter",
           "x": [
            142466264
           ],
           "xaxis": "x",
           "y": [
            25.56341666666667
           ],
           "yaxis": "y"
          },
          {
           "customdata": [
            [
             1987,
             "Germany"
            ]
           ],
           "hovertemplate": "Country=%{customdata[1]}<br>Year=%{customdata[0]}<br>Population (millions)=%{marker.size}<br>Temperature (°F)=%{y}<extra></extra>",
           "ids": [
            "Germany"
           ],
           "legendgroup": "Germany",
           "marker": {
            "color": "#00cc96",
            "size": [
             77839920
            ],
            "sizemode": "area",
            "sizeref": 201739.38484375,
            "symbol": "circle"
           },
           "mode": "markers",
           "name": "Germany",
           "orientation": "v",
           "showlegend": true,
           "type": "scatter",
           "x": [
            77839920
           ],
           "xaxis": "x",
           "y": [
            7.58925
           ],
           "yaxis": "y"
          },
          {
           "customdata": [
            [
             1987,
             "India"
            ]
           ],
           "hovertemplate": "Country=%{customdata[1]}<br>Year=%{customdata[0]}<br>Population (millions)=%{marker.size}<br>Temperature (°F)=%{y}<extra></extra>",
           "ids": [
            "India"
           ],
           "legendgroup": "India",
           "marker": {
            "color": "#ab63fa",
            "size": [
             815716125
            ],
            "sizemode": "area",
            "sizeref": 201739.38484375,
            "symbol": "circle"
           },
           "mode": "markers",
           "name": "India",
           "orientation": "v",
           "showlegend": true,
           "type": "scatter",
           "x": [
            815716125
           ],
           "xaxis": "x",
           "y": [
            24.78908333333333
           ],
           "yaxis": "y"
          },
          {
           "customdata": [
            [
             1987,
             "South Africa"
            ]
           ],
           "hovertemplate": "Country=%{customdata[1]}<br>Year=%{customdata[0]}<br>Population (millions)=%{marker.size}<br>Temperature (°F)=%{y}<extra></extra>",
           "ids": [
            "South Africa"
           ],
           "legendgroup": "South Africa",
           "marker": {
            "color": "#FFA15A",
            "size": [
             36119333
            ],
            "sizemode": "area",
            "sizeref": 201739.38484375,
            "symbol": "circle"
           },
           "mode": "markers",
           "name": "South Africa",
           "orientation": "v",
           "showlegend": true,
           "type": "scatter",
           "x": [
            36119333
           ],
           "xaxis": "x",
           "y": [
            18.103583333333333
           ],
           "yaxis": "y"
          },
          {
           "customdata": [
            [
             1987,
             "United States"
            ]
           ],
           "hovertemplate": "Country=%{customdata[1]}<br>Year=%{customdata[0]}<br>Population (millions)=%{marker.size}<br>Temperature (°F)=%{y}<extra></extra>",
           "ids": [
            "United States"
           ],
           "legendgroup": "United States",
           "marker": {
            "color": "#19d3f3",
            "size": [
             242289000
            ],
            "sizemode": "area",
            "sizeref": 201739.38484375,
            "symbol": "circle"
           },
           "mode": "markers",
           "name": "United States",
           "orientation": "v",
           "showlegend": true,
           "type": "scatter",
           "x": [
            242289000
           ],
           "xaxis": "x",
           "y": [
            9.628166666666669
           ],
           "yaxis": "y"
          }
         ],
         "name": "1987"
        },
        {
         "data": [
          {
           "customdata": [
            [
             1988,
             "Australia"
            ]
           ],
           "hovertemplate": "Country=%{customdata[1]}<br>Year=%{customdata[0]}<br>Population (millions)=%{marker.size}<br>Temperature (°F)=%{y}<extra></extra>",
           "ids": [
            "Australia"
           ],
           "legendgroup": "Australia",
           "marker": {
            "color": "#636efa",
            "size": [
             16532164
            ],
            "sizemode": "area",
            "sizeref": 201739.38484375,
            "symbol": "circle"
           },
           "mode": "markers",
           "name": "Australia",
           "orientation": "v",
           "showlegend": true,
           "type": "scatter",
           "x": [
            16532164
           ],
           "xaxis": "x",
           "y": [
            22.63008333333333
           ],
           "yaxis": "y"
          },
          {
           "customdata": [
            [
             1988,
             "Brazil"
            ]
           ],
           "hovertemplate": "Country=%{customdata[1]}<br>Year=%{customdata[0]}<br>Population (millions)=%{marker.size}<br>Temperature (°F)=%{y}<extra></extra>",
           "ids": [
            "Brazil"
           ],
           "legendgroup": "Brazil",
           "marker": {
            "color": "#EF553B",
            "size": [
             145253973
            ],
            "sizemode": "area",
            "sizeref": 201739.38484375,
            "symbol": "circle"
           },
           "mode": "markers",
           "name": "Brazil",
           "orientation": "v",
           "showlegend": true,
           "type": "scatter",
           "x": [
            145253973
           ],
           "xaxis": "x",
           "y": [
            25.177333333333337
           ],
           "yaxis": "y"
          },
          {
           "customdata": [
            [
             1988,
             "Germany"
            ]
           ],
           "hovertemplate": "Country=%{customdata[1]}<br>Year=%{customdata[0]}<br>Population (millions)=%{marker.size}<br>Temperature (°F)=%{y}<extra></extra>",
           "ids": [
            "Germany"
           ],
           "legendgroup": "Germany",
           "marker": {
            "color": "#00cc96",
            "size": [
             78144619
            ],
            "sizemode": "area",
            "sizeref": 201739.38484375,
            "symbol": "circle"
           },
           "mode": "markers",
           "name": "Germany",
           "orientation": "v",
           "showlegend": true,
           "type": "scatter",
           "x": [
            78144619
           ],
           "xaxis": "x",
           "y": [
            9.195583333333332
           ],
           "yaxis": "y"
          },
          {
           "customdata": [
            [
             1988,
             "India"
            ]
           ],
           "hovertemplate": "Country=%{customdata[1]}<br>Year=%{customdata[0]}<br>Population (millions)=%{marker.size}<br>Temperature (°F)=%{y}<extra></extra>",
           "ids": [
            "India"
           ],
           "legendgroup": "India",
           "marker": {
            "color": "#ab63fa",
            "size": [
             833729681
            ],
            "sizemode": "area",
            "sizeref": 201739.38484375,
            "symbol": "circle"
           },
           "mode": "markers",
           "name": "India",
           "orientation": "v",
           "showlegend": true,
           "type": "scatter",
           "x": [
            833729681
           ],
           "xaxis": "x",
           "y": [
            24.72775
           ],
           "yaxis": "y"
          },
          {
           "customdata": [
            [
             1988,
             "South Africa"
            ]
           ],
           "hovertemplate": "Country=%{customdata[1]}<br>Year=%{customdata[0]}<br>Population (millions)=%{marker.size}<br>Temperature (°F)=%{y}<extra></extra>",
           "ids": [
            "South Africa"
           ],
           "legendgroup": "South Africa",
           "marker": {
            "color": "#FFA15A",
            "size": [
             37393853
            ],
            "sizemode": "area",
            "sizeref": 201739.38484375,
            "symbol": "circle"
           },
           "mode": "markers",
           "name": "South Africa",
           "orientation": "v",
           "showlegend": true,
           "type": "scatter",
           "x": [
            37393853
           ],
           "xaxis": "x",
           "y": [
            17.628833333333333
           ],
           "yaxis": "y"
          },
          {
           "customdata": [
            [
             1988,
             "United States"
            ]
           ],
           "hovertemplate": "Country=%{customdata[1]}<br>Year=%{customdata[0]}<br>Population (millions)=%{marker.size}<br>Temperature (°F)=%{y}<extra></extra>",
           "ids": [
            "United States"
           ],
           "legendgroup": "United States",
           "marker": {
            "color": "#19d3f3",
            "size": [
             244499000
            ],
            "sizemode": "area",
            "sizeref": 201739.38484375,
            "symbol": "circle"
           },
           "mode": "markers",
           "name": "United States",
           "orientation": "v",
           "showlegend": true,
           "type": "scatter",
           "x": [
            244499000
           ],
           "xaxis": "x",
           "y": [
            9.275333333333334
           ],
           "yaxis": "y"
          }
         ],
         "name": "1988"
        },
        {
         "data": [
          {
           "customdata": [
            [
             1989,
             "Australia"
            ]
           ],
           "hovertemplate": "Country=%{customdata[1]}<br>Year=%{customdata[0]}<br>Population (millions)=%{marker.size}<br>Temperature (°F)=%{y}<extra></extra>",
           "ids": [
            "Australia"
           ],
           "legendgroup": "Australia",
           "marker": {
            "color": "#636efa",
            "size": [
             16814416
            ],
            "sizemode": "area",
            "sizeref": 201739.38484375,
            "symbol": "circle"
           },
           "mode": "markers",
           "name": "Australia",
           "orientation": "v",
           "showlegend": true,
           "type": "scatter",
           "x": [
            16814416
           ],
           "xaxis": "x",
           "y": [
            21.86283333333333
           ],
           "yaxis": "y"
          },
          {
           "customdata": [
            [
             1989,
             "Brazil"
            ]
           ],
           "hovertemplate": "Country=%{customdata[1]}<br>Year=%{customdata[0]}<br>Population (millions)=%{marker.size}<br>Temperature (°F)=%{y}<extra></extra>",
           "ids": [
            "Brazil"
           ],
           "legendgroup": "Brazil",
           "marker": {
            "color": "#EF553B",
            "size": [
             148003411
            ],
            "sizemode": "area",
            "sizeref": 201739.38484375,
            "symbol": "circle"
           },
           "mode": "markers",
           "name": "Brazil",
           "orientation": "v",
           "showlegend": true,
           "type": "scatter",
           "x": [
            148003411
           ],
           "xaxis": "x",
           "y": [
            24.871416666666665
           ],
           "yaxis": "y"
          },
          {
           "customdata": [
            [
             1989,
             "Germany"
            ]
           ],
           "hovertemplate": "Country=%{customdata[1]}<br>Year=%{customdata[0]}<br>Population (millions)=%{marker.size}<br>Temperature (°F)=%{y}<extra></extra>",
           "ids": [
            "Germany"
           ],
           "legendgroup": "Germany",
           "marker": {
            "color": "#00cc96",
            "size": [
             78751283
            ],
            "sizemode": "area",
            "sizeref": 201739.38484375,
            "symbol": "circle"
           },
           "mode": "markers",
           "name": "Germany",
           "orientation": "v",
           "showlegend": true,
           "type": "scatter",
           "x": [
            78751283
           ],
           "xaxis": "x",
           "y": [
            9.679833333333333
           ],
           "yaxis": "y"
          },
          {
           "customdata": [
            [
             1989,
             "India"
            ]
           ],
           "hovertemplate": "Country=%{customdata[1]}<br>Year=%{customdata[0]}<br>Population (millions)=%{marker.size}<br>Temperature (°F)=%{y}<extra></extra>",
           "ids": [
            "India"
           ],
           "legendgroup": "India",
           "marker": {
            "color": "#ab63fa",
            "size": [
             852012673
            ],
            "sizemode": "area",
            "sizeref": 201739.38484375,
            "symbol": "circle"
           },
           "mode": "markers",
           "name": "India",
           "orientation": "v",
           "showlegend": true,
           "type": "scatter",
           "x": [
            852012673
           ],
           "xaxis": "x",
           "y": [
            24.162333333333333
           ],
           "yaxis": "y"
          },
          {
           "customdata": [
            [
             1989,
             "South Africa"
            ]
           ],
           "hovertemplate": "Country=%{customdata[1]}<br>Year=%{customdata[0]}<br>Population (millions)=%{marker.size}<br>Temperature (°F)=%{y}<extra></extra>",
           "ids": [
            "South Africa"
           ],
           "legendgroup": "South Africa",
           "marker": {
            "color": "#FFA15A",
            "size": [
             38668684
            ],
            "sizemode": "area",
            "sizeref": 201739.38484375,
            "symbol": "circle"
           },
           "mode": "markers",
           "name": "South Africa",
           "orientation": "v",
           "showlegend": true,
           "type": "scatter",
           "x": [
            38668684
           ],
           "xaxis": "x",
           "y": [
            17.406166666666667
           ],
           "yaxis": "y"
          },
          {
           "customdata": [
            [
             1989,
             "United States"
            ]
           ],
           "hovertemplate": "Country=%{customdata[1]}<br>Year=%{customdata[0]}<br>Population (millions)=%{marker.size}<br>Temperature (°F)=%{y}<extra></extra>",
           "ids": [
            "United States"
           ],
           "legendgroup": "United States",
           "marker": {
            "color": "#19d3f3",
            "size": [
             246819000
            ],
            "sizemode": "area",
            "sizeref": 201739.38484375,
            "symbol": "circle"
           },
           "mode": "markers",
           "name": "United States",
           "orientation": "v",
           "showlegend": true,
           "type": "scatter",
           "x": [
            246819000
           ],
           "xaxis": "x",
           "y": [
            8.873083333333334
           ],
           "yaxis": "y"
          }
         ],
         "name": "1989"
        },
        {
         "data": [
          {
           "customdata": [
            [
             1990,
             "Australia"
            ]
           ],
           "hovertemplate": "Country=%{customdata[1]}<br>Year=%{customdata[0]}<br>Population (millions)=%{marker.size}<br>Temperature (°F)=%{y}<extra></extra>",
           "ids": [
            "Australia"
           ],
           "legendgroup": "Australia",
           "marker": {
            "color": "#636efa",
            "size": [
             17065128
            ],
            "sizemode": "area",
            "sizeref": 201739.38484375,
            "symbol": "circle"
           },
           "mode": "markers",
           "name": "Australia",
           "orientation": "v",
           "showlegend": true,
           "type": "scatter",
           "x": [
            17065128
           ],
           "xaxis": "x",
           "y": [
            22.35575
           ],
           "yaxis": "y"
          },
          {
           "customdata": [
            [
             1990,
             "Brazil"
            ]
           ],
           "hovertemplate": "Country=%{customdata[1]}<br>Year=%{customdata[0]}<br>Population (millions)=%{marker.size}<br>Temperature (°F)=%{y}<extra></extra>",
           "ids": [
            "Brazil"
           ],
           "legendgroup": "Brazil",
           "marker": {
            "color": "#EF553B",
            "size": [
             150706446
            ],
            "sizemode": "area",
            "sizeref": 201739.38484375,
            "symbol": "circle"
           },
           "mode": "markers",
           "name": "Brazil",
           "orientation": "v",
           "showlegend": true,
           "type": "scatter",
           "x": [
            150706446
           ],
           "xaxis": "x",
           "y": [
            25.27491666666667
           ],
           "yaxis": "y"
          },
          {
           "customdata": [
            [
             1990,
             "Germany"
            ]
           ],
           "hovertemplate": "Country=%{customdata[1]}<br>Year=%{customdata[0]}<br>Population (millions)=%{marker.size}<br>Temperature (°F)=%{y}<extra></extra>",
           "ids": [
            "Germany"
           ],
           "legendgroup": "Germany",
           "marker": {
            "color": "#00cc96",
            "size": [
             79433029
            ],
            "sizemode": "area",
            "sizeref": 201739.38484375,
            "symbol": "circle"
           },
           "mode": "markers",
           "name": "Germany",
           "orientation": "v",
           "showlegend": true,
           "type": "scatter",
           "x": [
            79433029
           ],
           "xaxis": "x",
           "y": [
            9.6895
           ],
           "yaxis": "y"
          },
          {
           "customdata": [
            [
             1990,
             "India"
            ]
           ],
           "hovertemplate": "Country=%{customdata[1]}<br>Year=%{customdata[0]}<br>Population (millions)=%{marker.size}<br>Temperature (°F)=%{y}<extra></extra>",
           "ids": [
            "India"
           ],
           "legendgroup": "India",
           "marker": {
            "color": "#ab63fa",
            "size": [
             870452165
            ],
            "sizemode": "area",
            "sizeref": 201739.38484375,
            "symbol": "circle"
           },
           "mode": "markers",
           "name": "India",
           "orientation": "v",
           "showlegend": true,
           "type": "scatter",
           "x": [
            870452165
           ],
           "xaxis": "x",
           "y": [
            24.17816666666667
           ],
           "yaxis": "y"
          },
          {
           "customdata": [
            [
             1990,
             "South Africa"
            ]
           ],
           "hovertemplate": "Country=%{customdata[1]}<br>Year=%{customdata[0]}<br>Population (millions)=%{marker.size}<br>Temperature (°F)=%{y}<extra></extra>",
           "ids": [
            "South Africa"
           ],
           "legendgroup": "South Africa",
           "marker": {
            "color": "#FFA15A",
            "size": [
             39877570
            ],
            "sizemode": "area",
            "sizeref": 201739.38484375,
            "symbol": "circle"
           },
           "mode": "markers",
           "name": "South Africa",
           "orientation": "v",
           "showlegend": true,
           "type": "scatter",
           "x": [
            39877570
           ],
           "xaxis": "x",
           "y": [
            17.728333333333335
           ],
           "yaxis": "y"
          },
          {
           "customdata": [
            [
             1990,
             "United States"
            ]
           ],
           "hovertemplate": "Country=%{customdata[1]}<br>Year=%{customdata[0]}<br>Population (millions)=%{marker.size}<br>Temperature (°F)=%{y}<extra></extra>",
           "ids": [
            "United States"
           ],
           "legendgroup": "United States",
           "marker": {
            "color": "#19d3f3",
            "size": [
             249623000
            ],
            "sizemode": "area",
            "sizeref": 201739.38484375,
            "symbol": "circle"
           },
           "mode": "markers",
           "name": "United States",
           "orientation": "v",
           "showlegend": true,
           "type": "scatter",
           "x": [
            249623000
           ],
           "xaxis": "x",
           "y": [
            9.521583333333334
           ],
           "yaxis": "y"
          }
         ],
         "name": "1990"
        },
        {
         "data": [
          {
           "customdata": [
            [
             1991,
             "Australia"
            ]
           ],
           "hovertemplate": "Country=%{customdata[1]}<br>Year=%{customdata[0]}<br>Population (millions)=%{marker.size}<br>Temperature (°F)=%{y}<extra></extra>",
           "ids": [
            "Australia"
           ],
           "legendgroup": "Australia",
           "marker": {
            "color": "#636efa",
            "size": [
             17284036
            ],
            "sizemode": "area",
            "sizeref": 201739.38484375,
            "symbol": "circle"
           },
           "mode": "markers",
           "name": "Australia",
           "orientation": "v",
           "showlegend": true,
           "type": "scatter",
           "x": [
            17284036
           ],
           "xaxis": "x",
           "y": [
            22.48741666666667
           ],
           "yaxis": "y"
          },
          {
           "customdata": [
            [
             1991,
             "Brazil"
            ]
           ],
           "hovertemplate": "Country=%{customdata[1]}<br>Year=%{customdata[0]}<br>Population (millions)=%{marker.size}<br>Temperature (°F)=%{y}<extra></extra>",
           "ids": [
            "Brazil"
           ],
           "legendgroup": "Brazil",
           "marker": {
            "color": "#EF553B",
            "size": [
             153336445
            ],
            "sizemode": "area",
            "sizeref": 201739.38484375,
            "symbol": "circle"
           },
           "mode": "markers",
           "name": "Brazil",
           "orientation": "v",
           "showlegend": true,
           "type": "scatter",
           "x": [
            153336445
           ],
           "xaxis": "x",
           "y": [
            25.29216666666667
           ],
           "yaxis": "y"
          },
          {
           "customdata": [
            [
             1991,
             "Germany"
            ]
           ],
           "hovertemplate": "Country=%{customdata[1]}<br>Year=%{customdata[0]}<br>Population (millions)=%{marker.size}<br>Temperature (°F)=%{y}<extra></extra>",
           "ids": [
            "Germany"
           ],
           "legendgroup": "Germany",
           "marker": {
            "color": "#00cc96",
            "size": [
             80013896
            ],
            "sizemode": "area",
            "sizeref": 201739.38484375,
            "symbol": "circle"
           },
           "mode": "markers",
           "name": "Germany",
           "orientation": "v",
           "showlegend": true,
           "type": "scatter",
           "x": [
            80013896
           ],
           "xaxis": "x",
           "y": [
            8.523083333333334
           ],
           "yaxis": "y"
          },
          {
           "customdata": [
            [
             1991,
             "India"
            ]
           ],
           "hovertemplate": "Country=%{customdata[1]}<br>Year=%{customdata[0]}<br>Population (millions)=%{marker.size}<br>Temperature (°F)=%{y}<extra></extra>",
           "ids": [
            "India"
           ],
           "legendgroup": "India",
           "marker": {
            "color": "#ab63fa",
            "size": [
             888941756
            ],
            "sizemode": "area",
            "sizeref": 201739.38484375,
            "symbol": "circle"
           },
           "mode": "markers",
           "name": "India",
           "orientation": "v",
           "showlegend": true,
           "type": "scatter",
           "x": [
            888941756
           ],
           "xaxis": "x",
           "y": [
            24.311750000000004
           ],
           "yaxis": "y"
          },
          {
           "customdata": [
            [
             1991,
             "South Africa"
            ]
           ],
           "hovertemplate": "Country=%{customdata[1]}<br>Year=%{customdata[0]}<br>Population (millions)=%{marker.size}<br>Temperature (°F)=%{y}<extra></extra>",
           "ids": [
            "South Africa"
           ],
           "legendgroup": "South Africa",
           "marker": {
            "color": "#FFA15A",
            "size": [
             40910959
            ],
            "sizemode": "area",
            "sizeref": 201739.38484375,
            "symbol": "circle"
           },
           "mode": "markers",
           "name": "South Africa",
           "orientation": "v",
           "showlegend": true,
           "type": "scatter",
           "x": [
            40910959
           ],
           "xaxis": "x",
           "y": [
            17.752
           ],
           "yaxis": "y"
          },
          {
           "customdata": [
            [
             1991,
             "United States"
            ]
           ],
           "hovertemplate": "Country=%{customdata[1]}<br>Year=%{customdata[0]}<br>Population (millions)=%{marker.size}<br>Temperature (°F)=%{y}<extra></extra>",
           "ids": [
            "United States"
           ],
           "legendgroup": "United States",
           "marker": {
            "color": "#19d3f3",
            "size": [
             252981000
            ],
            "sizemode": "area",
            "sizeref": 201739.38484375,
            "symbol": "circle"
           },
           "mode": "markers",
           "name": "United States",
           "orientation": "v",
           "showlegend": true,
           "type": "scatter",
           "x": [
            252981000
           ],
           "xaxis": "x",
           "y": [
            9.493666666666666
           ],
           "yaxis": "y"
          }
         ],
         "name": "1991"
        },
        {
         "data": [
          {
           "customdata": [
            [
             1992,
             "Australia"
            ]
           ],
           "hovertemplate": "Country=%{customdata[1]}<br>Year=%{customdata[0]}<br>Population (millions)=%{marker.size}<br>Temperature (°F)=%{y}<extra></extra>",
           "ids": [
            "Australia"
           ],
           "legendgroup": "Australia",
           "marker": {
            "color": "#636efa",
            "size": [
             17478635
            ],
            "sizemode": "area",
            "sizeref": 201739.38484375,
            "symbol": "circle"
           },
           "mode": "markers",
           "name": "Australia",
           "orientation": "v",
           "showlegend": true,
           "type": "scatter",
           "x": [
            17478635
           ],
           "xaxis": "x",
           "y": [
            21.932583333333337
           ],
           "yaxis": "y"
          },
          {
           "customdata": [
            [
             1992,
             "Brazil"
            ]
           ],
           "hovertemplate": "Country=%{customdata[1]}<br>Year=%{customdata[0]}<br>Population (millions)=%{marker.size}<br>Temperature (°F)=%{y}<extra></extra>",
           "ids": [
            "Brazil"
           ],
           "legendgroup": "Brazil",
           "marker": {
            "color": "#EF553B",
            "size": [
             155900790
            ],
            "sizemode": "area",
            "sizeref": 201739.38484375,
            "symbol": "circle"
           },
           "mode": "markers",
           "name": "Brazil",
           "orientation": "v",
           "showlegend": true,
           "type": "scatter",
           "x": [
            155900790
           ],
           "xaxis": "x",
           "y": [
            25.25133333333333
           ],
           "yaxis": "y"
          },
          {
           "customdata": [
            [
             1992,
             "Germany"
            ]
           ],
           "hovertemplate": "Country=%{customdata[1]}<br>Year=%{customdata[0]}<br>Population (millions)=%{marker.size}<br>Temperature (°F)=%{y}<extra></extra>",
           "ids": [
            "Germany"
           ],
           "legendgroup": "Germany",
           "marker": {
            "color": "#00cc96",
            "size": [
             80624598
            ],
            "sizemode": "area",
            "sizeref": 201739.38484375,
            "symbol": "circle"
           },
           "mode": "markers",
           "name": "Germany",
           "orientation": "v",
           "showlegend": true,
           "type": "scatter",
           "x": [
            80624598
           ],
           "xaxis": "x",
           "y": [
            9.505833333333332
           ],
           "yaxis": "y"
          },
          {
           "customdata": [
            [
             1992,
             "India"
            ]
           ],
           "hovertemplate": "Country=%{customdata[1]}<br>Year=%{customdata[0]}<br>Population (millions)=%{marker.size}<br>Temperature (°F)=%{y}<extra></extra>",
           "ids": [
            "India"
           ],
           "legendgroup": "India",
           "marker": {
            "color": "#ab63fa",
            "size": [
             907574049
            ],
            "sizemode": "area",
            "sizeref": 201739.38484375,
            "symbol": "circle"
           },
           "mode": "markers",
           "name": "India",
           "orientation": "v",
           "showlegend": true,
           "type": "scatter",
           "x": [
            907574049
           ],
           "xaxis": "x",
           "y": [
            24.222916666666663
           ],
           "yaxis": "y"
          },
          {
           "customdata": [
            [
             1992,
             "South Africa"
            ]
           ],
           "hovertemplate": "Country=%{customdata[1]}<br>Year=%{customdata[0]}<br>Population (millions)=%{marker.size}<br>Temperature (°F)=%{y}<extra></extra>",
           "ids": [
            "South Africa"
           ],
           "legendgroup": "South Africa",
           "marker": {
            "color": "#FFA15A",
            "size": [
             41760755
            ],
            "sizemode": "area",
            "sizeref": 201739.38484375,
            "symbol": "circle"
           },
           "mode": "markers",
           "name": "South Africa",
           "orientation": "v",
           "showlegend": true,
           "type": "scatter",
           "x": [
            41760755
           ],
           "xaxis": "x",
           "y": [
            18.25616666666667
           ],
           "yaxis": "y"
          },
          {
           "customdata": [
            [
             1992,
             "United States"
            ]
           ],
           "hovertemplate": "Country=%{customdata[1]}<br>Year=%{customdata[0]}<br>Population (millions)=%{marker.size}<br>Temperature (°F)=%{y}<extra></extra>",
           "ids": [
            "United States"
           ],
           "legendgroup": "United States",
           "marker": {
            "color": "#19d3f3",
            "size": [
             256514000
            ],
            "sizemode": "area",
            "sizeref": 201739.38484375,
            "symbol": "circle"
           },
           "mode": "markers",
           "name": "United States",
           "orientation": "v",
           "showlegend": true,
           "type": "scatter",
           "x": [
            256514000
           ],
           "xaxis": "x",
           "y": [
            9.056333333333331
           ],
           "yaxis": "y"
          }
         ],
         "name": "1992"
        },
        {
         "data": [
          {
           "customdata": [
            [
             1993,
             "Australia"
            ]
           ],
           "hovertemplate": "Country=%{customdata[1]}<br>Year=%{customdata[0]}<br>Population (millions)=%{marker.size}<br>Temperature (°F)=%{y}<extra></extra>",
           "ids": [
            "Australia"
           ],
           "legendgroup": "Australia",
           "marker": {
            "color": "#636efa",
            "size": [
             17634808
            ],
            "sizemode": "area",
            "sizeref": 201739.38484375,
            "symbol": "circle"
           },
           "mode": "markers",
           "name": "Australia",
           "orientation": "v",
           "showlegend": true,
           "type": "scatter",
           "x": [
            17634808
           ],
           "xaxis": "x",
           "y": [
            22.16016666666667
           ],
           "yaxis": "y"
          },
          {
           "customdata": [
            [
             1993,
             "Brazil"
            ]
           ],
           "hovertemplate": "Country=%{customdata[1]}<br>Year=%{customdata[0]}<br>Population (millions)=%{marker.size}<br>Temperature (°F)=%{y}<extra></extra>",
           "ids": [
            "Brazil"
           ],
           "legendgroup": "Brazil",
           "marker": {
            "color": "#EF553B",
            "size": [
             158440875
            ],
            "sizemode": "area",
            "sizeref": 201739.38484375,
            "symbol": "circle"
           },
           "mode": "markers",
           "name": "Brazil",
           "orientation": "v",
           "showlegend": true,
           "type": "scatter",
           "x": [
            158440875
           ],
           "xaxis": "x",
           "y": [
            25.354916666666668
           ],
           "yaxis": "y"
          },
          {
           "customdata": [
            [
             1993,
             "Germany"
            ]
           ],
           "hovertemplate": "Country=%{customdata[1]}<br>Year=%{customdata[0]}<br>Population (millions)=%{marker.size}<br>Temperature (°F)=%{y}<extra></extra>",
           "ids": [
            "Germany"
           ],
           "legendgroup": "Germany",
           "marker": {
            "color": "#00cc96",
            "size": [
             81156363
            ],
            "sizemode": "area",
            "sizeref": 201739.38484375,
            "symbol": "circle"
           },
           "mode": "markers",
           "name": "Germany",
           "orientation": "v",
           "showlegend": true,
           "type": "scatter",
           "x": [
            81156363
           ],
           "xaxis": "x",
           "y": [
            8.6335
           ],
           "yaxis": "y"
          },
          {
           "customdata": [
            [
             1993,
             "India"
            ]
           ],
           "hovertemplate": "Country=%{customdata[1]}<br>Year=%{customdata[0]}<br>Population (millions)=%{marker.size}<br>Temperature (°F)=%{y}<extra></extra>",
           "ids": [
            "India"
           ],
           "legendgroup": "India",
           "marker": {
            "color": "#ab63fa",
            "size": [
             926351297
            ],
            "sizemode": "area",
            "sizeref": 201739.38484375,
            "symbol": "circle"
           },
           "mode": "markers",
           "name": "India",
           "orientation": "v",
           "showlegend": true,
           "type": "scatter",
           "x": [
            926351297
           ],
           "xaxis": "x",
           "y": [
            24.408666666666665
           ],
           "yaxis": "y"
          },
          {
           "customdata": [
            [
             1993,
             "South Africa"
            ]
           ],
           "hovertemplate": "Country=%{customdata[1]}<br>Year=%{customdata[0]}<br>Population (millions)=%{marker.size}<br>Temperature (°F)=%{y}<extra></extra>",
           "ids": [
            "South Africa"
           ],
           "legendgroup": "South Africa",
           "marker": {
            "color": "#FFA15A",
            "size": [
             42525440
            ],
            "sizemode": "area",
            "sizeref": 201739.38484375,
            "symbol": "circle"
           },
           "mode": "markers",
           "name": "South Africa",
           "orientation": "v",
           "showlegend": true,
           "type": "scatter",
           "x": [
            42525440
           ],
           "xaxis": "x",
           "y": [
            18.20275
           ],
           "yaxis": "y"
          },
          {
           "customdata": [
            [
             1993,
             "United States"
            ]
           ],
           "hovertemplate": "Country=%{customdata[1]}<br>Year=%{customdata[0]}<br>Population (millions)=%{marker.size}<br>Temperature (°F)=%{y}<extra></extra>",
           "ids": [
            "United States"
           ],
           "legendgroup": "United States",
           "marker": {
            "color": "#19d3f3",
            "size": [
             259919000
            ],
            "sizemode": "area",
            "sizeref": 201739.38484375,
            "symbol": "circle"
           },
           "mode": "markers",
           "name": "United States",
           "orientation": "v",
           "showlegend": true,
           "type": "scatter",
           "x": [
            259919000
           ],
           "xaxis": "x",
           "y": [
            8.86725
           ],
           "yaxis": "y"
          }
         ],
         "name": "1993"
        },
        {
         "data": [
          {
           "customdata": [
            [
             1994,
             "Australia"
            ]
           ],
           "hovertemplate": "Country=%{customdata[1]}<br>Year=%{customdata[0]}<br>Population (millions)=%{marker.size}<br>Temperature (°F)=%{y}<extra></extra>",
           "ids": [
            "Australia"
           ],
           "legendgroup": "Australia",
           "marker": {
            "color": "#636efa",
            "size": [
             17805468
            ],
            "sizemode": "area",
            "sizeref": 201739.38484375,
            "symbol": "circle"
           },
           "mode": "markers",
           "name": "Australia",
           "orientation": "v",
           "showlegend": true,
           "type": "scatter",
           "x": [
            17805468
           ],
           "xaxis": "x",
           "y": [
            22.03025
           ],
           "yaxis": "y"
          },
          {
           "customdata": [
            [
             1994,
             "Brazil"
            ]
           ],
           "hovertemplate": "Country=%{customdata[1]}<br>Year=%{customdata[0]}<br>Population (millions)=%{marker.size}<br>Temperature (°F)=%{y}<extra></extra>",
           "ids": [
            "Brazil"
           ],
           "legendgroup": "Brazil",
           "marker": {
            "color": "#EF553B",
            "size": [
             160980472
            ],
            "sizemode": "area",
            "sizeref": 201739.38484375,
            "symbol": "circle"
           },
           "mode": "markers",
           "name": "Brazil",
           "orientation": "v",
           "showlegend": true,
           "type": "scatter",
           "x": [
            160980472
           ],
           "xaxis": "x",
           "y": [
            25.454666666666668
           ],
           "yaxis": "y"
          },
          {
           "customdata": [
            [
             1994,
             "Germany"
            ]
           ],
           "hovertemplate": "Country=%{customdata[1]}<br>Year=%{customdata[0]}<br>Population (millions)=%{marker.size}<br>Temperature (°F)=%{y}<extra></extra>",
           "ids": [
            "Germany"
           ],
           "legendgroup": "Germany",
           "marker": {
            "color": "#00cc96",
            "size": [
             81438348
            ],
            "sizemode": "area",
            "sizeref": 201739.38484375,
            "symbol": "circle"
           },
           "mode": "markers",
           "name": "Germany",
           "orientation": "v",
           "showlegend": true,
           "type": "scatter",
           "x": [
            81438348
           ],
           "xaxis": "x",
           "y": [
            9.847
           ],
           "yaxis": "y"
          },
          {
           "customdata": [
            [
             1994,
             "India"
            ]
           ],
           "hovertemplate": "Country=%{customdata[1]}<br>Year=%{customdata[0]}<br>Population (millions)=%{marker.size}<br>Temperature (°F)=%{y}<extra></extra>",
           "ids": [
            "India"
           ],
           "legendgroup": "India",
           "marker": {
            "color": "#ab63fa",
            "size": [
             945261958
            ],
            "sizemode": "area",
            "sizeref": 201739.38484375,
            "symbol": "circle"
           },
           "mode": "markers",
           "name": "India",
           "orientation": "v",
           "showlegend": true,
           "type": "scatter",
           "x": [
            945261958
           ],
           "xaxis": "x",
           "y": [
            24.29641666666667
           ],
           "yaxis": "y"
          },
          {
           "customdata": [
            [
             1994,
             "South Africa"
            ]
           ],
           "hovertemplate": "Country=%{customdata[1]}<br>Year=%{customdata[0]}<br>Population (millions)=%{marker.size}<br>Temperature (°F)=%{y}<extra></extra>",
           "ids": [
            "South Africa"
           ],
           "legendgroup": "South Africa",
           "marker": {
            "color": "#FFA15A",
            "size": [
             43267982
            ],
            "sizemode": "area",
            "sizeref": 201739.38484375,
            "symbol": "circle"
           },
           "mode": "markers",
           "name": "South Africa",
           "orientation": "v",
           "showlegend": true,
           "type": "scatter",
           "x": [
            43267982
           ],
           "xaxis": "x",
           "y": [
            17.61475
           ],
           "yaxis": "y"
          },
          {
           "customdata": [
            [
             1994,
             "United States"
            ]
           ],
           "hovertemplate": "Country=%{customdata[1]}<br>Year=%{customdata[0]}<br>Population (millions)=%{marker.size}<br>Temperature (°F)=%{y}<extra></extra>",
           "ids": [
            "United States"
           ],
           "legendgroup": "United States",
           "marker": {
            "color": "#19d3f3",
            "size": [
             263126000
            ],
            "sizemode": "area",
            "sizeref": 201739.38484375,
            "symbol": "circle"
           },
           "mode": "markers",
           "name": "United States",
           "orientation": "v",
           "showlegend": true,
           "type": "scatter",
           "x": [
            263126000
           ],
           "xaxis": "x",
           "y": [
            9.270333333333332
           ],
           "yaxis": "y"
          }
         ],
         "name": "1994"
        },
        {
         "data": [
          {
           "customdata": [
            [
             1995,
             "Australia"
            ]
           ],
           "hovertemplate": "Country=%{customdata[1]}<br>Year=%{customdata[0]}<br>Population (millions)=%{marker.size}<br>Temperature (°F)=%{y}<extra></extra>",
           "ids": [
            "Australia"
           ],
           "legendgroup": "Australia",
           "marker": {
            "color": "#636efa",
            "size": [
             18004882
            ],
            "sizemode": "area",
            "sizeref": 201739.38484375,
            "symbol": "circle"
           },
           "mode": "markers",
           "name": "Australia",
           "orientation": "v",
           "showlegend": true,
           "type": "scatter",
           "x": [
            18004882
           ],
           "xaxis": "x",
           "y": [
            21.955166666666667
           ],
           "yaxis": "y"
          },
          {
           "customdata": [
            [
             1995,
             "Brazil"
            ]
           ],
           "hovertemplate": "Country=%{customdata[1]}<br>Year=%{customdata[0]}<br>Population (millions)=%{marker.size}<br>Temperature (°F)=%{y}<extra></extra>",
           "ids": [
            "Brazil"
           ],
           "legendgroup": "Brazil",
           "marker": {
            "color": "#EF553B",
            "size": [
             163515328
            ],
            "sizemode": "area",
            "sizeref": 201739.38484375,
            "symbol": "circle"
           },
           "mode": "markers",
           "name": "Brazil",
           "orientation": "v",
           "showlegend": true,
           "type": "scatter",
           "x": [
            163515328
           ],
           "xaxis": "x",
           "y": [
            25.55441666666667
           ],
           "yaxis": "y"
          },
          {
           "customdata": [
            [
             1995,
             "Germany"
            ]
           ],
           "hovertemplate": "Country=%{customdata[1]}<br>Year=%{customdata[0]}<br>Population (millions)=%{marker.size}<br>Temperature (°F)=%{y}<extra></extra>",
           "ids": [
            "Germany"
           ],
           "legendgroup": "Germany",
           "marker": {
            "color": "#00cc96",
            "size": [
             81678051
            ],
            "sizemode": "area",
            "sizeref": 201739.38484375,
            "symbol": "circle"
           },
           "mode": "markers",
           "name": "Germany",
           "orientation": "v",
           "showlegend": true,
           "type": "scatter",
           "x": [
            81678051
           ],
           "xaxis": "x",
           "y": [
            9.0335
           ],
           "yaxis": "y"
          },
          {
           "customdata": [
            [
             1995,
             "India"
            ]
           ],
           "hovertemplate": "Country=%{customdata[1]}<br>Year=%{customdata[0]}<br>Population (millions)=%{marker.size}<br>Temperature (°F)=%{y}<extra></extra>",
           "ids": [
            "India"
           ],
           "legendgroup": "India",
           "marker": {
            "color": "#ab63fa",
            "size": [
             964279129
            ],
            "sizemode": "area",
            "sizeref": 201739.38484375,
            "symbol": "circle"
           },
           "mode": "markers",
           "name": "India",
           "orientation": "v",
           "showlegend": true,
           "type": "scatter",
           "x": [
            964279129
           ],
           "xaxis": "x",
           "y": [
            24.42975
           ],
           "yaxis": "y"
          },
          {
           "customdata": [
            [
             1995,
             "South Africa"
            ]
           ],
           "hovertemplate": "Country=%{customdata[1]}<br>Year=%{customdata[0]}<br>Population (millions)=%{marker.size}<br>Temperature (°F)=%{y}<extra></extra>",
           "ids": [
            "South Africa"
           ],
           "legendgroup": "South Africa",
           "marker": {
            "color": "#FFA15A",
            "size": [
             43986084
            ],
            "sizemode": "area",
            "sizeref": 201739.38484375,
            "symbol": "circle"
           },
           "mode": "markers",
           "name": "South Africa",
           "orientation": "v",
           "showlegend": true,
           "type": "scatter",
           "x": [
            43986084
           ],
           "xaxis": "x",
           "y": [
            17.87075
           ],
           "yaxis": "y"
          },
          {
           "customdata": [
            [
             1995,
             "United States"
            ]
           ],
           "hovertemplate": "Country=%{customdata[1]}<br>Year=%{customdata[0]}<br>Population (millions)=%{marker.size}<br>Temperature (°F)=%{y}<extra></extra>",
           "ids": [
            "United States"
           ],
           "legendgroup": "United States",
           "marker": {
            "color": "#19d3f3",
            "size": [
             266278000
            ],
            "sizemode": "area",
            "sizeref": 201739.38484375,
            "symbol": "circle"
           },
           "mode": "markers",
           "name": "United States",
           "orientation": "v",
           "showlegend": true,
           "type": "scatter",
           "x": [
            266278000
           ],
           "xaxis": "x",
           "y": [
            9.331
           ],
           "yaxis": "y"
          }
         ],
         "name": "1995"
        },
        {
         "data": [
          {
           "customdata": [
            [
             1996,
             "Australia"
            ]
           ],
           "hovertemplate": "Country=%{customdata[1]}<br>Year=%{customdata[0]}<br>Population (millions)=%{marker.size}<br>Temperature (°F)=%{y}<extra></extra>",
           "ids": [
            "Australia"
           ],
           "legendgroup": "Australia",
           "marker": {
            "color": "#636efa",
            "size": [
             18224767
            ],
            "sizemode": "area",
            "sizeref": 201739.38484375,
            "symbol": "circle"
           },
           "mode": "markers",
           "name": "Australia",
           "orientation": "v",
           "showlegend": true,
           "type": "scatter",
           "x": [
            18224767
           ],
           "xaxis": "x",
           "y": [
            22.325333333333333
           ],
           "yaxis": "y"
          },
          {
           "customdata": [
            [
             1996,
             "Brazil"
            ]
           ],
           "hovertemplate": "Country=%{customdata[1]}<br>Year=%{customdata[0]}<br>Population (millions)=%{marker.size}<br>Temperature (°F)=%{y}<extra></extra>",
           "ids": [
            "Brazil"
           ],
           "legendgroup": "Brazil",
           "marker": {
            "color": "#EF553B",
            "size": [
             166037122
            ],
            "sizemode": "area",
            "sizeref": 201739.38484375,
            "symbol": "circle"
           },
           "mode": "markers",
           "name": "Brazil",
           "orientation": "v",
           "showlegend": true,
           "type": "scatter",
           "x": [
            166037122
           ],
           "xaxis": "x",
           "y": [
            25.33783333333333
           ],
           "yaxis": "y"
          },
          {
           "customdata": [
            [
             1996,
             "Germany"
            ]
           ],
           "hovertemplate": "Country=%{customdata[1]}<br>Year=%{customdata[0]}<br>Population (millions)=%{marker.size}<br>Temperature (°F)=%{y}<extra></extra>",
           "ids": [
            "Germany"
           ],
           "legendgroup": "Germany",
           "marker": {
            "color": "#00cc96",
            "size": [
             81914831
            ],
            "sizemode": "area",
            "sizeref": 201739.38484375,
            "symbol": "circle"
           },
           "mode": "markers",
           "name": "Germany",
           "orientation": "v",
           "showlegend": true,
           "type": "scatter",
           "x": [
            81914831
           ],
           "xaxis": "x",
           "y": [
            7.374416666666666
           ],
           "yaxis": "y"
          },
          {
           "customdata": [
            [
             1996,
             "India"
            ]
           ],
           "hovertemplate": "Country=%{customdata[1]}<br>Year=%{customdata[0]}<br>Population (millions)=%{marker.size}<br>Temperature (°F)=%{y}<extra></extra>",
           "ids": [
            "India"
           ],
           "legendgroup": "India",
           "marker": {
            "color": "#ab63fa",
            "size": [
             983281218
            ],
            "sizemode": "area",
            "sizeref": 201739.38484375,
            "symbol": "circle"
           },
           "mode": "markers",
           "name": "India",
           "orientation": "v",
           "showlegend": true,
           "type": "scatter",
           "x": [
            983281218
           ],
           "xaxis": "x",
           "y": [
            24.436916666666665
           ],
           "yaxis": "y"
          },
          {
           "customdata": [
            [
             1996,
             "South Africa"
            ]
           ],
           "hovertemplate": "Country=%{customdata[1]}<br>Year=%{customdata[0]}<br>Population (millions)=%{marker.size}<br>Temperature (°F)=%{y}<extra></extra>",
           "ids": [
            "South Africa"
           ],
           "legendgroup": "South Africa",
           "marker": {
            "color": "#FFA15A",
            "size": [
             44661603
            ],
            "sizemode": "area",
            "sizeref": 201739.38484375,
            "symbol": "circle"
           },
           "mode": "markers",
           "name": "South Africa",
           "orientation": "v",
           "showlegend": true,
           "type": "scatter",
           "x": [
            44661603
           ],
           "xaxis": "x",
           "y": [
            17.258666666666667
           ],
           "yaxis": "y"
          },
          {
           "customdata": [
            [
             1996,
             "United States"
            ]
           ],
           "hovertemplate": "Country=%{customdata[1]}<br>Year=%{customdata[0]}<br>Population (millions)=%{marker.size}<br>Temperature (°F)=%{y}<extra></extra>",
           "ids": [
            "United States"
           ],
           "legendgroup": "United States",
           "marker": {
            "color": "#19d3f3",
            "size": [
             269394000
            ],
            "sizemode": "area",
            "sizeref": 201739.38484375,
            "symbol": "circle"
           },
           "mode": "markers",
           "name": "United States",
           "orientation": "v",
           "showlegend": true,
           "type": "scatter",
           "x": [
            269394000
           ],
           "xaxis": "x",
           "y": [
            8.754333333333333
           ],
           "yaxis": "y"
          }
         ],
         "name": "1996"
        },
        {
         "data": [
          {
           "customdata": [
            [
             1997,
             "Australia"
            ]
           ],
           "hovertemplate": "Country=%{customdata[1]}<br>Year=%{customdata[0]}<br>Population (millions)=%{marker.size}<br>Temperature (°F)=%{y}<extra></extra>",
           "ids": [
            "Australia"
           ],
           "legendgroup": "Australia",
           "marker": {
            "color": "#636efa",
            "size": [
             18423037
            ],
            "sizemode": "area",
            "sizeref": 201739.38484375,
            "symbol": "circle"
           },
           "mode": "markers",
           "name": "Australia",
           "orientation": "v",
           "showlegend": true,
           "type": "scatter",
           "x": [
            18423037
           ],
           "xaxis": "x",
           "y": [
            22.086
           ],
           "yaxis": "y"
          },
          {
           "customdata": [
            [
             1997,
             "Brazil"
            ]
           ],
           "hovertemplate": "Country=%{customdata[1]}<br>Year=%{customdata[0]}<br>Population (millions)=%{marker.size}<br>Temperature (°F)=%{y}<extra></extra>",
           "ids": [
            "Brazil"
           ],
           "legendgroup": "Brazil",
           "marker": {
            "color": "#EF553B",
            "size": [
             168546707
            ],
            "sizemode": "area",
            "sizeref": 201739.38484375,
            "symbol": "circle"
           },
           "mode": "markers",
           "name": "Brazil",
           "orientation": "v",
           "showlegend": true,
           "type": "scatter",
           "x": [
            168546707
           ],
           "xaxis": "x",
           "y": [
            25.559416666666667
           ],
           "yaxis": "y"
          },
          {
           "customdata": [
            [
             1997,
             "Germany"
            ]
           ],
           "hovertemplate": "Country=%{customdata[1]}<br>Year=%{customdata[0]}<br>Population (millions)=%{marker.size}<br>Temperature (°F)=%{y}<extra></extra>",
           "ids": [
            "Germany"
           ],
           "legendgroup": "Germany",
           "marker": {
            "color": "#00cc96",
            "size": [
             82034771
            ],
            "sizemode": "area",
            "sizeref": 201739.38484375,
            "symbol": "circle"
           },
           "mode": "markers",
           "name": "Germany",
           "orientation": "v",
           "showlegend": true,
           "type": "scatter",
           "x": [
            82034771
           ],
           "xaxis": "x",
           "y": [
            9.048666666666668
           ],
           "yaxis": "y"
          },
          {
           "customdata": [
            [
             1997,
             "India"
            ]
           ],
           "hovertemplate": "Country=%{customdata[1]}<br>Year=%{customdata[0]}<br>Population (millions)=%{marker.size}<br>Temperature (°F)=%{y}<extra></extra>",
           "ids": [
            "India"
           ],
           "legendgroup": "India",
           "marker": {
            "color": "#ab63fa",
            "size": [
             1002335230
            ],
            "sizemode": "area",
            "sizeref": 201739.38484375,
            "symbol": "circle"
           },
           "mode": "markers",
           "name": "India",
           "orientation": "v",
           "showlegend": true,
           "type": "scatter",
           "x": [
            1002335230
           ],
           "xaxis": "x",
           "y": [
            24.04733333333333
           ],
           "yaxis": "y"
          },
          {
           "customdata": [
            [
             1997,
             "South Africa"
            ]
           ],
           "hovertemplate": "Country=%{customdata[1]}<br>Year=%{customdata[0]}<br>Population (millions)=%{marker.size}<br>Temperature (°F)=%{y}<extra></extra>",
           "ids": [
            "South Africa"
           ],
           "legendgroup": "South Africa",
           "marker": {
            "color": "#FFA15A",
            "size": [
             45285048
            ],
            "sizemode": "area",
            "sizeref": 201739.38484375,
            "symbol": "circle"
           },
           "mode": "markers",
           "name": "South Africa",
           "orientation": "v",
           "showlegend": true,
           "type": "scatter",
           "x": [
            45285048
           ],
           "xaxis": "x",
           "y": [
            17.61525
           ],
           "yaxis": "y"
          },
          {
           "customdata": [
            [
             1997,
             "United States"
            ]
           ],
           "hovertemplate": "Country=%{customdata[1]}<br>Year=%{customdata[0]}<br>Population (millions)=%{marker.size}<br>Temperature (°F)=%{y}<extra></extra>",
           "ids": [
            "United States"
           ],
           "legendgroup": "United States",
           "marker": {
            "color": "#19d3f3",
            "size": [
             272657000
            ],
            "sizemode": "area",
            "sizeref": 201739.38484375,
            "symbol": "circle"
           },
           "mode": "markers",
           "name": "United States",
           "orientation": "v",
           "showlegend": true,
           "type": "scatter",
           "x": [
            272657000
           ],
           "xaxis": "x",
           "y": [
            9.172916666666667
           ],
           "yaxis": "y"
          }
         ],
         "name": "1997"
        },
        {
         "data": [
          {
           "customdata": [
            [
             1998,
             "Australia"
            ]
           ],
           "hovertemplate": "Country=%{customdata[1]}<br>Year=%{customdata[0]}<br>Population (millions)=%{marker.size}<br>Temperature (°F)=%{y}<extra></extra>",
           "ids": [
            "Australia"
           ],
           "legendgroup": "Australia",
           "marker": {
            "color": "#636efa",
            "size": [
             18607584
            ],
            "sizemode": "area",
            "sizeref": 201739.38484375,
            "symbol": "circle"
           },
           "mode": "markers",
           "name": "Australia",
           "orientation": "v",
           "showlegend": true,
           "type": "scatter",
           "x": [
            18607584
           ],
           "xaxis": "x",
           "y": [
            22.66483333333333
           ],
           "yaxis": "y"
          },
          {
           "customdata": [
            [
             1998,
             "Brazil"
            ]
           ],
           "hovertemplate": "Country=%{customdata[1]}<br>Year=%{customdata[0]}<br>Population (millions)=%{marker.size}<br>Temperature (°F)=%{y}<extra></extra>",
           "ids": [
            "Brazil"
           ],
           "legendgroup": "Brazil",
           "marker": {
            "color": "#EF553B",
            "size": [
             171039804
            ],
            "sizemode": "area",
            "sizeref": 201739.38484375,
            "symbol": "circle"
           },
           "mode": "markers",
           "name": "Brazil",
           "orientation": "v",
           "showlegend": true,
           "type": "scatter",
           "x": [
            171039804
           ],
           "xaxis": "x",
           "y": [
            25.95875
           ],
           "yaxis": "y"
          },
          {
           "customdata": [
            [
             1998,
             "Germany"
            ]
           ],
           "hovertemplate": "Country=%{customdata[1]}<br>Year=%{customdata[0]}<br>Population (millions)=%{marker.size}<br>Temperature (°F)=%{y}<extra></extra>",
           "ids": [
            "Germany"
           ],
           "legendgroup": "Germany",
           "marker": {
            "color": "#00cc96",
            "size": [
             82047195
            ],
            "sizemode": "area",
            "sizeref": 201739.38484375,
            "symbol": "circle"
           },
           "mode": "markers",
           "name": "Germany",
           "orientation": "v",
           "showlegend": true,
           "type": "scatter",
           "x": [
            82047195
           ],
           "xaxis": "x",
           "y": [
            9.17175
           ],
           "yaxis": "y"
          },
          {
           "customdata": [
            [
             1998,
             "India"
            ]
           ],
           "hovertemplate": "Country=%{customdata[1]}<br>Year=%{customdata[0]}<br>Population (millions)=%{marker.size}<br>Temperature (°F)=%{y}<extra></extra>",
           "ids": [
            "India"
           ],
           "legendgroup": "India",
           "marker": {
            "color": "#ab63fa",
            "size": [
             1021434576
            ],
            "sizemode": "area",
            "sizeref": 201739.38484375,
            "symbol": "circle"
           },
           "mode": "markers",
           "name": "India",
           "orientation": "v",
           "showlegend": true,
           "type": "scatter",
           "x": [
            1021434576
           ],
           "xaxis": "x",
           "y": [
            24.755416666666665
           ],
           "yaxis": "y"
          },
          {
           "customdata": [
            [
             1998,
             "South Africa"
            ]
           ],
           "hovertemplate": "Country=%{customdata[1]}<br>Year=%{customdata[0]}<br>Population (millions)=%{marker.size}<br>Temperature (°F)=%{y}<extra></extra>",
           "ids": [
            "South Africa"
           ],
           "legendgroup": "South Africa",
           "marker": {
            "color": "#FFA15A",
            "size": [
             45852166
            ],
            "sizemode": "area",
            "sizeref": 201739.38484375,
            "symbol": "circle"
           },
           "mode": "markers",
           "name": "South Africa",
           "orientation": "v",
           "showlegend": true,
           "type": "scatter",
           "x": [
            45852166
           ],
           "xaxis": "x",
           "y": [
            18.095333333333333
           ],
           "yaxis": "y"
          },
          {
           "customdata": [
            [
             1998,
             "United States"
            ]
           ],
           "hovertemplate": "Country=%{customdata[1]}<br>Year=%{customdata[0]}<br>Population (millions)=%{marker.size}<br>Temperature (°F)=%{y}<extra></extra>",
           "ids": [
            "United States"
           ],
           "legendgroup": "United States",
           "marker": {
            "color": "#19d3f3",
            "size": [
             275854000
            ],
            "sizemode": "area",
            "sizeref": 201739.38484375,
            "symbol": "circle"
           },
           "mode": "markers",
           "name": "United States",
           "orientation": "v",
           "showlegend": true,
           "type": "scatter",
           "x": [
            275854000
           ],
           "xaxis": "x",
           "y": [
            10.141166666666669
           ],
           "yaxis": "y"
          }
         ],
         "name": "1998"
        },
        {
         "data": [
          {
           "customdata": [
            [
             1999,
             "Australia"
            ]
           ],
           "hovertemplate": "Country=%{customdata[1]}<br>Year=%{customdata[0]}<br>Population (millions)=%{marker.size}<br>Temperature (°F)=%{y}<extra></extra>",
           "ids": [
            "Australia"
           ],
           "legendgroup": "Australia",
           "marker": {
            "color": "#636efa",
            "size": [
             18812264
            ],
            "sizemode": "area",
            "sizeref": 201739.38484375,
            "symbol": "circle"
           },
           "mode": "markers",
           "name": "Australia",
           "orientation": "v",
           "showlegend": true,
           "type": "scatter",
           "x": [
            18812264
           ],
           "xaxis": "x",
           "y": [
            22.0645
           ],
           "yaxis": "y"
          },
          {
           "customdata": [
            [
             1999,
             "Brazil"
            ]
           ],
           "hovertemplate": "Country=%{customdata[1]}<br>Year=%{customdata[0]}<br>Population (millions)=%{marker.size}<br>Temperature (°F)=%{y}<extra></extra>",
           "ids": [
            "Brazil"
           ],
           "legendgroup": "Brazil",
           "marker": {
            "color": "#EF553B",
            "size": [
             173486281
            ],
            "sizemode": "area",
            "sizeref": 201739.38484375,
            "symbol": "circle"
           },
           "mode": "markers",
           "name": "Brazil",
           "orientation": "v",
           "showlegend": true,
           "type": "scatter",
           "x": [
            173486281
           ],
           "xaxis": "x",
           "y": [
            25.286583333333336
           ],
           "yaxis": "y"
          },
          {
           "customdata": [
            [
             1999,
             "Germany"
            ]
           ],
           "hovertemplate": "Country=%{customdata[1]}<br>Year=%{customdata[0]}<br>Population (millions)=%{marker.size}<br>Temperature (°F)=%{y}<extra></extra>",
           "ids": [
            "Germany"
           ],
           "legendgroup": "Germany",
           "marker": {
            "color": "#00cc96",
            "size": [
             82100243
            ],
            "sizemode": "area",
            "sizeref": 201739.38484375,
            "symbol": "circle"
           },
           "mode": "markers",
           "name": "Germany",
           "orientation": "v",
           "showlegend": true,
           "type": "scatter",
           "x": [
            82100243
           ],
           "xaxis": "x",
           "y": [
            9.62075
           ],
           "yaxis": "y"
          },
          {
           "customdata": [
            [
             1999,
             "India"
            ]
           ],
           "hovertemplate": "Country=%{customdata[1]}<br>Year=%{customdata[0]}<br>Population (millions)=%{marker.size}<br>Temperature (°F)=%{y}<extra></extra>",
           "ids": [
            "India"
           ],
           "legendgroup": "India",
           "marker": {
            "color": "#ab63fa",
            "size": [
             1040500054
            ],
            "sizemode": "area",
            "sizeref": 201739.38484375,
            "symbol": "circle"
           },
           "mode": "markers",
           "name": "India",
           "orientation": "v",
           "showlegend": true,
           "type": "scatter",
           "x": [
            1040500054
           ],
           "xaxis": "x",
           "y": [
            24.65983333333333
           ],
           "yaxis": "y"
          },
          {
           "customdata": [
            [
             1999,
             "South Africa"
            ]
           ],
           "hovertemplate": "Country=%{customdata[1]}<br>Year=%{customdata[0]}<br>Population (millions)=%{marker.size}<br>Temperature (°F)=%{y}<extra></extra>",
           "ids": [
            "South Africa"
           ],
           "legendgroup": "South Africa",
           "marker": {
            "color": "#FFA15A",
            "size": [
             46364681
            ],
            "sizemode": "area",
            "sizeref": 201739.38484375,
            "symbol": "circle"
           },
           "mode": "markers",
           "name": "South Africa",
           "orientation": "v",
           "showlegend": true,
           "type": "scatter",
           "x": [
            46364681
           ],
           "xaxis": "x",
           "y": [
            18.5455
           ],
           "yaxis": "y"
          },
          {
           "customdata": [
            [
             1999,
             "United States"
            ]
           ],
           "hovertemplate": "Country=%{customdata[1]}<br>Year=%{customdata[0]}<br>Population (millions)=%{marker.size}<br>Temperature (°F)=%{y}<extra></extra>",
           "ids": [
            "United States"
           ],
           "legendgroup": "United States",
           "marker": {
            "color": "#19d3f3",
            "size": [
             279040000
            ],
            "sizemode": "area",
            "sizeref": 201739.38484375,
            "symbol": "circle"
           },
           "mode": "markers",
           "name": "United States",
           "orientation": "v",
           "showlegend": true,
           "type": "scatter",
           "x": [
            279040000
           ],
           "xaxis": "x",
           "y": [
            9.567
           ],
           "yaxis": "y"
          }
         ],
         "name": "1999"
        },
        {
         "data": [
          {
           "customdata": [
            [
             2000,
             "Australia"
            ]
           ],
           "hovertemplate": "Country=%{customdata[1]}<br>Year=%{customdata[0]}<br>Population (millions)=%{marker.size}<br>Temperature (°F)=%{y}<extra></extra>",
           "ids": [
            "Australia"
           ],
           "legendgroup": "Australia",
           "marker": {
            "color": "#636efa",
            "size": [
             19028802
            ],
            "sizemode": "area",
            "sizeref": 201739.38484375,
            "symbol": "circle"
           },
           "mode": "markers",
           "name": "Australia",
           "orientation": "v",
           "showlegend": true,
           "type": "scatter",
           "x": [
            19028802
           ],
           "xaxis": "x",
           "y": [
            21.709666666666667
           ],
           "yaxis": "y"
          },
          {
           "customdata": [
            [
             2000,
             "Brazil"
            ]
           ],
           "hovertemplate": "Country=%{customdata[1]}<br>Year=%{customdata[0]}<br>Population (millions)=%{marker.size}<br>Temperature (°F)=%{y}<extra></extra>",
           "ids": [
            "Brazil"
           ],
           "legendgroup": "Brazil",
           "marker": {
            "color": "#EF553B",
            "size": [
             175873720
            ],
            "sizemode": "area",
            "sizeref": 201739.38484375,
            "symbol": "circle"
           },
           "mode": "markers",
           "name": "Brazil",
           "orientation": "v",
           "showlegend": true,
           "type": "scatter",
           "x": [
            175873720
           ],
           "xaxis": "x",
           "y": [
            25.1965
           ],
           "yaxis": "y"
          },
          {
           "customdata": [
            [
             2000,
             "Germany"
            ]
           ],
           "hovertemplate": "Country=%{customdata[1]}<br>Year=%{customdata[0]}<br>Population (millions)=%{marker.size}<br>Temperature (°F)=%{y}<extra></extra>",
           "ids": [
            "Germany"
           ],
           "legendgroup": "Germany",
           "marker": {
            "color": "#00cc96",
            "size": [
             82211508
            ],
            "sizemode": "area",
            "sizeref": 201739.38484375,
            "symbol": "circle"
           },
           "mode": "markers",
           "name": "Germany",
           "orientation": "v",
           "showlegend": true,
           "type": "scatter",
           "x": [
            82211508
           ],
           "xaxis": "x",
           "y": [
            10.020416666666666
           ],
           "yaxis": "y"
          },
          {
           "customdata": [
            [
             2000,
             "India"
            ]
           ],
           "hovertemplate": "Country=%{customdata[1]}<br>Year=%{customdata[0]}<br>Population (millions)=%{marker.size}<br>Temperature (°F)=%{y}<extra></extra>",
           "ids": [
            "India"
           ],
           "legendgroup": "India",
           "marker": {
            "color": "#ab63fa",
            "size": [
             1059633675
            ],
            "sizemode": "area",
            "sizeref": 201739.38484375,
            "symbol": "circle"
           },
           "mode": "markers",
           "name": "India",
           "orientation": "v",
           "showlegend": true,
           "type": "scatter",
           "x": [
            1059633675
           ],
           "xaxis": "x",
           "y": [
            24.498
           ],
           "yaxis": "y"
          },
          {
           "customdata": [
            [
             2000,
             "South Africa"
            ]
           ],
           "hovertemplate": "Country=%{customdata[1]}<br>Year=%{customdata[0]}<br>Population (millions)=%{marker.size}<br>Temperature (°F)=%{y}<extra></extra>",
           "ids": [
            "South Africa"
           ],
           "legendgroup": "South Africa",
           "marker": {
            "color": "#FFA15A",
            "size": [
             46813266
            ],
            "sizemode": "area",
            "sizeref": 201739.38484375,
            "symbol": "circle"
           },
           "mode": "markers",
           "name": "South Africa",
           "orientation": "v",
           "showlegend": true,
           "type": "scatter",
           "x": [
            46813266
           ],
           "xaxis": "x",
           "y": [
            17.585583333333336
           ],
           "yaxis": "y"
          },
          {
           "customdata": [
            [
             2000,
             "United States"
            ]
           ],
           "hovertemplate": "Country=%{customdata[1]}<br>Year=%{customdata[0]}<br>Population (millions)=%{marker.size}<br>Temperature (°F)=%{y}<extra></extra>",
           "ids": [
            "United States"
           ],
           "legendgroup": "United States",
           "marker": {
            "color": "#19d3f3",
            "size": [
             282162411
            ],
            "sizemode": "area",
            "sizeref": 201739.38484375,
            "symbol": "circle"
           },
           "mode": "markers",
           "name": "United States",
           "orientation": "v",
           "showlegend": true,
           "type": "scatter",
           "x": [
            282162411
           ],
           "xaxis": "x",
           "y": [
            9.64975
           ],
           "yaxis": "y"
          }
         ],
         "name": "2000"
        },
        {
         "data": [
          {
           "customdata": [
            [
             2001,
             "Australia"
            ]
           ],
           "hovertemplate": "Country=%{customdata[1]}<br>Year=%{customdata[0]}<br>Population (millions)=%{marker.size}<br>Temperature (°F)=%{y}<extra></extra>",
           "ids": [
            "Australia"
           ],
           "legendgroup": "Australia",
           "marker": {
            "color": "#636efa",
            "size": [
             19274701
            ],
            "sizemode": "area",
            "sizeref": 201739.38484375,
            "symbol": "circle"
           },
           "mode": "markers",
           "name": "Australia",
           "orientation": "v",
           "showlegend": true,
           "type": "scatter",
           "x": [
            19274701
           ],
           "xaxis": "x",
           "y": [
            21.79275
           ],
           "yaxis": "y"
          },
          {
           "customdata": [
            [
             2001,
             "Brazil"
            ]
           ],
           "hovertemplate": "Country=%{customdata[1]}<br>Year=%{customdata[0]}<br>Population (millions)=%{marker.size}<br>Temperature (°F)=%{y}<extra></extra>",
           "ids": [
            "Brazil"
           ],
           "legendgroup": "Brazil",
           "marker": {
            "color": "#EF553B",
            "size": [
             178211881
            ],
            "sizemode": "area",
            "sizeref": 201739.38484375,
            "symbol": "circle"
           },
           "mode": "markers",
           "name": "Brazil",
           "orientation": "v",
           "showlegend": true,
           "type": "scatter",
           "x": [
            178211881
           ],
           "xaxis": "x",
           "y": [
            25.504416666666668
           ],
           "yaxis": "y"
          },
          {
           "customdata": [
            [
             2001,
             "Germany"
            ]
           ],
           "hovertemplate": "Country=%{customdata[1]}<br>Year=%{customdata[0]}<br>Population (millions)=%{marker.size}<br>Temperature (°F)=%{y}<extra></extra>",
           "ids": [
            "Germany"
           ],
           "legendgroup": "Germany",
           "marker": {
            "color": "#00cc96",
            "size": [
             82349925
            ],
            "sizemode": "area",
            "sizeref": 201739.38484375,
            "symbol": "circle"
           },
           "mode": "markers",
           "name": "Germany",
           "orientation": "v",
           "showlegend": true,
           "type": "scatter",
           "x": [
            82349925
           ],
           "xaxis": "x",
           "y": [
            9.090416666666666
           ],
           "yaxis": "y"
          },
          {
           "customdata": [
            [
             2001,
             "India"
            ]
           ],
           "hovertemplate": "Country=%{customdata[1]}<br>Year=%{customdata[0]}<br>Population (millions)=%{marker.size}<br>Temperature (°F)=%{y}<extra></extra>",
           "ids": [
            "India"
           ],
           "legendgroup": "India",
           "marker": {
            "color": "#ab63fa",
            "size": [
             1078970907
            ],
            "sizemode": "area",
            "sizeref": 201739.38484375,
            "symbol": "circle"
           },
           "mode": "markers",
           "name": "India",
           "orientation": "v",
           "showlegend": true,
           "type": "scatter",
           "x": [
            1078970907
           ],
           "xaxis": "x",
           "y": [
            24.581916666666668
           ],
           "yaxis": "y"
          },
          {
           "customdata": [
            [
             2001,
             "South Africa"
            ]
           ],
           "hovertemplate": "Country=%{customdata[1]}<br>Year=%{customdata[0]}<br>Population (millions)=%{marker.size}<br>Temperature (°F)=%{y}<extra></extra>",
           "ids": [
            "South Africa"
           ],
           "legendgroup": "South Africa",
           "marker": {
            "color": "#FFA15A",
            "size": [
             47229714
            ],
            "sizemode": "area",
            "sizeref": 201739.38484375,
            "symbol": "circle"
           },
           "mode": "markers",
           "name": "South Africa",
           "orientation": "v",
           "showlegend": true,
           "type": "scatter",
           "x": [
            47229714
           ],
           "xaxis": "x",
           "y": [
            17.867916666666666
           ],
           "yaxis": "y"
          },
          {
           "customdata": [
            [
             2001,
             "United States"
            ]
           ],
           "hovertemplate": "Country=%{customdata[1]}<br>Year=%{customdata[0]}<br>Population (millions)=%{marker.size}<br>Temperature (°F)=%{y}<extra></extra>",
           "ids": [
            "United States"
           ],
           "legendgroup": "United States",
           "marker": {
            "color": "#19d3f3",
            "size": [
             284968955
            ],
            "sizemode": "area",
            "sizeref": 201739.38484375,
            "symbol": "circle"
           },
           "mode": "markers",
           "name": "United States",
           "orientation": "v",
           "showlegend": true,
           "type": "scatter",
           "x": [
            284968955
           ],
           "xaxis": "x",
           "y": [
            9.785583333333332
           ],
           "yaxis": "y"
          }
         ],
         "name": "2001"
        },
        {
         "data": [
          {
           "customdata": [
            [
             2002,
             "Australia"
            ]
           ],
           "hovertemplate": "Country=%{customdata[1]}<br>Year=%{customdata[0]}<br>Population (millions)=%{marker.size}<br>Temperature (°F)=%{y}<extra></extra>",
           "ids": [
            "Australia"
           ],
           "legendgroup": "Australia",
           "marker": {
            "color": "#636efa",
            "size": [
             19495210
            ],
            "sizemode": "area",
            "sizeref": 201739.38484375,
            "symbol": "circle"
           },
           "mode": "markers",
           "name": "Australia",
           "orientation": "v",
           "showlegend": true,
           "type": "scatter",
           "x": [
            19495210
           ],
           "xaxis": "x",
           "y": [
            22.46083333333333
           ],
           "yaxis": "y"
          },
          {
           "customdata": [
            [
             2002,
             "Brazil"
            ]
           ],
           "hovertemplate": "Country=%{customdata[1]}<br>Year=%{customdata[0]}<br>Population (millions)=%{marker.size}<br>Temperature (°F)=%{y}<extra></extra>",
           "ids": [
            "Brazil"
           ],
           "legendgroup": "Brazil",
           "marker": {
            "color": "#EF553B",
            "size": [
             180476685
            ],
            "sizemode": "area",
            "sizeref": 201739.38484375,
            "symbol": "circle"
           },
           "mode": "markers",
           "name": "Brazil",
           "orientation": "v",
           "showlegend": true,
           "type": "scatter",
           "x": [
            180476685
           ],
           "xaxis": "x",
           "y": [
            25.80033333333333
           ],
           "yaxis": "y"
          },
          {
           "customdata": [
            [
             2002,
             "Germany"
            ]
           ],
           "hovertemplate": "Country=%{customdata[1]}<br>Year=%{customdata[0]}<br>Population (millions)=%{marker.size}<br>Temperature (°F)=%{y}<extra></extra>",
           "ids": [
            "Germany"
           ],
           "legendgroup": "Germany",
           "marker": {
            "color": "#00cc96",
            "size": [
             82488495
            ],
            "sizemode": "area",
            "sizeref": 201739.38484375,
            "symbol": "circle"
           },
           "mode": "markers",
           "name": "Germany",
           "orientation": "v",
           "showlegend": true,
           "type": "scatter",
           "x": [
            82488495
           ],
           "xaxis": "x",
           "y": [
            9.637333333333334
           ],
           "yaxis": "y"
          },
          {
           "customdata": [
            [
             2002,
             "India"
            ]
           ],
           "hovertemplate": "Country=%{customdata[1]}<br>Year=%{customdata[0]}<br>Population (millions)=%{marker.size}<br>Temperature (°F)=%{y}<extra></extra>",
           "ids": [
            "India"
           ],
           "legendgroup": "India",
           "marker": {
            "color": "#ab63fa",
            "size": [
             1098313039
            ],
            "sizemode": "area",
            "sizeref": 201739.38484375,
            "symbol": "circle"
           },
           "mode": "markers",
           "name": "India",
           "orientation": "v",
           "showlegend": true,
           "type": "scatter",
           "x": [
            1098313039
           ],
           "xaxis": "x",
           "y": [
            24.913
           ],
           "yaxis": "y"
          },
          {
           "customdata": [
            [
             2002,
             "South Africa"
            ]
           ],
           "hovertemplate": "Country=%{customdata[1]}<br>Year=%{customdata[0]}<br>Population (millions)=%{marker.size}<br>Temperature (°F)=%{y}<extra></extra>",
           "ids": [
            "South Africa"
           ],
           "legendgroup": "South Africa",
           "marker": {
            "color": "#FFA15A",
            "size": [
             47661514
            ],
            "sizemode": "area",
            "sizeref": 201739.38484375,
            "symbol": "circle"
           },
           "mode": "markers",
           "name": "South Africa",
           "orientation": "v",
           "showlegend": true,
           "type": "scatter",
           "x": [
            47661514
           ],
           "xaxis": "x",
           "y": [
            17.949416666666668
           ],
           "yaxis": "y"
          },
          {
           "customdata": [
            [
             2002,
             "United States"
            ]
           ],
           "hovertemplate": "Country=%{customdata[1]}<br>Year=%{customdata[0]}<br>Population (millions)=%{marker.size}<br>Temperature (°F)=%{y}<extra></extra>",
           "ids": [
            "United States"
           ],
           "legendgroup": "United States",
           "marker": {
            "color": "#19d3f3",
            "size": [
             287625193
            ],
            "sizemode": "area",
            "sizeref": 201739.38484375,
            "symbol": "circle"
           },
           "mode": "markers",
           "name": "United States",
           "orientation": "v",
           "showlegend": true,
           "type": "scatter",
           "x": [
            287625193
           ],
           "xaxis": "x",
           "y": [
            9.816166666666666
           ],
           "yaxis": "y"
          }
         ],
         "name": "2002"
        },
        {
         "data": [
          {
           "customdata": [
            [
             2003,
             "Australia"
            ]
           ],
           "hovertemplate": "Country=%{customdata[1]}<br>Year=%{customdata[0]}<br>Population (millions)=%{marker.size}<br>Temperature (°F)=%{y}<extra></extra>",
           "ids": [
            "Australia"
           ],
           "legendgroup": "Australia",
           "marker": {
            "color": "#636efa",
            "size": [
             19720737
            ],
            "sizemode": "area",
            "sizeref": 201739.38484375,
            "symbol": "circle"
           },
           "mode": "markers",
           "name": "Australia",
           "orientation": "v",
           "showlegend": true,
           "type": "scatter",
           "x": [
            19720737
           ],
           "xaxis": "x",
           "y": [
            22.44033333333333
           ],
           "yaxis": "y"
          },
          {
           "customdata": [
            [
             2003,
             "Brazil"
            ]
           ],
           "hovertemplate": "Country=%{customdata[1]}<br>Year=%{customdata[0]}<br>Population (millions)=%{marker.size}<br>Temperature (°F)=%{y}<extra></extra>",
           "ids": [
            "Brazil"
           ],
           "legendgroup": "Brazil",
           "marker": {
            "color": "#EF553B",
            "size": [
             182629278
            ],
            "sizemode": "area",
            "sizeref": 201739.38484375,
            "symbol": "circle"
           },
           "mode": "markers",
           "name": "Brazil",
           "orientation": "v",
           "showlegend": true,
           "type": "scatter",
           "x": [
            182629278
           ],
           "xaxis": "x",
           "y": [
            25.621
           ],
           "yaxis": "y"
          },
          {
           "customdata": [
            [
             2003,
             "Germany"
            ]
           ],
           "hovertemplate": "Country=%{customdata[1]}<br>Year=%{customdata[0]}<br>Population (millions)=%{marker.size}<br>Temperature (°F)=%{y}<extra></extra>",
           "ids": [
            "Germany"
           ],
           "legendgroup": "Germany",
           "marker": {
            "color": "#00cc96",
            "size": [
             82534176
            ],
            "sizemode": "area",
            "sizeref": 201739.38484375,
            "symbol": "circle"
           },
           "mode": "markers",
           "name": "Germany",
           "orientation": "v",
           "showlegend": true,
           "type": "scatter",
           "x": [
            82534176
           ],
           "xaxis": "x",
           "y": [
            9.49425
           ],
           "yaxis": "y"
          },
          {
           "customdata": [
            [
             2003,
             "India"
            ]
           ],
           "hovertemplate": "Country=%{customdata[1]}<br>Year=%{customdata[0]}<br>Population (millions)=%{marker.size}<br>Temperature (°F)=%{y}<extra></extra>",
           "ids": [
            "India"
           ],
           "legendgroup": "India",
           "marker": {
            "color": "#ab63fa",
            "size": [
             1117415123
            ],
            "sizemode": "area",
            "sizeref": 201739.38484375,
            "symbol": "circle"
           },
           "mode": "markers",
           "name": "India",
           "orientation": "v",
           "showlegend": true,
           "type": "scatter",
           "x": [
            1117415123
           ],
           "xaxis": "x",
           "y": [
            24.649916666666662
           ],
           "yaxis": "y"
          },
          {
           "customdata": [
            [
             2003,
             "South Africa"
            ]
           ],
           "hovertemplate": "Country=%{customdata[1]}<br>Year=%{customdata[0]}<br>Population (millions)=%{marker.size}<br>Temperature (°F)=%{y}<extra></extra>",
           "ids": [
            "South Africa"
           ],
           "legendgroup": "South Africa",
           "marker": {
            "color": "#FFA15A",
            "size": [
             48104048
            ],
            "sizemode": "area",
            "sizeref": 201739.38484375,
            "symbol": "circle"
           },
           "mode": "markers",
           "name": "South Africa",
           "orientation": "v",
           "showlegend": true,
           "type": "scatter",
           "x": [
            48104048
           ],
           "xaxis": "x",
           "y": [
            18.261666666666667
           ],
           "yaxis": "y"
          },
          {
           "customdata": [
            [
             2003,
             "United States"
            ]
           ],
           "hovertemplate": "Country=%{customdata[1]}<br>Year=%{customdata[0]}<br>Population (millions)=%{marker.size}<br>Temperature (°F)=%{y}<extra></extra>",
           "ids": [
            "United States"
           ],
           "legendgroup": "United States",
           "marker": {
            "color": "#19d3f3",
            "size": [
             290107933
            ],
            "sizemode": "area",
            "sizeref": 201739.38484375,
            "symbol": "circle"
           },
           "mode": "markers",
           "name": "United States",
           "orientation": "v",
           "showlegend": true,
           "type": "scatter",
           "x": [
            290107933
           ],
           "xaxis": "x",
           "y": [
            9.755083333333332
           ],
           "yaxis": "y"
          }
         ],
         "name": "2003"
        },
        {
         "data": [
          {
           "customdata": [
            [
             2004,
             "Australia"
            ]
           ],
           "hovertemplate": "Country=%{customdata[1]}<br>Year=%{customdata[0]}<br>Population (millions)=%{marker.size}<br>Temperature (°F)=%{y}<extra></extra>",
           "ids": [
            "Australia"
           ],
           "legendgroup": "Australia",
           "marker": {
            "color": "#636efa",
            "size": [
             19932722
            ],
            "sizemode": "area",
            "sizeref": 201739.38484375,
            "symbol": "circle"
           },
           "mode": "markers",
           "name": "Australia",
           "orientation": "v",
           "showlegend": true,
           "type": "scatter",
           "x": [
            19932722
           ],
           "xaxis": "x",
           "y": [
            22.286916666666663
           ],
           "yaxis": "y"
          },
          {
           "customdata": [
            [
             2004,
             "Brazil"
            ]
           ],
           "hovertemplate": "Country=%{customdata[1]}<br>Year=%{customdata[0]}<br>Population (millions)=%{marker.size}<br>Temperature (°F)=%{y}<extra></extra>",
           "ids": [
            "Brazil"
           ],
           "legendgroup": "Brazil",
           "marker": {
            "color": "#EF553B",
            "size": [
             184722043
            ],
            "sizemode": "area",
            "sizeref": 201739.38484375,
            "symbol": "circle"
           },
           "mode": "markers",
           "name": "Brazil",
           "orientation": "v",
           "showlegend": true,
           "type": "scatter",
           "x": [
            184722043
           ],
           "xaxis": "x",
           "y": [
            25.4965
           ],
           "yaxis": "y"
          },
          {
           "customdata": [
            [
             2004,
             "Germany"
            ]
           ],
           "hovertemplate": "Country=%{customdata[1]}<br>Year=%{customdata[0]}<br>Population (millions)=%{marker.size}<br>Temperature (°F)=%{y}<extra></extra>",
           "ids": [
            "Germany"
           ],
           "legendgroup": "Germany",
           "marker": {
            "color": "#00cc96",
            "size": [
             82516260
            ],
            "sizemode": "area",
            "sizeref": 201739.38484375,
            "symbol": "circle"
           },
           "mode": "markers",
           "name": "Germany",
           "orientation": "v",
           "showlegend": true,
           "type": "scatter",
           "x": [
            82516260
           ],
           "xaxis": "x",
           "y": [
            9.053416666666667
           ],
           "yaxis": "y"
          },
          {
           "customdata": [
            [
             2004,
             "India"
            ]
           ],
           "hovertemplate": "Country=%{customdata[1]}<br>Year=%{customdata[0]}<br>Population (millions)=%{marker.size}<br>Temperature (°F)=%{y}<extra></extra>",
           "ids": [
            "India"
           ],
           "legendgroup": "India",
           "marker": {
            "color": "#ab63fa",
            "size": [
             1136264583
            ],
            "sizemode": "area",
            "sizeref": 201739.38484375,
            "symbol": "circle"
           },
           "mode": "markers",
           "name": "India",
           "orientation": "v",
           "showlegend": true,
           "type": "scatter",
           "x": [
            1136264583
           ],
           "xaxis": "x",
           "y": [
            24.63458333333333
           ],
           "yaxis": "y"
          },
          {
           "customdata": [
            [
             2004,
             "South Africa"
            ]
           ],
           "hovertemplate": "Country=%{customdata[1]}<br>Year=%{customdata[0]}<br>Population (millions)=%{marker.size}<br>Temperature (°F)=%{y}<extra></extra>",
           "ids": [
            "South Africa"
           ],
           "legendgroup": "South Africa",
           "marker": {
            "color": "#FFA15A",
            "size": [
             48556071
            ],
            "sizemode": "area",
            "sizeref": 201739.38484375,
            "symbol": "circle"
           },
           "mode": "markers",
           "name": "South Africa",
           "orientation": "v",
           "showlegend": true,
           "type": "scatter",
           "x": [
            48556071
           ],
           "xaxis": "x",
           "y": [
            18.082833333333337
           ],
           "yaxis": "y"
          },
          {
           "customdata": [
            [
             2004,
             "United States"
            ]
           ],
           "hovertemplate": "Country=%{customdata[1]}<br>Year=%{customdata[0]}<br>Population (millions)=%{marker.size}<br>Temperature (°F)=%{y}<extra></extra>",
           "ids": [
            "United States"
           ],
           "legendgroup": "United States",
           "marker": {
            "color": "#19d3f3",
            "size": [
             292805298
            ],
            "sizemode": "area",
            "sizeref": 201739.38484375,
            "symbol": "circle"
           },
           "mode": "markers",
           "name": "United States",
           "orientation": "v",
           "showlegend": true,
           "type": "scatter",
           "x": [
            292805298
           ],
           "xaxis": "x",
           "y": [
            9.6675
           ],
           "yaxis": "y"
          }
         ],
         "name": "2004"
        },
        {
         "data": [
          {
           "customdata": [
            [
             2005,
             "Australia"
            ]
           ],
           "hovertemplate": "Country=%{customdata[1]}<br>Year=%{customdata[0]}<br>Population (millions)=%{marker.size}<br>Temperature (°F)=%{y}<extra></extra>",
           "ids": [
            "Australia"
           ],
           "legendgroup": "Australia",
           "marker": {
            "color": "#636efa",
            "size": [
             20176844
            ],
            "sizemode": "area",
            "sizeref": 201739.38484375,
            "symbol": "circle"
           },
           "mode": "markers",
           "name": "Australia",
           "orientation": "v",
           "showlegend": true,
           "type": "scatter",
           "x": [
            20176844
           ],
           "xaxis": "x",
           "y": [
            22.896833333333333
           ],
           "yaxis": "y"
          },
          {
           "customdata": [
            [
             2005,
             "Brazil"
            ]
           ],
           "hovertemplate": "Country=%{customdata[1]}<br>Year=%{customdata[0]}<br>Population (millions)=%{marker.size}<br>Temperature (°F)=%{y}<extra></extra>",
           "ids": [
            "Brazil"
           ],
           "legendgroup": "Brazil",
           "marker": {
            "color": "#EF553B",
            "size": [
             186797334
            ],
            "sizemode": "area",
            "sizeref": 201739.38484375,
            "symbol": "circle"
           },
           "mode": "markers",
           "name": "Brazil",
           "orientation": "v",
           "showlegend": true,
           "type": "scatter",
           "x": [
            186797334
           ],
           "xaxis": "x",
           "y": [
            25.806
           ],
           "yaxis": "y"
          },
          {
           "customdata": [
            [
             2005,
             "Germany"
            ]
           ],
           "hovertemplate": "Country=%{customdata[1]}<br>Year=%{customdata[0]}<br>Population (millions)=%{marker.size}<br>Temperature (°F)=%{y}<extra></extra>",
           "ids": [
            "Germany"
           ],
           "legendgroup": "Germany",
           "marker": {
            "color": "#00cc96",
            "size": [
             82469422
            ],
            "sizemode": "area",
            "sizeref": 201739.38484375,
            "symbol": "circle"
           },
           "mode": "markers",
           "name": "Germany",
           "orientation": "v",
           "showlegend": true,
           "type": "scatter",
           "x": [
            82469422
           ],
           "xaxis": "x",
           "y": [
            9.128416666666666
           ],
           "yaxis": "y"
          },
          {
           "customdata": [
            [
             2005,
             "India"
            ]
           ],
           "hovertemplate": "Country=%{customdata[1]}<br>Year=%{customdata[0]}<br>Population (millions)=%{marker.size}<br>Temperature (°F)=%{y}<extra></extra>",
           "ids": [
            "India"
           ],
           "legendgroup": "India",
           "marker": {
            "color": "#ab63fa",
            "size": [
             1154638713
            ],
            "sizemode": "area",
            "sizeref": 201739.38484375,
            "symbol": "circle"
           },
           "mode": "markers",
           "name": "India",
           "orientation": "v",
           "showlegend": true,
           "type": "scatter",
           "x": [
            1154638713
           ],
           "xaxis": "x",
           "y": [
            24.495416666666667
           ],
           "yaxis": "y"
          },
          {
           "customdata": [
            [
             2005,
             "South Africa"
            ]
           ],
           "hovertemplate": "Country=%{customdata[1]}<br>Year=%{customdata[0]}<br>Population (millions)=%{marker.size}<br>Temperature (°F)=%{y}<extra></extra>",
           "ids": [
            "South Africa"
           ],
           "legendgroup": "South Africa",
           "marker": {
            "color": "#FFA15A",
            "size": [
             49017147
            ],
            "sizemode": "area",
            "sizeref": 201739.38484375,
            "symbol": "circle"
           },
           "mode": "markers",
           "name": "South Africa",
           "orientation": "v",
           "showlegend": true,
           "type": "scatter",
           "x": [
            49017147
           ],
           "xaxis": "x",
           "y": [
            18.217916666666667
           ],
           "yaxis": "y"
          },
          {
           "customdata": [
            [
             2005,
             "United States"
            ]
           ],
           "hovertemplate": "Country=%{customdata[1]}<br>Year=%{customdata[0]}<br>Population (millions)=%{marker.size}<br>Temperature (°F)=%{y}<extra></extra>",
           "ids": [
            "United States"
           ],
           "legendgroup": "United States",
           "marker": {
            "color": "#19d3f3",
            "size": [
             295516599
            ],
            "sizemode": "area",
            "sizeref": 201739.38484375,
            "symbol": "circle"
           },
           "mode": "markers",
           "name": "United States",
           "orientation": "v",
           "showlegend": true,
           "type": "scatter",
           "x": [
            295516599
           ],
           "xaxis": "x",
           "y": [
            9.892666666666669
           ],
           "yaxis": "y"
          }
         ],
         "name": "2005"
        },
        {
         "data": [
          {
           "customdata": [
            [
             2006,
             "Australia"
            ]
           ],
           "hovertemplate": "Country=%{customdata[1]}<br>Year=%{customdata[0]}<br>Population (millions)=%{marker.size}<br>Temperature (°F)=%{y}<extra></extra>",
           "ids": [
            "Australia"
           ],
           "legendgroup": "Australia",
           "marker": {
            "color": "#636efa",
            "size": [
             20450966
            ],
            "sizemode": "area",
            "sizeref": 201739.38484375,
            "symbol": "circle"
           },
           "mode": "markers",
           "name": "Australia",
           "orientation": "v",
           "showlegend": true,
           "type": "scatter",
           "x": [
            20450966
           ],
           "xaxis": "x",
           "y": [
            22.264416666666666
           ],
           "yaxis": "y"
          },
          {
           "customdata": [
            [
             2006,
             "Brazil"
            ]
           ],
           "hovertemplate": "Country=%{customdata[1]}<br>Year=%{customdata[0]}<br>Population (millions)=%{marker.size}<br>Temperature (°F)=%{y}<extra></extra>",
           "ids": [
            "Brazil"
           ],
           "legendgroup": "Brazil",
           "marker": {
            "color": "#EF553B",
            "size": [
             188820682
            ],
            "sizemode": "area",
            "sizeref": 201739.38484375,
            "symbol": "circle"
           },
           "mode": "markers",
           "name": "Brazil",
           "orientation": "v",
           "showlegend": true,
           "type": "scatter",
           "x": [
            188820682
           ],
           "xaxis": "x",
           "y": [
            25.517
           ],
           "yaxis": "y"
          },
          {
           "customdata": [
            [
             2006,
             "Germany"
            ]
           ],
           "hovertemplate": "Country=%{customdata[1]}<br>Year=%{customdata[0]}<br>Population (millions)=%{marker.size}<br>Temperature (°F)=%{y}<extra></extra>",
           "ids": [
            "Germany"
           ],
           "legendgroup": "Germany",
           "marker": {
            "color": "#00cc96",
            "size": [
             82376451
            ],
            "sizemode": "area",
            "sizeref": 201739.38484375,
            "symbol": "circle"
           },
           "mode": "markers",
           "name": "Germany",
           "orientation": "v",
           "showlegend": true,
           "type": "scatter",
           "x": [
            82376451
           ],
           "xaxis": "x",
           "y": [
            9.706
           ],
           "yaxis": "y"
          },
          {
           "customdata": [
            [
             2006,
             "India"
            ]
           ],
           "hovertemplate": "Country=%{customdata[1]}<br>Year=%{customdata[0]}<br>Population (millions)=%{marker.size}<br>Temperature (°F)=%{y}<extra></extra>",
           "ids": [
            "India"
           ],
           "legendgroup": "India",
           "marker": {
            "color": "#ab63fa",
            "size": [
             1172373788
            ],
            "sizemode": "area",
            "sizeref": 201739.38484375,
            "symbol": "circle"
           },
           "mode": "markers",
           "name": "India",
           "orientation": "v",
           "showlegend": true,
           "type": "scatter",
           "x": [
            1172373788
           ],
           "xaxis": "x",
           "y": [
            24.732083333333332
           ],
           "yaxis": "y"
          },
          {
           "customdata": [
            [
             2006,
             "South Africa"
            ]
           ],
           "hovertemplate": "Country=%{customdata[1]}<br>Year=%{customdata[0]}<br>Population (millions)=%{marker.size}<br>Temperature (°F)=%{y}<extra></extra>",
           "ids": [
            "South Africa"
           ],
           "legendgroup": "South Africa",
           "marker": {
            "color": "#FFA15A",
            "size": [
             49491756
            ],
            "sizemode": "area",
            "sizeref": 201739.38484375,
            "symbol": "circle"
           },
           "mode": "markers",
           "name": "South Africa",
           "orientation": "v",
           "showlegend": true,
           "type": "scatter",
           "x": [
            49491756
           ],
           "xaxis": "x",
           "y": [
            17.5975
           ],
           "yaxis": "y"
          },
          {
           "customdata": [
            [
             2006,
             "United States"
            ]
           ],
           "hovertemplate": "Country=%{customdata[1]}<br>Year=%{customdata[0]}<br>Population (millions)=%{marker.size}<br>Temperature (°F)=%{y}<extra></extra>",
           "ids": [
            "United States"
           ],
           "legendgroup": "United States",
           "marker": {
            "color": "#19d3f3",
            "size": [
             298379912
            ],
            "sizemode": "area",
            "sizeref": 201739.38484375,
            "symbol": "circle"
           },
           "mode": "markers",
           "name": "United States",
           "orientation": "v",
           "showlegend": true,
           "type": "scatter",
           "x": [
            298379912
           ],
           "xaxis": "x",
           "y": [
            9.9745
           ],
           "yaxis": "y"
          }
         ],
         "name": "2006"
        },
        {
         "data": [
          {
           "customdata": [
            [
             2007,
             "Australia"
            ]
           ],
           "hovertemplate": "Country=%{customdata[1]}<br>Year=%{customdata[0]}<br>Population (millions)=%{marker.size}<br>Temperature (°F)=%{y}<extra></extra>",
           "ids": [
            "Australia"
           ],
           "legendgroup": "Australia",
           "marker": {
            "color": "#636efa",
            "size": [
             20827622
            ],
            "sizemode": "area",
            "sizeref": 201739.38484375,
            "symbol": "circle"
           },
           "mode": "markers",
           "name": "Australia",
           "orientation": "v",
           "showlegend": true,
           "type": "scatter",
           "x": [
            20827622
           ],
           "xaxis": "x",
           "y": [
            22.48675
           ],
           "yaxis": "y"
          },
          {
           "customdata": [
            [
             2007,
             "Brazil"
            ]
           ],
           "hovertemplate": "Country=%{customdata[1]}<br>Year=%{customdata[0]}<br>Population (millions)=%{marker.size}<br>Temperature (°F)=%{y}<extra></extra>",
           "ids": [
            "Brazil"
           ],
           "legendgroup": "Brazil",
           "marker": {
            "color": "#EF553B",
            "size": [
             190779453
            ],
            "sizemode": "area",
            "sizeref": 201739.38484375,
            "symbol": "circle"
           },
           "mode": "markers",
           "name": "Brazil",
           "orientation": "v",
           "showlegend": true,
           "type": "scatter",
           "x": [
            190779453
           ],
           "xaxis": "x",
           "y": [
            25.668000000000003
           ],
           "yaxis": "y"
          },
          {
           "customdata": [
            [
             2007,
             "Germany"
            ]
           ],
           "hovertemplate": "Country=%{customdata[1]}<br>Year=%{customdata[0]}<br>Population (millions)=%{marker.size}<br>Temperature (°F)=%{y}<extra></extra>",
           "ids": [
            "Germany"
           ],
           "legendgroup": "Germany",
           "marker": {
            "color": "#00cc96",
            "size": [
             82266372
            ],
            "sizemode": "area",
            "sizeref": 201739.38484375,
            "symbol": "circle"
           },
           "mode": "markers",
           "name": "Germany",
           "orientation": "v",
           "showlegend": true,
           "type": "scatter",
           "x": [
            82266372
           ],
           "xaxis": "x",
           "y": [
            9.9975
           ],
           "yaxis": "y"
          },
          {
           "customdata": [
            [
             2007,
             "India"
            ]
           ],
           "hovertemplate": "Country=%{customdata[1]}<br>Year=%{customdata[0]}<br>Population (millions)=%{marker.size}<br>Temperature (°F)=%{y}<extra></extra>",
           "ids": [
            "India"
           ],
           "legendgroup": "India",
           "marker": {
            "color": "#ab63fa",
            "size": [
             1189691809
            ],
            "sizemode": "area",
            "sizeref": 201739.38484375,
            "symbol": "circle"
           },
           "mode": "markers",
           "name": "India",
           "orientation": "v",
           "showlegend": true,
           "type": "scatter",
           "x": [
            1189691809
           ],
           "xaxis": "x",
           "y": [
            24.649916666666662
           ],
           "yaxis": "y"
          },
          {
           "customdata": [
            [
             2007,
             "South Africa"
            ]
           ],
           "hovertemplate": "Country=%{customdata[1]}<br>Year=%{customdata[0]}<br>Population (millions)=%{marker.size}<br>Temperature (°F)=%{y}<extra></extra>",
           "ids": [
            "South Africa"
           ],
           "legendgroup": "South Africa",
           "marker": {
            "color": "#FFA15A",
            "size": [
             49996094
            ],
            "sizemode": "area",
            "sizeref": 201739.38484375,
            "symbol": "circle"
           },
           "mode": "markers",
           "name": "South Africa",
           "orientation": "v",
           "showlegend": true,
           "type": "scatter",
           "x": [
            49996094
           ],
           "xaxis": "x",
           "y": [
            17.98625
           ],
           "yaxis": "y"
          },
          {
           "customdata": [
            [
             2007,
             "United States"
            ]
           ],
           "hovertemplate": "Country=%{customdata[1]}<br>Year=%{customdata[0]}<br>Population (millions)=%{marker.size}<br>Temperature (°F)=%{y}<extra></extra>",
           "ids": [
            "United States"
           ],
           "legendgroup": "United States",
           "marker": {
            "color": "#19d3f3",
            "size": [
             301231207
            ],
            "sizemode": "area",
            "sizeref": 201739.38484375,
            "symbol": "circle"
           },
           "mode": "markers",
           "name": "United States",
           "orientation": "v",
           "showlegend": true,
           "type": "scatter",
           "x": [
            301231207
           ],
           "xaxis": "x",
           "y": [
            9.8375
           ],
           "yaxis": "y"
          }
         ],
         "name": "2007"
        },
        {
         "data": [
          {
           "customdata": [
            [
             2008,
             "Australia"
            ]
           ],
           "hovertemplate": "Country=%{customdata[1]}<br>Year=%{customdata[0]}<br>Population (millions)=%{marker.size}<br>Temperature (°F)=%{y}<extra></extra>",
           "ids": [
            "Australia"
           ],
           "legendgroup": "Australia",
           "marker": {
            "color": "#636efa",
            "size": [
             21249199
            ],
            "sizemode": "area",
            "sizeref": 201739.38484375,
            "symbol": "circle"
           },
           "mode": "markers",
           "name": "Australia",
           "orientation": "v",
           "showlegend": true,
           "type": "scatter",
           "x": [
            21249199
           ],
           "xaxis": "x",
           "y": [
            22.225916666666667
           ],
           "yaxis": "y"
          },
          {
           "customdata": [
            [
             2008,
             "Brazil"
            ]
           ],
           "hovertemplate": "Country=%{customdata[1]}<br>Year=%{customdata[0]}<br>Population (millions)=%{marker.size}<br>Temperature (°F)=%{y}<extra></extra>",
           "ids": [
            "Brazil"
           ],
           "legendgroup": "Brazil",
           "marker": {
            "color": "#EF553B",
            "size": [
             192672317
            ],
            "sizemode": "area",
            "sizeref": 201739.38484375,
            "symbol": "circle"
           },
           "mode": "markers",
           "name": "Brazil",
           "orientation": "v",
           "showlegend": true,
           "type": "scatter",
           "x": [
            192672317
           ],
           "xaxis": "x",
           "y": [
            25.41033333333333
           ],
           "yaxis": "y"
          },
          {
           "customdata": [
            [
             2008,
             "Germany"
            ]
           ],
           "hovertemplate": "Country=%{customdata[1]}<br>Year=%{customdata[0]}<br>Population (millions)=%{marker.size}<br>Temperature (°F)=%{y}<extra></extra>",
           "ids": [
            "Germany"
           ],
           "legendgroup": "Germany",
           "marker": {
            "color": "#00cc96",
            "size": [
             82110097
            ],
            "sizemode": "area",
            "sizeref": 201739.38484375,
            "symbol": "circle"
           },
           "mode": "markers",
           "name": "Germany",
           "orientation": "v",
           "showlegend": true,
           "type": "scatter",
           "x": [
            82110097
           ],
           "xaxis": "x",
           "y": [
            9.642166666666666
           ],
           "yaxis": "y"
          },
          {
           "customdata": [
            [
             2008,
             "India"
            ]
           ],
           "hovertemplate": "Country=%{customdata[1]}<br>Year=%{customdata[0]}<br>Population (millions)=%{marker.size}<br>Temperature (°F)=%{y}<extra></extra>",
           "ids": [
            "India"
           ],
           "legendgroup": "India",
           "marker": {
            "color": "#ab63fa",
            "size": [
             1206734806
            ],
            "sizemode": "area",
            "sizeref": 201739.38484375,
            "symbol": "circle"
           },
           "mode": "markers",
           "name": "India",
           "orientation": "v",
           "showlegend": true,
           "type": "scatter",
           "x": [
            1206734806
           ],
           "xaxis": "x",
           "y": [
            24.406
           ],
           "yaxis": "y"
          },
          {
           "customdata": [
            [
             2008,
             "South Africa"
            ]
           ],
           "hovertemplate": "Country=%{customdata[1]}<br>Year=%{customdata[0]}<br>Population (millions)=%{marker.size}<br>Temperature (°F)=%{y}<extra></extra>",
           "ids": [
            "South Africa"
           ],
           "legendgroup": "South Africa",
           "marker": {
            "color": "#FFA15A",
            "size": [
             50565812
            ],
            "sizemode": "area",
            "sizeref": 201739.38484375,
            "symbol": "circle"
           },
           "mode": "markers",
           "name": "South Africa",
           "orientation": "v",
           "showlegend": true,
           "type": "scatter",
           "x": [
            50565812
           ],
           "xaxis": "x",
           "y": [
            17.956083333333336
           ],
           "yaxis": "y"
          },
          {
           "customdata": [
            [
             2008,
             "United States"
            ]
           ],
           "hovertemplate": "Country=%{customdata[1]}<br>Year=%{customdata[0]}<br>Population (millions)=%{marker.size}<br>Temperature (°F)=%{y}<extra></extra>",
           "ids": [
            "United States"
           ],
           "legendgroup": "United States",
           "marker": {
            "color": "#19d3f3",
            "size": [
             304093966
            ],
            "sizemode": "area",
            "sizeref": 201739.38484375,
            "symbol": "circle"
           },
           "mode": "markers",
           "name": "United States",
           "orientation": "v",
           "showlegend": true,
           "type": "scatter",
           "x": [
            304093966
           ],
           "xaxis": "x",
           "y": [
            8.951416666666667
           ],
           "yaxis": "y"
          }
         ],
         "name": "2008"
        },
        {
         "data": [
          {
           "customdata": [
            [
             2009,
             "Australia"
            ]
           ],
           "hovertemplate": "Country=%{customdata[1]}<br>Year=%{customdata[0]}<br>Population (millions)=%{marker.size}<br>Temperature (°F)=%{y}<extra></extra>",
           "ids": [
            "Australia"
           ],
           "legendgroup": "Australia",
           "marker": {
            "color": "#636efa",
            "size": [
             21691653
            ],
            "sizemode": "area",
            "sizeref": 201739.38484375,
            "symbol": "circle"
           },
           "mode": "markers",
           "name": "Australia",
           "orientation": "v",
           "showlegend": true,
           "type": "scatter",
           "x": [
            21691653
           ],
           "xaxis": "x",
           "y": [
            22.690583333333333
           ],
           "yaxis": "y"
          },
          {
           "customdata": [
            [
             2009,
             "Brazil"
            ]
           ],
           "hovertemplate": "Country=%{customdata[1]}<br>Year=%{customdata[0]}<br>Population (millions)=%{marker.size}<br>Temperature (°F)=%{y}<extra></extra>",
           "ids": [
            "Brazil"
           ],
           "legendgroup": "Brazil",
           "marker": {
            "color": "#EF553B",
            "size": [
             194517549
            ],
            "sizemode": "area",
            "sizeref": 201739.38484375,
            "symbol": "circle"
           },
           "mode": "markers",
           "name": "Brazil",
           "orientation": "v",
           "showlegend": true,
           "type": "scatter",
           "x": [
            194517549
           ],
           "xaxis": "x",
           "y": [
            25.600583333333333
           ],
           "yaxis": "y"
          },
          {
           "customdata": [
            [
             2009,
             "Germany"
            ]
           ],
           "hovertemplate": "Country=%{customdata[1]}<br>Year=%{customdata[0]}<br>Population (millions)=%{marker.size}<br>Temperature (°F)=%{y}<extra></extra>",
           "ids": [
            "Germany"
           ],
           "legendgroup": "Germany",
           "marker": {
            "color": "#00cc96",
            "size": [
             81902307
            ],
            "sizemode": "area",
            "sizeref": 201739.38484375,
            "symbol": "circle"
           },
           "mode": "markers",
           "name": "Germany",
           "orientation": "v",
           "showlegend": true,
           "type": "scatter",
           "x": [
            81902307
           ],
           "xaxis": "x",
           "y": [
            9.359166666666669
           ],
           "yaxis": "y"
          },
          {
           "customdata": [
            [
             2009,
             "India"
            ]
           ],
           "hovertemplate": "Country=%{customdata[1]}<br>Year=%{customdata[0]}<br>Population (millions)=%{marker.size}<br>Temperature (°F)=%{y}<extra></extra>",
           "ids": [
            "India"
           ],
           "legendgroup": "India",
           "marker": {
            "color": "#ab63fa",
            "size": [
             1223640160
            ],
            "sizemode": "area",
            "sizeref": 201739.38484375,
            "symbol": "circle"
           },
           "mode": "markers",
           "name": "India",
           "orientation": "v",
           "showlegend": true,
           "type": "scatter",
           "x": [
            1223640160
           ],
           "xaxis": "x",
           "y": [
            25.146666666666665
           ],
           "yaxis": "y"
          },
          {
           "customdata": [
            [
             2009,
             "South Africa"
            ]
           ],
           "hovertemplate": "Country=%{customdata[1]}<br>Year=%{customdata[0]}<br>Population (millions)=%{marker.size}<br>Temperature (°F)=%{y}<extra></extra>",
           "ids": [
            "South Africa"
           ],
           "legendgroup": "South Africa",
           "marker": {
            "color": "#FFA15A",
            "size": [
             51170779
            ],
            "sizemode": "area",
            "sizeref": 201739.38484375,
            "symbol": "circle"
           },
           "mode": "markers",
           "name": "South Africa",
           "orientation": "v",
           "showlegend": true,
           "type": "scatter",
           "x": [
            51170779
           ],
           "xaxis": "x",
           "y": [
            17.886
           ],
           "yaxis": "y"
          },
          {
           "customdata": [
            [
             2009,
             "United States"
            ]
           ],
           "hovertemplate": "Country=%{customdata[1]}<br>Year=%{customdata[0]}<br>Population (millions)=%{marker.size}<br>Temperature (°F)=%{y}<extra></extra>",
           "ids": [
            "United States"
           ],
           "legendgroup": "United States",
           "marker": {
            "color": "#19d3f3",
            "size": [
             306771529
            ],
            "sizemode": "area",
            "sizeref": 201739.38484375,
            "symbol": "circle"
           },
           "mode": "markers",
           "name": "United States",
           "orientation": "v",
           "showlegend": true,
           "type": "scatter",
           "x": [
            306771529
           ],
           "xaxis": "x",
           "y": [
            9.137083333333331
           ],
           "yaxis": "y"
          }
         ],
         "name": "2009"
        },
        {
         "data": [
          {
           "customdata": [
            [
             2010,
             "Australia"
            ]
           ],
           "hovertemplate": "Country=%{customdata[1]}<br>Year=%{customdata[0]}<br>Population (millions)=%{marker.size}<br>Temperature (°F)=%{y}<extra></extra>",
           "ids": [
            "Australia"
           ],
           "legendgroup": "Australia",
           "marker": {
            "color": "#636efa",
            "size": [
             22031750
            ],
            "sizemode": "area",
            "sizeref": 201739.38484375,
            "symbol": "circle"
           },
           "mode": "markers",
           "name": "Australia",
           "orientation": "v",
           "showlegend": true,
           "type": "scatter",
           "x": [
            22031750
           ],
           "xaxis": "x",
           "y": [
            22.078166666666664
           ],
           "yaxis": "y"
          },
          {
           "customdata": [
            [
             2010,
             "Brazil"
            ]
           ],
           "hovertemplate": "Country=%{customdata[1]}<br>Year=%{customdata[0]}<br>Population (millions)=%{marker.size}<br>Temperature (°F)=%{y}<extra></extra>",
           "ids": [
            "Brazil"
           ],
           "legendgroup": "Brazil",
           "marker": {
            "color": "#EF553B",
            "size": [
             196353492
            ],
            "sizemode": "area",
            "sizeref": 201739.38484375,
            "symbol": "circle"
           },
           "mode": "markers",
           "name": "Brazil",
           "orientation": "v",
           "showlegend": true,
           "type": "scatter",
           "x": [
            196353492
           ],
           "xaxis": "x",
           "y": [
            25.812416666666667
           ],
           "yaxis": "y"
          },
          {
           "customdata": [
            [
             2010,
             "Germany"
            ]
           ],
           "hovertemplate": "Country=%{customdata[1]}<br>Year=%{customdata[0]}<br>Population (millions)=%{marker.size}<br>Temperature (°F)=%{y}<extra></extra>",
           "ids": [
            "Germany"
           ],
           "legendgroup": "Germany",
           "marker": {
            "color": "#00cc96",
            "size": [
             81776930
            ],
            "sizemode": "area",
            "sizeref": 201739.38484375,
            "symbol": "circle"
           },
           "mode": "markers",
           "name": "Germany",
           "orientation": "v",
           "showlegend": true,
           "type": "scatter",
           "x": [
            81776930
           ],
           "xaxis": "x",
           "y": [
            8.009
           ],
           "yaxis": "y"
          },
          {
           "customdata": [
            [
             2010,
             "India"
            ]
           ],
           "hovertemplate": "Country=%{customdata[1]}<br>Year=%{customdata[0]}<br>Population (millions)=%{marker.size}<br>Temperature (°F)=%{y}<extra></extra>",
           "ids": [
            "India"
           ],
           "legendgroup": "India",
           "marker": {
            "color": "#ab63fa",
            "size": [
             1240613620
            ],
            "sizemode": "area",
            "sizeref": 201739.38484375,
            "symbol": "circle"
           },
           "mode": "markers",
           "name": "India",
           "orientation": "v",
           "showlegend": true,
           "type": "scatter",
           "x": [
            1240613620
           ],
           "xaxis": "x",
           "y": [
            25.050833333333333
           ],
           "yaxis": "y"
          },
          {
           "customdata": [
            [
             2010,
             "South Africa"
            ]
           ],
           "hovertemplate": "Country=%{customdata[1]}<br>Year=%{customdata[0]}<br>Population (millions)=%{marker.size}<br>Temperature (°F)=%{y}<extra></extra>",
           "ids": [
            "South Africa"
           ],
           "legendgroup": "South Africa",
           "marker": {
            "color": "#FFA15A",
            "size": [
             51784921
            ],
            "sizemode": "area",
            "sizeref": 201739.38484375,
            "symbol": "circle"
           },
           "mode": "markers",
           "name": "South Africa",
           "orientation": "v",
           "showlegend": true,
           "type": "scatter",
           "x": [
            51784921
           ],
           "xaxis": "x",
           "y": [
            18.302666666666667
           ],
           "yaxis": "y"
          },
          {
           "customdata": [
            [
             2010,
             "United States"
            ]
           ],
           "hovertemplate": "Country=%{customdata[1]}<br>Year=%{customdata[0]}<br>Population (millions)=%{marker.size}<br>Temperature (°F)=%{y}<extra></extra>",
           "ids": [
            "United States"
           ],
           "legendgroup": "United States",
           "marker": {
            "color": "#19d3f3",
            "size": [
             309327143
            ],
            "sizemode": "area",
            "sizeref": 201739.38484375,
            "symbol": "circle"
           },
           "mode": "markers",
           "name": "United States",
           "orientation": "v",
           "showlegend": true,
           "type": "scatter",
           "x": [
            309327143
           ],
           "xaxis": "x",
           "y": [
            9.505583333333334
           ],
           "yaxis": "y"
          }
         ],
         "name": "2010"
        },
        {
         "data": [
          {
           "customdata": [
            [
             2011,
             "Australia"
            ]
           ],
           "hovertemplate": "Country=%{customdata[1]}<br>Year=%{customdata[0]}<br>Population (millions)=%{marker.size}<br>Temperature (°F)=%{y}<extra></extra>",
           "ids": [
            "Australia"
           ],
           "legendgroup": "Australia",
           "marker": {
            "color": "#636efa",
            "size": [
             22340024
            ],
            "sizemode": "area",
            "sizeref": 201739.38484375,
            "symbol": "circle"
           },
           "mode": "markers",
           "name": "Australia",
           "orientation": "v",
           "showlegend": true,
           "type": "scatter",
           "x": [
            22340024
           ],
           "xaxis": "x",
           "y": [
            21.767
           ],
           "yaxis": "y"
          },
          {
           "customdata": [
            [
             2011,
             "Brazil"
            ]
           ],
           "hovertemplate": "Country=%{customdata[1]}<br>Year=%{customdata[0]}<br>Population (millions)=%{marker.size}<br>Temperature (°F)=%{y}<extra></extra>",
           "ids": [
            "Brazil"
           ],
           "legendgroup": "Brazil",
           "marker": {
            "color": "#EF553B",
            "size": [
             198185302
            ],
            "sizemode": "area",
            "sizeref": 201739.38484375,
            "symbol": "circle"
           },
           "mode": "markers",
           "name": "Brazil",
           "orientation": "v",
           "showlegend": true,
           "type": "scatter",
           "x": [
            198185302
           ],
           "xaxis": "x",
           "y": [
            25.428916666666662
           ],
           "yaxis": "y"
          },
          {
           "customdata": [
            [
             2011,
             "Germany"
            ]
           ],
           "hovertemplate": "Country=%{customdata[1]}<br>Year=%{customdata[0]}<br>Population (millions)=%{marker.size}<br>Temperature (°F)=%{y}<extra></extra>",
           "ids": [
            "Germany"
           ],
           "legendgroup": "Germany",
           "marker": {
            "color": "#00cc96",
            "size": [
             80274983
            ],
            "sizemode": "area",
            "sizeref": 201739.38484375,
            "symbol": "circle"
           },
           "mode": "markers",
           "name": "Germany",
           "orientation": "v",
           "showlegend": true,
           "type": "scatter",
           "x": [
            80274983
           ],
           "xaxis": "x",
           "y": [
            9.819583333333334
           ],
           "yaxis": "y"
          },
          {
           "customdata": [
            [
             2011,
             "India"
            ]
           ],
           "hovertemplate": "Country=%{customdata[1]}<br>Year=%{customdata[0]}<br>Population (millions)=%{marker.size}<br>Temperature (°F)=%{y}<extra></extra>",
           "ids": [
            "India"
           ],
           "legendgroup": "India",
           "marker": {
            "color": "#ab63fa",
            "size": [
             1257621191
            ],
            "sizemode": "area",
            "sizeref": 201739.38484375,
            "symbol": "circle"
           },
           "mode": "markers",
           "name": "India",
           "orientation": "v",
           "showlegend": true,
           "type": "scatter",
           "x": [
            1257621191
           ],
           "xaxis": "x",
           "y": [
            24.41558333333333
           ],
           "yaxis": "y"
          },
          {
           "customdata": [
            [
             2011,
             "South Africa"
            ]
           ],
           "hovertemplate": "Country=%{customdata[1]}<br>Year=%{customdata[0]}<br>Population (millions)=%{marker.size}<br>Temperature (°F)=%{y}<extra></extra>",
           "ids": [
            "South Africa"
           ],
           "legendgroup": "South Africa",
           "marker": {
            "color": "#FFA15A",
            "size": [
             52443325
            ],
            "sizemode": "area",
            "sizeref": 201739.38484375,
            "symbol": "circle"
           },
           "mode": "markers",
           "name": "South Africa",
           "orientation": "v",
           "showlegend": true,
           "type": "scatter",
           "x": [
            52443325
           ],
           "xaxis": "x",
           "y": [
            17.552416666666666
           ],
           "yaxis": "y"
          },
          {
           "customdata": [
            [
             2011,
             "United States"
            ]
           ],
           "hovertemplate": "Country=%{customdata[1]}<br>Year=%{customdata[0]}<br>Population (millions)=%{marker.size}<br>Temperature (°F)=%{y}<extra></extra>",
           "ids": [
            "United States"
           ],
           "legendgroup": "United States",
           "marker": {
            "color": "#19d3f3",
            "size": [
             311583481
            ],
            "sizemode": "area",
            "sizeref": 201739.38484375,
            "symbol": "circle"
           },
           "mode": "markers",
           "name": "United States",
           "orientation": "v",
           "showlegend": true,
           "type": "scatter",
           "x": [
            311583481
           ],
           "xaxis": "x",
           "y": [
            9.549916666666666
           ],
           "yaxis": "y"
          }
         ],
         "name": "2011"
        },
        {
         "data": [
          {
           "customdata": [
            [
             2012,
             "Australia"
            ]
           ],
           "hovertemplate": "Country=%{customdata[1]}<br>Year=%{customdata[0]}<br>Population (millions)=%{marker.size}<br>Temperature (°F)=%{y}<extra></extra>",
           "ids": [
            "Australia"
           ],
           "legendgroup": "Australia",
           "marker": {
            "color": "#636efa",
            "size": [
             22733465
            ],
            "sizemode": "area",
            "sizeref": 201739.38484375,
            "symbol": "circle"
           },
           "mode": "markers",
           "name": "Australia",
           "orientation": "v",
           "showlegend": true,
           "type": "scatter",
           "x": [
            22733465
           ],
           "xaxis": "x",
           "y": [
            22.0245
           ],
           "yaxis": "y"
          },
          {
           "customdata": [
            [
             2012,
             "Brazil"
            ]
           ],
           "hovertemplate": "Country=%{customdata[1]}<br>Year=%{customdata[0]}<br>Population (millions)=%{marker.size}<br>Temperature (°F)=%{y}<extra></extra>",
           "ids": [
            "Brazil"
           ],
           "legendgroup": "Brazil",
           "marker": {
            "color": "#EF553B",
            "size": [
             199977707
            ],
            "sizemode": "area",
            "sizeref": 201739.38484375,
            "symbol": "circle"
           },
           "mode": "markers",
           "name": "Brazil",
           "orientation": "v",
           "showlegend": true,
           "type": "scatter",
           "x": [
            199977707
           ],
           "xaxis": "x",
           "y": [
            25.71708333333333
           ],
           "yaxis": "y"
          },
          {
           "customdata": [
            [
             2012,
             "Germany"
            ]
           ],
           "hovertemplate": "Country=%{customdata[1]}<br>Year=%{customdata[0]}<br>Population (millions)=%{marker.size}<br>Temperature (°F)=%{y}<extra></extra>",
           "ids": [
            "Germany"
           ],
           "legendgroup": "Germany",
           "marker": {
            "color": "#00cc96",
            "size": [
             80425823
            ],
            "sizemode": "area",
            "sizeref": 201739.38484375,
            "symbol": "circle"
           },
           "mode": "markers",
           "name": "Germany",
           "orientation": "v",
           "showlegend": true,
           "type": "scatter",
           "x": [
            80425823
           ],
           "xaxis": "x",
           "y": [
            9.227166666666667
           ],
           "yaxis": "y"
          },
          {
           "customdata": [
            [
             2012,
             "India"
            ]
           ],
           "hovertemplate": "Country=%{customdata[1]}<br>Year=%{customdata[0]}<br>Population (millions)=%{marker.size}<br>Temperature (°F)=%{y}<extra></extra>",
           "ids": [
            "India"
           ],
           "legendgroup": "India",
           "marker": {
            "color": "#ab63fa",
            "size": [
             1274487215
            ],
            "sizemode": "area",
            "sizeref": 201739.38484375,
            "symbol": "circle"
           },
           "mode": "markers",
           "name": "India",
           "orientation": "v",
           "showlegend": true,
           "type": "scatter",
           "x": [
            1274487215
           ],
           "xaxis": "x",
           "y": [
            24.640833333333333
           ],
           "yaxis": "y"
          },
          {
           "customdata": [
            [
             2012,
             "South Africa"
            ]
           ],
           "hovertemplate": "Country=%{customdata[1]}<br>Year=%{customdata[0]}<br>Population (millions)=%{marker.size}<br>Temperature (°F)=%{y}<extra></extra>",
           "ids": [
            "South Africa"
           ],
           "legendgroup": "South Africa",
           "marker": {
            "color": "#FFA15A",
            "size": [
             53145033
            ],
            "sizemode": "area",
            "sizeref": 201739.38484375,
            "symbol": "circle"
           },
           "mode": "markers",
           "name": "South Africa",
           "orientation": "v",
           "showlegend": true,
           "type": "scatter",
           "x": [
            53145033
           ],
           "xaxis": "x",
           "y": [
            17.84691666666667
           ],
           "yaxis": "y"
          },
          {
           "customdata": [
            [
             2012,
             "United States"
            ]
           ],
           "hovertemplate": "Country=%{customdata[1]}<br>Year=%{customdata[0]}<br>Population (millions)=%{marker.size}<br>Temperature (°F)=%{y}<extra></extra>",
           "ids": [
            "United States"
           ],
           "legendgroup": "United States",
           "marker": {
            "color": "#19d3f3",
            "size": [
             313877662
            ],
            "sizemode": "area",
            "sizeref": 201739.38484375,
            "symbol": "circle"
           },
           "mode": "markers",
           "name": "United States",
           "orientation": "v",
           "showlegend": true,
           "type": "scatter",
           "x": [
            313877662
           ],
           "xaxis": "x",
           "y": [
            10.261083333333334
           ],
           "yaxis": "y"
          }
         ],
         "name": "2012"
        },
        {
         "data": [
          {
           "customdata": [
            [
             2013,
             "Australia"
            ]
           ],
           "hovertemplate": "Country=%{customdata[1]}<br>Year=%{customdata[0]}<br>Population (millions)=%{marker.size}<br>Temperature (°F)=%{y}<extra></extra>",
           "ids": [
            "Australia"
           ],
           "legendgroup": "Australia",
           "marker": {
            "color": "#636efa",
            "size": [
             23128129
            ],
            "sizemode": "area",
            "sizeref": 201739.38484375,
            "symbol": "circle"
           },
           "mode": "markers",
           "name": "Australia",
           "orientation": "v",
           "showlegend": true,
           "type": "scatter",
           "x": [
            23128129
           ],
           "xaxis": "x",
           "y": [
            22.142875
           ],
           "yaxis": "y"
          },
          {
           "customdata": [
            [
             2013,
             "Brazil"
            ]
           ],
           "hovertemplate": "Country=%{customdata[1]}<br>Year=%{customdata[0]}<br>Population (millions)=%{marker.size}<br>Temperature (°F)=%{y}<extra></extra>",
           "ids": [
            "Brazil"
           ],
           "legendgroup": "Brazil",
           "marker": {
            "color": "#EF553B",
            "size": [
             201721767
            ],
            "sizemode": "area",
            "sizeref": 201739.38484375,
            "symbol": "circle"
           },
           "mode": "markers",
           "name": "Brazil",
           "orientation": "v",
           "showlegend": true,
           "type": "scatter",
           "x": [
            201721767
           ],
           "xaxis": "x",
           "y": [
            25.348125
           ],
           "yaxis": "y"
          },
          {
           "customdata": [
            [
             2013,
             "Germany"
            ]
           ],
           "hovertemplate": "Country=%{customdata[1]}<br>Year=%{customdata[0]}<br>Population (millions)=%{marker.size}<br>Temperature (°F)=%{y}<extra></extra>",
           "ids": [
            "Germany"
           ],
           "legendgroup": "Germany",
           "marker": {
            "color": "#00cc96",
            "size": [
             80645605
            ],
            "sizemode": "area",
            "sizeref": 201739.38484375,
            "symbol": "circle"
           },
           "mode": "markers",
           "name": "Germany",
           "orientation": "v",
           "showlegend": true,
           "type": "scatter",
           "x": [
            80645605
           ],
           "xaxis": "x",
           "y": [
            9.23525
           ],
           "yaxis": "y"
          },
          {
           "customdata": [
            [
             2013,
             "India"
            ]
           ],
           "hovertemplate": "Country=%{customdata[1]}<br>Year=%{customdata[0]}<br>Population (millions)=%{marker.size}<br>Temperature (°F)=%{y}<extra></extra>",
           "ids": [
            "India"
           ],
           "legendgroup": "India",
           "marker": {
            "color": "#ab63fa",
            "size": [
             1291132063
            ],
            "sizemode": "area",
            "sizeref": 201739.38484375,
            "symbol": "circle"
           },
           "mode": "markers",
           "name": "India",
           "orientation": "v",
           "showlegend": true,
           "type": "scatter",
           "x": [
            1291132063
           ],
           "xaxis": "x",
           "y": [
            25.41325
           ],
           "yaxis": "y"
          },
          {
           "customdata": [
            [
             2013,
             "South Africa"
            ]
           ],
           "hovertemplate": "Country=%{customdata[1]}<br>Year=%{customdata[0]}<br>Population (millions)=%{marker.size}<br>Temperature (°F)=%{y}<extra></extra>",
           "ids": [
            "South Africa"
           ],
           "legendgroup": "South Africa",
           "marker": {
            "color": "#FFA15A",
            "size": [
             53873616
            ],
            "sizemode": "area",
            "sizeref": 201739.38484375,
            "symbol": "circle"
           },
           "mode": "markers",
           "name": "South Africa",
           "orientation": "v",
           "showlegend": true,
           "type": "scatter",
           "x": [
            53873616
           ],
           "xaxis": "x",
           "y": [
            17.325375
           ],
           "yaxis": "y"
          },
          {
           "customdata": [
            [
             2013,
             "United States"
            ]
           ],
           "hovertemplate": "Country=%{customdata[1]}<br>Year=%{customdata[0]}<br>Population (millions)=%{marker.size}<br>Temperature (°F)=%{y}<extra></extra>",
           "ids": [
            "United States"
           ],
           "legendgroup": "United States",
           "marker": {
            "color": "#19d3f3",
            "size": [
             316059947
            ],
            "sizemode": "area",
            "sizeref": 201739.38484375,
            "symbol": "circle"
           },
           "mode": "markers",
           "name": "United States",
           "orientation": "v",
           "showlegend": true,
           "type": "scatter",
           "x": [
            316059947
           ],
           "xaxis": "x",
           "y": [
            11.297111111111112
           ],
           "yaxis": "y"
          }
         ],
         "name": "2013"
        }
       ],
       "layout": {
        "autosize": true,
        "legend": {
         "itemsizing": "constant",
         "title": {
          "text": "Country"
         },
         "tracegroupgap": 0
        },
        "sliders": [
         {
          "active": 0,
          "currentvalue": {
           "prefix": "Year="
          },
          "len": 0.9,
          "pad": {
           "b": 10,
           "t": 60
          },
          "steps": [
           {
            "args": [
             [
              "1973"
             ],
             {
              "frame": {
               "duration": 0,
               "redraw": false
              },
              "fromcurrent": true,
              "mode": "immediate",
              "transition": {
               "duration": 0,
               "easing": "linear"
              }
             }
            ],
            "label": "1973",
            "method": "animate"
           },
           {
            "args": [
             [
              "1974"
             ],
             {
              "frame": {
               "duration": 0,
               "redraw": false
              },
              "fromcurrent": true,
              "mode": "immediate",
              "transition": {
               "duration": 0,
               "easing": "linear"
              }
             }
            ],
            "label": "1974",
            "method": "animate"
           },
           {
            "args": [
             [
              "1975"
             ],
             {
              "frame": {
               "duration": 0,
               "redraw": false
              },
              "fromcurrent": true,
              "mode": "immediate",
              "transition": {
               "duration": 0,
               "easing": "linear"
              }
             }
            ],
            "label": "1975",
            "method": "animate"
           },
           {
            "args": [
             [
              "1976"
             ],
             {
              "frame": {
               "duration": 0,
               "redraw": false
              },
              "fromcurrent": true,
              "mode": "immediate",
              "transition": {
               "duration": 0,
               "easing": "linear"
              }
             }
            ],
            "label": "1976",
            "method": "animate"
           },
           {
            "args": [
             [
              "1977"
             ],
             {
              "frame": {
               "duration": 0,
               "redraw": false
              },
              "fromcurrent": true,
              "mode": "immediate",
              "transition": {
               "duration": 0,
               "easing": "linear"
              }
             }
            ],
            "label": "1977",
            "method": "animate"
           },
           {
            "args": [
             [
              "1978"
             ],
             {
              "frame": {
               "duration": 0,
               "redraw": false
              },
              "fromcurrent": true,
              "mode": "immediate",
              "transition": {
               "duration": 0,
               "easing": "linear"
              }
             }
            ],
            "label": "1978",
            "method": "animate"
           },
           {
            "args": [
             [
              "1979"
             ],
             {
              "frame": {
               "duration": 0,
               "redraw": false
              },
              "fromcurrent": true,
              "mode": "immediate",
              "transition": {
               "duration": 0,
               "easing": "linear"
              }
             }
            ],
            "label": "1979",
            "method": "animate"
           },
           {
            "args": [
             [
              "1980"
             ],
             {
              "frame": {
               "duration": 0,
               "redraw": false
              },
              "fromcurrent": true,
              "mode": "immediate",
              "transition": {
               "duration": 0,
               "easing": "linear"
              }
             }
            ],
            "label": "1980",
            "method": "animate"
           },
           {
            "args": [
             [
              "1981"
             ],
             {
              "frame": {
               "duration": 0,
               "redraw": false
              },
              "fromcurrent": true,
              "mode": "immediate",
              "transition": {
               "duration": 0,
               "easing": "linear"
              }
             }
            ],
            "label": "1981",
            "method": "animate"
           },
           {
            "args": [
             [
              "1982"
             ],
             {
              "frame": {
               "duration": 0,
               "redraw": false
              },
              "fromcurrent": true,
              "mode": "immediate",
              "transition": {
               "duration": 0,
               "easing": "linear"
              }
             }
            ],
            "label": "1982",
            "method": "animate"
           },
           {
            "args": [
             [
              "1983"
             ],
             {
              "frame": {
               "duration": 0,
               "redraw": false
              },
              "fromcurrent": true,
              "mode": "immediate",
              "transition": {
               "duration": 0,
               "easing": "linear"
              }
             }
            ],
            "label": "1983",
            "method": "animate"
           },
           {
            "args": [
             [
              "1984"
             ],
             {
              "frame": {
               "duration": 0,
               "redraw": false
              },
              "fromcurrent": true,
              "mode": "immediate",
              "transition": {
               "duration": 0,
               "easing": "linear"
              }
             }
            ],
            "label": "1984",
            "method": "animate"
           },
           {
            "args": [
             [
              "1985"
             ],
             {
              "frame": {
               "duration": 0,
               "redraw": false
              },
              "fromcurrent": true,
              "mode": "immediate",
              "transition": {
               "duration": 0,
               "easing": "linear"
              }
             }
            ],
            "label": "1985",
            "method": "animate"
           },
           {
            "args": [
             [
              "1986"
             ],
             {
              "frame": {
               "duration": 0,
               "redraw": false
              },
              "fromcurrent": true,
              "mode": "immediate",
              "transition": {
               "duration": 0,
               "easing": "linear"
              }
             }
            ],
            "label": "1986",
            "method": "animate"
           },
           {
            "args": [
             [
              "1987"
             ],
             {
              "frame": {
               "duration": 0,
               "redraw": false
              },
              "fromcurrent": true,
              "mode": "immediate",
              "transition": {
               "duration": 0,
               "easing": "linear"
              }
             }
            ],
            "label": "1987",
            "method": "animate"
           },
           {
            "args": [
             [
              "1988"
             ],
             {
              "frame": {
               "duration": 0,
               "redraw": false
              },
              "fromcurrent": true,
              "mode": "immediate",
              "transition": {
               "duration": 0,
               "easing": "linear"
              }
             }
            ],
            "label": "1988",
            "method": "animate"
           },
           {
            "args": [
             [
              "1989"
             ],
             {
              "frame": {
               "duration": 0,
               "redraw": false
              },
              "fromcurrent": true,
              "mode": "immediate",
              "transition": {
               "duration": 0,
               "easing": "linear"
              }
             }
            ],
            "label": "1989",
            "method": "animate"
           },
           {
            "args": [
             [
              "1990"
             ],
             {
              "frame": {
               "duration": 0,
               "redraw": false
              },
              "fromcurrent": true,
              "mode": "immediate",
              "transition": {
               "duration": 0,
               "easing": "linear"
              }
             }
            ],
            "label": "1990",
            "method": "animate"
           },
           {
            "args": [
             [
              "1991"
             ],
             {
              "frame": {
               "duration": 0,
               "redraw": false
              },
              "fromcurrent": true,
              "mode": "immediate",
              "transition": {
               "duration": 0,
               "easing": "linear"
              }
             }
            ],
            "label": "1991",
            "method": "animate"
           },
           {
            "args": [
             [
              "1992"
             ],
             {
              "frame": {
               "duration": 0,
               "redraw": false
              },
              "fromcurrent": true,
              "mode": "immediate",
              "transition": {
               "duration": 0,
               "easing": "linear"
              }
             }
            ],
            "label": "1992",
            "method": "animate"
           },
           {
            "args": [
             [
              "1993"
             ],
             {
              "frame": {
               "duration": 0,
               "redraw": false
              },
              "fromcurrent": true,
              "mode": "immediate",
              "transition": {
               "duration": 0,
               "easing": "linear"
              }
             }
            ],
            "label": "1993",
            "method": "animate"
           },
           {
            "args": [
             [
              "1994"
             ],
             {
              "frame": {
               "duration": 0,
               "redraw": false
              },
              "fromcurrent": true,
              "mode": "immediate",
              "transition": {
               "duration": 0,
               "easing": "linear"
              }
             }
            ],
            "label": "1994",
            "method": "animate"
           },
           {
            "args": [
             [
              "1995"
             ],
             {
              "frame": {
               "duration": 0,
               "redraw": false
              },
              "fromcurrent": true,
              "mode": "immediate",
              "transition": {
               "duration": 0,
               "easing": "linear"
              }
             }
            ],
            "label": "1995",
            "method": "animate"
           },
           {
            "args": [
             [
              "1996"
             ],
             {
              "frame": {
               "duration": 0,
               "redraw": false
              },
              "fromcurrent": true,
              "mode": "immediate",
              "transition": {
               "duration": 0,
               "easing": "linear"
              }
             }
            ],
            "label": "1996",
            "method": "animate"
           },
           {
            "args": [
             [
              "1997"
             ],
             {
              "frame": {
               "duration": 0,
               "redraw": false
              },
              "fromcurrent": true,
              "mode": "immediate",
              "transition": {
               "duration": 0,
               "easing": "linear"
              }
             }
            ],
            "label": "1997",
            "method": "animate"
           },
           {
            "args": [
             [
              "1998"
             ],
             {
              "frame": {
               "duration": 0,
               "redraw": false
              },
              "fromcurrent": true,
              "mode": "immediate",
              "transition": {
               "duration": 0,
               "easing": "linear"
              }
             }
            ],
            "label": "1998",
            "method": "animate"
           },
           {
            "args": [
             [
              "1999"
             ],
             {
              "frame": {
               "duration": 0,
               "redraw": false
              },
              "fromcurrent": true,
              "mode": "immediate",
              "transition": {
               "duration": 0,
               "easing": "linear"
              }
             }
            ],
            "label": "1999",
            "method": "animate"
           },
           {
            "args": [
             [
              "2000"
             ],
             {
              "frame": {
               "duration": 0,
               "redraw": false
              },
              "fromcurrent": true,
              "mode": "immediate",
              "transition": {
               "duration": 0,
               "easing": "linear"
              }
             }
            ],
            "label": "2000",
            "method": "animate"
           },
           {
            "args": [
             [
              "2001"
             ],
             {
              "frame": {
               "duration": 0,
               "redraw": false
              },
              "fromcurrent": true,
              "mode": "immediate",
              "transition": {
               "duration": 0,
               "easing": "linear"
              }
             }
            ],
            "label": "2001",
            "method": "animate"
           },
           {
            "args": [
             [
              "2002"
             ],
             {
              "frame": {
               "duration": 0,
               "redraw": false
              },
              "fromcurrent": true,
              "mode": "immediate",
              "transition": {
               "duration": 0,
               "easing": "linear"
              }
             }
            ],
            "label": "2002",
            "method": "animate"
           },
           {
            "args": [
             [
              "2003"
             ],
             {
              "frame": {
               "duration": 0,
               "redraw": false
              },
              "fromcurrent": true,
              "mode": "immediate",
              "transition": {
               "duration": 0,
               "easing": "linear"
              }
             }
            ],
            "label": "2003",
            "method": "animate"
           },
           {
            "args": [
             [
              "2004"
             ],
             {
              "frame": {
               "duration": 0,
               "redraw": false
              },
              "fromcurrent": true,
              "mode": "immediate",
              "transition": {
               "duration": 0,
               "easing": "linear"
              }
             }
            ],
            "label": "2004",
            "method": "animate"
           },
           {
            "args": [
             [
              "2005"
             ],
             {
              "frame": {
               "duration": 0,
               "redraw": false
              },
              "fromcurrent": true,
              "mode": "immediate",
              "transition": {
               "duration": 0,
               "easing": "linear"
              }
             }
            ],
            "label": "2005",
            "method": "animate"
           },
           {
            "args": [
             [
              "2006"
             ],
             {
              "frame": {
               "duration": 0,
               "redraw": false
              },
              "fromcurrent": true,
              "mode": "immediate",
              "transition": {
               "duration": 0,
               "easing": "linear"
              }
             }
            ],
            "label": "2006",
            "method": "animate"
           },
           {
            "args": [
             [
              "2007"
             ],
             {
              "frame": {
               "duration": 0,
               "redraw": false
              },
              "fromcurrent": true,
              "mode": "immediate",
              "transition": {
               "duration": 0,
               "easing": "linear"
              }
             }
            ],
            "label": "2007",
            "method": "animate"
           },
           {
            "args": [
             [
              "2008"
             ],
             {
              "frame": {
               "duration": 0,
               "redraw": false
              },
              "fromcurrent": true,
              "mode": "immediate",
              "transition": {
               "duration": 0,
               "easing": "linear"
              }
             }
            ],
            "label": "2008",
            "method": "animate"
           },
           {
            "args": [
             [
              "2009"
             ],
             {
              "frame": {
               "duration": 0,
               "redraw": false
              },
              "fromcurrent": true,
              "mode": "immediate",
              "transition": {
               "duration": 0,
               "easing": "linear"
              }
             }
            ],
            "label": "2009",
            "method": "animate"
           },
           {
            "args": [
             [
              "2010"
             ],
             {
              "frame": {
               "duration": 0,
               "redraw": false
              },
              "fromcurrent": true,
              "mode": "immediate",
              "transition": {
               "duration": 0,
               "easing": "linear"
              }
             }
            ],
            "label": "2010",
            "method": "animate"
           },
           {
            "args": [
             [
              "2011"
             ],
             {
              "frame": {
               "duration": 0,
               "redraw": false
              },
              "fromcurrent": true,
              "mode": "immediate",
              "transition": {
               "duration": 0,
               "easing": "linear"
              }
             }
            ],
            "label": "2011",
            "method": "animate"
           },
           {
            "args": [
             [
              "2012"
             ],
             {
              "frame": {
               "duration": 0,
               "redraw": false
              },
              "fromcurrent": true,
              "mode": "immediate",
              "transition": {
               "duration": 0,
               "easing": "linear"
              }
             }
            ],
            "label": "2012",
            "method": "animate"
           },
           {
            "args": [
             [
              "2013"
             ],
             {
              "frame": {
               "duration": 0,
               "redraw": false
              },
              "fromcurrent": true,
              "mode": "immediate",
              "transition": {
               "duration": 0,
               "easing": "linear"
              }
             }
            ],
            "label": "2013",
            "method": "animate"
           }
          ],
          "x": 0.1,
          "xanchor": "left",
          "y": 0,
          "yanchor": "top"
         }
        ],
        "template": {
         "data": {
          "bar": [
           {
            "error_x": {
             "color": "#2a3f5f"
            },
            "error_y": {
             "color": "#2a3f5f"
            },
            "marker": {
             "line": {
              "color": "#E5ECF6",
              "width": 0.5
             },
             "pattern": {
              "fillmode": "overlay",
              "size": 10,
              "solidity": 0.2
             }
            },
            "type": "bar"
           }
          ],
          "barpolar": [
           {
            "marker": {
             "line": {
              "color": "#E5ECF6",
              "width": 0.5
             },
             "pattern": {
              "fillmode": "overlay",
              "size": 10,
              "solidity": 0.2
             }
            },
            "type": "barpolar"
           }
          ],
          "carpet": [
           {
            "aaxis": {
             "endlinecolor": "#2a3f5f",
             "gridcolor": "white",
             "linecolor": "white",
             "minorgridcolor": "white",
             "startlinecolor": "#2a3f5f"
            },
            "baxis": {
             "endlinecolor": "#2a3f5f",
             "gridcolor": "white",
             "linecolor": "white",
             "minorgridcolor": "white",
             "startlinecolor": "#2a3f5f"
            },
            "type": "carpet"
           }
          ],
          "choropleth": [
           {
            "colorbar": {
             "outlinewidth": 0,
             "ticks": ""
            },
            "type": "choropleth"
           }
          ],
          "contour": [
           {
            "colorbar": {
             "outlinewidth": 0,
             "ticks": ""
            },
            "colorscale": [
             [
              0,
              "#0d0887"
             ],
             [
              0.1111111111111111,
              "#46039f"
             ],
             [
              0.2222222222222222,
              "#7201a8"
             ],
             [
              0.3333333333333333,
              "#9c179e"
             ],
             [
              0.4444444444444444,
              "#bd3786"
             ],
             [
              0.5555555555555556,
              "#d8576b"
             ],
             [
              0.6666666666666666,
              "#ed7953"
             ],
             [
              0.7777777777777778,
              "#fb9f3a"
             ],
             [
              0.8888888888888888,
              "#fdca26"
             ],
             [
              1,
              "#f0f921"
             ]
            ],
            "type": "contour"
           }
          ],
          "contourcarpet": [
           {
            "colorbar": {
             "outlinewidth": 0,
             "ticks": ""
            },
            "type": "contourcarpet"
           }
          ],
          "heatmap": [
           {
            "colorbar": {
             "outlinewidth": 0,
             "ticks": ""
            },
            "colorscale": [
             [
              0,
              "#0d0887"
             ],
             [
              0.1111111111111111,
              "#46039f"
             ],
             [
              0.2222222222222222,
              "#7201a8"
             ],
             [
              0.3333333333333333,
              "#9c179e"
             ],
             [
              0.4444444444444444,
              "#bd3786"
             ],
             [
              0.5555555555555556,
              "#d8576b"
             ],
             [
              0.6666666666666666,
              "#ed7953"
             ],
             [
              0.7777777777777778,
              "#fb9f3a"
             ],
             [
              0.8888888888888888,
              "#fdca26"
             ],
             [
              1,
              "#f0f921"
             ]
            ],
            "type": "heatmap"
           }
          ],
          "heatmapgl": [
           {
            "colorbar": {
             "outlinewidth": 0,
             "ticks": ""
            },
            "colorscale": [
             [
              0,
              "#0d0887"
             ],
             [
              0.1111111111111111,
              "#46039f"
             ],
             [
              0.2222222222222222,
              "#7201a8"
             ],
             [
              0.3333333333333333,
              "#9c179e"
             ],
             [
              0.4444444444444444,
              "#bd3786"
             ],
             [
              0.5555555555555556,
              "#d8576b"
             ],
             [
              0.6666666666666666,
              "#ed7953"
             ],
             [
              0.7777777777777778,
              "#fb9f3a"
             ],
             [
              0.8888888888888888,
              "#fdca26"
             ],
             [
              1,
              "#f0f921"
             ]
            ],
            "type": "heatmapgl"
           }
          ],
          "histogram": [
           {
            "marker": {
             "pattern": {
              "fillmode": "overlay",
              "size": 10,
              "solidity": 0.2
             }
            },
            "type": "histogram"
           }
          ],
          "histogram2d": [
           {
            "colorbar": {
             "outlinewidth": 0,
             "ticks": ""
            },
            "colorscale": [
             [
              0,
              "#0d0887"
             ],
             [
              0.1111111111111111,
              "#46039f"
             ],
             [
              0.2222222222222222,
              "#7201a8"
             ],
             [
              0.3333333333333333,
              "#9c179e"
             ],
             [
              0.4444444444444444,
              "#bd3786"
             ],
             [
              0.5555555555555556,
              "#d8576b"
             ],
             [
              0.6666666666666666,
              "#ed7953"
             ],
             [
              0.7777777777777778,
              "#fb9f3a"
             ],
             [
              0.8888888888888888,
              "#fdca26"
             ],
             [
              1,
              "#f0f921"
             ]
            ],
            "type": "histogram2d"
           }
          ],
          "histogram2dcontour": [
           {
            "colorbar": {
             "outlinewidth": 0,
             "ticks": ""
            },
            "colorscale": [
             [
              0,
              "#0d0887"
             ],
             [
              0.1111111111111111,
              "#46039f"
             ],
             [
              0.2222222222222222,
              "#7201a8"
             ],
             [
              0.3333333333333333,
              "#9c179e"
             ],
             [
              0.4444444444444444,
              "#bd3786"
             ],
             [
              0.5555555555555556,
              "#d8576b"
             ],
             [
              0.6666666666666666,
              "#ed7953"
             ],
             [
              0.7777777777777778,
              "#fb9f3a"
             ],
             [
              0.8888888888888888,
              "#fdca26"
             ],
             [
              1,
              "#f0f921"
             ]
            ],
            "type": "histogram2dcontour"
           }
          ],
          "mesh3d": [
           {
            "colorbar": {
             "outlinewidth": 0,
             "ticks": ""
            },
            "type": "mesh3d"
           }
          ],
          "parcoords": [
           {
            "line": {
             "colorbar": {
              "outlinewidth": 0,
              "ticks": ""
             }
            },
            "type": "parcoords"
           }
          ],
          "pie": [
           {
            "automargin": true,
            "type": "pie"
           }
          ],
          "scatter": [
           {
            "fillpattern": {
             "fillmode": "overlay",
             "size": 10,
             "solidity": 0.2
            },
            "type": "scatter"
           }
          ],
          "scatter3d": [
           {
            "line": {
             "colorbar": {
              "outlinewidth": 0,
              "ticks": ""
             }
            },
            "marker": {
             "colorbar": {
              "outlinewidth": 0,
              "ticks": ""
             }
            },
            "type": "scatter3d"
           }
          ],
          "scattercarpet": [
           {
            "marker": {
             "colorbar": {
              "outlinewidth": 0,
              "ticks": ""
             }
            },
            "type": "scattercarpet"
           }
          ],
          "scattergeo": [
           {
            "marker": {
             "colorbar": {
              "outlinewidth": 0,
              "ticks": ""
             }
            },
            "type": "scattergeo"
           }
          ],
          "scattergl": [
           {
            "marker": {
             "colorbar": {
              "outlinewidth": 0,
              "ticks": ""
             }
            },
            "type": "scattergl"
           }
          ],
          "scattermapbox": [
           {
            "marker": {
             "colorbar": {
              "outlinewidth": 0,
              "ticks": ""
             }
            },
            "type": "scattermapbox"
           }
          ],
          "scatterpolar": [
           {
            "marker": {
             "colorbar": {
              "outlinewidth": 0,
              "ticks": ""
             }
            },
            "type": "scatterpolar"
           }
          ],
          "scatterpolargl": [
           {
            "marker": {
             "colorbar": {
              "outlinewidth": 0,
              "ticks": ""
             }
            },
            "type": "scatterpolargl"
           }
          ],
          "scatterternary": [
           {
            "marker": {
             "colorbar": {
              "outlinewidth": 0,
              "ticks": ""
             }
            },
            "type": "scatterternary"
           }
          ],
          "surface": [
           {
            "colorbar": {
             "outlinewidth": 0,
             "ticks": ""
            },
            "colorscale": [
             [
              0,
              "#0d0887"
             ],
             [
              0.1111111111111111,
              "#46039f"
             ],
             [
              0.2222222222222222,
              "#7201a8"
             ],
             [
              0.3333333333333333,
              "#9c179e"
             ],
             [
              0.4444444444444444,
              "#bd3786"
             ],
             [
              0.5555555555555556,
              "#d8576b"
             ],
             [
              0.6666666666666666,
              "#ed7953"
             ],
             [
              0.7777777777777778,
              "#fb9f3a"
             ],
             [
              0.8888888888888888,
              "#fdca26"
             ],
             [
              1,
              "#f0f921"
             ]
            ],
            "type": "surface"
           }
          ],
          "table": [
           {
            "cells": {
             "fill": {
              "color": "#EBF0F8"
             },
             "line": {
              "color": "white"
             }
            },
            "header": {
             "fill": {
              "color": "#C8D4E3"
             },
             "line": {
              "color": "white"
             }
            },
            "type": "table"
           }
          ]
         },
         "layout": {
          "annotationdefaults": {
           "arrowcolor": "#2a3f5f",
           "arrowhead": 0,
           "arrowwidth": 1
          },
          "autotypenumbers": "strict",
          "coloraxis": {
           "colorbar": {
            "outlinewidth": 0,
            "ticks": ""
           }
          },
          "colorscale": {
           "diverging": [
            [
             0,
             "#8e0152"
            ],
            [
             0.1,
             "#c51b7d"
            ],
            [
             0.2,
             "#de77ae"
            ],
            [
             0.3,
             "#f1b6da"
            ],
            [
             0.4,
             "#fde0ef"
            ],
            [
             0.5,
             "#f7f7f7"
            ],
            [
             0.6,
             "#e6f5d0"
            ],
            [
             0.7,
             "#b8e186"
            ],
            [
             0.8,
             "#7fbc41"
            ],
            [
             0.9,
             "#4d9221"
            ],
            [
             1,
             "#276419"
            ]
           ],
           "sequential": [
            [
             0,
             "#0d0887"
            ],
            [
             0.1111111111111111,
             "#46039f"
            ],
            [
             0.2222222222222222,
             "#7201a8"
            ],
            [
             0.3333333333333333,
             "#9c179e"
            ],
            [
             0.4444444444444444,
             "#bd3786"
            ],
            [
             0.5555555555555556,
             "#d8576b"
            ],
            [
             0.6666666666666666,
             "#ed7953"
            ],
            [
             0.7777777777777778,
             "#fb9f3a"
            ],
            [
             0.8888888888888888,
             "#fdca26"
            ],
            [
             1,
             "#f0f921"
            ]
           ],
           "sequentialminus": [
            [
             0,
             "#0d0887"
            ],
            [
             0.1111111111111111,
             "#46039f"
            ],
            [
             0.2222222222222222,
             "#7201a8"
            ],
            [
             0.3333333333333333,
             "#9c179e"
            ],
            [
             0.4444444444444444,
             "#bd3786"
            ],
            [
             0.5555555555555556,
             "#d8576b"
            ],
            [
             0.6666666666666666,
             "#ed7953"
            ],
            [
             0.7777777777777778,
             "#fb9f3a"
            ],
            [
             0.8888888888888888,
             "#fdca26"
            ],
            [
             1,
             "#f0f921"
            ]
           ]
          },
          "colorway": [
           "#636efa",
           "#EF553B",
           "#00cc96",
           "#ab63fa",
           "#FFA15A",
           "#19d3f3",
           "#FF6692",
           "#B6E880",
           "#FF97FF",
           "#FECB52"
          ],
          "font": {
           "color": "#2a3f5f"
          },
          "geo": {
           "bgcolor": "white",
           "lakecolor": "white",
           "landcolor": "#E5ECF6",
           "showlakes": true,
           "showland": true,
           "subunitcolor": "white"
          },
          "hoverlabel": {
           "align": "left"
          },
          "hovermode": "closest",
          "mapbox": {
           "style": "light"
          },
          "paper_bgcolor": "white",
          "plot_bgcolor": "#E5ECF6",
          "polar": {
           "angularaxis": {
            "gridcolor": "white",
            "linecolor": "white",
            "ticks": ""
           },
           "bgcolor": "#E5ECF6",
           "radialaxis": {
            "gridcolor": "white",
            "linecolor": "white",
            "ticks": ""
           }
          },
          "scene": {
           "xaxis": {
            "backgroundcolor": "#E5ECF6",
            "gridcolor": "white",
            "gridwidth": 2,
            "linecolor": "white",
            "showbackground": true,
            "ticks": "",
            "zerolinecolor": "white"
           },
           "yaxis": {
            "backgroundcolor": "#E5ECF6",
            "gridcolor": "white",
            "gridwidth": 2,
            "linecolor": "white",
            "showbackground": true,
            "ticks": "",
            "zerolinecolor": "white"
           },
           "zaxis": {
            "backgroundcolor": "#E5ECF6",
            "gridcolor": "white",
            "gridwidth": 2,
            "linecolor": "white",
            "showbackground": true,
            "ticks": "",
            "zerolinecolor": "white"
           }
          },
          "shapedefaults": {
           "line": {
            "color": "#2a3f5f"
           }
          },
          "ternary": {
           "aaxis": {
            "gridcolor": "white",
            "linecolor": "white",
            "ticks": ""
           },
           "baxis": {
            "gridcolor": "white",
            "linecolor": "white",
            "ticks": ""
           },
           "bgcolor": "#E5ECF6",
           "caxis": {
            "gridcolor": "white",
            "linecolor": "white",
            "ticks": ""
           }
          },
          "title": {
           "x": 0.05
          },
          "xaxis": {
           "automargin": true,
           "gridcolor": "white",
           "linecolor": "white",
           "ticks": "",
           "title": {
            "standoff": 15
           },
           "zerolinecolor": "white",
           "zerolinewidth": 2
          },
          "yaxis": {
           "automargin": true,
           "gridcolor": "white",
           "linecolor": "white",
           "ticks": "",
           "title": {
            "standoff": 15
           },
           "zerolinecolor": "white",
           "zerolinewidth": 2
          }
         }
        },
        "title": {
         "text": "Correlation between Population and Temperature (1973-2013)"
        },
        "updatemenus": [
         {
          "buttons": [
           {
            "args": [
             null,
             {
              "frame": {
               "duration": 500,
               "redraw": false
              },
              "fromcurrent": true,
              "mode": "immediate",
              "transition": {
               "duration": 500,
               "easing": "linear"
              }
             }
            ],
            "label": "&#9654;",
            "method": "animate"
           },
           {
            "args": [
             [
              null
             ],
             {
              "frame": {
               "duration": 0,
               "redraw": false
              },
              "fromcurrent": true,
              "mode": "immediate",
              "transition": {
               "duration": 0,
               "easing": "linear"
              }
             }
            ],
            "label": "&#9724;",
            "method": "animate"
           }
          ],
          "direction": "left",
          "pad": {
           "r": 10,
           "t": 70
          },
          "showactive": false,
          "type": "buttons",
          "x": 0.1,
          "xanchor": "right",
          "y": 0,
          "yanchor": "top"
         }
        ],
        "xaxis": {
         "anchor": "y",
         "autorange": true,
         "domain": [
          0,
          1
         ],
         "range": [
          7.014485709809887,
          8.968322179909162
         ],
         "title": {
          "text": "Population (Millions)"
         },
         "type": "log"
        },
        "yaxis": {
         "anchor": "x",
         "autorange": true,
         "domain": [
          0,
          1
         ],
         "range": [
          -8.891727597473393,
          52.21605801978328
         ],
         "title": {
          "text": "Yearly Average Temperature (°F)"
         },
         "type": "linear"
        }
       }
      },
      "image/png": "[encoded data removed]",
      "text/html": [
       "<div>                            <div id=\"16090a5e-ab16-42b8-9070-58caf84d68c7\" class=\"plotly-graph-div\" style=\"height:525px; width:100%;\"></div>            <script type=\"text/javascript\">                require([\"plotly\"], function(Plotly) {                    window.PLOTLYENV=window.PLOTLYENV || {};                                    if (document.getElementById(\"16090a5e-ab16-42b8-9070-58caf84d68c7\")) {                    Plotly.newPlot(                        \"16090a5e-ab16-42b8-9070-58caf84d68c7\",                        [{\"customdata\":[[1973,\"Australia\"]],\"hovertemplate\":\"Country=%{customdata[1]}\\u003cbr\\u003eYear=%{customdata[0]}\\u003cbr\\u003ePopulation (millions)=%{marker.size}\\u003cbr\\u003eTemperature (\\u00b0F)=%{y}\\u003cextra\\u003e\\u003c\\u002fextra\\u003e\",\"ids\":[\"Australia\"],\"legendgroup\":\"Australia\",\"marker\":{\"color\":\"#636efa\",\"size\":[13380000],\"sizemode\":\"area\",\"sizeref\":201739.38484375,\"symbol\":\"circle\"},\"mode\":\"markers\",\"name\":\"Australia\",\"orientation\":\"v\",\"showlegend\":true,\"x\":[13380000],\"xaxis\":\"x\",\"y\":[22.41275],\"yaxis\":\"y\",\"type\":\"scatter\"},{\"customdata\":[[1973,\"Brazil\"]],\"hovertemplate\":\"Country=%{customdata[1]}\\u003cbr\\u003eYear=%{customdata[0]}\\u003cbr\\u003ePopulation (millions)=%{marker.size}\\u003cbr\\u003eTemperature (\\u00b0F)=%{y}\\u003cextra\\u003e\\u003c\\u002fextra\\u003e\",\"ids\":[\"Brazil\"],\"legendgroup\":\"Brazil\",\"marker\":{\"color\":\"#EF553B\",\"size\":[103666904],\"sizemode\":\"area\",\"sizeref\":201739.38484375,\"symbol\":\"circle\"},\"mode\":\"markers\",\"name\":\"Brazil\",\"orientation\":\"v\",\"showlegend\":true,\"x\":[103666904],\"xaxis\":\"x\",\"y\":[25.169583333333332],\"yaxis\":\"y\",\"type\":\"scatter\"},{\"customdata\":[[1973,\"Germany\"]],\"hovertemplate\":\"Country=%{customdata[1]}\\u003cbr\\u003eYear=%{customdata[0]}\\u003cbr\\u003ePopulation (millions)=%{marker.size}\\u003cbr\\u003eTemperature (\\u00b0F)=%{y}\\u003cextra\\u003e\\u003c\\u002fextra\\u003e\",\"ids\":[\"Germany\"],\"legendgroup\":\"Germany\",\"marker\":{\"color\":\"#00cc96\",\"size\":[78936666],\"sizemode\":\"area\",\"sizeref\":201739.38484375,\"symbol\":\"circle\"},\"mode\":\"markers\",\"name\":\"Germany\",\"orientation\":\"v\",\"showlegend\":true,\"x\":[78936666],\"xaxis\":\"x\",\"y\":[8.402833333333334],\"yaxis\":\"y\",\"type\":\"scatter\"},{\"customdata\":[[1973,\"India\"]],\"hovertemplate\":\"Country=%{customdata[1]}\\u003cbr\\u003eYear=%{customdata[0]}\\u003cbr\\u003ePopulation (millions)=%{marker.size}\\u003cbr\\u003eTemperature (\\u00b0F)=%{y}\\u003cextra\\u003e\\u003c\\u002fextra\\u003e\",\"ids\":[\"India\"],\"legendgroup\":\"India\",\"marker\":{\"color\":\"#ab63fa\",\"size\":[596107483],\"sizemode\":\"area\",\"sizeref\":201739.38484375,\"symbol\":\"circle\"},\"mode\":\"markers\",\"name\":\"India\",\"orientation\":\"v\",\"showlegend\":true,\"x\":[596107483],\"xaxis\":\"x\",\"y\":[24.38658333333333],\"yaxis\":\"y\",\"type\":\"scatter\"},{\"customdata\":[[1973,\"South Africa\"]],\"hovertemplate\":\"Country=%{customdata[1]}\\u003cbr\\u003eYear=%{customdata[0]}\\u003cbr\\u003ePopulation (millions)=%{marker.size}\\u003cbr\\u003eTemperature (\\u00b0F)=%{y}\\u003cextra\\u003e\\u003c\\u002fextra\\u003e\",\"ids\":[\"South Africa\"],\"legendgroup\":\"South Africa\",\"marker\":{\"color\":\"#FFA15A\",\"size\":[24382513],\"sizemode\":\"area\",\"sizeref\":201739.38484375,\"symbol\":\"circle\"},\"mode\":\"markers\",\"name\":\"South Africa\",\"orientation\":\"v\",\"showlegend\":true,\"x\":[24382513],\"xaxis\":\"x\",\"y\":[17.584416666666666],\"yaxis\":\"y\",\"type\":\"scatter\"},{\"customdata\":[[1973,\"United States\"]],\"hovertemplate\":\"Country=%{customdata[1]}\\u003cbr\\u003eYear=%{customdata[0]}\\u003cbr\\u003ePopulation (millions)=%{marker.size}\\u003cbr\\u003eTemperature (\\u00b0F)=%{y}\\u003cextra\\u003e\\u003c\\u002fextra\\u003e\",\"ids\":[\"United States\"],\"legendgroup\":\"United States\",\"marker\":{\"color\":\"#19d3f3\",\"size\":[211909000],\"sizemode\":\"area\",\"sizeref\":201739.38484375,\"symbol\":\"circle\"},\"mode\":\"markers\",\"name\":\"United States\",\"orientation\":\"v\",\"showlegend\":true,\"x\":[211909000],\"xaxis\":\"x\",\"y\":[8.934666666666667],\"yaxis\":\"y\",\"type\":\"scatter\"}],                        {\"template\":{\"data\":{\"histogram2dcontour\":[{\"type\":\"histogram2dcontour\",\"colorbar\":{\"outlinewidth\":0,\"ticks\":\"\"},\"colorscale\":[[0.0,\"#0d0887\"],[0.1111111111111111,\"#46039f\"],[0.2222222222222222,\"#7201a8\"],[0.3333333333333333,\"#9c179e\"],[0.4444444444444444,\"#bd3786\"],[0.5555555555555556,\"#d8576b\"],[0.6666666666666666,\"#ed7953\"],[0.7777777777777778,\"#fb9f3a\"],[0.8888888888888888,\"#fdca26\"],[1.0,\"#f0f921\"]]}],\"choropleth\":[{\"type\":\"choropleth\",\"colorbar\":{\"outlinewidth\":0,\"ticks\":\"\"}}],\"histogram2d\":[{\"type\":\"histogram2d\",\"colorbar\":{\"outlinewidth\":0,\"ticks\":\"\"},\"colorscale\":[[0.0,\"#0d0887\"],[0.1111111111111111,\"#46039f\"],[0.2222222222222222,\"#7201a8\"],[0.3333333333333333,\"#9c179e\"],[0.4444444444444444,\"#bd3786\"],[0.5555555555555556,\"#d8576b\"],[0.6666666666666666,\"#ed7953\"],[0.7777777777777778,\"#fb9f3a\"],[0.8888888888888888,\"#fdca26\"],[1.0,\"#f0f921\"]]}],\"heatmap\":[{\"type\":\"heatmap\",\"colorbar\":{\"outlinewidth\":0,\"ticks\":\"\"},\"colorscale\":[[0.0,\"#0d0887\"],[0.1111111111111111,\"#46039f\"],[0.2222222222222222,\"#7201a8\"],[0.3333333333333333,\"#9c179e\"],[0.4444444444444444,\"#bd3786\"],[0.5555555555555556,\"#d8576b\"],[0.6666666666666666,\"#ed7953\"],[0.7777777777777778,\"#fb9f3a\"],[0.8888888888888888,\"#fdca26\"],[1.0,\"#f0f921\"]]}],\"heatmapgl\":[{\"type\":\"heatmapgl\",\"colorbar\":{\"outlinewidth\":0,\"ticks\":\"\"},\"colorscale\":[[0.0,\"#0d0887\"],[0.1111111111111111,\"#46039f\"],[0.2222222222222222,\"#7201a8\"],[0.3333333333333333,\"#9c179e\"],[0.4444444444444444,\"#bd3786\"],[0.5555555555555556,\"#d8576b\"],[0.6666666666666666,\"#ed7953\"],[0.7777777777777778,\"#fb9f3a\"],[0.8888888888888888,\"#fdca26\"],[1.0,\"#f0f921\"]]}],\"contourcarpet\":[{\"type\":\"contourcarpet\",\"colorbar\":{\"outlinewidth\":0,\"ticks\":\"\"}}],\"contour\":[{\"type\":\"contour\",\"colorbar\":{\"outlinewidth\":0,\"ticks\":\"\"},\"colorscale\":[[0.0,\"#0d0887\"],[0.1111111111111111,\"#46039f\"],[0.2222222222222222,\"#7201a8\"],[0.3333333333333333,\"#9c179e\"],[0.4444444444444444,\"#bd3786\"],[0.5555555555555556,\"#d8576b\"],[0.6666666666666666,\"#ed7953\"],[0.7777777777777778,\"#fb9f3a\"],[0.8888888888888888,\"#fdca26\"],[1.0,\"#f0f921\"]]}],\"surface\":[{\"type\":\"surface\",\"colorbar\":{\"outlinewidth\":0,\"ticks\":\"\"},\"colorscale\":[[0.0,\"#0d0887\"],[0.1111111111111111,\"#46039f\"],[0.2222222222222222,\"#7201a8\"],[0.3333333333333333,\"#9c179e\"],[0.4444444444444444,\"#bd3786\"],[0.5555555555555556,\"#d8576b\"],[0.6666666666666666,\"#ed7953\"],[0.7777777777777778,\"#fb9f3a\"],[0.8888888888888888,\"#fdca26\"],[1.0,\"#f0f921\"]]}],\"mesh3d\":[{\"type\":\"mesh3d\",\"colorbar\":{\"outlinewidth\":0,\"ticks\":\"\"}}],\"scatter\":[{\"fillpattern\":{\"fillmode\":\"overlay\",\"size\":10,\"solidity\":0.2},\"type\":\"scatter\"}],\"parcoords\":[{\"type\":\"parcoords\",\"line\":{\"colorbar\":{\"outlinewidth\":0,\"ticks\":\"\"}}}],\"scatterpolargl\":[{\"type\":\"scatterpolargl\",\"marker\":{\"colorbar\":{\"outlinewidth\":0,\"ticks\":\"\"}}}],\"bar\":[{\"error_x\":{\"color\":\"#2a3f5f\"},\"error_y\":{\"color\":\"#2a3f5f\"},\"marker\":{\"line\":{\"color\":\"#E5ECF6\",\"width\":0.5},\"pattern\":{\"fillmode\":\"overlay\",\"size\":10,\"solidity\":0.2}},\"type\":\"bar\"}],\"scattergeo\":[{\"type\":\"scattergeo\",\"marker\":{\"colorbar\":{\"outlinewidth\":0,\"ticks\":\"\"}}}],\"scatterpolar\":[{\"type\":\"scatterpolar\",\"marker\":{\"colorbar\":{\"outlinewidth\":0,\"ticks\":\"\"}}}],\"histogram\":[{\"marker\":{\"pattern\":{\"fillmode\":\"overlay\",\"size\":10,\"solidity\":0.2}},\"type\":\"histogram\"}],\"scattergl\":[{\"type\":\"scattergl\",\"marker\":{\"colorbar\":{\"outlinewidth\":0,\"ticks\":\"\"}}}],\"scatter3d\":[{\"type\":\"scatter3d\",\"line\":{\"colorbar\":{\"outlinewidth\":0,\"ticks\":\"\"}},\"marker\":{\"colorbar\":{\"outlinewidth\":0,\"ticks\":\"\"}}}],\"scattermapbox\":[{\"type\":\"scattermapbox\",\"marker\":{\"colorbar\":{\"outlinewidth\":0,\"ticks\":\"\"}}}],\"scatterternary\":[{\"type\":\"scatterternary\",\"marker\":{\"colorbar\":{\"outlinewidth\":0,\"ticks\":\"\"}}}],\"scattercarpet\":[{\"type\":\"scattercarpet\",\"marker\":{\"colorbar\":{\"outlinewidth\":0,\"ticks\":\"\"}}}],\"carpet\":[{\"aaxis\":{\"endlinecolor\":\"#2a3f5f\",\"gridcolor\":\"white\",\"linecolor\":\"white\",\"minorgridcolor\":\"white\",\"startlinecolor\":\"#2a3f5f\"},\"baxis\":{\"endlinecolor\":\"#2a3f5f\",\"gridcolor\":\"white\",\"linecolor\":\"white\",\"minorgridcolor\":\"white\",\"startlinecolor\":\"#2a3f5f\"},\"type\":\"carpet\"}],\"table\":[{\"cells\":{\"fill\":{\"color\":\"#EBF0F8\"},\"line\":{\"color\":\"white\"}},\"header\":{\"fill\":{\"color\":\"#C8D4E3\"},\"line\":{\"color\":\"white\"}},\"type\":\"table\"}],\"barpolar\":[{\"marker\":{\"line\":{\"color\":\"#E5ECF6\",\"width\":0.5},\"pattern\":{\"fillmode\":\"overlay\",\"size\":10,\"solidity\":0.2}},\"type\":\"barpolar\"}],\"pie\":[{\"automargin\":true,\"type\":\"pie\"}]},\"layout\":{\"autotypenumbers\":\"strict\",\"colorway\":[\"#636efa\",\"#EF553B\",\"#00cc96\",\"#ab63fa\",\"#FFA15A\",\"#19d3f3\",\"#FF6692\",\"#B6E880\",\"#FF97FF\",\"#FECB52\"],\"font\":{\"color\":\"#2a3f5f\"},\"hovermode\":\"closest\",\"hoverlabel\":{\"align\":\"left\"},\"paper_bgcolor\":\"white\",\"plot_bgcolor\":\"#E5ECF6\",\"polar\":{\"bgcolor\":\"#E5ECF6\",\"angularaxis\":{\"gridcolor\":\"white\",\"linecolor\":\"white\",\"ticks\":\"\"},\"radialaxis\":{\"gridcolor\":\"white\",\"linecolor\":\"white\",\"ticks\":\"\"}},\"ternary\":{\"bgcolor\":\"#E5ECF6\",\"aaxis\":{\"gridcolor\":\"white\",\"linecolor\":\"white\",\"ticks\":\"\"},\"baxis\":{\"gridcolor\":\"white\",\"linecolor\":\"white\",\"ticks\":\"\"},\"caxis\":{\"gridcolor\":\"white\",\"linecolor\":\"white\",\"ticks\":\"\"}},\"coloraxis\":{\"colorbar\":{\"outlinewidth\":0,\"ticks\":\"\"}},\"colorscale\":{\"sequential\":[[0.0,\"#0d0887\"],[0.1111111111111111,\"#46039f\"],[0.2222222222222222,\"#7201a8\"],[0.3333333333333333,\"#9c179e\"],[0.4444444444444444,\"#bd3786\"],[0.5555555555555556,\"#d8576b\"],[0.6666666666666666,\"#ed7953\"],[0.7777777777777778,\"#fb9f3a\"],[0.8888888888888888,\"#fdca26\"],[1.0,\"#f0f921\"]],\"sequentialminus\":[[0.0,\"#0d0887\"],[0.1111111111111111,\"#46039f\"],[0.2222222222222222,\"#7201a8\"],[0.3333333333333333,\"#9c179e\"],[0.4444444444444444,\"#bd3786\"],[0.5555555555555556,\"#d8576b\"],[0.6666666666666666,\"#ed7953\"],[0.7777777777777778,\"#fb9f3a\"],[0.8888888888888888,\"#fdca26\"],[1.0,\"#f0f921\"]],\"diverging\":[[0,\"#8e0152\"],[0.1,\"#c51b7d\"],[0.2,\"#de77ae\"],[0.3,\"#f1b6da\"],[0.4,\"#fde0ef\"],[0.5,\"#f7f7f7\"],[0.6,\"#e6f5d0\"],[0.7,\"#b8e186\"],[0.8,\"#7fbc41\"],[0.9,\"#4d9221\"],[1,\"#276419\"]]},\"xaxis\":{\"gridcolor\":\"white\",\"linecolor\":\"white\",\"ticks\":\"\",\"title\":{\"standoff\":15},\"zerolinecolor\":\"white\",\"automargin\":true,\"zerolinewidth\":2},\"yaxis\":{\"gridcolor\":\"white\",\"linecolor\":\"white\",\"ticks\":\"\",\"title\":{\"standoff\":15},\"zerolinecolor\":\"white\",\"automargin\":true,\"zerolinewidth\":2},\"scene\":{\"xaxis\":{\"backgroundcolor\":\"#E5ECF6\",\"gridcolor\":\"white\",\"linecolor\":\"white\",\"showbackground\":true,\"ticks\":\"\",\"zerolinecolor\":\"white\",\"gridwidth\":2},\"yaxis\":{\"backgroundcolor\":\"#E5ECF6\",\"gridcolor\":\"white\",\"linecolor\":\"white\",\"showbackground\":true,\"ticks\":\"\",\"zerolinecolor\":\"white\",\"gridwidth\":2},\"zaxis\":{\"backgroundcolor\":\"#E5ECF6\",\"gridcolor\":\"white\",\"linecolor\":\"white\",\"showbackground\":true,\"ticks\":\"\",\"zerolinecolor\":\"white\",\"gridwidth\":2}},\"shapedefaults\":{\"line\":{\"color\":\"#2a3f5f\"}},\"annotationdefaults\":{\"arrowcolor\":\"#2a3f5f\",\"arrowhead\":0,\"arrowwidth\":1},\"geo\":{\"bgcolor\":\"white\",\"landcolor\":\"#E5ECF6\",\"subunitcolor\":\"white\",\"showland\":true,\"showlakes\":true,\"lakecolor\":\"white\"},\"title\":{\"x\":0.05},\"mapbox\":{\"style\":\"light\"}}},\"xaxis\":{\"anchor\":\"y\",\"domain\":[0.0,1.0],\"title\":{\"text\":\"Population (Millions)\"},\"type\":\"log\"},\"yaxis\":{\"anchor\":\"x\",\"domain\":[0.0,1.0],\"title\":{\"text\":\"Yearly Average Temperature (\\u00b0F)\"}},\"legend\":{\"title\":{\"text\":\"Country\"},\"tracegroupgap\":0,\"itemsizing\":\"constant\"},\"title\":{\"text\":\"Correlation between Population and Temperature (1973-2013)\"},\"updatemenus\":[{\"buttons\":[{\"args\":[null,{\"frame\":{\"duration\":500,\"redraw\":false},\"mode\":\"immediate\",\"fromcurrent\":true,\"transition\":{\"duration\":500,\"easing\":\"linear\"}}],\"label\":\"&#9654;\",\"method\":\"animate\"},{\"args\":[[null],{\"frame\":{\"duration\":0,\"redraw\":false},\"mode\":\"immediate\",\"fromcurrent\":true,\"transition\":{\"duration\":0,\"easing\":\"linear\"}}],\"label\":\"&#9724;\",\"method\":\"animate\"}],\"direction\":\"left\",\"pad\":{\"r\":10,\"t\":70},\"showactive\":false,\"type\":\"buttons\",\"x\":0.1,\"xanchor\":\"right\",\"y\":0,\"yanchor\":\"top\"}],\"sliders\":[{\"active\":0,\"currentvalue\":{\"prefix\":\"Year=\"},\"len\":0.9,\"pad\":{\"b\":10,\"t\":60},\"steps\":[{\"args\":[[\"1973\"],{\"frame\":{\"duration\":0,\"redraw\":false},\"mode\":\"immediate\",\"fromcurrent\":true,\"transition\":{\"duration\":0,\"easing\":\"linear\"}}],\"label\":\"1973\",\"method\":\"animate\"},{\"args\":[[\"1974\"],{\"frame\":{\"duration\":0,\"redraw\":false},\"mode\":\"immediate\",\"fromcurrent\":true,\"transition\":{\"duration\":0,\"easing\":\"linear\"}}],\"label\":\"1974\",\"method\":\"animate\"},{\"args\":[[\"1975\"],{\"frame\":{\"duration\":0,\"redraw\":false},\"mode\":\"immediate\",\"fromcurrent\":true,\"transition\":{\"duration\":0,\"easing\":\"linear\"}}],\"label\":\"1975\",\"method\":\"animate\"},{\"args\":[[\"1976\"],{\"frame\":{\"duration\":0,\"redraw\":false},\"mode\":\"immediate\",\"fromcurrent\":true,\"transition\":{\"duration\":0,\"easing\":\"linear\"}}],\"label\":\"1976\",\"method\":\"animate\"},{\"args\":[[\"1977\"],{\"frame\":{\"duration\":0,\"redraw\":false},\"mode\":\"immediate\",\"fromcurrent\":true,\"transition\":{\"duration\":0,\"easing\":\"linear\"}}],\"label\":\"1977\",\"method\":\"animate\"},{\"args\":[[\"1978\"],{\"frame\":{\"duration\":0,\"redraw\":false},\"mode\":\"immediate\",\"fromcurrent\":true,\"transition\":{\"duration\":0,\"easing\":\"linear\"}}],\"label\":\"1978\",\"method\":\"animate\"},{\"args\":[[\"1979\"],{\"frame\":{\"duration\":0,\"redraw\":false},\"mode\":\"immediate\",\"fromcurrent\":true,\"transition\":{\"duration\":0,\"easing\":\"linear\"}}],\"label\":\"1979\",\"method\":\"animate\"},{\"args\":[[\"1980\"],{\"frame\":{\"duration\":0,\"redraw\":false},\"mode\":\"immediate\",\"fromcurrent\":true,\"transition\":{\"duration\":0,\"easing\":\"linear\"}}],\"label\":\"1980\",\"method\":\"animate\"},{\"args\":[[\"1981\"],{\"frame\":{\"duration\":0,\"redraw\":false},\"mode\":\"immediate\",\"fromcurrent\":true,\"transition\":{\"duration\":0,\"easing\":\"linear\"}}],\"label\":\"1981\",\"method\":\"animate\"},{\"args\":[[\"1982\"],{\"frame\":{\"duration\":0,\"redraw\":false},\"mode\":\"immediate\",\"fromcurrent\":true,\"transition\":{\"duration\":0,\"easing\":\"linear\"}}],\"label\":\"1982\",\"method\":\"animate\"},{\"args\":[[\"1983\"],{\"frame\":{\"duration\":0,\"redraw\":false},\"mode\":\"immediate\",\"fromcurrent\":true,\"transition\":{\"duration\":0,\"easing\":\"linear\"}}],\"label\":\"1983\",\"method\":\"animate\"},{\"args\":[[\"1984\"],{\"frame\":{\"duration\":0,\"redraw\":false},\"mode\":\"immediate\",\"fromcurrent\":true,\"transition\":{\"duration\":0,\"easing\":\"linear\"}}],\"label\":\"1984\",\"method\":\"animate\"},{\"args\":[[\"1985\"],{\"frame\":{\"duration\":0,\"redraw\":false},\"mode\":\"immediate\",\"fromcurrent\":true,\"transition\":{\"duration\":0,\"easing\":\"linear\"}}],\"label\":\"1985\",\"method\":\"animate\"},{\"args\":[[\"1986\"],{\"frame\":{\"duration\":0,\"redraw\":false},\"mode\":\"immediate\",\"fromcurrent\":true,\"transition\":{\"duration\":0,\"easing\":\"linear\"}}],\"label\":\"1986\",\"method\":\"animate\"},{\"args\":[[\"1987\"],{\"frame\":{\"duration\":0,\"redraw\":false},\"mode\":\"immediate\",\"fromcurrent\":true,\"transition\":{\"duration\":0,\"easing\":\"linear\"}}],\"label\":\"1987\",\"method\":\"animate\"},{\"args\":[[\"1988\"],{\"frame\":{\"duration\":0,\"redraw\":false},\"mode\":\"immediate\",\"fromcurrent\":true,\"transition\":{\"duration\":0,\"easing\":\"linear\"}}],\"label\":\"1988\",\"method\":\"animate\"},{\"args\":[[\"1989\"],{\"frame\":{\"duration\":0,\"redraw\":false},\"mode\":\"immediate\",\"fromcurrent\":true,\"transition\":{\"duration\":0,\"easing\":\"linear\"}}],\"label\":\"1989\",\"method\":\"animate\"},{\"args\":[[\"1990\"],{\"frame\":{\"duration\":0,\"redraw\":false},\"mode\":\"immediate\",\"fromcurrent\":true,\"transition\":{\"duration\":0,\"easing\":\"linear\"}}],\"label\":\"1990\",\"method\":\"animate\"},{\"args\":[[\"1991\"],{\"frame\":{\"duration\":0,\"redraw\":false},\"mode\":\"immediate\",\"fromcurrent\":true,\"transition\":{\"duration\":0,\"easing\":\"linear\"}}],\"label\":\"1991\",\"method\":\"animate\"},{\"args\":[[\"1992\"],{\"frame\":{\"duration\":0,\"redraw\":false},\"mode\":\"immediate\",\"fromcurrent\":true,\"transition\":{\"duration\":0,\"easing\":\"linear\"}}],\"label\":\"1992\",\"method\":\"animate\"},{\"args\":[[\"1993\"],{\"frame\":{\"duration\":0,\"redraw\":false},\"mode\":\"immediate\",\"fromcurrent\":true,\"transition\":{\"duration\":0,\"easing\":\"linear\"}}],\"label\":\"1993\",\"method\":\"animate\"},{\"args\":[[\"1994\"],{\"frame\":{\"duration\":0,\"redraw\":false},\"mode\":\"immediate\",\"fromcurrent\":true,\"transition\":{\"duration\":0,\"easing\":\"linear\"}}],\"label\":\"1994\",\"method\":\"animate\"},{\"args\":[[\"1995\"],{\"frame\":{\"duration\":0,\"redraw\":false},\"mode\":\"immediate\",\"fromcurrent\":true,\"transition\":{\"duration\":0,\"easing\":\"linear\"}}],\"label\":\"1995\",\"method\":\"animate\"},{\"args\":[[\"1996\"],{\"frame\":{\"duration\":0,\"redraw\":false},\"mode\":\"immediate\",\"fromcurrent\":true,\"transition\":{\"duration\":0,\"easing\":\"linear\"}}],\"label\":\"1996\",\"method\":\"animate\"},{\"args\":[[\"1997\"],{\"frame\":{\"duration\":0,\"redraw\":false},\"mode\":\"immediate\",\"fromcurrent\":true,\"transition\":{\"duration\":0,\"easing\":\"linear\"}}],\"label\":\"1997\",\"method\":\"animate\"},{\"args\":[[\"1998\"],{\"frame\":{\"duration\":0,\"redraw\":false},\"mode\":\"immediate\",\"fromcurrent\":true,\"transition\":{\"duration\":0,\"easing\":\"linear\"}}],\"label\":\"1998\",\"method\":\"animate\"},{\"args\":[[\"1999\"],{\"frame\":{\"duration\":0,\"redraw\":false},\"mode\":\"immediate\",\"fromcurrent\":true,\"transition\":{\"duration\":0,\"easing\":\"linear\"}}],\"label\":\"1999\",\"method\":\"animate\"},{\"args\":[[\"2000\"],{\"frame\":{\"duration\":0,\"redraw\":false},\"mode\":\"immediate\",\"fromcurrent\":true,\"transition\":{\"duration\":0,\"easing\":\"linear\"}}],\"label\":\"2000\",\"method\":\"animate\"},{\"args\":[[\"2001\"],{\"frame\":{\"duration\":0,\"redraw\":false},\"mode\":\"immediate\",\"fromcurrent\":true,\"transition\":{\"duration\":0,\"easing\":\"linear\"}}],\"label\":\"2001\",\"method\":\"animate\"},{\"args\":[[\"2002\"],{\"frame\":{\"duration\":0,\"redraw\":false},\"mode\":\"immediate\",\"fromcurrent\":true,\"transition\":{\"duration\":0,\"easing\":\"linear\"}}],\"label\":\"2002\",\"method\":\"animate\"},{\"args\":[[\"2003\"],{\"frame\":{\"duration\":0,\"redraw\":false},\"mode\":\"immediate\",\"fromcurrent\":true,\"transition\":{\"duration\":0,\"easing\":\"linear\"}}],\"label\":\"2003\",\"method\":\"animate\"},{\"args\":[[\"2004\"],{\"frame\":{\"duration\":0,\"redraw\":false},\"mode\":\"immediate\",\"fromcurrent\":true,\"transition\":{\"duration\":0,\"easing\":\"linear\"}}],\"label\":\"2004\",\"method\":\"animate\"},{\"args\":[[\"2005\"],{\"frame\":{\"duration\":0,\"redraw\":false},\"mode\":\"immediate\",\"fromcurrent\":true,\"transition\":{\"duration\":0,\"easing\":\"linear\"}}],\"label\":\"2005\",\"method\":\"animate\"},{\"args\":[[\"2006\"],{\"frame\":{\"duration\":0,\"redraw\":false},\"mode\":\"immediate\",\"fromcurrent\":true,\"transition\":{\"duration\":0,\"easing\":\"linear\"}}],\"label\":\"2006\",\"method\":\"animate\"},{\"args\":[[\"2007\"],{\"frame\":{\"duration\":0,\"redraw\":false},\"mode\":\"immediate\",\"fromcurrent\":true,\"transition\":{\"duration\":0,\"easing\":\"linear\"}}],\"label\":\"2007\",\"method\":\"animate\"},{\"args\":[[\"2008\"],{\"frame\":{\"duration\":0,\"redraw\":false},\"mode\":\"immediate\",\"fromcurrent\":true,\"transition\":{\"duration\":0,\"easing\":\"linear\"}}],\"label\":\"2008\",\"method\":\"animate\"},{\"args\":[[\"2009\"],{\"frame\":{\"duration\":0,\"redraw\":false},\"mode\":\"immediate\",\"fromcurrent\":true,\"transition\":{\"duration\":0,\"easing\":\"linear\"}}],\"label\":\"2009\",\"method\":\"animate\"},{\"args\":[[\"2010\"],{\"frame\":{\"duration\":0,\"redraw\":false},\"mode\":\"immediate\",\"fromcurrent\":true,\"transition\":{\"duration\":0,\"easing\":\"linear\"}}],\"label\":\"2010\",\"method\":\"animate\"},{\"args\":[[\"2011\"],{\"frame\":{\"duration\":0,\"redraw\":false},\"mode\":\"immediate\",\"fromcurrent\":true,\"transition\":{\"duration\":0,\"easing\":\"linear\"}}],\"label\":\"2011\",\"method\":\"animate\"},{\"args\":[[\"2012\"],{\"frame\":{\"duration\":0,\"redraw\":false},\"mode\":\"immediate\",\"fromcurrent\":true,\"transition\":{\"duration\":0,\"easing\":\"linear\"}}],\"label\":\"2012\",\"method\":\"animate\"},{\"args\":[[\"2013\"],{\"frame\":{\"duration\":0,\"redraw\":false},\"mode\":\"immediate\",\"fromcurrent\":true,\"transition\":{\"duration\":0,\"easing\":\"linear\"}}],\"label\":\"2013\",\"method\":\"animate\"}],\"x\":0.1,\"xanchor\":\"left\",\"y\":0,\"yanchor\":\"top\"}]},                        {\"responsive\": true}                    ).then(function(){\n",
       "                            Plotly.addFrames('16090a5e-ab16-42b8-9070-58caf84d68c7', [{\"data\":[{\"customdata\":[[1973,\"Australia\"]],\"hovertemplate\":\"Country=%{customdata[1]}\\u003cbr\\u003eYear=%{customdata[0]}\\u003cbr\\u003ePopulation (millions)=%{marker.size}\\u003cbr\\u003eTemperature (\\u00b0F)=%{y}\\u003cextra\\u003e\\u003c\\u002fextra\\u003e\",\"ids\":[\"Australia\"],\"legendgroup\":\"Australia\",\"marker\":{\"color\":\"#636efa\",\"size\":[13380000],\"sizemode\":\"area\",\"sizeref\":201739.38484375,\"symbol\":\"circle\"},\"mode\":\"markers\",\"name\":\"Australia\",\"orientation\":\"v\",\"showlegend\":true,\"x\":[13380000],\"xaxis\":\"x\",\"y\":[22.41275],\"yaxis\":\"y\",\"type\":\"scatter\"},{\"customdata\":[[1973,\"Brazil\"]],\"hovertemplate\":\"Country=%{customdata[1]}\\u003cbr\\u003eYear=%{customdata[0]}\\u003cbr\\u003ePopulation (millions)=%{marker.size}\\u003cbr\\u003eTemperature (\\u00b0F)=%{y}\\u003cextra\\u003e\\u003c\\u002fextra\\u003e\",\"ids\":[\"Brazil\"],\"legendgroup\":\"Brazil\",\"marker\":{\"color\":\"#EF553B\",\"size\":[103666904],\"sizemode\":\"area\",\"sizeref\":201739.38484375,\"symbol\":\"circle\"},\"mode\":\"markers\",\"name\":\"Brazil\",\"orientation\":\"v\",\"showlegend\":true,\"x\":[103666904],\"xaxis\":\"x\",\"y\":[25.169583333333332],\"yaxis\":\"y\",\"type\":\"scatter\"},{\"customdata\":[[1973,\"Germany\"]],\"hovertemplate\":\"Country=%{customdata[1]}\\u003cbr\\u003eYear=%{customdata[0]}\\u003cbr\\u003ePopulation (millions)=%{marker.size}\\u003cbr\\u003eTemperature (\\u00b0F)=%{y}\\u003cextra\\u003e\\u003c\\u002fextra\\u003e\",\"ids\":[\"Germany\"],\"legendgroup\":\"Germany\",\"marker\":{\"color\":\"#00cc96\",\"size\":[78936666],\"sizemode\":\"area\",\"sizeref\":201739.38484375,\"symbol\":\"circle\"},\"mode\":\"markers\",\"name\":\"Germany\",\"orientation\":\"v\",\"showlegend\":true,\"x\":[78936666],\"xaxis\":\"x\",\"y\":[8.402833333333334],\"yaxis\":\"y\",\"type\":\"scatter\"},{\"customdata\":[[1973,\"India\"]],\"hovertemplate\":\"Country=%{customdata[1]}\\u003cbr\\u003eYear=%{customdata[0]}\\u003cbr\\u003ePopulation (millions)=%{marker.size}\\u003cbr\\u003eTemperature (\\u00b0F)=%{y}\\u003cextra\\u003e\\u003c\\u002fextra\\u003e\",\"ids\":[\"India\"],\"legendgroup\":\"India\",\"marker\":{\"color\":\"#ab63fa\",\"size\":[596107483],\"sizemode\":\"area\",\"sizeref\":201739.38484375,\"symbol\":\"circle\"},\"mode\":\"markers\",\"name\":\"India\",\"orientation\":\"v\",\"showlegend\":true,\"x\":[596107483],\"xaxis\":\"x\",\"y\":[24.38658333333333],\"yaxis\":\"y\",\"type\":\"scatter\"},{\"customdata\":[[1973,\"South Africa\"]],\"hovertemplate\":\"Country=%{customdata[1]}\\u003cbr\\u003eYear=%{customdata[0]}\\u003cbr\\u003ePopulation (millions)=%{marker.size}\\u003cbr\\u003eTemperature (\\u00b0F)=%{y}\\u003cextra\\u003e\\u003c\\u002fextra\\u003e\",\"ids\":[\"South Africa\"],\"legendgroup\":\"South Africa\",\"marker\":{\"color\":\"#FFA15A\",\"size\":[24382513],\"sizemode\":\"area\",\"sizeref\":201739.38484375,\"symbol\":\"circle\"},\"mode\":\"markers\",\"name\":\"South Africa\",\"orientation\":\"v\",\"showlegend\":true,\"x\":[24382513],\"xaxis\":\"x\",\"y\":[17.584416666666666],\"yaxis\":\"y\",\"type\":\"scatter\"},{\"customdata\":[[1973,\"United States\"]],\"hovertemplate\":\"Country=%{customdata[1]}\\u003cbr\\u003eYear=%{customdata[0]}\\u003cbr\\u003ePopulation (millions)=%{marker.size}\\u003cbr\\u003eTemperature (\\u00b0F)=%{y}\\u003cextra\\u003e\\u003c\\u002fextra\\u003e\",\"ids\":[\"United States\"],\"legendgroup\":\"United States\",\"marker\":{\"color\":\"#19d3f3\",\"size\":[211909000],\"sizemode\":\"area\",\"sizeref\":201739.38484375,\"symbol\":\"circle\"},\"mode\":\"markers\",\"name\":\"United States\",\"orientation\":\"v\",\"showlegend\":true,\"x\":[211909000],\"xaxis\":\"x\",\"y\":[8.934666666666667],\"yaxis\":\"y\",\"type\":\"scatter\"}],\"name\":\"1973\"},{\"data\":[{\"customdata\":[[1974,\"Australia\"]],\"hovertemplate\":\"Country=%{customdata[1]}\\u003cbr\\u003eYear=%{customdata[0]}\\u003cbr\\u003ePopulation (millions)=%{marker.size}\\u003cbr\\u003eTemperature (\\u00b0F)=%{y}\\u003cextra\\u003e\\u003c\\u002fextra\\u003e\",\"ids\":[\"Australia\"],\"legendgroup\":\"Australia\",\"marker\":{\"color\":\"#636efa\",\"size\":[13723000],\"sizemode\":\"area\",\"sizeref\":201739.38484375,\"symbol\":\"circle\"},\"mode\":\"markers\",\"name\":\"Australia\",\"orientation\":\"v\",\"showlegend\":true,\"x\":[13723000],\"xaxis\":\"x\",\"y\":[21.23808333333333],\"yaxis\":\"y\",\"type\":\"scatter\"},{\"customdata\":[[1974,\"Brazil\"]],\"hovertemplate\":\"Country=%{customdata[1]}\\u003cbr\\u003eYear=%{customdata[0]}\\u003cbr\\u003ePopulation (millions)=%{marker.size}\\u003cbr\\u003eTemperature (\\u00b0F)=%{y}\\u003cextra\\u003e\\u003c\\u002fextra\\u003e\",\"ids\":[\"Brazil\"],\"legendgroup\":\"Brazil\",\"marker\":{\"color\":\"#EF553B\",\"size\":[106167372],\"sizemode\":\"area\",\"sizeref\":201739.38484375,\"symbol\":\"circle\"},\"mode\":\"markers\",\"name\":\"Brazil\",\"orientation\":\"v\",\"showlegend\":true,\"x\":[106167372],\"xaxis\":\"x\",\"y\":[24.5815],\"yaxis\":\"y\",\"type\":\"scatter\"},{\"customdata\":[[1974,\"Germany\"]],\"hovertemplate\":\"Country=%{customdata[1]}\\u003cbr\\u003eYear=%{customdata[0]}\\u003cbr\\u003ePopulation (millions)=%{marker.size}\\u003cbr\\u003eTemperature (\\u00b0F)=%{y}\\u003cextra\\u003e\\u003c\\u002fextra\\u003e\",\"ids\":[\"Germany\"],\"legendgroup\":\"Germany\",\"marker\":{\"color\":\"#00cc96\",\"size\":[78967433],\"sizemode\":\"area\",\"sizeref\":201739.38484375,\"symbol\":\"circle\"},\"mode\":\"markers\",\"name\":\"Germany\",\"orientation\":\"v\",\"showlegend\":true,\"x\":[78967433],\"xaxis\":\"x\",\"y\":[8.970416666666667],\"yaxis\":\"y\",\"type\":\"scatter\"},{\"customdata\":[[1974,\"India\"]],\"hovertemplate\":\"Country=%{customdata[1]}\\u003cbr\\u003eYear=%{customdata[0]}\\u003cbr\\u003ePopulation (millions)=%{marker.size}\\u003cbr\\u003eTemperature (\\u00b0F)=%{y}\\u003cextra\\u003e\\u003c\\u002fextra\\u003e\",\"ids\":[\"India\"],\"legendgroup\":\"India\",\"marker\":{\"color\":\"#ab63fa\",\"size\":[609721951],\"sizemode\":\"area\",\"sizeref\":201739.38484375,\"symbol\":\"circle\"},\"mode\":\"markers\",\"name\":\"India\",\"orientation\":\"v\",\"showlegend\":true,\"x\":[609721951],\"xaxis\":\"x\",\"y\":[24.17575],\"yaxis\":\"y\",\"type\":\"scatter\"},{\"customdata\":[[1974,\"South Africa\"]],\"hovertemplate\":\"Country=%{customdata[1]}\\u003cbr\\u003eYear=%{customdata[0]}\\u003cbr\\u003ePopulation (millions)=%{marker.size}\\u003cbr\\u003eTemperature (\\u00b0F)=%{y}\\u003cextra\\u003e\\u003c\\u002fextra\\u003e\",\"ids\":[\"South Africa\"],\"legendgroup\":\"South Africa\",\"marker\":{\"color\":\"#FFA15A\",\"size\":[25077016],\"sizemode\":\"area\",\"sizeref\":201739.38484375,\"symbol\":\"circle\"},\"mode\":\"markers\",\"name\":\"South Africa\",\"orientation\":\"v\",\"showlegend\":true,\"x\":[25077016],\"xaxis\":\"x\",\"y\":[17.175416666666667],\"yaxis\":\"y\",\"type\":\"scatter\"},{\"customdata\":[[1974,\"United States\"]],\"hovertemplate\":\"Country=%{customdata[1]}\\u003cbr\\u003eYear=%{customdata[0]}\\u003cbr\\u003ePopulation (millions)=%{marker.size}\\u003cbr\\u003eTemperature (\\u00b0F)=%{y}\\u003cextra\\u003e\\u003c\\u002fextra\\u003e\",\"ids\":[\"United States\"],\"legendgroup\":\"United States\",\"marker\":{\"color\":\"#19d3f3\",\"size\":[213854000],\"sizemode\":\"area\",\"sizeref\":201739.38484375,\"symbol\":\"circle\"},\"mode\":\"markers\",\"name\":\"United States\",\"orientation\":\"v\",\"showlegend\":true,\"x\":[213854000],\"xaxis\":\"x\",\"y\":[8.815916666666666],\"yaxis\":\"y\",\"type\":\"scatter\"}],\"name\":\"1974\"},{\"data\":[{\"customdata\":[[1975,\"Australia\"]],\"hovertemplate\":\"Country=%{customdata[1]}\\u003cbr\\u003eYear=%{customdata[0]}\\u003cbr\\u003ePopulation (millions)=%{marker.size}\\u003cbr\\u003eTemperature (\\u00b0F)=%{y}\\u003cextra\\u003e\\u003c\\u002fextra\\u003e\",\"ids\":[\"Australia\"],\"legendgroup\":\"Australia\",\"marker\":{\"color\":\"#636efa\",\"size\":[13893000],\"sizemode\":\"area\",\"sizeref\":201739.38484375,\"symbol\":\"circle\"},\"mode\":\"markers\",\"name\":\"Australia\",\"orientation\":\"v\",\"showlegend\":true,\"x\":[13893000],\"xaxis\":\"x\",\"y\":[21.692666666666668],\"yaxis\":\"y\",\"type\":\"scatter\"},{\"customdata\":[[1975,\"Brazil\"]],\"hovertemplate\":\"Country=%{customdata[1]}\\u003cbr\\u003eYear=%{customdata[0]}\\u003cbr\\u003ePopulation (millions)=%{marker.size}\\u003cbr\\u003eTemperature (\\u00b0F)=%{y}\\u003cextra\\u003e\\u003c\\u002fextra\\u003e\",\"ids\":[\"Brazil\"],\"legendgroup\":\"Brazil\",\"marker\":{\"color\":\"#EF553B\",\"size\":[108700515],\"sizemode\":\"area\",\"sizeref\":201739.38484375,\"symbol\":\"circle\"},\"mode\":\"markers\",\"name\":\"Brazil\",\"orientation\":\"v\",\"showlegend\":true,\"x\":[108700515],\"xaxis\":\"x\",\"y\":[24.67675],\"yaxis\":\"y\",\"type\":\"scatter\"},{\"customdata\":[[1975,\"Germany\"]],\"hovertemplate\":\"Country=%{customdata[1]}\\u003cbr\\u003eYear=%{customdata[0]}\\u003cbr\\u003ePopulation (millions)=%{marker.size}\\u003cbr\\u003eTemperature (\\u00b0F)=%{y}\\u003cextra\\u003e\\u003c\\u002fextra\\u003e\",\"ids\":[\"Germany\"],\"legendgroup\":\"Germany\",\"marker\":{\"color\":\"#00cc96\",\"size\":[78673554],\"sizemode\":\"area\",\"sizeref\":201739.38484375,\"symbol\":\"circle\"},\"mode\":\"markers\",\"name\":\"Germany\",\"orientation\":\"v\",\"showlegend\":true,\"x\":[78673554],\"xaxis\":\"x\",\"y\":[9.093666666666667],\"yaxis\":\"y\",\"type\":\"scatter\"},{\"customdata\":[[1975,\"India\"]],\"hovertemplate\":\"Country=%{customdata[1]}\\u003cbr\\u003eYear=%{customdata[0]}\\u003cbr\\u003ePopulation (millions)=%{marker.size}\\u003cbr\\u003eTemperature (\\u00b0F)=%{y}\\u003cextra\\u003e\\u003c\\u002fextra\\u003e\",\"ids\":[\"India\"],\"legendgroup\":\"India\",\"marker\":{\"color\":\"#ab63fa\",\"size\":[623524219],\"sizemode\":\"area\",\"sizeref\":201739.38484375,\"symbol\":\"circle\"},\"mode\":\"markers\",\"name\":\"India\",\"orientation\":\"v\",\"showlegend\":true,\"x\":[623524219],\"xaxis\":\"x\",\"y\":[23.862166666666667],\"yaxis\":\"y\",\"type\":\"scatter\"},{\"customdata\":[[1975,\"South Africa\"]],\"hovertemplate\":\"Country=%{customdata[1]}\\u003cbr\\u003eYear=%{customdata[0]}\\u003cbr\\u003ePopulation (millions)=%{marker.size}\\u003cbr\\u003eTemperature (\\u00b0F)=%{y}\\u003cextra\\u003e\\u003c\\u002fextra\\u003e\",\"ids\":[\"South Africa\"],\"legendgroup\":\"South Africa\",\"marker\":{\"color\":\"#FFA15A\",\"size\":[25777964],\"sizemode\":\"area\",\"sizeref\":201739.38484375,\"symbol\":\"circle\"},\"mode\":\"markers\",\"name\":\"South Africa\",\"orientation\":\"v\",\"showlegend\":true,\"x\":[25777964],\"xaxis\":\"x\",\"y\":[17.1505],\"yaxis\":\"y\",\"type\":\"scatter\"},{\"customdata\":[[1975,\"United States\"]],\"hovertemplate\":\"Country=%{customdata[1]}\\u003cbr\\u003eYear=%{customdata[0]}\\u003cbr\\u003ePopulation (millions)=%{marker.size}\\u003cbr\\u003eTemperature (\\u00b0F)=%{y}\\u003cextra\\u003e\\u003c\\u002fextra\\u003e\",\"ids\":[\"United States\"],\"legendgroup\":\"United States\",\"marker\":{\"color\":\"#19d3f3\",\"size\":[215973000],\"sizemode\":\"area\",\"sizeref\":201739.38484375,\"symbol\":\"circle\"},\"mode\":\"markers\",\"name\":\"United States\",\"orientation\":\"v\",\"showlegend\":true,\"x\":[215973000],\"xaxis\":\"x\",\"y\":[8.431],\"yaxis\":\"y\",\"type\":\"scatter\"}],\"name\":\"1975\"},{\"data\":[{\"customdata\":[[1976,\"Australia\"]],\"hovertemplate\":\"Country=%{customdata[1]}\\u003cbr\\u003eYear=%{customdata[0]}\\u003cbr\\u003ePopulation (millions)=%{marker.size}\\u003cbr\\u003eTemperature (\\u00b0F)=%{y}\\u003cextra\\u003e\\u003c\\u002fextra\\u003e\",\"ids\":[\"Australia\"],\"legendgroup\":\"Australia\",\"marker\":{\"color\":\"#636efa\",\"size\":[14033000],\"sizemode\":\"area\",\"sizeref\":201739.38484375,\"symbol\":\"circle\"},\"mode\":\"markers\",\"name\":\"Australia\",\"orientation\":\"v\",\"showlegend\":true,\"x\":[14033000],\"xaxis\":\"x\",\"y\":[21.193416666666668],\"yaxis\":\"y\",\"type\":\"scatter\"},{\"customdata\":[[1976,\"Brazil\"]],\"hovertemplate\":\"Country=%{customdata[1]}\\u003cbr\\u003eYear=%{customdata[0]}\\u003cbr\\u003ePopulation (millions)=%{marker.size}\\u003cbr\\u003eTemperature (\\u00b0F)=%{y}\\u003cextra\\u003e\\u003c\\u002fextra\\u003e\",\"ids\":[\"Brazil\"],\"legendgroup\":\"Brazil\",\"marker\":{\"color\":\"#EF553B\",\"size\":[111286504],\"sizemode\":\"area\",\"sizeref\":201739.38484375,\"symbol\":\"circle\"},\"mode\":\"markers\",\"name\":\"Brazil\",\"orientation\":\"v\",\"showlegend\":true,\"x\":[111286504],\"xaxis\":\"x\",\"y\":[24.719000000000005],\"yaxis\":\"y\",\"type\":\"scatter\"},{\"customdata\":[[1976,\"Germany\"]],\"hovertemplate\":\"Country=%{customdata[1]}\\u003cbr\\u003eYear=%{customdata[0]}\\u003cbr\\u003ePopulation (millions)=%{marker.size}\\u003cbr\\u003eTemperature (\\u00b0F)=%{y}\\u003cextra\\u003e\\u003c\\u002fextra\\u003e\",\"ids\":[\"Germany\"],\"legendgroup\":\"Germany\",\"marker\":{\"color\":\"#00cc96\",\"size\":[78336950],\"sizemode\":\"area\",\"sizeref\":201739.38484375,\"symbol\":\"circle\"},\"mode\":\"markers\",\"name\":\"Germany\",\"orientation\":\"v\",\"showlegend\":true,\"x\":[78336950],\"xaxis\":\"x\",\"y\":[8.6505],\"yaxis\":\"y\",\"type\":\"scatter\"},{\"customdata\":[[1976,\"India\"]],\"hovertemplate\":\"Country=%{customdata[1]}\\u003cbr\\u003eYear=%{customdata[0]}\\u003cbr\\u003ePopulation (millions)=%{marker.size}\\u003cbr\\u003eTemperature (\\u00b0F)=%{y}\\u003cextra\\u003e\\u003c\\u002fextra\\u003e\",\"ids\":[\"India\"],\"legendgroup\":\"India\",\"marker\":{\"color\":\"#ab63fa\",\"size\":[637451448],\"sizemode\":\"area\",\"sizeref\":201739.38484375,\"symbol\":\"circle\"},\"mode\":\"markers\",\"name\":\"India\",\"orientation\":\"v\",\"showlegend\":true,\"x\":[637451448],\"xaxis\":\"x\",\"y\":[24.199583333333333],\"yaxis\":\"y\",\"type\":\"scatter\"},{\"customdata\":[[1976,\"South Africa\"]],\"hovertemplate\":\"Country=%{customdata[1]}\\u003cbr\\u003eYear=%{customdata[0]}\\u003cbr\\u003ePopulation (millions)=%{marker.size}\\u003cbr\\u003eTemperature (\\u00b0F)=%{y}\\u003cextra\\u003e\\u003c\\u002fextra\\u003e\",\"ids\":[\"South Africa\"],\"legendgroup\":\"South Africa\",\"marker\":{\"color\":\"#FFA15A\",\"size\":[26480300],\"sizemode\":\"area\",\"sizeref\":201739.38484375,\"symbol\":\"circle\"},\"mode\":\"markers\",\"name\":\"South Africa\",\"orientation\":\"v\",\"showlegend\":true,\"x\":[26480300],\"xaxis\":\"x\",\"y\":[16.963833333333334],\"yaxis\":\"y\",\"type\":\"scatter\"},{\"customdata\":[[1976,\"United States\"]],\"hovertemplate\":\"Country=%{customdata[1]}\\u003cbr\\u003eYear=%{customdata[0]}\\u003cbr\\u003ePopulation (millions)=%{marker.size}\\u003cbr\\u003eTemperature (\\u00b0F)=%{y}\\u003cextra\\u003e\\u003c\\u002fextra\\u003e\",\"ids\":[\"United States\"],\"legendgroup\":\"United States\",\"marker\":{\"color\":\"#19d3f3\",\"size\":[218035000],\"sizemode\":\"area\",\"sizeref\":201739.38484375,\"symbol\":\"circle\"},\"mode\":\"markers\",\"name\":\"United States\",\"orientation\":\"v\",\"showlegend\":true,\"x\":[218035000],\"xaxis\":\"x\",\"y\":[8.65125],\"yaxis\":\"y\",\"type\":\"scatter\"}],\"name\":\"1976\"},{\"data\":[{\"customdata\":[[1977,\"Australia\"]],\"hovertemplate\":\"Country=%{customdata[1]}\\u003cbr\\u003eYear=%{customdata[0]}\\u003cbr\\u003ePopulation (millions)=%{marker.size}\\u003cbr\\u003eTemperature (\\u00b0F)=%{y}\\u003cextra\\u003e\\u003c\\u002fextra\\u003e\",\"ids\":[\"Australia\"],\"legendgroup\":\"Australia\",\"marker\":{\"color\":\"#636efa\",\"size\":[14192000],\"sizemode\":\"area\",\"sizeref\":201739.38484375,\"symbol\":\"circle\"},\"mode\":\"markers\",\"name\":\"Australia\",\"orientation\":\"v\",\"showlegend\":true,\"x\":[14192000],\"xaxis\":\"x\",\"y\":[21.8925],\"yaxis\":\"y\",\"type\":\"scatter\"},{\"customdata\":[[1977,\"Brazil\"]],\"hovertemplate\":\"Country=%{customdata[1]}\\u003cbr\\u003eYear=%{customdata[0]}\\u003cbr\\u003ePopulation (millions)=%{marker.size}\\u003cbr\\u003eTemperature (\\u00b0F)=%{y}\\u003cextra\\u003e\\u003c\\u002fextra\\u003e\",\"ids\":[\"Brazil\"],\"legendgroup\":\"Brazil\",\"marker\":{\"color\":\"#EF553B\",\"size\":[113939886],\"sizemode\":\"area\",\"sizeref\":201739.38484375,\"symbol\":\"circle\"},\"mode\":\"markers\",\"name\":\"Brazil\",\"orientation\":\"v\",\"showlegend\":true,\"x\":[113939886],\"xaxis\":\"x\",\"y\":[25.13233333333333],\"yaxis\":\"y\",\"type\":\"scatter\"},{\"customdata\":[[1977,\"Germany\"]],\"hovertemplate\":\"Country=%{customdata[1]}\\u003cbr\\u003eYear=%{customdata[0]}\\u003cbr\\u003ePopulation (millions)=%{marker.size}\\u003cbr\\u003eTemperature (\\u00b0F)=%{y}\\u003cextra\\u003e\\u003c\\u002fextra\\u003e\",\"ids\":[\"Germany\"],\"legendgroup\":\"Germany\",\"marker\":{\"color\":\"#00cc96\",\"size\":[78159814],\"sizemode\":\"area\",\"sizeref\":201739.38484375,\"symbol\":\"circle\"},\"mode\":\"markers\",\"name\":\"Germany\",\"orientation\":\"v\",\"showlegend\":true,\"x\":[78159814],\"xaxis\":\"x\",\"y\":[8.804833333333333],\"yaxis\":\"y\",\"type\":\"scatter\"},{\"customdata\":[[1977,\"India\"]],\"hovertemplate\":\"Country=%{customdata[1]}\\u003cbr\\u003eYear=%{customdata[0]}\\u003cbr\\u003ePopulation (millions)=%{marker.size}\\u003cbr\\u003eTemperature (\\u00b0F)=%{y}\\u003cextra\\u003e\\u003c\\u002fextra\\u003e\",\"ids\":[\"India\"],\"legendgroup\":\"India\",\"marker\":{\"color\":\"#ab63fa\",\"size\":[651685628],\"sizemode\":\"area\",\"sizeref\":201739.38484375,\"symbol\":\"circle\"},\"mode\":\"markers\",\"name\":\"India\",\"orientation\":\"v\",\"showlegend\":true,\"x\":[651685628],\"xaxis\":\"x\",\"y\":[24.28891666666667],\"yaxis\":\"y\",\"type\":\"scatter\"},{\"customdata\":[[1977,\"South Africa\"]],\"hovertemplate\":\"Country=%{customdata[1]}\\u003cbr\\u003eYear=%{customdata[0]}\\u003cbr\\u003ePopulation (millions)=%{marker.size}\\u003cbr\\u003eTemperature (\\u00b0F)=%{y}\\u003cextra\\u003e\\u003c\\u002fextra\\u003e\",\"ids\":[\"South Africa\"],\"legendgroup\":\"South Africa\",\"marker\":{\"color\":\"#FFA15A\",\"size\":[27199838],\"sizemode\":\"area\",\"sizeref\":201739.38484375,\"symbol\":\"circle\"},\"mode\":\"markers\",\"name\":\"South Africa\",\"orientation\":\"v\",\"showlegend\":true,\"x\":[27199838],\"xaxis\":\"x\",\"y\":[17.66],\"yaxis\":\"y\",\"type\":\"scatter\"},{\"customdata\":[[1977,\"United States\"]],\"hovertemplate\":\"Country=%{customdata[1]}\\u003cbr\\u003eYear=%{customdata[0]}\\u003cbr\\u003ePopulation (millions)=%{marker.size}\\u003cbr\\u003eTemperature (\\u00b0F)=%{y}\\u003cextra\\u003e\\u003c\\u002fextra\\u003e\",\"ids\":[\"United States\"],\"legendgroup\":\"United States\",\"marker\":{\"color\":\"#19d3f3\",\"size\":[220239000],\"sizemode\":\"area\",\"sizeref\":201739.38484375,\"symbol\":\"circle\"},\"mode\":\"markers\",\"name\":\"United States\",\"orientation\":\"v\",\"showlegend\":true,\"x\":[220239000],\"xaxis\":\"x\",\"y\":[9.269833333333333],\"yaxis\":\"y\",\"type\":\"scatter\"}],\"name\":\"1977\"},{\"data\":[{\"customdata\":[[1978,\"Australia\"]],\"hovertemplate\":\"Country=%{customdata[1]}\\u003cbr\\u003eYear=%{customdata[0]}\\u003cbr\\u003ePopulation (millions)=%{marker.size}\\u003cbr\\u003eTemperature (\\u00b0F)=%{y}\\u003cextra\\u003e\\u003c\\u002fextra\\u003e\",\"ids\":[\"Australia\"],\"legendgroup\":\"Australia\",\"marker\":{\"color\":\"#636efa\",\"size\":[14358000],\"sizemode\":\"area\",\"sizeref\":201739.38484375,\"symbol\":\"circle\"},\"mode\":\"markers\",\"name\":\"Australia\",\"orientation\":\"v\",\"showlegend\":true,\"x\":[14358000],\"xaxis\":\"x\",\"y\":[21.605166666666666],\"yaxis\":\"y\",\"type\":\"scatter\"},{\"customdata\":[[1978,\"Brazil\"]],\"hovertemplate\":\"Country=%{customdata[1]}\\u003cbr\\u003eYear=%{customdata[0]}\\u003cbr\\u003ePopulation (millions)=%{marker.size}\\u003cbr\\u003eTemperature (\\u00b0F)=%{y}\\u003cextra\\u003e\\u003c\\u002fextra\\u003e\",\"ids\":[\"Brazil\"],\"legendgroup\":\"Brazil\",\"marker\":{\"color\":\"#EF553B\",\"size\":[116664382],\"sizemode\":\"area\",\"sizeref\":201739.38484375,\"symbol\":\"circle\"},\"mode\":\"markers\",\"name\":\"Brazil\",\"orientation\":\"v\",\"showlegend\":true,\"x\":[116664382],\"xaxis\":\"x\",\"y\":[24.9275],\"yaxis\":\"y\",\"type\":\"scatter\"},{\"customdata\":[[1978,\"Germany\"]],\"hovertemplate\":\"Country=%{customdata[1]}\\u003cbr\\u003eYear=%{customdata[0]}\\u003cbr\\u003ePopulation (millions)=%{marker.size}\\u003cbr\\u003eTemperature (\\u00b0F)=%{y}\\u003cextra\\u003e\\u003c\\u002fextra\\u003e\",\"ids\":[\"Germany\"],\"legendgroup\":\"Germany\",\"marker\":{\"color\":\"#00cc96\",\"size\":[78091820],\"sizemode\":\"area\",\"sizeref\":201739.38484375,\"symbol\":\"circle\"},\"mode\":\"markers\",\"name\":\"Germany\",\"orientation\":\"v\",\"showlegend\":true,\"x\":[78091820],\"xaxis\":\"x\",\"y\":[7.932749999999999],\"yaxis\":\"y\",\"type\":\"scatter\"},{\"customdata\":[[1978,\"India\"]],\"hovertemplate\":\"Country=%{customdata[1]}\\u003cbr\\u003eYear=%{customdata[0]}\\u003cbr\\u003ePopulation (millions)=%{marker.size}\\u003cbr\\u003eTemperature (\\u00b0F)=%{y}\\u003cextra\\u003e\\u003c\\u002fextra\\u003e\",\"ids\":[\"India\"],\"legendgroup\":\"India\",\"marker\":{\"color\":\"#ab63fa\",\"size\":[666267760],\"sizemode\":\"area\",\"sizeref\":201739.38484375,\"symbol\":\"circle\"},\"mode\":\"markers\",\"name\":\"India\",\"orientation\":\"v\",\"showlegend\":true,\"x\":[666267760],\"xaxis\":\"x\",\"y\":[24.00733333333333],\"yaxis\":\"y\",\"type\":\"scatter\"},{\"customdata\":[[1978,\"South Africa\"]],\"hovertemplate\":\"Country=%{customdata[1]}\\u003cbr\\u003eYear=%{customdata[0]}\\u003cbr\\u003ePopulation (millions)=%{marker.size}\\u003cbr\\u003eTemperature (\\u00b0F)=%{y}\\u003cextra\\u003e\\u003c\\u002fextra\\u003e\",\"ids\":[\"South Africa\"],\"legendgroup\":\"South Africa\",\"marker\":{\"color\":\"#FFA15A\",\"size\":[27943445],\"sizemode\":\"area\",\"sizeref\":201739.38484375,\"symbol\":\"circle\"},\"mode\":\"markers\",\"name\":\"South Africa\",\"orientation\":\"v\",\"showlegend\":true,\"x\":[27943445],\"xaxis\":\"x\",\"y\":[17.40975],\"yaxis\":\"y\",\"type\":\"scatter\"},{\"customdata\":[[1978,\"United States\"]],\"hovertemplate\":\"Country=%{customdata[1]}\\u003cbr\\u003eYear=%{customdata[0]}\\u003cbr\\u003ePopulation (millions)=%{marker.size}\\u003cbr\\u003eTemperature (\\u00b0F)=%{y}\\u003cextra\\u003e\\u003c\\u002fextra\\u003e\",\"ids\":[\"United States\"],\"legendgroup\":\"United States\",\"marker\":{\"color\":\"#19d3f3\",\"size\":[222585000],\"sizemode\":\"area\",\"sizeref\":201739.38484375,\"symbol\":\"circle\"},\"mode\":\"markers\",\"name\":\"United States\",\"orientation\":\"v\",\"showlegend\":true,\"x\":[222585000],\"xaxis\":\"x\",\"y\":[8.751416666666666],\"yaxis\":\"y\",\"type\":\"scatter\"}],\"name\":\"1978\"},{\"data\":[{\"customdata\":[[1979,\"Australia\"]],\"hovertemplate\":\"Country=%{customdata[1]}\\u003cbr\\u003eYear=%{customdata[0]}\\u003cbr\\u003ePopulation (millions)=%{marker.size}\\u003cbr\\u003eTemperature (\\u00b0F)=%{y}\\u003cextra\\u003e\\u003c\\u002fextra\\u003e\",\"ids\":[\"Australia\"],\"legendgroup\":\"Australia\",\"marker\":{\"color\":\"#636efa\",\"size\":[14514000],\"sizemode\":\"area\",\"sizeref\":201739.38484375,\"symbol\":\"circle\"},\"mode\":\"markers\",\"name\":\"Australia\",\"orientation\":\"v\",\"showlegend\":true,\"x\":[14514000],\"xaxis\":\"x\",\"y\":[22.252333333333336],\"yaxis\":\"y\",\"type\":\"scatter\"},{\"customdata\":[[1979,\"Brazil\"]],\"hovertemplate\":\"Country=%{customdata[1]}\\u003cbr\\u003eYear=%{customdata[0]}\\u003cbr\\u003ePopulation (millions)=%{marker.size}\\u003cbr\\u003eTemperature (\\u00b0F)=%{y}\\u003cextra\\u003e\\u003c\\u002fextra\\u003e\",\"ids\":[\"Brazil\"],\"legendgroup\":\"Brazil\",\"marker\":{\"color\":\"#EF553B\",\"size\":[119447303],\"sizemode\":\"area\",\"sizeref\":201739.38484375,\"symbol\":\"circle\"},\"mode\":\"markers\",\"name\":\"Brazil\",\"orientation\":\"v\",\"showlegend\":true,\"x\":[119447303],\"xaxis\":\"x\",\"y\":[24.944333333333333],\"yaxis\":\"y\",\"type\":\"scatter\"},{\"customdata\":[[1979,\"Germany\"]],\"hovertemplate\":\"Country=%{customdata[1]}\\u003cbr\\u003eYear=%{customdata[0]}\\u003cbr\\u003ePopulation (millions)=%{marker.size}\\u003cbr\\u003eTemperature (\\u00b0F)=%{y}\\u003cextra\\u003e\\u003c\\u002fextra\\u003e\",\"ids\":[\"Germany\"],\"legendgroup\":\"Germany\",\"marker\":{\"color\":\"#00cc96\",\"size\":[78126350],\"sizemode\":\"area\",\"sizeref\":201739.38484375,\"symbol\":\"circle\"},\"mode\":\"markers\",\"name\":\"Germany\",\"orientation\":\"v\",\"showlegend\":true,\"x\":[78126350],\"xaxis\":\"x\",\"y\":[7.901666666666666],\"yaxis\":\"y\",\"type\":\"scatter\"},{\"customdata\":[[1979,\"India\"]],\"hovertemplate\":\"Country=%{customdata[1]}\\u003cbr\\u003eYear=%{customdata[0]}\\u003cbr\\u003ePopulation (millions)=%{marker.size}\\u003cbr\\u003eTemperature (\\u00b0F)=%{y}\\u003cextra\\u003e\\u003c\\u002fextra\\u003e\",\"ids\":[\"India\"],\"legendgroup\":\"India\",\"marker\":{\"color\":\"#ab63fa\",\"size\":[681248383],\"sizemode\":\"area\",\"sizeref\":201739.38484375,\"symbol\":\"circle\"},\"mode\":\"markers\",\"name\":\"India\",\"orientation\":\"v\",\"showlegend\":true,\"x\":[681248383],\"xaxis\":\"x\",\"y\":[24.553583333333336],\"yaxis\":\"y\",\"type\":\"scatter\"},{\"customdata\":[[1979,\"South Africa\"]],\"hovertemplate\":\"Country=%{customdata[1]}\\u003cbr\\u003eYear=%{customdata[0]}\\u003cbr\\u003ePopulation (millions)=%{marker.size}\\u003cbr\\u003eTemperature (\\u00b0F)=%{y}\\u003cextra\\u003e\\u003c\\u002fextra\\u003e\",\"ids\":[\"South Africa\"],\"legendgroup\":\"South Africa\",\"marker\":{\"color\":\"#FFA15A\",\"size\":[28697014],\"sizemode\":\"area\",\"sizeref\":201739.38484375,\"symbol\":\"circle\"},\"mode\":\"markers\",\"name\":\"South Africa\",\"orientation\":\"v\",\"showlegend\":true,\"x\":[28697014],\"xaxis\":\"x\",\"y\":[17.789833333333334],\"yaxis\":\"y\",\"type\":\"scatter\"},{\"customdata\":[[1979,\"United States\"]],\"hovertemplate\":\"Country=%{customdata[1]}\\u003cbr\\u003eYear=%{customdata[0]}\\u003cbr\\u003ePopulation (millions)=%{marker.size}\\u003cbr\\u003eTemperature (\\u00b0F)=%{y}\\u003cextra\\u003e\\u003c\\u002fextra\\u003e\",\"ids\":[\"United States\"],\"legendgroup\":\"United States\",\"marker\":{\"color\":\"#19d3f3\",\"size\":[225055000],\"sizemode\":\"area\",\"sizeref\":201739.38484375,\"symbol\":\"circle\"},\"mode\":\"markers\",\"name\":\"United States\",\"orientation\":\"v\",\"showlegend\":true,\"x\":[225055000],\"xaxis\":\"x\",\"y\":[8.571583333333333],\"yaxis\":\"y\",\"type\":\"scatter\"}],\"name\":\"1979\"},{\"data\":[{\"customdata\":[[1980,\"Australia\"]],\"hovertemplate\":\"Country=%{customdata[1]}\\u003cbr\\u003eYear=%{customdata[0]}\\u003cbr\\u003ePopulation (millions)=%{marker.size}\\u003cbr\\u003eTemperature (\\u00b0F)=%{y}\\u003cextra\\u003e\\u003c\\u002fextra\\u003e\",\"ids\":[\"Australia\"],\"legendgroup\":\"Australia\",\"marker\":{\"color\":\"#636efa\",\"size\":[14692000],\"sizemode\":\"area\",\"sizeref\":201739.38484375,\"symbol\":\"circle\"},\"mode\":\"markers\",\"name\":\"Australia\",\"orientation\":\"v\",\"showlegend\":true,\"x\":[14692000],\"xaxis\":\"x\",\"y\":[22.586166666666667],\"yaxis\":\"y\",\"type\":\"scatter\"},{\"customdata\":[[1980,\"Brazil\"]],\"hovertemplate\":\"Country=%{customdata[1]}\\u003cbr\\u003eYear=%{customdata[0]}\\u003cbr\\u003ePopulation (millions)=%{marker.size}\\u003cbr\\u003eTemperature (\\u00b0F)=%{y}\\u003cextra\\u003e\\u003c\\u002fextra\\u003e\",\"ids\":[\"Brazil\"],\"legendgroup\":\"Brazil\",\"marker\":{\"color\":\"#EF553B\",\"size\":[122288383],\"sizemode\":\"area\",\"sizeref\":201739.38484375,\"symbol\":\"circle\"},\"mode\":\"markers\",\"name\":\"Brazil\",\"orientation\":\"v\",\"showlegend\":true,\"x\":[122288383],\"xaxis\":\"x\",\"y\":[25.148],\"yaxis\":\"y\",\"type\":\"scatter\"},{\"customdata\":[[1980,\"Germany\"]],\"hovertemplate\":\"Country=%{customdata[1]}\\u003cbr\\u003eYear=%{customdata[0]}\\u003cbr\\u003ePopulation (millions)=%{marker.size}\\u003cbr\\u003eTemperature (\\u00b0F)=%{y}\\u003cextra\\u003e\\u003c\\u002fextra\\u003e\",\"ids\":[\"Germany\"],\"legendgroup\":\"Germany\",\"marker\":{\"color\":\"#00cc96\",\"size\":[78288576],\"sizemode\":\"area\",\"sizeref\":201739.38484375,\"symbol\":\"circle\"},\"mode\":\"markers\",\"name\":\"Germany\",\"orientation\":\"v\",\"showlegend\":true,\"x\":[78288576],\"xaxis\":\"x\",\"y\":[7.727250000000001],\"yaxis\":\"y\",\"type\":\"scatter\"},{\"customdata\":[[1980,\"India\"]],\"hovertemplate\":\"Country=%{customdata[1]}\\u003cbr\\u003eYear=%{customdata[0]}\\u003cbr\\u003ePopulation (millions)=%{marker.size}\\u003cbr\\u003eTemperature (\\u00b0F)=%{y}\\u003cextra\\u003e\\u003c\\u002fextra\\u003e\",\"ids\":[\"India\"],\"legendgroup\":\"India\",\"marker\":{\"color\":\"#ab63fa\",\"size\":[696828385],\"sizemode\":\"area\",\"sizeref\":201739.38484375,\"symbol\":\"circle\"},\"mode\":\"markers\",\"name\":\"India\",\"orientation\":\"v\",\"showlegend\":true,\"x\":[696828385],\"xaxis\":\"x\",\"y\":[24.593083333333336],\"yaxis\":\"y\",\"type\":\"scatter\"},{\"customdata\":[[1980,\"South Africa\"]],\"hovertemplate\":\"Country=%{customdata[1]}\\u003cbr\\u003eYear=%{customdata[0]}\\u003cbr\\u003ePopulation (millions)=%{marker.size}\\u003cbr\\u003eTemperature (\\u00b0F)=%{y}\\u003cextra\\u003e\\u003c\\u002fextra\\u003e\",\"ids\":[\"South Africa\"],\"legendgroup\":\"South Africa\",\"marker\":{\"color\":\"#FFA15A\",\"size\":[29463549],\"sizemode\":\"area\",\"sizeref\":201739.38484375,\"symbol\":\"circle\"},\"mode\":\"markers\",\"name\":\"South Africa\",\"orientation\":\"v\",\"showlegend\":true,\"x\":[29463549],\"xaxis\":\"x\",\"y\":[17.609833333333334],\"yaxis\":\"y\",\"type\":\"scatter\"},{\"customdata\":[[1980,\"United States\"]],\"hovertemplate\":\"Country=%{customdata[1]}\\u003cbr\\u003eYear=%{customdata[0]}\\u003cbr\\u003ePopulation (millions)=%{marker.size}\\u003cbr\\u003eTemperature (\\u00b0F)=%{y}\\u003cextra\\u003e\\u003c\\u002fextra\\u003e\",\"ids\":[\"United States\"],\"legendgroup\":\"United States\",\"marker\":{\"color\":\"#19d3f3\",\"size\":[227225000],\"sizemode\":\"area\",\"sizeref\":201739.38484375,\"symbol\":\"circle\"},\"mode\":\"markers\",\"name\":\"United States\",\"orientation\":\"v\",\"showlegend\":true,\"x\":[227225000],\"xaxis\":\"x\",\"y\":[9.1355],\"yaxis\":\"y\",\"type\":\"scatter\"}],\"name\":\"1980\"},{\"data\":[{\"customdata\":[[1981,\"Australia\"]],\"hovertemplate\":\"Country=%{customdata[1]}\\u003cbr\\u003eYear=%{customdata[0]}\\u003cbr\\u003ePopulation (millions)=%{marker.size}\\u003cbr\\u003eTemperature (\\u00b0F)=%{y}\\u003cextra\\u003e\\u003c\\u002fextra\\u003e\",\"ids\":[\"Australia\"],\"legendgroup\":\"Australia\",\"marker\":{\"color\":\"#636efa\",\"size\":[14923260],\"sizemode\":\"area\",\"sizeref\":201739.38484375,\"symbol\":\"circle\"},\"mode\":\"markers\",\"name\":\"Australia\",\"orientation\":\"v\",\"showlegend\":true,\"x\":[14923260],\"xaxis\":\"x\",\"y\":[22.16408333333333],\"yaxis\":\"y\",\"type\":\"scatter\"},{\"customdata\":[[1981,\"Brazil\"]],\"hovertemplate\":\"Country=%{customdata[1]}\\u003cbr\\u003eYear=%{customdata[0]}\\u003cbr\\u003ePopulation (millions)=%{marker.size}\\u003cbr\\u003eTemperature (\\u00b0F)=%{y}\\u003cextra\\u003e\\u003c\\u002fextra\\u003e\",\"ids\":[\"Brazil\"],\"legendgroup\":\"Brazil\",\"marker\":{\"color\":\"#EF553B\",\"size\":[125168060],\"sizemode\":\"area\",\"sizeref\":201739.38484375,\"symbol\":\"circle\"},\"mode\":\"markers\",\"name\":\"Brazil\",\"orientation\":\"v\",\"showlegend\":true,\"x\":[125168060],\"xaxis\":\"x\",\"y\":[24.983416666666667],\"yaxis\":\"y\",\"type\":\"scatter\"},{\"customdata\":[[1981,\"Germany\"]],\"hovertemplate\":\"Country=%{customdata[1]}\\u003cbr\\u003eYear=%{customdata[0]}\\u003cbr\\u003ePopulation (millions)=%{marker.size}\\u003cbr\\u003eTemperature (\\u00b0F)=%{y}\\u003cextra\\u003e\\u003c\\u002fextra\\u003e\",\"ids\":[\"Germany\"],\"legendgroup\":\"Germany\",\"marker\":{\"color\":\"#00cc96\",\"size\":[78407907],\"sizemode\":\"area\",\"sizeref\":201739.38484375,\"symbol\":\"circle\"},\"mode\":\"markers\",\"name\":\"Germany\",\"orientation\":\"v\",\"showlegend\":true,\"x\":[78407907],\"xaxis\":\"x\",\"y\":[8.320500000000001],\"yaxis\":\"y\",\"type\":\"scatter\"},{\"customdata\":[[1981,\"India\"]],\"hovertemplate\":\"Country=%{customdata[1]}\\u003cbr\\u003eYear=%{customdata[0]}\\u003cbr\\u003ePopulation (millions)=%{marker.size}\\u003cbr\\u003eTemperature (\\u00b0F)=%{y}\\u003cextra\\u003e\\u003c\\u002fextra\\u003e\",\"ids\":[\"India\"],\"legendgroup\":\"India\",\"marker\":{\"color\":\"#ab63fa\",\"size\":[712869298],\"sizemode\":\"area\",\"sizeref\":201739.38484375,\"symbol\":\"circle\"},\"mode\":\"markers\",\"name\":\"India\",\"orientation\":\"v\",\"showlegend\":true,\"x\":[712869298],\"xaxis\":\"x\",\"y\":[24.228416666666664],\"yaxis\":\"y\",\"type\":\"scatter\"},{\"customdata\":[[1981,\"South Africa\"]],\"hovertemplate\":\"Country=%{customdata[1]}\\u003cbr\\u003eYear=%{customdata[0]}\\u003cbr\\u003ePopulation (millions)=%{marker.size}\\u003cbr\\u003eTemperature (\\u00b0F)=%{y}\\u003cextra\\u003e\\u003c\\u002fextra\\u003e\",\"ids\":[\"South Africa\"],\"legendgroup\":\"South Africa\",\"marker\":{\"color\":\"#FFA15A\",\"size\":[30232561],\"sizemode\":\"area\",\"sizeref\":201739.38484375,\"symbol\":\"circle\"},\"mode\":\"markers\",\"name\":\"South Africa\",\"orientation\":\"v\",\"showlegend\":true,\"x\":[30232561],\"xaxis\":\"x\",\"y\":[17.115750000000002],\"yaxis\":\"y\",\"type\":\"scatter\"},{\"customdata\":[[1981,\"United States\"]],\"hovertemplate\":\"Country=%{customdata[1]}\\u003cbr\\u003eYear=%{customdata[0]}\\u003cbr\\u003ePopulation (millions)=%{marker.size}\\u003cbr\\u003eTemperature (\\u00b0F)=%{y}\\u003cextra\\u003e\\u003c\\u002fextra\\u003e\",\"ids\":[\"United States\"],\"legendgroup\":\"United States\",\"marker\":{\"color\":\"#19d3f3\",\"size\":[229466000],\"sizemode\":\"area\",\"sizeref\":201739.38484375,\"symbol\":\"circle\"},\"mode\":\"markers\",\"name\":\"United States\",\"orientation\":\"v\",\"showlegend\":true,\"x\":[229466000],\"xaxis\":\"x\",\"y\":[9.7215],\"yaxis\":\"y\",\"type\":\"scatter\"}],\"name\":\"1981\"},{\"data\":[{\"customdata\":[[1982,\"Australia\"]],\"hovertemplate\":\"Country=%{customdata[1]}\\u003cbr\\u003eYear=%{customdata[0]}\\u003cbr\\u003ePopulation (millions)=%{marker.size}\\u003cbr\\u003eTemperature (\\u00b0F)=%{y}\\u003cextra\\u003e\\u003c\\u002fextra\\u003e\",\"ids\":[\"Australia\"],\"legendgroup\":\"Australia\",\"marker\":{\"color\":\"#636efa\",\"size\":[15184247],\"sizemode\":\"area\",\"sizeref\":201739.38484375,\"symbol\":\"circle\"},\"mode\":\"markers\",\"name\":\"Australia\",\"orientation\":\"v\",\"showlegend\":true,\"x\":[15184247],\"xaxis\":\"x\",\"y\":[21.9105],\"yaxis\":\"y\",\"type\":\"scatter\"},{\"customdata\":[[1982,\"Brazil\"]],\"hovertemplate\":\"Country=%{customdata[1]}\\u003cbr\\u003eYear=%{customdata[0]}\\u003cbr\\u003ePopulation (millions)=%{marker.size}\\u003cbr\\u003eTemperature (\\u00b0F)=%{y}\\u003cextra\\u003e\\u003c\\u002fextra\\u003e\",\"ids\":[\"Brazil\"],\"legendgroup\":\"Brazil\",\"marker\":{\"color\":\"#EF553B\",\"size\":[128065095],\"sizemode\":\"area\",\"sizeref\":201739.38484375,\"symbol\":\"circle\"},\"mode\":\"markers\",\"name\":\"Brazil\",\"orientation\":\"v\",\"showlegend\":true,\"x\":[128065095],\"xaxis\":\"x\",\"y\":[25.23033333333333],\"yaxis\":\"y\",\"type\":\"scatter\"},{\"customdata\":[[1982,\"Germany\"]],\"hovertemplate\":\"Country=%{customdata[1]}\\u003cbr\\u003eYear=%{customdata[0]}\\u003cbr\\u003ePopulation (millions)=%{marker.size}\\u003cbr\\u003eTemperature (\\u00b0F)=%{y}\\u003cextra\\u003e\\u003c\\u002fextra\\u003e\",\"ids\":[\"Germany\"],\"legendgroup\":\"Germany\",\"marker\":{\"color\":\"#00cc96\",\"size\":[78333366],\"sizemode\":\"area\",\"sizeref\":201739.38484375,\"symbol\":\"circle\"},\"mode\":\"markers\",\"name\":\"Germany\",\"orientation\":\"v\",\"showlegend\":true,\"x\":[78333366],\"xaxis\":\"x\",\"y\":[9.073333333333334],\"yaxis\":\"y\",\"type\":\"scatter\"},{\"customdata\":[[1982,\"India\"]],\"hovertemplate\":\"Country=%{customdata[1]}\\u003cbr\\u003eYear=%{customdata[0]}\\u003cbr\\u003ePopulation (millions)=%{marker.size}\\u003cbr\\u003eTemperature (\\u00b0F)=%{y}\\u003cextra\\u003e\\u003c\\u002fextra\\u003e\",\"ids\":[\"India\"],\"legendgroup\":\"India\",\"marker\":{\"color\":\"#ab63fa\",\"size\":[729169466],\"sizemode\":\"area\",\"sizeref\":201739.38484375,\"symbol\":\"circle\"},\"mode\":\"markers\",\"name\":\"India\",\"orientation\":\"v\",\"showlegend\":true,\"x\":[729169466],\"xaxis\":\"x\",\"y\":[24.21825],\"yaxis\":\"y\",\"type\":\"scatter\"},{\"customdata\":[[1982,\"South Africa\"]],\"hovertemplate\":\"Country=%{customdata[1]}\\u003cbr\\u003eYear=%{customdata[0]}\\u003cbr\\u003ePopulation (millions)=%{marker.size}\\u003cbr\\u003eTemperature (\\u00b0F)=%{y}\\u003cextra\\u003e\\u003c\\u002fextra\\u003e\",\"ids\":[\"South Africa\"],\"legendgroup\":\"South Africa\",\"marker\":{\"color\":\"#FFA15A\",\"size\":[31022417],\"sizemode\":\"area\",\"sizeref\":201739.38484375,\"symbol\":\"circle\"},\"mode\":\"markers\",\"name\":\"South Africa\",\"orientation\":\"v\",\"showlegend\":true,\"x\":[31022417],\"xaxis\":\"x\",\"y\":[17.752083333333335],\"yaxis\":\"y\",\"type\":\"scatter\"},{\"customdata\":[[1982,\"United States\"]],\"hovertemplate\":\"Country=%{customdata[1]}\\u003cbr\\u003eYear=%{customdata[0]}\\u003cbr\\u003ePopulation (millions)=%{marker.size}\\u003cbr\\u003eTemperature (\\u00b0F)=%{y}\\u003cextra\\u003e\\u003c\\u002fextra\\u003e\",\"ids\":[\"United States\"],\"legendgroup\":\"United States\",\"marker\":{\"color\":\"#19d3f3\",\"size\":[231664000],\"sizemode\":\"area\",\"sizeref\":201739.38484375,\"symbol\":\"circle\"},\"mode\":\"markers\",\"name\":\"United States\",\"orientation\":\"v\",\"showlegend\":true,\"x\":[231664000],\"xaxis\":\"x\",\"y\":[8.5395],\"yaxis\":\"y\",\"type\":\"scatter\"}],\"name\":\"1982\"},{\"data\":[{\"customdata\":[[1983,\"Australia\"]],\"hovertemplate\":\"Country=%{customdata[1]}\\u003cbr\\u003eYear=%{customdata[0]}\\u003cbr\\u003ePopulation (millions)=%{marker.size}\\u003cbr\\u003eTemperature (\\u00b0F)=%{y}\\u003cextra\\u003e\\u003c\\u002fextra\\u003e\",\"ids\":[\"Australia\"],\"legendgroup\":\"Australia\",\"marker\":{\"color\":\"#636efa\",\"size\":[15393472],\"sizemode\":\"area\",\"sizeref\":201739.38484375,\"symbol\":\"circle\"},\"mode\":\"markers\",\"name\":\"Australia\",\"orientation\":\"v\",\"showlegend\":true,\"x\":[15393472],\"xaxis\":\"x\",\"y\":[22.26108333333333],\"yaxis\":\"y\",\"type\":\"scatter\"},{\"customdata\":[[1983,\"Brazil\"]],\"hovertemplate\":\"Country=%{customdata[1]}\\u003cbr\\u003eYear=%{customdata[0]}\\u003cbr\\u003ePopulation (millions)=%{marker.size}\\u003cbr\\u003eTemperature (\\u00b0F)=%{y}\\u003cextra\\u003e\\u003c\\u002fextra\\u003e\",\"ids\":[\"Brazil\"],\"legendgroup\":\"Brazil\",\"marker\":{\"color\":\"#EF553B\",\"size\":[130977370],\"sizemode\":\"area\",\"sizeref\":201739.38484375,\"symbol\":\"circle\"},\"mode\":\"markers\",\"name\":\"Brazil\",\"orientation\":\"v\",\"showlegend\":true,\"x\":[130977370],\"xaxis\":\"x\",\"y\":[25.35075],\"yaxis\":\"y\",\"type\":\"scatter\"},{\"customdata\":[[1983,\"Germany\"]],\"hovertemplate\":\"Country=%{customdata[1]}\\u003cbr\\u003eYear=%{customdata[0]}\\u003cbr\\u003ePopulation (millions)=%{marker.size}\\u003cbr\\u003eTemperature (\\u00b0F)=%{y}\\u003cextra\\u003e\\u003c\\u002fextra\\u003e\",\"ids\":[\"Germany\"],\"legendgroup\":\"Germany\",\"marker\":{\"color\":\"#00cc96\",\"size\":[78128282],\"sizemode\":\"area\",\"sizeref\":201739.38484375,\"symbol\":\"circle\"},\"mode\":\"markers\",\"name\":\"Germany\",\"orientation\":\"v\",\"showlegend\":true,\"x\":[78128282],\"xaxis\":\"x\",\"y\":[9.185666666666668],\"yaxis\":\"y\",\"type\":\"scatter\"},{\"customdata\":[[1983,\"India\"]],\"hovertemplate\":\"Country=%{customdata[1]}\\u003cbr\\u003eYear=%{customdata[0]}\\u003cbr\\u003ePopulation (millions)=%{marker.size}\\u003cbr\\u003eTemperature (\\u00b0F)=%{y}\\u003cextra\\u003e\\u003c\\u002fextra\\u003e\",\"ids\":[\"India\"],\"legendgroup\":\"India\",\"marker\":{\"color\":\"#ab63fa\",\"size\":[745826546],\"sizemode\":\"area\",\"sizeref\":201739.38484375,\"symbol\":\"circle\"},\"mode\":\"markers\",\"name\":\"India\",\"orientation\":\"v\",\"showlegend\":true,\"x\":[745826546],\"xaxis\":\"x\",\"y\":[23.938],\"yaxis\":\"y\",\"type\":\"scatter\"},{\"customdata\":[[1983,\"South Africa\"]],\"hovertemplate\":\"Country=%{customdata[1]}\\u003cbr\\u003eYear=%{customdata[0]}\\u003cbr\\u003ePopulation (millions)=%{marker.size}\\u003cbr\\u003eTemperature (\\u00b0F)=%{y}\\u003cextra\\u003e\\u003c\\u002fextra\\u003e\",\"ids\":[\"South Africa\"],\"legendgroup\":\"South Africa\",\"marker\":{\"color\":\"#FFA15A\",\"size\":[31865176],\"sizemode\":\"area\",\"sizeref\":201739.38484375,\"symbol\":\"circle\"},\"mode\":\"markers\",\"name\":\"South Africa\",\"orientation\":\"v\",\"showlegend\":true,\"x\":[31865176],\"xaxis\":\"x\",\"y\":[18.20358333333333],\"yaxis\":\"y\",\"type\":\"scatter\"},{\"customdata\":[[1983,\"United States\"]],\"hovertemplate\":\"Country=%{customdata[1]}\\u003cbr\\u003eYear=%{customdata[0]}\\u003cbr\\u003ePopulation (millions)=%{marker.size}\\u003cbr\\u003eTemperature (\\u00b0F)=%{y}\\u003cextra\\u003e\\u003c\\u002fextra\\u003e\",\"ids\":[\"United States\"],\"legendgroup\":\"United States\",\"marker\":{\"color\":\"#19d3f3\",\"size\":[233792000],\"sizemode\":\"area\",\"sizeref\":201739.38484375,\"symbol\":\"circle\"},\"mode\":\"markers\",\"name\":\"United States\",\"orientation\":\"v\",\"showlegend\":true,\"x\":[233792000],\"xaxis\":\"x\",\"y\":[8.912333333333333],\"yaxis\":\"y\",\"type\":\"scatter\"}],\"name\":\"1983\"},{\"data\":[{\"customdata\":[[1984,\"Australia\"]],\"hovertemplate\":\"Country=%{customdata[1]}\\u003cbr\\u003eYear=%{customdata[0]}\\u003cbr\\u003ePopulation (millions)=%{marker.size}\\u003cbr\\u003eTemperature (\\u00b0F)=%{y}\\u003cextra\\u003e\\u003c\\u002fextra\\u003e\",\"ids\":[\"Australia\"],\"legendgroup\":\"Australia\",\"marker\":{\"color\":\"#636efa\",\"size\":[15579391],\"sizemode\":\"area\",\"sizeref\":201739.38484375,\"symbol\":\"circle\"},\"mode\":\"markers\",\"name\":\"Australia\",\"orientation\":\"v\",\"showlegend\":true,\"x\":[15579391],\"xaxis\":\"x\",\"y\":[21.516916666666663],\"yaxis\":\"y\",\"type\":\"scatter\"},{\"customdata\":[[1984,\"Brazil\"]],\"hovertemplate\":\"Country=%{customdata[1]}\\u003cbr\\u003eYear=%{customdata[0]}\\u003cbr\\u003ePopulation (millions)=%{marker.size}\\u003cbr\\u003eTemperature (\\u00b0F)=%{y}\\u003cextra\\u003e\\u003c\\u002fextra\\u003e\",\"ids\":[\"Brazil\"],\"legendgroup\":\"Brazil\",\"marker\":{\"color\":\"#EF553B\",\"size\":[133888775],\"sizemode\":\"area\",\"sizeref\":201739.38484375,\"symbol\":\"circle\"},\"mode\":\"markers\",\"name\":\"Brazil\",\"orientation\":\"v\",\"showlegend\":true,\"x\":[133888775],\"xaxis\":\"x\",\"y\":[25.109916666666667],\"yaxis\":\"y\",\"type\":\"scatter\"},{\"customdata\":[[1984,\"Germany\"]],\"hovertemplate\":\"Country=%{customdata[1]}\\u003cbr\\u003eYear=%{customdata[0]}\\u003cbr\\u003ePopulation (millions)=%{marker.size}\\u003cbr\\u003eTemperature (\\u00b0F)=%{y}\\u003cextra\\u003e\\u003c\\u002fextra\\u003e\",\"ids\":[\"Germany\"],\"legendgroup\":\"Germany\",\"marker\":{\"color\":\"#00cc96\",\"size\":[77858685],\"sizemode\":\"area\",\"sizeref\":201739.38484375,\"symbol\":\"circle\"},\"mode\":\"markers\",\"name\":\"Germany\",\"orientation\":\"v\",\"showlegend\":true,\"x\":[77858685],\"xaxis\":\"x\",\"y\":[8.123],\"yaxis\":\"y\",\"type\":\"scatter\"},{\"customdata\":[[1984,\"India\"]],\"hovertemplate\":\"Country=%{customdata[1]}\\u003cbr\\u003eYear=%{customdata[0]}\\u003cbr\\u003ePopulation (millions)=%{marker.size}\\u003cbr\\u003eTemperature (\\u00b0F)=%{y}\\u003cextra\\u003e\\u003c\\u002fextra\\u003e\",\"ids\":[\"India\"],\"legendgroup\":\"India\",\"marker\":{\"color\":\"#ab63fa\",\"size\":[762895156],\"sizemode\":\"area\",\"sizeref\":201739.38484375,\"symbol\":\"circle\"},\"mode\":\"markers\",\"name\":\"India\",\"orientation\":\"v\",\"showlegend\":true,\"x\":[762895156],\"xaxis\":\"x\",\"y\":[24.18508333333333],\"yaxis\":\"y\",\"type\":\"scatter\"},{\"customdata\":[[1984,\"South Africa\"]],\"hovertemplate\":\"Country=%{customdata[1]}\\u003cbr\\u003eYear=%{customdata[0]}\\u003cbr\\u003ePopulation (millions)=%{marker.size}\\u003cbr\\u003eTemperature (\\u00b0F)=%{y}\\u003cextra\\u003e\\u003c\\u002fextra\\u003e\",\"ids\":[\"South Africa\"],\"legendgroup\":\"South Africa\",\"marker\":{\"color\":\"#FFA15A\",\"size\":[32768207],\"sizemode\":\"area\",\"sizeref\":201739.38484375,\"symbol\":\"circle\"},\"mode\":\"markers\",\"name\":\"South Africa\",\"orientation\":\"v\",\"showlegend\":true,\"x\":[32768207],\"xaxis\":\"x\",\"y\":[17.96816666666667],\"yaxis\":\"y\",\"type\":\"scatter\"},{\"customdata\":[[1984,\"United States\"]],\"hovertemplate\":\"Country=%{customdata[1]}\\u003cbr\\u003eYear=%{customdata[0]}\\u003cbr\\u003ePopulation (millions)=%{marker.size}\\u003cbr\\u003eTemperature (\\u00b0F)=%{y}\\u003cextra\\u003e\\u003c\\u002fextra\\u003e\",\"ids\":[\"United States\"],\"legendgroup\":\"United States\",\"marker\":{\"color\":\"#19d3f3\",\"size\":[235825000],\"sizemode\":\"area\",\"sizeref\":201739.38484375,\"symbol\":\"circle\"},\"mode\":\"markers\",\"name\":\"United States\",\"orientation\":\"v\",\"showlegend\":true,\"x\":[235825000],\"xaxis\":\"x\",\"y\":[8.811166666666667],\"yaxis\":\"y\",\"type\":\"scatter\"}],\"name\":\"1984\"},{\"data\":[{\"customdata\":[[1985,\"Australia\"]],\"hovertemplate\":\"Country=%{customdata[1]}\\u003cbr\\u003eYear=%{customdata[0]}\\u003cbr\\u003ePopulation (millions)=%{marker.size}\\u003cbr\\u003eTemperature (\\u00b0F)=%{y}\\u003cextra\\u003e\\u003c\\u002fextra\\u003e\",\"ids\":[\"Australia\"],\"legendgroup\":\"Australia\",\"marker\":{\"color\":\"#636efa\",\"size\":[15788312],\"sizemode\":\"area\",\"sizeref\":201739.38484375,\"symbol\":\"circle\"},\"mode\":\"markers\",\"name\":\"Australia\",\"orientation\":\"v\",\"showlegend\":true,\"x\":[15788312],\"xaxis\":\"x\",\"y\":[22.04341666666667],\"yaxis\":\"y\",\"type\":\"scatter\"},{\"customdata\":[[1985,\"Brazil\"]],\"hovertemplate\":\"Country=%{customdata[1]}\\u003cbr\\u003eYear=%{customdata[0]}\\u003cbr\\u003ePopulation (millions)=%{marker.size}\\u003cbr\\u003eTemperature (\\u00b0F)=%{y}\\u003cextra\\u003e\\u003c\\u002fextra\\u003e\",\"ids\":[\"Brazil\"],\"legendgroup\":\"Brazil\",\"marker\":{\"color\":\"#EF553B\",\"size\":[136783180],\"sizemode\":\"area\",\"sizeref\":201739.38484375,\"symbol\":\"circle\"},\"mode\":\"markers\",\"name\":\"Brazil\",\"orientation\":\"v\",\"showlegend\":true,\"x\":[136783180],\"xaxis\":\"x\",\"y\":[24.965666666666667],\"yaxis\":\"y\",\"type\":\"scatter\"},{\"customdata\":[[1985,\"Germany\"]],\"hovertemplate\":\"Country=%{customdata[1]}\\u003cbr\\u003eYear=%{customdata[0]}\\u003cbr\\u003ePopulation (millions)=%{marker.size}\\u003cbr\\u003eTemperature (\\u00b0F)=%{y}\\u003cextra\\u003e\\u003c\\u002fextra\\u003e\",\"ids\":[\"Germany\"],\"legendgroup\":\"Germany\",\"marker\":{\"color\":\"#00cc96\",\"size\":[77684873],\"sizemode\":\"area\",\"sizeref\":201739.38484375,\"symbol\":\"circle\"},\"mode\":\"markers\",\"name\":\"Germany\",\"orientation\":\"v\",\"showlegend\":true,\"x\":[77684873],\"xaxis\":\"x\",\"y\":[7.613333333333333],\"yaxis\":\"y\",\"type\":\"scatter\"},{\"customdata\":[[1985,\"India\"]],\"hovertemplate\":\"Country=%{customdata[1]}\\u003cbr\\u003eYear=%{customdata[0]}\\u003cbr\\u003ePopulation (millions)=%{marker.size}\\u003cbr\\u003eTemperature (\\u00b0F)=%{y}\\u003cextra\\u003e\\u003c\\u002fextra\\u003e\",\"ids\":[\"India\"],\"legendgroup\":\"India\",\"marker\":{\"color\":\"#ab63fa\",\"size\":[780242084],\"sizemode\":\"area\",\"sizeref\":201739.38484375,\"symbol\":\"circle\"},\"mode\":\"markers\",\"name\":\"India\",\"orientation\":\"v\",\"showlegend\":true,\"x\":[780242084],\"xaxis\":\"x\",\"y\":[24.48633333333333],\"yaxis\":\"y\",\"type\":\"scatter\"},{\"customdata\":[[1985,\"South Africa\"]],\"hovertemplate\":\"Country=%{customdata[1]}\\u003cbr\\u003eYear=%{customdata[0]}\\u003cbr\\u003ePopulation (millions)=%{marker.size}\\u003cbr\\u003eTemperature (\\u00b0F)=%{y}\\u003cextra\\u003e\\u003c\\u002fextra\\u003e\",\"ids\":[\"South Africa\"],\"legendgroup\":\"South Africa\",\"marker\":{\"color\":\"#FFA15A\",\"size\":[33752964],\"sizemode\":\"area\",\"sizeref\":201739.38484375,\"symbol\":\"circle\"},\"mode\":\"markers\",\"name\":\"South Africa\",\"orientation\":\"v\",\"showlegend\":true,\"x\":[33752964],\"xaxis\":\"x\",\"y\":[18.056083333333333],\"yaxis\":\"y\",\"type\":\"scatter\"},{\"customdata\":[[1985,\"United States\"]],\"hovertemplate\":\"Country=%{customdata[1]}\\u003cbr\\u003eYear=%{customdata[0]}\\u003cbr\\u003ePopulation (millions)=%{marker.size}\\u003cbr\\u003eTemperature (\\u00b0F)=%{y}\\u003cextra\\u003e\\u003c\\u002fextra\\u003e\",\"ids\":[\"United States\"],\"legendgroup\":\"United States\",\"marker\":{\"color\":\"#19d3f3\",\"size\":[237924000],\"sizemode\":\"area\",\"sizeref\":201739.38484375,\"symbol\":\"circle\"},\"mode\":\"markers\",\"name\":\"United States\",\"orientation\":\"v\",\"showlegend\":true,\"x\":[237924000],\"xaxis\":\"x\",\"y\":[8.587000000000002],\"yaxis\":\"y\",\"type\":\"scatter\"}],\"name\":\"1985\"},{\"data\":[{\"customdata\":[[1986,\"Australia\"]],\"hovertemplate\":\"Country=%{customdata[1]}\\u003cbr\\u003eYear=%{customdata[0]}\\u003cbr\\u003ePopulation (millions)=%{marker.size}\\u003cbr\\u003eTemperature (\\u00b0F)=%{y}\\u003cextra\\u003e\\u003c\\u002fextra\\u003e\",\"ids\":[\"Australia\"],\"legendgroup\":\"Australia\",\"marker\":{\"color\":\"#636efa\",\"size\":[16018350],\"sizemode\":\"area\",\"sizeref\":201739.38484375,\"symbol\":\"circle\"},\"mode\":\"markers\",\"name\":\"Australia\",\"orientation\":\"v\",\"showlegend\":true,\"x\":[16018350],\"xaxis\":\"x\",\"y\":[22.09325],\"yaxis\":\"y\",\"type\":\"scatter\"},{\"customdata\":[[1986,\"Brazil\"]],\"hovertemplate\":\"Country=%{customdata[1]}\\u003cbr\\u003eYear=%{customdata[0]}\\u003cbr\\u003ePopulation (millions)=%{marker.size}\\u003cbr\\u003eTemperature (\\u00b0F)=%{y}\\u003cextra\\u003e\\u003c\\u002fextra\\u003e\",\"ids\":[\"Brazil\"],\"legendgroup\":\"Brazil\",\"marker\":{\"color\":\"#EF553B\",\"size\":[139643355],\"sizemode\":\"area\",\"sizeref\":201739.38484375,\"symbol\":\"circle\"},\"mode\":\"markers\",\"name\":\"Brazil\",\"orientation\":\"v\",\"showlegend\":true,\"x\":[139643355],\"xaxis\":\"x\",\"y\":[25.131],\"yaxis\":\"y\",\"type\":\"scatter\"},{\"customdata\":[[1986,\"Germany\"]],\"hovertemplate\":\"Country=%{customdata[1]}\\u003cbr\\u003eYear=%{customdata[0]}\\u003cbr\\u003ePopulation (millions)=%{marker.size}\\u003cbr\\u003eTemperature (\\u00b0F)=%{y}\\u003cextra\\u003e\\u003c\\u002fextra\\u003e\",\"ids\":[\"Germany\"],\"legendgroup\":\"Germany\",\"marker\":{\"color\":\"#00cc96\",\"size\":[77720436],\"sizemode\":\"area\",\"sizeref\":201739.38484375,\"symbol\":\"circle\"},\"mode\":\"markers\",\"name\":\"Germany\",\"orientation\":\"v\",\"showlegend\":true,\"x\":[77720436],\"xaxis\":\"x\",\"y\":[8.085083333333333],\"yaxis\":\"y\",\"type\":\"scatter\"},{\"customdata\":[[1986,\"India\"]],\"hovertemplate\":\"Country=%{customdata[1]}\\u003cbr\\u003eYear=%{customdata[0]}\\u003cbr\\u003ePopulation (millions)=%{marker.size}\\u003cbr\\u003eTemperature (\\u00b0F)=%{y}\\u003cextra\\u003e\\u003c\\u002fextra\\u003e\",\"ids\":[\"India\"],\"legendgroup\":\"India\",\"marker\":{\"color\":\"#ab63fa\",\"size\":[797878993],\"sizemode\":\"area\",\"sizeref\":201739.38484375,\"symbol\":\"circle\"},\"mode\":\"markers\",\"name\":\"India\",\"orientation\":\"v\",\"showlegend\":true,\"x\":[797878993],\"xaxis\":\"x\",\"y\":[24.2945],\"yaxis\":\"y\",\"type\":\"scatter\"},{\"customdata\":[[1986,\"South Africa\"]],\"hovertemplate\":\"Country=%{customdata[1]}\\u003cbr\\u003eYear=%{customdata[0]}\\u003cbr\\u003ePopulation (millions)=%{marker.size}\\u003cbr\\u003eTemperature (\\u00b0F)=%{y}\\u003cextra\\u003e\\u003c\\u002fextra\\u003e\",\"ids\":[\"South Africa\"],\"legendgroup\":\"South Africa\",\"marker\":{\"color\":\"#FFA15A\",\"size\":[34877834],\"sizemode\":\"area\",\"sizeref\":201739.38484375,\"symbol\":\"circle\"},\"mode\":\"markers\",\"name\":\"South Africa\",\"orientation\":\"v\",\"showlegend\":true,\"x\":[34877834],\"xaxis\":\"x\",\"y\":[17.955000000000002],\"yaxis\":\"y\",\"type\":\"scatter\"},{\"customdata\":[[1986,\"United States\"]],\"hovertemplate\":\"Country=%{customdata[1]}\\u003cbr\\u003eYear=%{customdata[0]}\\u003cbr\\u003ePopulation (millions)=%{marker.size}\\u003cbr\\u003eTemperature (\\u00b0F)=%{y}\\u003cextra\\u003e\\u003c\\u002fextra\\u003e\",\"ids\":[\"United States\"],\"legendgroup\":\"United States\",\"marker\":{\"color\":\"#19d3f3\",\"size\":[240133000],\"sizemode\":\"area\",\"sizeref\":201739.38484375,\"symbol\":\"circle\"},\"mode\":\"markers\",\"name\":\"United States\",\"orientation\":\"v\",\"showlegend\":true,\"x\":[240133000],\"xaxis\":\"x\",\"y\":[9.5595],\"yaxis\":\"y\",\"type\":\"scatter\"}],\"name\":\"1986\"},{\"data\":[{\"customdata\":[[1987,\"Australia\"]],\"hovertemplate\":\"Country=%{customdata[1]}\\u003cbr\\u003eYear=%{customdata[0]}\\u003cbr\\u003ePopulation (millions)=%{marker.size}\\u003cbr\\u003eTemperature (\\u00b0F)=%{y}\\u003cextra\\u003e\\u003c\\u002fextra\\u003e\",\"ids\":[\"Australia\"],\"legendgroup\":\"Australia\",\"marker\":{\"color\":\"#636efa\",\"size\":[16263874],\"sizemode\":\"area\",\"sizeref\":201739.38484375,\"symbol\":\"circle\"},\"mode\":\"markers\",\"name\":\"Australia\",\"orientation\":\"v\",\"showlegend\":true,\"x\":[16263874],\"xaxis\":\"x\",\"y\":[22.07241666666667],\"yaxis\":\"y\",\"type\":\"scatter\"},{\"customdata\":[[1987,\"Brazil\"]],\"hovertemplate\":\"Country=%{customdata[1]}\\u003cbr\\u003eYear=%{customdata[0]}\\u003cbr\\u003ePopulation (millions)=%{marker.size}\\u003cbr\\u003eTemperature (\\u00b0F)=%{y}\\u003cextra\\u003e\\u003c\\u002fextra\\u003e\",\"ids\":[\"Brazil\"],\"legendgroup\":\"Brazil\",\"marker\":{\"color\":\"#EF553B\",\"size\":[142466264],\"sizemode\":\"area\",\"sizeref\":201739.38484375,\"symbol\":\"circle\"},\"mode\":\"markers\",\"name\":\"Brazil\",\"orientation\":\"v\",\"showlegend\":true,\"x\":[142466264],\"xaxis\":\"x\",\"y\":[25.56341666666667],\"yaxis\":\"y\",\"type\":\"scatter\"},{\"customdata\":[[1987,\"Germany\"]],\"hovertemplate\":\"Country=%{customdata[1]}\\u003cbr\\u003eYear=%{customdata[0]}\\u003cbr\\u003ePopulation (millions)=%{marker.size}\\u003cbr\\u003eTemperature (\\u00b0F)=%{y}\\u003cextra\\u003e\\u003c\\u002fextra\\u003e\",\"ids\":[\"Germany\"],\"legendgroup\":\"Germany\",\"marker\":{\"color\":\"#00cc96\",\"size\":[77839920],\"sizemode\":\"area\",\"sizeref\":201739.38484375,\"symbol\":\"circle\"},\"mode\":\"markers\",\"name\":\"Germany\",\"orientation\":\"v\",\"showlegend\":true,\"x\":[77839920],\"xaxis\":\"x\",\"y\":[7.58925],\"yaxis\":\"y\",\"type\":\"scatter\"},{\"customdata\":[[1987,\"India\"]],\"hovertemplate\":\"Country=%{customdata[1]}\\u003cbr\\u003eYear=%{customdata[0]}\\u003cbr\\u003ePopulation (millions)=%{marker.size}\\u003cbr\\u003eTemperature (\\u00b0F)=%{y}\\u003cextra\\u003e\\u003c\\u002fextra\\u003e\",\"ids\":[\"India\"],\"legendgroup\":\"India\",\"marker\":{\"color\":\"#ab63fa\",\"size\":[815716125],\"sizemode\":\"area\",\"sizeref\":201739.38484375,\"symbol\":\"circle\"},\"mode\":\"markers\",\"name\":\"India\",\"orientation\":\"v\",\"showlegend\":true,\"x\":[815716125],\"xaxis\":\"x\",\"y\":[24.78908333333333],\"yaxis\":\"y\",\"type\":\"scatter\"},{\"customdata\":[[1987,\"South Africa\"]],\"hovertemplate\":\"Country=%{customdata[1]}\\u003cbr\\u003eYear=%{customdata[0]}\\u003cbr\\u003ePopulation (millions)=%{marker.size}\\u003cbr\\u003eTemperature (\\u00b0F)=%{y}\\u003cextra\\u003e\\u003c\\u002fextra\\u003e\",\"ids\":[\"South Africa\"],\"legendgroup\":\"South Africa\",\"marker\":{\"color\":\"#FFA15A\",\"size\":[36119333],\"sizemode\":\"area\",\"sizeref\":201739.38484375,\"symbol\":\"circle\"},\"mode\":\"markers\",\"name\":\"South Africa\",\"orientation\":\"v\",\"showlegend\":true,\"x\":[36119333],\"xaxis\":\"x\",\"y\":[18.103583333333333],\"yaxis\":\"y\",\"type\":\"scatter\"},{\"customdata\":[[1987,\"United States\"]],\"hovertemplate\":\"Country=%{customdata[1]}\\u003cbr\\u003eYear=%{customdata[0]}\\u003cbr\\u003ePopulation (millions)=%{marker.size}\\u003cbr\\u003eTemperature (\\u00b0F)=%{y}\\u003cextra\\u003e\\u003c\\u002fextra\\u003e\",\"ids\":[\"United States\"],\"legendgroup\":\"United States\",\"marker\":{\"color\":\"#19d3f3\",\"size\":[242289000],\"sizemode\":\"area\",\"sizeref\":201739.38484375,\"symbol\":\"circle\"},\"mode\":\"markers\",\"name\":\"United States\",\"orientation\":\"v\",\"showlegend\":true,\"x\":[242289000],\"xaxis\":\"x\",\"y\":[9.628166666666669],\"yaxis\":\"y\",\"type\":\"scatter\"}],\"name\":\"1987\"},{\"data\":[{\"customdata\":[[1988,\"Australia\"]],\"hovertemplate\":\"Country=%{customdata[1]}\\u003cbr\\u003eYear=%{customdata[0]}\\u003cbr\\u003ePopulation (millions)=%{marker.size}\\u003cbr\\u003eTemperature (\\u00b0F)=%{y}\\u003cextra\\u003e\\u003c\\u002fextra\\u003e\",\"ids\":[\"Australia\"],\"legendgroup\":\"Australia\",\"marker\":{\"color\":\"#636efa\",\"size\":[16532164],\"sizemode\":\"area\",\"sizeref\":201739.38484375,\"symbol\":\"circle\"},\"mode\":\"markers\",\"name\":\"Australia\",\"orientation\":\"v\",\"showlegend\":true,\"x\":[16532164],\"xaxis\":\"x\",\"y\":[22.63008333333333],\"yaxis\":\"y\",\"type\":\"scatter\"},{\"customdata\":[[1988,\"Brazil\"]],\"hovertemplate\":\"Country=%{customdata[1]}\\u003cbr\\u003eYear=%{customdata[0]}\\u003cbr\\u003ePopulation (millions)=%{marker.size}\\u003cbr\\u003eTemperature (\\u00b0F)=%{y}\\u003cextra\\u003e\\u003c\\u002fextra\\u003e\",\"ids\":[\"Brazil\"],\"legendgroup\":\"Brazil\",\"marker\":{\"color\":\"#EF553B\",\"size\":[145253973],\"sizemode\":\"area\",\"sizeref\":201739.38484375,\"symbol\":\"circle\"},\"mode\":\"markers\",\"name\":\"Brazil\",\"orientation\":\"v\",\"showlegend\":true,\"x\":[145253973],\"xaxis\":\"x\",\"y\":[25.177333333333337],\"yaxis\":\"y\",\"type\":\"scatter\"},{\"customdata\":[[1988,\"Germany\"]],\"hovertemplate\":\"Country=%{customdata[1]}\\u003cbr\\u003eYear=%{customdata[0]}\\u003cbr\\u003ePopulation (millions)=%{marker.size}\\u003cbr\\u003eTemperature (\\u00b0F)=%{y}\\u003cextra\\u003e\\u003c\\u002fextra\\u003e\",\"ids\":[\"Germany\"],\"legendgroup\":\"Germany\",\"marker\":{\"color\":\"#00cc96\",\"size\":[78144619],\"sizemode\":\"area\",\"sizeref\":201739.38484375,\"symbol\":\"circle\"},\"mode\":\"markers\",\"name\":\"Germany\",\"orientation\":\"v\",\"showlegend\":true,\"x\":[78144619],\"xaxis\":\"x\",\"y\":[9.195583333333332],\"yaxis\":\"y\",\"type\":\"scatter\"},{\"customdata\":[[1988,\"India\"]],\"hovertemplate\":\"Country=%{customdata[1]}\\u003cbr\\u003eYear=%{customdata[0]}\\u003cbr\\u003ePopulation (millions)=%{marker.size}\\u003cbr\\u003eTemperature (\\u00b0F)=%{y}\\u003cextra\\u003e\\u003c\\u002fextra\\u003e\",\"ids\":[\"India\"],\"legendgroup\":\"India\",\"marker\":{\"color\":\"#ab63fa\",\"size\":[833729681],\"sizemode\":\"area\",\"sizeref\":201739.38484375,\"symbol\":\"circle\"},\"mode\":\"markers\",\"name\":\"India\",\"orientation\":\"v\",\"showlegend\":true,\"x\":[833729681],\"xaxis\":\"x\",\"y\":[24.72775],\"yaxis\":\"y\",\"type\":\"scatter\"},{\"customdata\":[[1988,\"South Africa\"]],\"hovertemplate\":\"Country=%{customdata[1]}\\u003cbr\\u003eYear=%{customdata[0]}\\u003cbr\\u003ePopulation (millions)=%{marker.size}\\u003cbr\\u003eTemperature (\\u00b0F)=%{y}\\u003cextra\\u003e\\u003c\\u002fextra\\u003e\",\"ids\":[\"South Africa\"],\"legendgroup\":\"South Africa\",\"marker\":{\"color\":\"#FFA15A\",\"size\":[37393853],\"sizemode\":\"area\",\"sizeref\":201739.38484375,\"symbol\":\"circle\"},\"mode\":\"markers\",\"name\":\"South Africa\",\"orientation\":\"v\",\"showlegend\":true,\"x\":[37393853],\"xaxis\":\"x\",\"y\":[17.628833333333333],\"yaxis\":\"y\",\"type\":\"scatter\"},{\"customdata\":[[1988,\"United States\"]],\"hovertemplate\":\"Country=%{customdata[1]}\\u003cbr\\u003eYear=%{customdata[0]}\\u003cbr\\u003ePopulation (millions)=%{marker.size}\\u003cbr\\u003eTemperature (\\u00b0F)=%{y}\\u003cextra\\u003e\\u003c\\u002fextra\\u003e\",\"ids\":[\"United States\"],\"legendgroup\":\"United States\",\"marker\":{\"color\":\"#19d3f3\",\"size\":[244499000],\"sizemode\":\"area\",\"sizeref\":201739.38484375,\"symbol\":\"circle\"},\"mode\":\"markers\",\"name\":\"United States\",\"orientation\":\"v\",\"showlegend\":true,\"x\":[244499000],\"xaxis\":\"x\",\"y\":[9.275333333333334],\"yaxis\":\"y\",\"type\":\"scatter\"}],\"name\":\"1988\"},{\"data\":[{\"customdata\":[[1989,\"Australia\"]],\"hovertemplate\":\"Country=%{customdata[1]}\\u003cbr\\u003eYear=%{customdata[0]}\\u003cbr\\u003ePopulation (millions)=%{marker.size}\\u003cbr\\u003eTemperature (\\u00b0F)=%{y}\\u003cextra\\u003e\\u003c\\u002fextra\\u003e\",\"ids\":[\"Australia\"],\"legendgroup\":\"Australia\",\"marker\":{\"color\":\"#636efa\",\"size\":[16814416],\"sizemode\":\"area\",\"sizeref\":201739.38484375,\"symbol\":\"circle\"},\"mode\":\"markers\",\"name\":\"Australia\",\"orientation\":\"v\",\"showlegend\":true,\"x\":[16814416],\"xaxis\":\"x\",\"y\":[21.86283333333333],\"yaxis\":\"y\",\"type\":\"scatter\"},{\"customdata\":[[1989,\"Brazil\"]],\"hovertemplate\":\"Country=%{customdata[1]}\\u003cbr\\u003eYear=%{customdata[0]}\\u003cbr\\u003ePopulation (millions)=%{marker.size}\\u003cbr\\u003eTemperature (\\u00b0F)=%{y}\\u003cextra\\u003e\\u003c\\u002fextra\\u003e\",\"ids\":[\"Brazil\"],\"legendgroup\":\"Brazil\",\"marker\":{\"color\":\"#EF553B\",\"size\":[148003411],\"sizemode\":\"area\",\"sizeref\":201739.38484375,\"symbol\":\"circle\"},\"mode\":\"markers\",\"name\":\"Brazil\",\"orientation\":\"v\",\"showlegend\":true,\"x\":[148003411],\"xaxis\":\"x\",\"y\":[24.871416666666665],\"yaxis\":\"y\",\"type\":\"scatter\"},{\"customdata\":[[1989,\"Germany\"]],\"hovertemplate\":\"Country=%{customdata[1]}\\u003cbr\\u003eYear=%{customdata[0]}\\u003cbr\\u003ePopulation (millions)=%{marker.size}\\u003cbr\\u003eTemperature (\\u00b0F)=%{y}\\u003cextra\\u003e\\u003c\\u002fextra\\u003e\",\"ids\":[\"Germany\"],\"legendgroup\":\"Germany\",\"marker\":{\"color\":\"#00cc96\",\"size\":[78751283],\"sizemode\":\"area\",\"sizeref\":201739.38484375,\"symbol\":\"circle\"},\"mode\":\"markers\",\"name\":\"Germany\",\"orientation\":\"v\",\"showlegend\":true,\"x\":[78751283],\"xaxis\":\"x\",\"y\":[9.679833333333333],\"yaxis\":\"y\",\"type\":\"scatter\"},{\"customdata\":[[1989,\"India\"]],\"hovertemplate\":\"Country=%{customdata[1]}\\u003cbr\\u003eYear=%{customdata[0]}\\u003cbr\\u003ePopulation (millions)=%{marker.size}\\u003cbr\\u003eTemperature (\\u00b0F)=%{y}\\u003cextra\\u003e\\u003c\\u002fextra\\u003e\",\"ids\":[\"India\"],\"legendgroup\":\"India\",\"marker\":{\"color\":\"#ab63fa\",\"size\":[852012673],\"sizemode\":\"area\",\"sizeref\":201739.38484375,\"symbol\":\"circle\"},\"mode\":\"markers\",\"name\":\"India\",\"orientation\":\"v\",\"showlegend\":true,\"x\":[852012673],\"xaxis\":\"x\",\"y\":[24.162333333333333],\"yaxis\":\"y\",\"type\":\"scatter\"},{\"customdata\":[[1989,\"South Africa\"]],\"hovertemplate\":\"Country=%{customdata[1]}\\u003cbr\\u003eYear=%{customdata[0]}\\u003cbr\\u003ePopulation (millions)=%{marker.size}\\u003cbr\\u003eTemperature (\\u00b0F)=%{y}\\u003cextra\\u003e\\u003c\\u002fextra\\u003e\",\"ids\":[\"South Africa\"],\"legendgroup\":\"South Africa\",\"marker\":{\"color\":\"#FFA15A\",\"size\":[38668684],\"sizemode\":\"area\",\"sizeref\":201739.38484375,\"symbol\":\"circle\"},\"mode\":\"markers\",\"name\":\"South Africa\",\"orientation\":\"v\",\"showlegend\":true,\"x\":[38668684],\"xaxis\":\"x\",\"y\":[17.406166666666667],\"yaxis\":\"y\",\"type\":\"scatter\"},{\"customdata\":[[1989,\"United States\"]],\"hovertemplate\":\"Country=%{customdata[1]}\\u003cbr\\u003eYear=%{customdata[0]}\\u003cbr\\u003ePopulation (millions)=%{marker.size}\\u003cbr\\u003eTemperature (\\u00b0F)=%{y}\\u003cextra\\u003e\\u003c\\u002fextra\\u003e\",\"ids\":[\"United States\"],\"legendgroup\":\"United States\",\"marker\":{\"color\":\"#19d3f3\",\"size\":[246819000],\"sizemode\":\"area\",\"sizeref\":201739.38484375,\"symbol\":\"circle\"},\"mode\":\"markers\",\"name\":\"United States\",\"orientation\":\"v\",\"showlegend\":true,\"x\":[246819000],\"xaxis\":\"x\",\"y\":[8.873083333333334],\"yaxis\":\"y\",\"type\":\"scatter\"}],\"name\":\"1989\"},{\"data\":[{\"customdata\":[[1990,\"Australia\"]],\"hovertemplate\":\"Country=%{customdata[1]}\\u003cbr\\u003eYear=%{customdata[0]}\\u003cbr\\u003ePopulation (millions)=%{marker.size}\\u003cbr\\u003eTemperature (\\u00b0F)=%{y}\\u003cextra\\u003e\\u003c\\u002fextra\\u003e\",\"ids\":[\"Australia\"],\"legendgroup\":\"Australia\",\"marker\":{\"color\":\"#636efa\",\"size\":[17065128],\"sizemode\":\"area\",\"sizeref\":201739.38484375,\"symbol\":\"circle\"},\"mode\":\"markers\",\"name\":\"Australia\",\"orientation\":\"v\",\"showlegend\":true,\"x\":[17065128],\"xaxis\":\"x\",\"y\":[22.35575],\"yaxis\":\"y\",\"type\":\"scatter\"},{\"customdata\":[[1990,\"Brazil\"]],\"hovertemplate\":\"Country=%{customdata[1]}\\u003cbr\\u003eYear=%{customdata[0]}\\u003cbr\\u003ePopulation (millions)=%{marker.size}\\u003cbr\\u003eTemperature (\\u00b0F)=%{y}\\u003cextra\\u003e\\u003c\\u002fextra\\u003e\",\"ids\":[\"Brazil\"],\"legendgroup\":\"Brazil\",\"marker\":{\"color\":\"#EF553B\",\"size\":[150706446],\"sizemode\":\"area\",\"sizeref\":201739.38484375,\"symbol\":\"circle\"},\"mode\":\"markers\",\"name\":\"Brazil\",\"orientation\":\"v\",\"showlegend\":true,\"x\":[150706446],\"xaxis\":\"x\",\"y\":[25.27491666666667],\"yaxis\":\"y\",\"type\":\"scatter\"},{\"customdata\":[[1990,\"Germany\"]],\"hovertemplate\":\"Country=%{customdata[1]}\\u003cbr\\u003eYear=%{customdata[0]}\\u003cbr\\u003ePopulation (millions)=%{marker.size}\\u003cbr\\u003eTemperature (\\u00b0F)=%{y}\\u003cextra\\u003e\\u003c\\u002fextra\\u003e\",\"ids\":[\"Germany\"],\"legendgroup\":\"Germany\",\"marker\":{\"color\":\"#00cc96\",\"size\":[79433029],\"sizemode\":\"area\",\"sizeref\":201739.38484375,\"symbol\":\"circle\"},\"mode\":\"markers\",\"name\":\"Germany\",\"orientation\":\"v\",\"showlegend\":true,\"x\":[79433029],\"xaxis\":\"x\",\"y\":[9.6895],\"yaxis\":\"y\",\"type\":\"scatter\"},{\"customdata\":[[1990,\"India\"]],\"hovertemplate\":\"Country=%{customdata[1]}\\u003cbr\\u003eYear=%{customdata[0]}\\u003cbr\\u003ePopulation (millions)=%{marker.size}\\u003cbr\\u003eTemperature (\\u00b0F)=%{y}\\u003cextra\\u003e\\u003c\\u002fextra\\u003e\",\"ids\":[\"India\"],\"legendgroup\":\"India\",\"marker\":{\"color\":\"#ab63fa\",\"size\":[870452165],\"sizemode\":\"area\",\"sizeref\":201739.38484375,\"symbol\":\"circle\"},\"mode\":\"markers\",\"name\":\"India\",\"orientation\":\"v\",\"showlegend\":true,\"x\":[870452165],\"xaxis\":\"x\",\"y\":[24.17816666666667],\"yaxis\":\"y\",\"type\":\"scatter\"},{\"customdata\":[[1990,\"South Africa\"]],\"hovertemplate\":\"Country=%{customdata[1]}\\u003cbr\\u003eYear=%{customdata[0]}\\u003cbr\\u003ePopulation (millions)=%{marker.size}\\u003cbr\\u003eTemperature (\\u00b0F)=%{y}\\u003cextra\\u003e\\u003c\\u002fextra\\u003e\",\"ids\":[\"South Africa\"],\"legendgroup\":\"South Africa\",\"marker\":{\"color\":\"#FFA15A\",\"size\":[39877570],\"sizemode\":\"area\",\"sizeref\":201739.38484375,\"symbol\":\"circle\"},\"mode\":\"markers\",\"name\":\"South Africa\",\"orientation\":\"v\",\"showlegend\":true,\"x\":[39877570],\"xaxis\":\"x\",\"y\":[17.728333333333335],\"yaxis\":\"y\",\"type\":\"scatter\"},{\"customdata\":[[1990,\"United States\"]],\"hovertemplate\":\"Country=%{customdata[1]}\\u003cbr\\u003eYear=%{customdata[0]}\\u003cbr\\u003ePopulation (millions)=%{marker.size}\\u003cbr\\u003eTemperature (\\u00b0F)=%{y}\\u003cextra\\u003e\\u003c\\u002fextra\\u003e\",\"ids\":[\"United States\"],\"legendgroup\":\"United States\",\"marker\":{\"color\":\"#19d3f3\",\"size\":[249623000],\"sizemode\":\"area\",\"sizeref\":201739.38484375,\"symbol\":\"circle\"},\"mode\":\"markers\",\"name\":\"United States\",\"orientation\":\"v\",\"showlegend\":true,\"x\":[249623000],\"xaxis\":\"x\",\"y\":[9.521583333333334],\"yaxis\":\"y\",\"type\":\"scatter\"}],\"name\":\"1990\"},{\"data\":[{\"customdata\":[[1991,\"Australia\"]],\"hovertemplate\":\"Country=%{customdata[1]}\\u003cbr\\u003eYear=%{customdata[0]}\\u003cbr\\u003ePopulation (millions)=%{marker.size}\\u003cbr\\u003eTemperature (\\u00b0F)=%{y}\\u003cextra\\u003e\\u003c\\u002fextra\\u003e\",\"ids\":[\"Australia\"],\"legendgroup\":\"Australia\",\"marker\":{\"color\":\"#636efa\",\"size\":[17284036],\"sizemode\":\"area\",\"sizeref\":201739.38484375,\"symbol\":\"circle\"},\"mode\":\"markers\",\"name\":\"Australia\",\"orientation\":\"v\",\"showlegend\":true,\"x\":[17284036],\"xaxis\":\"x\",\"y\":[22.48741666666667],\"yaxis\":\"y\",\"type\":\"scatter\"},{\"customdata\":[[1991,\"Brazil\"]],\"hovertemplate\":\"Country=%{customdata[1]}\\u003cbr\\u003eYear=%{customdata[0]}\\u003cbr\\u003ePopulation (millions)=%{marker.size}\\u003cbr\\u003eTemperature (\\u00b0F)=%{y}\\u003cextra\\u003e\\u003c\\u002fextra\\u003e\",\"ids\":[\"Brazil\"],\"legendgroup\":\"Brazil\",\"marker\":{\"color\":\"#EF553B\",\"size\":[153336445],\"sizemode\":\"area\",\"sizeref\":201739.38484375,\"symbol\":\"circle\"},\"mode\":\"markers\",\"name\":\"Brazil\",\"orientation\":\"v\",\"showlegend\":true,\"x\":[153336445],\"xaxis\":\"x\",\"y\":[25.29216666666667],\"yaxis\":\"y\",\"type\":\"scatter\"},{\"customdata\":[[1991,\"Germany\"]],\"hovertemplate\":\"Country=%{customdata[1]}\\u003cbr\\u003eYear=%{customdata[0]}\\u003cbr\\u003ePopulation (millions)=%{marker.size}\\u003cbr\\u003eTemperature (\\u00b0F)=%{y}\\u003cextra\\u003e\\u003c\\u002fextra\\u003e\",\"ids\":[\"Germany\"],\"legendgroup\":\"Germany\",\"marker\":{\"color\":\"#00cc96\",\"size\":[80013896],\"sizemode\":\"area\",\"sizeref\":201739.38484375,\"symbol\":\"circle\"},\"mode\":\"markers\",\"name\":\"Germany\",\"orientation\":\"v\",\"showlegend\":true,\"x\":[80013896],\"xaxis\":\"x\",\"y\":[8.523083333333334],\"yaxis\":\"y\",\"type\":\"scatter\"},{\"customdata\":[[1991,\"India\"]],\"hovertemplate\":\"Country=%{customdata[1]}\\u003cbr\\u003eYear=%{customdata[0]}\\u003cbr\\u003ePopulation (millions)=%{marker.size}\\u003cbr\\u003eTemperature (\\u00b0F)=%{y}\\u003cextra\\u003e\\u003c\\u002fextra\\u003e\",\"ids\":[\"India\"],\"legendgroup\":\"India\",\"marker\":{\"color\":\"#ab63fa\",\"size\":[888941756],\"sizemode\":\"area\",\"sizeref\":201739.38484375,\"symbol\":\"circle\"},\"mode\":\"markers\",\"name\":\"India\",\"orientation\":\"v\",\"showlegend\":true,\"x\":[888941756],\"xaxis\":\"x\",\"y\":[24.311750000000004],\"yaxis\":\"y\",\"type\":\"scatter\"},{\"customdata\":[[1991,\"South Africa\"]],\"hovertemplate\":\"Country=%{customdata[1]}\\u003cbr\\u003eYear=%{customdata[0]}\\u003cbr\\u003ePopulation (millions)=%{marker.size}\\u003cbr\\u003eTemperature (\\u00b0F)=%{y}\\u003cextra\\u003e\\u003c\\u002fextra\\u003e\",\"ids\":[\"South Africa\"],\"legendgroup\":\"South Africa\",\"marker\":{\"color\":\"#FFA15A\",\"size\":[40910959],\"sizemode\":\"area\",\"sizeref\":201739.38484375,\"symbol\":\"circle\"},\"mode\":\"markers\",\"name\":\"South Africa\",\"orientation\":\"v\",\"showlegend\":true,\"x\":[40910959],\"xaxis\":\"x\",\"y\":[17.752],\"yaxis\":\"y\",\"type\":\"scatter\"},{\"customdata\":[[1991,\"United States\"]],\"hovertemplate\":\"Country=%{customdata[1]}\\u003cbr\\u003eYear=%{customdata[0]}\\u003cbr\\u003ePopulation (millions)=%{marker.size}\\u003cbr\\u003eTemperature (\\u00b0F)=%{y}\\u003cextra\\u003e\\u003c\\u002fextra\\u003e\",\"ids\":[\"United States\"],\"legendgroup\":\"United States\",\"marker\":{\"color\":\"#19d3f3\",\"size\":[252981000],\"sizemode\":\"area\",\"sizeref\":201739.38484375,\"symbol\":\"circle\"},\"mode\":\"markers\",\"name\":\"United States\",\"orientation\":\"v\",\"showlegend\":true,\"x\":[252981000],\"xaxis\":\"x\",\"y\":[9.493666666666666],\"yaxis\":\"y\",\"type\":\"scatter\"}],\"name\":\"1991\"},{\"data\":[{\"customdata\":[[1992,\"Australia\"]],\"hovertemplate\":\"Country=%{customdata[1]}\\u003cbr\\u003eYear=%{customdata[0]}\\u003cbr\\u003ePopulation (millions)=%{marker.size}\\u003cbr\\u003eTemperature (\\u00b0F)=%{y}\\u003cextra\\u003e\\u003c\\u002fextra\\u003e\",\"ids\":[\"Australia\"],\"legendgroup\":\"Australia\",\"marker\":{\"color\":\"#636efa\",\"size\":[17478635],\"sizemode\":\"area\",\"sizeref\":201739.38484375,\"symbol\":\"circle\"},\"mode\":\"markers\",\"name\":\"Australia\",\"orientation\":\"v\",\"showlegend\":true,\"x\":[17478635],\"xaxis\":\"x\",\"y\":[21.932583333333337],\"yaxis\":\"y\",\"type\":\"scatter\"},{\"customdata\":[[1992,\"Brazil\"]],\"hovertemplate\":\"Country=%{customdata[1]}\\u003cbr\\u003eYear=%{customdata[0]}\\u003cbr\\u003ePopulation (millions)=%{marker.size}\\u003cbr\\u003eTemperature (\\u00b0F)=%{y}\\u003cextra\\u003e\\u003c\\u002fextra\\u003e\",\"ids\":[\"Brazil\"],\"legendgroup\":\"Brazil\",\"marker\":{\"color\":\"#EF553B\",\"size\":[155900790],\"sizemode\":\"area\",\"sizeref\":201739.38484375,\"symbol\":\"circle\"},\"mode\":\"markers\",\"name\":\"Brazil\",\"orientation\":\"v\",\"showlegend\":true,\"x\":[155900790],\"xaxis\":\"x\",\"y\":[25.25133333333333],\"yaxis\":\"y\",\"type\":\"scatter\"},{\"customdata\":[[1992,\"Germany\"]],\"hovertemplate\":\"Country=%{customdata[1]}\\u003cbr\\u003eYear=%{customdata[0]}\\u003cbr\\u003ePopulation (millions)=%{marker.size}\\u003cbr\\u003eTemperature (\\u00b0F)=%{y}\\u003cextra\\u003e\\u003c\\u002fextra\\u003e\",\"ids\":[\"Germany\"],\"legendgroup\":\"Germany\",\"marker\":{\"color\":\"#00cc96\",\"size\":[80624598],\"sizemode\":\"area\",\"sizeref\":201739.38484375,\"symbol\":\"circle\"},\"mode\":\"markers\",\"name\":\"Germany\",\"orientation\":\"v\",\"showlegend\":true,\"x\":[80624598],\"xaxis\":\"x\",\"y\":[9.505833333333332],\"yaxis\":\"y\",\"type\":\"scatter\"},{\"customdata\":[[1992,\"India\"]],\"hovertemplate\":\"Country=%{customdata[1]}\\u003cbr\\u003eYear=%{customdata[0]}\\u003cbr\\u003ePopulation (millions)=%{marker.size}\\u003cbr\\u003eTemperature (\\u00b0F)=%{y}\\u003cextra\\u003e\\u003c\\u002fextra\\u003e\",\"ids\":[\"India\"],\"legendgroup\":\"India\",\"marker\":{\"color\":\"#ab63fa\",\"size\":[907574049],\"sizemode\":\"area\",\"sizeref\":201739.38484375,\"symbol\":\"circle\"},\"mode\":\"markers\",\"name\":\"India\",\"orientation\":\"v\",\"showlegend\":true,\"x\":[907574049],\"xaxis\":\"x\",\"y\":[24.222916666666663],\"yaxis\":\"y\",\"type\":\"scatter\"},{\"customdata\":[[1992,\"South Africa\"]],\"hovertemplate\":\"Country=%{customdata[1]}\\u003cbr\\u003eYear=%{customdata[0]}\\u003cbr\\u003ePopulation (millions)=%{marker.size}\\u003cbr\\u003eTemperature (\\u00b0F)=%{y}\\u003cextra\\u003e\\u003c\\u002fextra\\u003e\",\"ids\":[\"South Africa\"],\"legendgroup\":\"South Africa\",\"marker\":{\"color\":\"#FFA15A\",\"size\":[41760755],\"sizemode\":\"area\",\"sizeref\":201739.38484375,\"symbol\":\"circle\"},\"mode\":\"markers\",\"name\":\"South Africa\",\"orientation\":\"v\",\"showlegend\":true,\"x\":[41760755],\"xaxis\":\"x\",\"y\":[18.25616666666667],\"yaxis\":\"y\",\"type\":\"scatter\"},{\"customdata\":[[1992,\"United States\"]],\"hovertemplate\":\"Country=%{customdata[1]}\\u003cbr\\u003eYear=%{customdata[0]}\\u003cbr\\u003ePopulation (millions)=%{marker.size}\\u003cbr\\u003eTemperature (\\u00b0F)=%{y}\\u003cextra\\u003e\\u003c\\u002fextra\\u003e\",\"ids\":[\"United States\"],\"legendgroup\":\"United States\",\"marker\":{\"color\":\"#19d3f3\",\"size\":[256514000],\"sizemode\":\"area\",\"sizeref\":201739.38484375,\"symbol\":\"circle\"},\"mode\":\"markers\",\"name\":\"United States\",\"orientation\":\"v\",\"showlegend\":true,\"x\":[256514000],\"xaxis\":\"x\",\"y\":[9.056333333333331],\"yaxis\":\"y\",\"type\":\"scatter\"}],\"name\":\"1992\"},{\"data\":[{\"customdata\":[[1993,\"Australia\"]],\"hovertemplate\":\"Country=%{customdata[1]}\\u003cbr\\u003eYear=%{customdata[0]}\\u003cbr\\u003ePopulation (millions)=%{marker.size}\\u003cbr\\u003eTemperature (\\u00b0F)=%{y}\\u003cextra\\u003e\\u003c\\u002fextra\\u003e\",\"ids\":[\"Australia\"],\"legendgroup\":\"Australia\",\"marker\":{\"color\":\"#636efa\",\"size\":[17634808],\"sizemode\":\"area\",\"sizeref\":201739.38484375,\"symbol\":\"circle\"},\"mode\":\"markers\",\"name\":\"Australia\",\"orientation\":\"v\",\"showlegend\":true,\"x\":[17634808],\"xaxis\":\"x\",\"y\":[22.16016666666667],\"yaxis\":\"y\",\"type\":\"scatter\"},{\"customdata\":[[1993,\"Brazil\"]],\"hovertemplate\":\"Country=%{customdata[1]}\\u003cbr\\u003eYear=%{customdata[0]}\\u003cbr\\u003ePopulation (millions)=%{marker.size}\\u003cbr\\u003eTemperature (\\u00b0F)=%{y}\\u003cextra\\u003e\\u003c\\u002fextra\\u003e\",\"ids\":[\"Brazil\"],\"legendgroup\":\"Brazil\",\"marker\":{\"color\":\"#EF553B\",\"size\":[158440875],\"sizemode\":\"area\",\"sizeref\":201739.38484375,\"symbol\":\"circle\"},\"mode\":\"markers\",\"name\":\"Brazil\",\"orientation\":\"v\",\"showlegend\":true,\"x\":[158440875],\"xaxis\":\"x\",\"y\":[25.354916666666668],\"yaxis\":\"y\",\"type\":\"scatter\"},{\"customdata\":[[1993,\"Germany\"]],\"hovertemplate\":\"Country=%{customdata[1]}\\u003cbr\\u003eYear=%{customdata[0]}\\u003cbr\\u003ePopulation (millions)=%{marker.size}\\u003cbr\\u003eTemperature (\\u00b0F)=%{y}\\u003cextra\\u003e\\u003c\\u002fextra\\u003e\",\"ids\":[\"Germany\"],\"legendgroup\":\"Germany\",\"marker\":{\"color\":\"#00cc96\",\"size\":[81156363],\"sizemode\":\"area\",\"sizeref\":201739.38484375,\"symbol\":\"circle\"},\"mode\":\"markers\",\"name\":\"Germany\",\"orientation\":\"v\",\"showlegend\":true,\"x\":[81156363],\"xaxis\":\"x\",\"y\":[8.6335],\"yaxis\":\"y\",\"type\":\"scatter\"},{\"customdata\":[[1993,\"India\"]],\"hovertemplate\":\"Country=%{customdata[1]}\\u003cbr\\u003eYear=%{customdata[0]}\\u003cbr\\u003ePopulation (millions)=%{marker.size}\\u003cbr\\u003eTemperature (\\u00b0F)=%{y}\\u003cextra\\u003e\\u003c\\u002fextra\\u003e\",\"ids\":[\"India\"],\"legendgroup\":\"India\",\"marker\":{\"color\":\"#ab63fa\",\"size\":[926351297],\"sizemode\":\"area\",\"sizeref\":201739.38484375,\"symbol\":\"circle\"},\"mode\":\"markers\",\"name\":\"India\",\"orientation\":\"v\",\"showlegend\":true,\"x\":[926351297],\"xaxis\":\"x\",\"y\":[24.408666666666665],\"yaxis\":\"y\",\"type\":\"scatter\"},{\"customdata\":[[1993,\"South Africa\"]],\"hovertemplate\":\"Country=%{customdata[1]}\\u003cbr\\u003eYear=%{customdata[0]}\\u003cbr\\u003ePopulation (millions)=%{marker.size}\\u003cbr\\u003eTemperature (\\u00b0F)=%{y}\\u003cextra\\u003e\\u003c\\u002fextra\\u003e\",\"ids\":[\"South Africa\"],\"legendgroup\":\"South Africa\",\"marker\":{\"color\":\"#FFA15A\",\"size\":[42525440],\"sizemode\":\"area\",\"sizeref\":201739.38484375,\"symbol\":\"circle\"},\"mode\":\"markers\",\"name\":\"South Africa\",\"orientation\":\"v\",\"showlegend\":true,\"x\":[42525440],\"xaxis\":\"x\",\"y\":[18.20275],\"yaxis\":\"y\",\"type\":\"scatter\"},{\"customdata\":[[1993,\"United States\"]],\"hovertemplate\":\"Country=%{customdata[1]}\\u003cbr\\u003eYear=%{customdata[0]}\\u003cbr\\u003ePopulation (millions)=%{marker.size}\\u003cbr\\u003eTemperature (\\u00b0F)=%{y}\\u003cextra\\u003e\\u003c\\u002fextra\\u003e\",\"ids\":[\"United States\"],\"legendgroup\":\"United States\",\"marker\":{\"color\":\"#19d3f3\",\"size\":[259919000],\"sizemode\":\"area\",\"sizeref\":201739.38484375,\"symbol\":\"circle\"},\"mode\":\"markers\",\"name\":\"United States\",\"orientation\":\"v\",\"showlegend\":true,\"x\":[259919000],\"xaxis\":\"x\",\"y\":[8.86725],\"yaxis\":\"y\",\"type\":\"scatter\"}],\"name\":\"1993\"},{\"data\":[{\"customdata\":[[1994,\"Australia\"]],\"hovertemplate\":\"Country=%{customdata[1]}\\u003cbr\\u003eYear=%{customdata[0]}\\u003cbr\\u003ePopulation (millions)=%{marker.size}\\u003cbr\\u003eTemperature (\\u00b0F)=%{y}\\u003cextra\\u003e\\u003c\\u002fextra\\u003e\",\"ids\":[\"Australia\"],\"legendgroup\":\"Australia\",\"marker\":{\"color\":\"#636efa\",\"size\":[17805468],\"sizemode\":\"area\",\"sizeref\":201739.38484375,\"symbol\":\"circle\"},\"mode\":\"markers\",\"name\":\"Australia\",\"orientation\":\"v\",\"showlegend\":true,\"x\":[17805468],\"xaxis\":\"x\",\"y\":[22.03025],\"yaxis\":\"y\",\"type\":\"scatter\"},{\"customdata\":[[1994,\"Brazil\"]],\"hovertemplate\":\"Country=%{customdata[1]}\\u003cbr\\u003eYear=%{customdata[0]}\\u003cbr\\u003ePopulation (millions)=%{marker.size}\\u003cbr\\u003eTemperature (\\u00b0F)=%{y}\\u003cextra\\u003e\\u003c\\u002fextra\\u003e\",\"ids\":[\"Brazil\"],\"legendgroup\":\"Brazil\",\"marker\":{\"color\":\"#EF553B\",\"size\":[160980472],\"sizemode\":\"area\",\"sizeref\":201739.38484375,\"symbol\":\"circle\"},\"mode\":\"markers\",\"name\":\"Brazil\",\"orientation\":\"v\",\"showlegend\":true,\"x\":[160980472],\"xaxis\":\"x\",\"y\":[25.454666666666668],\"yaxis\":\"y\",\"type\":\"scatter\"},{\"customdata\":[[1994,\"Germany\"]],\"hovertemplate\":\"Country=%{customdata[1]}\\u003cbr\\u003eYear=%{customdata[0]}\\u003cbr\\u003ePopulation (millions)=%{marker.size}\\u003cbr\\u003eTemperature (\\u00b0F)=%{y}\\u003cextra\\u003e\\u003c\\u002fextra\\u003e\",\"ids\":[\"Germany\"],\"legendgroup\":\"Germany\",\"marker\":{\"color\":\"#00cc96\",\"size\":[81438348],\"sizemode\":\"area\",\"sizeref\":201739.38484375,\"symbol\":\"circle\"},\"mode\":\"markers\",\"name\":\"Germany\",\"orientation\":\"v\",\"showlegend\":true,\"x\":[81438348],\"xaxis\":\"x\",\"y\":[9.847],\"yaxis\":\"y\",\"type\":\"scatter\"},{\"customdata\":[[1994,\"India\"]],\"hovertemplate\":\"Country=%{customdata[1]}\\u003cbr\\u003eYear=%{customdata[0]}\\u003cbr\\u003ePopulation (millions)=%{marker.size}\\u003cbr\\u003eTemperature (\\u00b0F)=%{y}\\u003cextra\\u003e\\u003c\\u002fextra\\u003e\",\"ids\":[\"India\"],\"legendgroup\":\"India\",\"marker\":{\"color\":\"#ab63fa\",\"size\":[945261958],\"sizemode\":\"area\",\"sizeref\":201739.38484375,\"symbol\":\"circle\"},\"mode\":\"markers\",\"name\":\"India\",\"orientation\":\"v\",\"showlegend\":true,\"x\":[945261958],\"xaxis\":\"x\",\"y\":[24.29641666666667],\"yaxis\":\"y\",\"type\":\"scatter\"},{\"customdata\":[[1994,\"South Africa\"]],\"hovertemplate\":\"Country=%{customdata[1]}\\u003cbr\\u003eYear=%{customdata[0]}\\u003cbr\\u003ePopulation (millions)=%{marker.size}\\u003cbr\\u003eTemperature (\\u00b0F)=%{y}\\u003cextra\\u003e\\u003c\\u002fextra\\u003e\",\"ids\":[\"South Africa\"],\"legendgroup\":\"South Africa\",\"marker\":{\"color\":\"#FFA15A\",\"size\":[43267982],\"sizemode\":\"area\",\"sizeref\":201739.38484375,\"symbol\":\"circle\"},\"mode\":\"markers\",\"name\":\"South Africa\",\"orientation\":\"v\",\"showlegend\":true,\"x\":[43267982],\"xaxis\":\"x\",\"y\":[17.61475],\"yaxis\":\"y\",\"type\":\"scatter\"},{\"customdata\":[[1994,\"United States\"]],\"hovertemplate\":\"Country=%{customdata[1]}\\u003cbr\\u003eYear=%{customdata[0]}\\u003cbr\\u003ePopulation (millions)=%{marker.size}\\u003cbr\\u003eTemperature (\\u00b0F)=%{y}\\u003cextra\\u003e\\u003c\\u002fextra\\u003e\",\"ids\":[\"United States\"],\"legendgroup\":\"United States\",\"marker\":{\"color\":\"#19d3f3\",\"size\":[263126000],\"sizemode\":\"area\",\"sizeref\":201739.38484375,\"symbol\":\"circle\"},\"mode\":\"markers\",\"name\":\"United States\",\"orientation\":\"v\",\"showlegend\":true,\"x\":[263126000],\"xaxis\":\"x\",\"y\":[9.270333333333332],\"yaxis\":\"y\",\"type\":\"scatter\"}],\"name\":\"1994\"},{\"data\":[{\"customdata\":[[1995,\"Australia\"]],\"hovertemplate\":\"Country=%{customdata[1]}\\u003cbr\\u003eYear=%{customdata[0]}\\u003cbr\\u003ePopulation (millions)=%{marker.size}\\u003cbr\\u003eTemperature (\\u00b0F)=%{y}\\u003cextra\\u003e\\u003c\\u002fextra\\u003e\",\"ids\":[\"Australia\"],\"legendgroup\":\"Australia\",\"marker\":{\"color\":\"#636efa\",\"size\":[18004882],\"sizemode\":\"area\",\"sizeref\":201739.38484375,\"symbol\":\"circle\"},\"mode\":\"markers\",\"name\":\"Australia\",\"orientation\":\"v\",\"showlegend\":true,\"x\":[18004882],\"xaxis\":\"x\",\"y\":[21.955166666666667],\"yaxis\":\"y\",\"type\":\"scatter\"},{\"customdata\":[[1995,\"Brazil\"]],\"hovertemplate\":\"Country=%{customdata[1]}\\u003cbr\\u003eYear=%{customdata[0]}\\u003cbr\\u003ePopulation (millions)=%{marker.size}\\u003cbr\\u003eTemperature (\\u00b0F)=%{y}\\u003cextra\\u003e\\u003c\\u002fextra\\u003e\",\"ids\":[\"Brazil\"],\"legendgroup\":\"Brazil\",\"marker\":{\"color\":\"#EF553B\",\"size\":[163515328],\"sizemode\":\"area\",\"sizeref\":201739.38484375,\"symbol\":\"circle\"},\"mode\":\"markers\",\"name\":\"Brazil\",\"orientation\":\"v\",\"showlegend\":true,\"x\":[163515328],\"xaxis\":\"x\",\"y\":[25.55441666666667],\"yaxis\":\"y\",\"type\":\"scatter\"},{\"customdata\":[[1995,\"Germany\"]],\"hovertemplate\":\"Country=%{customdata[1]}\\u003cbr\\u003eYear=%{customdata[0]}\\u003cbr\\u003ePopulation (millions)=%{marker.size}\\u003cbr\\u003eTemperature (\\u00b0F)=%{y}\\u003cextra\\u003e\\u003c\\u002fextra\\u003e\",\"ids\":[\"Germany\"],\"legendgroup\":\"Germany\",\"marker\":{\"color\":\"#00cc96\",\"size\":[81678051],\"sizemode\":\"area\",\"sizeref\":201739.38484375,\"symbol\":\"circle\"},\"mode\":\"markers\",\"name\":\"Germany\",\"orientation\":\"v\",\"showlegend\":true,\"x\":[81678051],\"xaxis\":\"x\",\"y\":[9.0335],\"yaxis\":\"y\",\"type\":\"scatter\"},{\"customdata\":[[1995,\"India\"]],\"hovertemplate\":\"Country=%{customdata[1]}\\u003cbr\\u003eYear=%{customdata[0]}\\u003cbr\\u003ePopulation (millions)=%{marker.size}\\u003cbr\\u003eTemperature (\\u00b0F)=%{y}\\u003cextra\\u003e\\u003c\\u002fextra\\u003e\",\"ids\":[\"India\"],\"legendgroup\":\"India\",\"marker\":{\"color\":\"#ab63fa\",\"size\":[964279129],\"sizemode\":\"area\",\"sizeref\":201739.38484375,\"symbol\":\"circle\"},\"mode\":\"markers\",\"name\":\"India\",\"orientation\":\"v\",\"showlegend\":true,\"x\":[964279129],\"xaxis\":\"x\",\"y\":[24.42975],\"yaxis\":\"y\",\"type\":\"scatter\"},{\"customdata\":[[1995,\"South Africa\"]],\"hovertemplate\":\"Country=%{customdata[1]}\\u003cbr\\u003eYear=%{customdata[0]}\\u003cbr\\u003ePopulation (millions)=%{marker.size}\\u003cbr\\u003eTemperature (\\u00b0F)=%{y}\\u003cextra\\u003e\\u003c\\u002fextra\\u003e\",\"ids\":[\"South Africa\"],\"legendgroup\":\"South Africa\",\"marker\":{\"color\":\"#FFA15A\",\"size\":[43986084],\"sizemode\":\"area\",\"sizeref\":201739.38484375,\"symbol\":\"circle\"},\"mode\":\"markers\",\"name\":\"South Africa\",\"orientation\":\"v\",\"showlegend\":true,\"x\":[43986084],\"xaxis\":\"x\",\"y\":[17.87075],\"yaxis\":\"y\",\"type\":\"scatter\"},{\"customdata\":[[1995,\"United States\"]],\"hovertemplate\":\"Country=%{customdata[1]}\\u003cbr\\u003eYear=%{customdata[0]}\\u003cbr\\u003ePopulation (millions)=%{marker.size}\\u003cbr\\u003eTemperature (\\u00b0F)=%{y}\\u003cextra\\u003e\\u003c\\u002fextra\\u003e\",\"ids\":[\"United States\"],\"legendgroup\":\"United States\",\"marker\":{\"color\":\"#19d3f3\",\"size\":[266278000],\"sizemode\":\"area\",\"sizeref\":201739.38484375,\"symbol\":\"circle\"},\"mode\":\"markers\",\"name\":\"United States\",\"orientation\":\"v\",\"showlegend\":true,\"x\":[266278000],\"xaxis\":\"x\",\"y\":[9.331],\"yaxis\":\"y\",\"type\":\"scatter\"}],\"name\":\"1995\"},{\"data\":[{\"customdata\":[[1996,\"Australia\"]],\"hovertemplate\":\"Country=%{customdata[1]}\\u003cbr\\u003eYear=%{customdata[0]}\\u003cbr\\u003ePopulation (millions)=%{marker.size}\\u003cbr\\u003eTemperature (\\u00b0F)=%{y}\\u003cextra\\u003e\\u003c\\u002fextra\\u003e\",\"ids\":[\"Australia\"],\"legendgroup\":\"Australia\",\"marker\":{\"color\":\"#636efa\",\"size\":[18224767],\"sizemode\":\"area\",\"sizeref\":201739.38484375,\"symbol\":\"circle\"},\"mode\":\"markers\",\"name\":\"Australia\",\"orientation\":\"v\",\"showlegend\":true,\"x\":[18224767],\"xaxis\":\"x\",\"y\":[22.325333333333333],\"yaxis\":\"y\",\"type\":\"scatter\"},{\"customdata\":[[1996,\"Brazil\"]],\"hovertemplate\":\"Country=%{customdata[1]}\\u003cbr\\u003eYear=%{customdata[0]}\\u003cbr\\u003ePopulation (millions)=%{marker.size}\\u003cbr\\u003eTemperature (\\u00b0F)=%{y}\\u003cextra\\u003e\\u003c\\u002fextra\\u003e\",\"ids\":[\"Brazil\"],\"legendgroup\":\"Brazil\",\"marker\":{\"color\":\"#EF553B\",\"size\":[166037122],\"sizemode\":\"area\",\"sizeref\":201739.38484375,\"symbol\":\"circle\"},\"mode\":\"markers\",\"name\":\"Brazil\",\"orientation\":\"v\",\"showlegend\":true,\"x\":[166037122],\"xaxis\":\"x\",\"y\":[25.33783333333333],\"yaxis\":\"y\",\"type\":\"scatter\"},{\"customdata\":[[1996,\"Germany\"]],\"hovertemplate\":\"Country=%{customdata[1]}\\u003cbr\\u003eYear=%{customdata[0]}\\u003cbr\\u003ePopulation (millions)=%{marker.size}\\u003cbr\\u003eTemperature (\\u00b0F)=%{y}\\u003cextra\\u003e\\u003c\\u002fextra\\u003e\",\"ids\":[\"Germany\"],\"legendgroup\":\"Germany\",\"marker\":{\"color\":\"#00cc96\",\"size\":[81914831],\"sizemode\":\"area\",\"sizeref\":201739.38484375,\"symbol\":\"circle\"},\"mode\":\"markers\",\"name\":\"Germany\",\"orientation\":\"v\",\"showlegend\":true,\"x\":[81914831],\"xaxis\":\"x\",\"y\":[7.374416666666666],\"yaxis\":\"y\",\"type\":\"scatter\"},{\"customdata\":[[1996,\"India\"]],\"hovertemplate\":\"Country=%{customdata[1]}\\u003cbr\\u003eYear=%{customdata[0]}\\u003cbr\\u003ePopulation (millions)=%{marker.size}\\u003cbr\\u003eTemperature (\\u00b0F)=%{y}\\u003cextra\\u003e\\u003c\\u002fextra\\u003e\",\"ids\":[\"India\"],\"legendgroup\":\"India\",\"marker\":{\"color\":\"#ab63fa\",\"size\":[983281218],\"sizemode\":\"area\",\"sizeref\":201739.38484375,\"symbol\":\"circle\"},\"mode\":\"markers\",\"name\":\"India\",\"orientation\":\"v\",\"showlegend\":true,\"x\":[983281218],\"xaxis\":\"x\",\"y\":[24.436916666666665],\"yaxis\":\"y\",\"type\":\"scatter\"},{\"customdata\":[[1996,\"South Africa\"]],\"hovertemplate\":\"Country=%{customdata[1]}\\u003cbr\\u003eYear=%{customdata[0]}\\u003cbr\\u003ePopulation (millions)=%{marker.size}\\u003cbr\\u003eTemperature (\\u00b0F)=%{y}\\u003cextra\\u003e\\u003c\\u002fextra\\u003e\",\"ids\":[\"South Africa\"],\"legendgroup\":\"South Africa\",\"marker\":{\"color\":\"#FFA15A\",\"size\":[44661603],\"sizemode\":\"area\",\"sizeref\":201739.38484375,\"symbol\":\"circle\"},\"mode\":\"markers\",\"name\":\"South Africa\",\"orientation\":\"v\",\"showlegend\":true,\"x\":[44661603],\"xaxis\":\"x\",\"y\":[17.258666666666667],\"yaxis\":\"y\",\"type\":\"scatter\"},{\"customdata\":[[1996,\"United States\"]],\"hovertemplate\":\"Country=%{customdata[1]}\\u003cbr\\u003eYear=%{customdata[0]}\\u003cbr\\u003ePopulation (millions)=%{marker.size}\\u003cbr\\u003eTemperature (\\u00b0F)=%{y}\\u003cextra\\u003e\\u003c\\u002fextra\\u003e\",\"ids\":[\"United States\"],\"legendgroup\":\"United States\",\"marker\":{\"color\":\"#19d3f3\",\"size\":[269394000],\"sizemode\":\"area\",\"sizeref\":201739.38484375,\"symbol\":\"circle\"},\"mode\":\"markers\",\"name\":\"United States\",\"orientation\":\"v\",\"showlegend\":true,\"x\":[269394000],\"xaxis\":\"x\",\"y\":[8.754333333333333],\"yaxis\":\"y\",\"type\":\"scatter\"}],\"name\":\"1996\"},{\"data\":[{\"customdata\":[[1997,\"Australia\"]],\"hovertemplate\":\"Country=%{customdata[1]}\\u003cbr\\u003eYear=%{customdata[0]}\\u003cbr\\u003ePopulation (millions)=%{marker.size}\\u003cbr\\u003eTemperature (\\u00b0F)=%{y}\\u003cextra\\u003e\\u003c\\u002fextra\\u003e\",\"ids\":[\"Australia\"],\"legendgroup\":\"Australia\",\"marker\":{\"color\":\"#636efa\",\"size\":[18423037],\"sizemode\":\"area\",\"sizeref\":201739.38484375,\"symbol\":\"circle\"},\"mode\":\"markers\",\"name\":\"Australia\",\"orientation\":\"v\",\"showlegend\":true,\"x\":[18423037],\"xaxis\":\"x\",\"y\":[22.086],\"yaxis\":\"y\",\"type\":\"scatter\"},{\"customdata\":[[1997,\"Brazil\"]],\"hovertemplate\":\"Country=%{customdata[1]}\\u003cbr\\u003eYear=%{customdata[0]}\\u003cbr\\u003ePopulation (millions)=%{marker.size}\\u003cbr\\u003eTemperature (\\u00b0F)=%{y}\\u003cextra\\u003e\\u003c\\u002fextra\\u003e\",\"ids\":[\"Brazil\"],\"legendgroup\":\"Brazil\",\"marker\":{\"color\":\"#EF553B\",\"size\":[168546707],\"sizemode\":\"area\",\"sizeref\":201739.38484375,\"symbol\":\"circle\"},\"mode\":\"markers\",\"name\":\"Brazil\",\"orientation\":\"v\",\"showlegend\":true,\"x\":[168546707],\"xaxis\":\"x\",\"y\":[25.559416666666667],\"yaxis\":\"y\",\"type\":\"scatter\"},{\"customdata\":[[1997,\"Germany\"]],\"hovertemplate\":\"Country=%{customdata[1]}\\u003cbr\\u003eYear=%{customdata[0]}\\u003cbr\\u003ePopulation (millions)=%{marker.size}\\u003cbr\\u003eTemperature (\\u00b0F)=%{y}\\u003cextra\\u003e\\u003c\\u002fextra\\u003e\",\"ids\":[\"Germany\"],\"legendgroup\":\"Germany\",\"marker\":{\"color\":\"#00cc96\",\"size\":[82034771],\"sizemode\":\"area\",\"sizeref\":201739.38484375,\"symbol\":\"circle\"},\"mode\":\"markers\",\"name\":\"Germany\",\"orientation\":\"v\",\"showlegend\":true,\"x\":[82034771],\"xaxis\":\"x\",\"y\":[9.048666666666668],\"yaxis\":\"y\",\"type\":\"scatter\"},{\"customdata\":[[1997,\"India\"]],\"hovertemplate\":\"Country=%{customdata[1]}\\u003cbr\\u003eYear=%{customdata[0]}\\u003cbr\\u003ePopulation (millions)=%{marker.size}\\u003cbr\\u003eTemperature (\\u00b0F)=%{y}\\u003cextra\\u003e\\u003c\\u002fextra\\u003e\",\"ids\":[\"India\"],\"legendgroup\":\"India\",\"marker\":{\"color\":\"#ab63fa\",\"size\":[1002335230],\"sizemode\":\"area\",\"sizeref\":201739.38484375,\"symbol\":\"circle\"},\"mode\":\"markers\",\"name\":\"India\",\"orientation\":\"v\",\"showlegend\":true,\"x\":[1002335230],\"xaxis\":\"x\",\"y\":[24.04733333333333],\"yaxis\":\"y\",\"type\":\"scatter\"},{\"customdata\":[[1997,\"South Africa\"]],\"hovertemplate\":\"Country=%{customdata[1]}\\u003cbr\\u003eYear=%{customdata[0]}\\u003cbr\\u003ePopulation (millions)=%{marker.size}\\u003cbr\\u003eTemperature (\\u00b0F)=%{y}\\u003cextra\\u003e\\u003c\\u002fextra\\u003e\",\"ids\":[\"South Africa\"],\"legendgroup\":\"South Africa\",\"marker\":{\"color\":\"#FFA15A\",\"size\":[45285048],\"sizemode\":\"area\",\"sizeref\":201739.38484375,\"symbol\":\"circle\"},\"mode\":\"markers\",\"name\":\"South Africa\",\"orientation\":\"v\",\"showlegend\":true,\"x\":[45285048],\"xaxis\":\"x\",\"y\":[17.61525],\"yaxis\":\"y\",\"type\":\"scatter\"},{\"customdata\":[[1997,\"United States\"]],\"hovertemplate\":\"Country=%{customdata[1]}\\u003cbr\\u003eYear=%{customdata[0]}\\u003cbr\\u003ePopulation (millions)=%{marker.size}\\u003cbr\\u003eTemperature (\\u00b0F)=%{y}\\u003cextra\\u003e\\u003c\\u002fextra\\u003e\",\"ids\":[\"United States\"],\"legendgroup\":\"United States\",\"marker\":{\"color\":\"#19d3f3\",\"size\":[272657000],\"sizemode\":\"area\",\"sizeref\":201739.38484375,\"symbol\":\"circle\"},\"mode\":\"markers\",\"name\":\"United States\",\"orientation\":\"v\",\"showlegend\":true,\"x\":[272657000],\"xaxis\":\"x\",\"y\":[9.172916666666667],\"yaxis\":\"y\",\"type\":\"scatter\"}],\"name\":\"1997\"},{\"data\":[{\"customdata\":[[1998,\"Australia\"]],\"hovertemplate\":\"Country=%{customdata[1]}\\u003cbr\\u003eYear=%{customdata[0]}\\u003cbr\\u003ePopulation (millions)=%{marker.size}\\u003cbr\\u003eTemperature (\\u00b0F)=%{y}\\u003cextra\\u003e\\u003c\\u002fextra\\u003e\",\"ids\":[\"Australia\"],\"legendgroup\":\"Australia\",\"marker\":{\"color\":\"#636efa\",\"size\":[18607584],\"sizemode\":\"area\",\"sizeref\":201739.38484375,\"symbol\":\"circle\"},\"mode\":\"markers\",\"name\":\"Australia\",\"orientation\":\"v\",\"showlegend\":true,\"x\":[18607584],\"xaxis\":\"x\",\"y\":[22.66483333333333],\"yaxis\":\"y\",\"type\":\"scatter\"},{\"customdata\":[[1998,\"Brazil\"]],\"hovertemplate\":\"Country=%{customdata[1]}\\u003cbr\\u003eYear=%{customdata[0]}\\u003cbr\\u003ePopulation (millions)=%{marker.size}\\u003cbr\\u003eTemperature (\\u00b0F)=%{y}\\u003cextra\\u003e\\u003c\\u002fextra\\u003e\",\"ids\":[\"Brazil\"],\"legendgroup\":\"Brazil\",\"marker\":{\"color\":\"#EF553B\",\"size\":[171039804],\"sizemode\":\"area\",\"sizeref\":201739.38484375,\"symbol\":\"circle\"},\"mode\":\"markers\",\"name\":\"Brazil\",\"orientation\":\"v\",\"showlegend\":true,\"x\":[171039804],\"xaxis\":\"x\",\"y\":[25.95875],\"yaxis\":\"y\",\"type\":\"scatter\"},{\"customdata\":[[1998,\"Germany\"]],\"hovertemplate\":\"Country=%{customdata[1]}\\u003cbr\\u003eYear=%{customdata[0]}\\u003cbr\\u003ePopulation (millions)=%{marker.size}\\u003cbr\\u003eTemperature (\\u00b0F)=%{y}\\u003cextra\\u003e\\u003c\\u002fextra\\u003e\",\"ids\":[\"Germany\"],\"legendgroup\":\"Germany\",\"marker\":{\"color\":\"#00cc96\",\"size\":[82047195],\"sizemode\":\"area\",\"sizeref\":201739.38484375,\"symbol\":\"circle\"},\"mode\":\"markers\",\"name\":\"Germany\",\"orientation\":\"v\",\"showlegend\":true,\"x\":[82047195],\"xaxis\":\"x\",\"y\":[9.17175],\"yaxis\":\"y\",\"type\":\"scatter\"},{\"customdata\":[[1998,\"India\"]],\"hovertemplate\":\"Country=%{customdata[1]}\\u003cbr\\u003eYear=%{customdata[0]}\\u003cbr\\u003ePopulation (millions)=%{marker.size}\\u003cbr\\u003eTemperature (\\u00b0F)=%{y}\\u003cextra\\u003e\\u003c\\u002fextra\\u003e\",\"ids\":[\"India\"],\"legendgroup\":\"India\",\"marker\":{\"color\":\"#ab63fa\",\"size\":[1021434576],\"sizemode\":\"area\",\"sizeref\":201739.38484375,\"symbol\":\"circle\"},\"mode\":\"markers\",\"name\":\"India\",\"orientation\":\"v\",\"showlegend\":true,\"x\":[1021434576],\"xaxis\":\"x\",\"y\":[24.755416666666665],\"yaxis\":\"y\",\"type\":\"scatter\"},{\"customdata\":[[1998,\"South Africa\"]],\"hovertemplate\":\"Country=%{customdata[1]}\\u003cbr\\u003eYear=%{customdata[0]}\\u003cbr\\u003ePopulation (millions)=%{marker.size}\\u003cbr\\u003eTemperature (\\u00b0F)=%{y}\\u003cextra\\u003e\\u003c\\u002fextra\\u003e\",\"ids\":[\"South Africa\"],\"legendgroup\":\"South Africa\",\"marker\":{\"color\":\"#FFA15A\",\"size\":[45852166],\"sizemode\":\"area\",\"sizeref\":201739.38484375,\"symbol\":\"circle\"},\"mode\":\"markers\",\"name\":\"South Africa\",\"orientation\":\"v\",\"showlegend\":true,\"x\":[45852166],\"xaxis\":\"x\",\"y\":[18.095333333333333],\"yaxis\":\"y\",\"type\":\"scatter\"},{\"customdata\":[[1998,\"United States\"]],\"hovertemplate\":\"Country=%{customdata[1]}\\u003cbr\\u003eYear=%{customdata[0]}\\u003cbr\\u003ePopulation (millions)=%{marker.size}\\u003cbr\\u003eTemperature (\\u00b0F)=%{y}\\u003cextra\\u003e\\u003c\\u002fextra\\u003e\",\"ids\":[\"United States\"],\"legendgroup\":\"United States\",\"marker\":{\"color\":\"#19d3f3\",\"size\":[275854000],\"sizemode\":\"area\",\"sizeref\":201739.38484375,\"symbol\":\"circle\"},\"mode\":\"markers\",\"name\":\"United States\",\"orientation\":\"v\",\"showlegend\":true,\"x\":[275854000],\"xaxis\":\"x\",\"y\":[10.141166666666669],\"yaxis\":\"y\",\"type\":\"scatter\"}],\"name\":\"1998\"},{\"data\":[{\"customdata\":[[1999,\"Australia\"]],\"hovertemplate\":\"Country=%{customdata[1]}\\u003cbr\\u003eYear=%{customdata[0]}\\u003cbr\\u003ePopulation (millions)=%{marker.size}\\u003cbr\\u003eTemperature (\\u00b0F)=%{y}\\u003cextra\\u003e\\u003c\\u002fextra\\u003e\",\"ids\":[\"Australia\"],\"legendgroup\":\"Australia\",\"marker\":{\"color\":\"#636efa\",\"size\":[18812264],\"sizemode\":\"area\",\"sizeref\":201739.38484375,\"symbol\":\"circle\"},\"mode\":\"markers\",\"name\":\"Australia\",\"orientation\":\"v\",\"showlegend\":true,\"x\":[18812264],\"xaxis\":\"x\",\"y\":[22.0645],\"yaxis\":\"y\",\"type\":\"scatter\"},{\"customdata\":[[1999,\"Brazil\"]],\"hovertemplate\":\"Country=%{customdata[1]}\\u003cbr\\u003eYear=%{customdata[0]}\\u003cbr\\u003ePopulation (millions)=%{marker.size}\\u003cbr\\u003eTemperature (\\u00b0F)=%{y}\\u003cextra\\u003e\\u003c\\u002fextra\\u003e\",\"ids\":[\"Brazil\"],\"legendgroup\":\"Brazil\",\"marker\":{\"color\":\"#EF553B\",\"size\":[173486281],\"sizemode\":\"area\",\"sizeref\":201739.38484375,\"symbol\":\"circle\"},\"mode\":\"markers\",\"name\":\"Brazil\",\"orientation\":\"v\",\"showlegend\":true,\"x\":[173486281],\"xaxis\":\"x\",\"y\":[25.286583333333336],\"yaxis\":\"y\",\"type\":\"scatter\"},{\"customdata\":[[1999,\"Germany\"]],\"hovertemplate\":\"Country=%{customdata[1]}\\u003cbr\\u003eYear=%{customdata[0]}\\u003cbr\\u003ePopulation (millions)=%{marker.size}\\u003cbr\\u003eTemperature (\\u00b0F)=%{y}\\u003cextra\\u003e\\u003c\\u002fextra\\u003e\",\"ids\":[\"Germany\"],\"legendgroup\":\"Germany\",\"marker\":{\"color\":\"#00cc96\",\"size\":[82100243],\"sizemode\":\"area\",\"sizeref\":201739.38484375,\"symbol\":\"circle\"},\"mode\":\"markers\",\"name\":\"Germany\",\"orientation\":\"v\",\"showlegend\":true,\"x\":[82100243],\"xaxis\":\"x\",\"y\":[9.62075],\"yaxis\":\"y\",\"type\":\"scatter\"},{\"customdata\":[[1999,\"India\"]],\"hovertemplate\":\"Country=%{customdata[1]}\\u003cbr\\u003eYear=%{customdata[0]}\\u003cbr\\u003ePopulation (millions)=%{marker.size}\\u003cbr\\u003eTemperature (\\u00b0F)=%{y}\\u003cextra\\u003e\\u003c\\u002fextra\\u003e\",\"ids\":[\"India\"],\"legendgroup\":\"India\",\"marker\":{\"color\":\"#ab63fa\",\"size\":[1040500054],\"sizemode\":\"area\",\"sizeref\":201739.38484375,\"symbol\":\"circle\"},\"mode\":\"markers\",\"name\":\"India\",\"orientation\":\"v\",\"showlegend\":true,\"x\":[1040500054],\"xaxis\":\"x\",\"y\":[24.65983333333333],\"yaxis\":\"y\",\"type\":\"scatter\"},{\"customdata\":[[1999,\"South Africa\"]],\"hovertemplate\":\"Country=%{customdata[1]}\\u003cbr\\u003eYear=%{customdata[0]}\\u003cbr\\u003ePopulation (millions)=%{marker.size}\\u003cbr\\u003eTemperature (\\u00b0F)=%{y}\\u003cextra\\u003e\\u003c\\u002fextra\\u003e\",\"ids\":[\"South Africa\"],\"legendgroup\":\"South Africa\",\"marker\":{\"color\":\"#FFA15A\",\"size\":[46364681],\"sizemode\":\"area\",\"sizeref\":201739.38484375,\"symbol\":\"circle\"},\"mode\":\"markers\",\"name\":\"South Africa\",\"orientation\":\"v\",\"showlegend\":true,\"x\":[46364681],\"xaxis\":\"x\",\"y\":[18.5455],\"yaxis\":\"y\",\"type\":\"scatter\"},{\"customdata\":[[1999,\"United States\"]],\"hovertemplate\":\"Country=%{customdata[1]}\\u003cbr\\u003eYear=%{customdata[0]}\\u003cbr\\u003ePopulation (millions)=%{marker.size}\\u003cbr\\u003eTemperature (\\u00b0F)=%{y}\\u003cextra\\u003e\\u003c\\u002fextra\\u003e\",\"ids\":[\"United States\"],\"legendgroup\":\"United States\",\"marker\":{\"color\":\"#19d3f3\",\"size\":[279040000],\"sizemode\":\"area\",\"sizeref\":201739.38484375,\"symbol\":\"circle\"},\"mode\":\"markers\",\"name\":\"United States\",\"orientation\":\"v\",\"showlegend\":true,\"x\":[279040000],\"xaxis\":\"x\",\"y\":[9.567],\"yaxis\":\"y\",\"type\":\"scatter\"}],\"name\":\"1999\"},{\"data\":[{\"customdata\":[[2000,\"Australia\"]],\"hovertemplate\":\"Country=%{customdata[1]}\\u003cbr\\u003eYear=%{customdata[0]}\\u003cbr\\u003ePopulation (millions)=%{marker.size}\\u003cbr\\u003eTemperature (\\u00b0F)=%{y}\\u003cextra\\u003e\\u003c\\u002fextra\\u003e\",\"ids\":[\"Australia\"],\"legendgroup\":\"Australia\",\"marker\":{\"color\":\"#636efa\",\"size\":[19028802],\"sizemode\":\"area\",\"sizeref\":201739.38484375,\"symbol\":\"circle\"},\"mode\":\"markers\",\"name\":\"Australia\",\"orientation\":\"v\",\"showlegend\":true,\"x\":[19028802],\"xaxis\":\"x\",\"y\":[21.709666666666667],\"yaxis\":\"y\",\"type\":\"scatter\"},{\"customdata\":[[2000,\"Brazil\"]],\"hovertemplate\":\"Country=%{customdata[1]}\\u003cbr\\u003eYear=%{customdata[0]}\\u003cbr\\u003ePopulation (millions)=%{marker.size}\\u003cbr\\u003eTemperature (\\u00b0F)=%{y}\\u003cextra\\u003e\\u003c\\u002fextra\\u003e\",\"ids\":[\"Brazil\"],\"legendgroup\":\"Brazil\",\"marker\":{\"color\":\"#EF553B\",\"size\":[175873720],\"sizemode\":\"area\",\"sizeref\":201739.38484375,\"symbol\":\"circle\"},\"mode\":\"markers\",\"name\":\"Brazil\",\"orientation\":\"v\",\"showlegend\":true,\"x\":[175873720],\"xaxis\":\"x\",\"y\":[25.1965],\"yaxis\":\"y\",\"type\":\"scatter\"},{\"customdata\":[[2000,\"Germany\"]],\"hovertemplate\":\"Country=%{customdata[1]}\\u003cbr\\u003eYear=%{customdata[0]}\\u003cbr\\u003ePopulation (millions)=%{marker.size}\\u003cbr\\u003eTemperature (\\u00b0F)=%{y}\\u003cextra\\u003e\\u003c\\u002fextra\\u003e\",\"ids\":[\"Germany\"],\"legendgroup\":\"Germany\",\"marker\":{\"color\":\"#00cc96\",\"size\":[82211508],\"sizemode\":\"area\",\"sizeref\":201739.38484375,\"symbol\":\"circle\"},\"mode\":\"markers\",\"name\":\"Germany\",\"orientation\":\"v\",\"showlegend\":true,\"x\":[82211508],\"xaxis\":\"x\",\"y\":[10.020416666666666],\"yaxis\":\"y\",\"type\":\"scatter\"},{\"customdata\":[[2000,\"India\"]],\"hovertemplate\":\"Country=%{customdata[1]}\\u003cbr\\u003eYear=%{customdata[0]}\\u003cbr\\u003ePopulation (millions)=%{marker.size}\\u003cbr\\u003eTemperature (\\u00b0F)=%{y}\\u003cextra\\u003e\\u003c\\u002fextra\\u003e\",\"ids\":[\"India\"],\"legendgroup\":\"India\",\"marker\":{\"color\":\"#ab63fa\",\"size\":[1059633675],\"sizemode\":\"area\",\"sizeref\":201739.38484375,\"symbol\":\"circle\"},\"mode\":\"markers\",\"name\":\"India\",\"orientation\":\"v\",\"showlegend\":true,\"x\":[1059633675],\"xaxis\":\"x\",\"y\":[24.498],\"yaxis\":\"y\",\"type\":\"scatter\"},{\"customdata\":[[2000,\"South Africa\"]],\"hovertemplate\":\"Country=%{customdata[1]}\\u003cbr\\u003eYear=%{customdata[0]}\\u003cbr\\u003ePopulation (millions)=%{marker.size}\\u003cbr\\u003eTemperature (\\u00b0F)=%{y}\\u003cextra\\u003e\\u003c\\u002fextra\\u003e\",\"ids\":[\"South Africa\"],\"legendgroup\":\"South Africa\",\"marker\":{\"color\":\"#FFA15A\",\"size\":[46813266],\"sizemode\":\"area\",\"sizeref\":201739.38484375,\"symbol\":\"circle\"},\"mode\":\"markers\",\"name\":\"South Africa\",\"orientation\":\"v\",\"showlegend\":true,\"x\":[46813266],\"xaxis\":\"x\",\"y\":[17.585583333333336],\"yaxis\":\"y\",\"type\":\"scatter\"},{\"customdata\":[[2000,\"United States\"]],\"hovertemplate\":\"Country=%{customdata[1]}\\u003cbr\\u003eYear=%{customdata[0]}\\u003cbr\\u003ePopulation (millions)=%{marker.size}\\u003cbr\\u003eTemperature (\\u00b0F)=%{y}\\u003cextra\\u003e\\u003c\\u002fextra\\u003e\",\"ids\":[\"United States\"],\"legendgroup\":\"United States\",\"marker\":{\"color\":\"#19d3f3\",\"size\":[282162411],\"sizemode\":\"area\",\"sizeref\":201739.38484375,\"symbol\":\"circle\"},\"mode\":\"markers\",\"name\":\"United States\",\"orientation\":\"v\",\"showlegend\":true,\"x\":[282162411],\"xaxis\":\"x\",\"y\":[9.64975],\"yaxis\":\"y\",\"type\":\"scatter\"}],\"name\":\"2000\"},{\"data\":[{\"customdata\":[[2001,\"Australia\"]],\"hovertemplate\":\"Country=%{customdata[1]}\\u003cbr\\u003eYear=%{customdata[0]}\\u003cbr\\u003ePopulation (millions)=%{marker.size}\\u003cbr\\u003eTemperature (\\u00b0F)=%{y}\\u003cextra\\u003e\\u003c\\u002fextra\\u003e\",\"ids\":[\"Australia\"],\"legendgroup\":\"Australia\",\"marker\":{\"color\":\"#636efa\",\"size\":[19274701],\"sizemode\":\"area\",\"sizeref\":201739.38484375,\"symbol\":\"circle\"},\"mode\":\"markers\",\"name\":\"Australia\",\"orientation\":\"v\",\"showlegend\":true,\"x\":[19274701],\"xaxis\":\"x\",\"y\":[21.79275],\"yaxis\":\"y\",\"type\":\"scatter\"},{\"customdata\":[[2001,\"Brazil\"]],\"hovertemplate\":\"Country=%{customdata[1]}\\u003cbr\\u003eYear=%{customdata[0]}\\u003cbr\\u003ePopulation (millions)=%{marker.size}\\u003cbr\\u003eTemperature (\\u00b0F)=%{y}\\u003cextra\\u003e\\u003c\\u002fextra\\u003e\",\"ids\":[\"Brazil\"],\"legendgroup\":\"Brazil\",\"marker\":{\"color\":\"#EF553B\",\"size\":[178211881],\"sizemode\":\"area\",\"sizeref\":201739.38484375,\"symbol\":\"circle\"},\"mode\":\"markers\",\"name\":\"Brazil\",\"orientation\":\"v\",\"showlegend\":true,\"x\":[178211881],\"xaxis\":\"x\",\"y\":[25.504416666666668],\"yaxis\":\"y\",\"type\":\"scatter\"},{\"customdata\":[[2001,\"Germany\"]],\"hovertemplate\":\"Country=%{customdata[1]}\\u003cbr\\u003eYear=%{customdata[0]}\\u003cbr\\u003ePopulation (millions)=%{marker.size}\\u003cbr\\u003eTemperature (\\u00b0F)=%{y}\\u003cextra\\u003e\\u003c\\u002fextra\\u003e\",\"ids\":[\"Germany\"],\"legendgroup\":\"Germany\",\"marker\":{\"color\":\"#00cc96\",\"size\":[82349925],\"sizemode\":\"area\",\"sizeref\":201739.38484375,\"symbol\":\"circle\"},\"mode\":\"markers\",\"name\":\"Germany\",\"orientation\":\"v\",\"showlegend\":true,\"x\":[82349925],\"xaxis\":\"x\",\"y\":[9.090416666666666],\"yaxis\":\"y\",\"type\":\"scatter\"},{\"customdata\":[[2001,\"India\"]],\"hovertemplate\":\"Country=%{customdata[1]}\\u003cbr\\u003eYear=%{customdata[0]}\\u003cbr\\u003ePopulation (millions)=%{marker.size}\\u003cbr\\u003eTemperature (\\u00b0F)=%{y}\\u003cextra\\u003e\\u003c\\u002fextra\\u003e\",\"ids\":[\"India\"],\"legendgroup\":\"India\",\"marker\":{\"color\":\"#ab63fa\",\"size\":[1078970907],\"sizemode\":\"area\",\"sizeref\":201739.38484375,\"symbol\":\"circle\"},\"mode\":\"markers\",\"name\":\"India\",\"orientation\":\"v\",\"showlegend\":true,\"x\":[1078970907],\"xaxis\":\"x\",\"y\":[24.581916666666668],\"yaxis\":\"y\",\"type\":\"scatter\"},{\"customdata\":[[2001,\"South Africa\"]],\"hovertemplate\":\"Country=%{customdata[1]}\\u003cbr\\u003eYear=%{customdata[0]}\\u003cbr\\u003ePopulation (millions)=%{marker.size}\\u003cbr\\u003eTemperature (\\u00b0F)=%{y}\\u003cextra\\u003e\\u003c\\u002fextra\\u003e\",\"ids\":[\"South Africa\"],\"legendgroup\":\"South Africa\",\"marker\":{\"color\":\"#FFA15A\",\"size\":[47229714],\"sizemode\":\"area\",\"sizeref\":201739.38484375,\"symbol\":\"circle\"},\"mode\":\"markers\",\"name\":\"South Africa\",\"orientation\":\"v\",\"showlegend\":true,\"x\":[47229714],\"xaxis\":\"x\",\"y\":[17.867916666666666],\"yaxis\":\"y\",\"type\":\"scatter\"},{\"customdata\":[[2001,\"United States\"]],\"hovertemplate\":\"Country=%{customdata[1]}\\u003cbr\\u003eYear=%{customdata[0]}\\u003cbr\\u003ePopulation (millions)=%{marker.size}\\u003cbr\\u003eTemperature (\\u00b0F)=%{y}\\u003cextra\\u003e\\u003c\\u002fextra\\u003e\",\"ids\":[\"United States\"],\"legendgroup\":\"United States\",\"marker\":{\"color\":\"#19d3f3\",\"size\":[284968955],\"sizemode\":\"area\",\"sizeref\":201739.38484375,\"symbol\":\"circle\"},\"mode\":\"markers\",\"name\":\"United States\",\"orientation\":\"v\",\"showlegend\":true,\"x\":[284968955],\"xaxis\":\"x\",\"y\":[9.785583333333332],\"yaxis\":\"y\",\"type\":\"scatter\"}],\"name\":\"2001\"},{\"data\":[{\"customdata\":[[2002,\"Australia\"]],\"hovertemplate\":\"Country=%{customdata[1]}\\u003cbr\\u003eYear=%{customdata[0]}\\u003cbr\\u003ePopulation (millions)=%{marker.size}\\u003cbr\\u003eTemperature (\\u00b0F)=%{y}\\u003cextra\\u003e\\u003c\\u002fextra\\u003e\",\"ids\":[\"Australia\"],\"legendgroup\":\"Australia\",\"marker\":{\"color\":\"#636efa\",\"size\":[19495210],\"sizemode\":\"area\",\"sizeref\":201739.38484375,\"symbol\":\"circle\"},\"mode\":\"markers\",\"name\":\"Australia\",\"orientation\":\"v\",\"showlegend\":true,\"x\":[19495210],\"xaxis\":\"x\",\"y\":[22.46083333333333],\"yaxis\":\"y\",\"type\":\"scatter\"},{\"customdata\":[[2002,\"Brazil\"]],\"hovertemplate\":\"Country=%{customdata[1]}\\u003cbr\\u003eYear=%{customdata[0]}\\u003cbr\\u003ePopulation (millions)=%{marker.size}\\u003cbr\\u003eTemperature (\\u00b0F)=%{y}\\u003cextra\\u003e\\u003c\\u002fextra\\u003e\",\"ids\":[\"Brazil\"],\"legendgroup\":\"Brazil\",\"marker\":{\"color\":\"#EF553B\",\"size\":[180476685],\"sizemode\":\"area\",\"sizeref\":201739.38484375,\"symbol\":\"circle\"},\"mode\":\"markers\",\"name\":\"Brazil\",\"orientation\":\"v\",\"showlegend\":true,\"x\":[180476685],\"xaxis\":\"x\",\"y\":[25.80033333333333],\"yaxis\":\"y\",\"type\":\"scatter\"},{\"customdata\":[[2002,\"Germany\"]],\"hovertemplate\":\"Country=%{customdata[1]}\\u003cbr\\u003eYear=%{customdata[0]}\\u003cbr\\u003ePopulation (millions)=%{marker.size}\\u003cbr\\u003eTemperature (\\u00b0F)=%{y}\\u003cextra\\u003e\\u003c\\u002fextra\\u003e\",\"ids\":[\"Germany\"],\"legendgroup\":\"Germany\",\"marker\":{\"color\":\"#00cc96\",\"size\":[82488495],\"sizemode\":\"area\",\"sizeref\":201739.38484375,\"symbol\":\"circle\"},\"mode\":\"markers\",\"name\":\"Germany\",\"orientation\":\"v\",\"showlegend\":true,\"x\":[82488495],\"xaxis\":\"x\",\"y\":[9.637333333333334],\"yaxis\":\"y\",\"type\":\"scatter\"},{\"customdata\":[[2002,\"India\"]],\"hovertemplate\":\"Country=%{customdata[1]}\\u003cbr\\u003eYear=%{customdata[0]}\\u003cbr\\u003ePopulation (millions)=%{marker.size}\\u003cbr\\u003eTemperature (\\u00b0F)=%{y}\\u003cextra\\u003e\\u003c\\u002fextra\\u003e\",\"ids\":[\"India\"],\"legendgroup\":\"India\",\"marker\":{\"color\":\"#ab63fa\",\"size\":[1098313039],\"sizemode\":\"area\",\"sizeref\":201739.38484375,\"symbol\":\"circle\"},\"mode\":\"markers\",\"name\":\"India\",\"orientation\":\"v\",\"showlegend\":true,\"x\":[1098313039],\"xaxis\":\"x\",\"y\":[24.913],\"yaxis\":\"y\",\"type\":\"scatter\"},{\"customdata\":[[2002,\"South Africa\"]],\"hovertemplate\":\"Country=%{customdata[1]}\\u003cbr\\u003eYear=%{customdata[0]}\\u003cbr\\u003ePopulation (millions)=%{marker.size}\\u003cbr\\u003eTemperature (\\u00b0F)=%{y}\\u003cextra\\u003e\\u003c\\u002fextra\\u003e\",\"ids\":[\"South Africa\"],\"legendgroup\":\"South Africa\",\"marker\":{\"color\":\"#FFA15A\",\"size\":[47661514],\"sizemode\":\"area\",\"sizeref\":201739.38484375,\"symbol\":\"circle\"},\"mode\":\"markers\",\"name\":\"South Africa\",\"orientation\":\"v\",\"showlegend\":true,\"x\":[47661514],\"xaxis\":\"x\",\"y\":[17.949416666666668],\"yaxis\":\"y\",\"type\":\"scatter\"},{\"customdata\":[[2002,\"United States\"]],\"hovertemplate\":\"Country=%{customdata[1]}\\u003cbr\\u003eYear=%{customdata[0]}\\u003cbr\\u003ePopulation (millions)=%{marker.size}\\u003cbr\\u003eTemperature (\\u00b0F)=%{y}\\u003cextra\\u003e\\u003c\\u002fextra\\u003e\",\"ids\":[\"United States\"],\"legendgroup\":\"United States\",\"marker\":{\"color\":\"#19d3f3\",\"size\":[287625193],\"sizemode\":\"area\",\"sizeref\":201739.38484375,\"symbol\":\"circle\"},\"mode\":\"markers\",\"name\":\"United States\",\"orientation\":\"v\",\"showlegend\":true,\"x\":[287625193],\"xaxis\":\"x\",\"y\":[9.816166666666666],\"yaxis\":\"y\",\"type\":\"scatter\"}],\"name\":\"2002\"},{\"data\":[{\"customdata\":[[2003,\"Australia\"]],\"hovertemplate\":\"Country=%{customdata[1]}\\u003cbr\\u003eYear=%{customdata[0]}\\u003cbr\\u003ePopulation (millions)=%{marker.size}\\u003cbr\\u003eTemperature (\\u00b0F)=%{y}\\u003cextra\\u003e\\u003c\\u002fextra\\u003e\",\"ids\":[\"Australia\"],\"legendgroup\":\"Australia\",\"marker\":{\"color\":\"#636efa\",\"size\":[19720737],\"sizemode\":\"area\",\"sizeref\":201739.38484375,\"symbol\":\"circle\"},\"mode\":\"markers\",\"name\":\"Australia\",\"orientation\":\"v\",\"showlegend\":true,\"x\":[19720737],\"xaxis\":\"x\",\"y\":[22.44033333333333],\"yaxis\":\"y\",\"type\":\"scatter\"},{\"customdata\":[[2003,\"Brazil\"]],\"hovertemplate\":\"Country=%{customdata[1]}\\u003cbr\\u003eYear=%{customdata[0]}\\u003cbr\\u003ePopulation (millions)=%{marker.size}\\u003cbr\\u003eTemperature (\\u00b0F)=%{y}\\u003cextra\\u003e\\u003c\\u002fextra\\u003e\",\"ids\":[\"Brazil\"],\"legendgroup\":\"Brazil\",\"marker\":{\"color\":\"#EF553B\",\"size\":[182629278],\"sizemode\":\"area\",\"sizeref\":201739.38484375,\"symbol\":\"circle\"},\"mode\":\"markers\",\"name\":\"Brazil\",\"orientation\":\"v\",\"showlegend\":true,\"x\":[182629278],\"xaxis\":\"x\",\"y\":[25.621],\"yaxis\":\"y\",\"type\":\"scatter\"},{\"customdata\":[[2003,\"Germany\"]],\"hovertemplate\":\"Country=%{customdata[1]}\\u003cbr\\u003eYear=%{customdata[0]}\\u003cbr\\u003ePopulation (millions)=%{marker.size}\\u003cbr\\u003eTemperature (\\u00b0F)=%{y}\\u003cextra\\u003e\\u003c\\u002fextra\\u003e\",\"ids\":[\"Germany\"],\"legendgroup\":\"Germany\",\"marker\":{\"color\":\"#00cc96\",\"size\":[82534176],\"sizemode\":\"area\",\"sizeref\":201739.38484375,\"symbol\":\"circle\"},\"mode\":\"markers\",\"name\":\"Germany\",\"orientation\":\"v\",\"showlegend\":true,\"x\":[82534176],\"xaxis\":\"x\",\"y\":[9.49425],\"yaxis\":\"y\",\"type\":\"scatter\"},{\"customdata\":[[2003,\"India\"]],\"hovertemplate\":\"Country=%{customdata[1]}\\u003cbr\\u003eYear=%{customdata[0]}\\u003cbr\\u003ePopulation (millions)=%{marker.size}\\u003cbr\\u003eTemperature (\\u00b0F)=%{y}\\u003cextra\\u003e\\u003c\\u002fextra\\u003e\",\"ids\":[\"India\"],\"legendgroup\":\"India\",\"marker\":{\"color\":\"#ab63fa\",\"size\":[1117415123],\"sizemode\":\"area\",\"sizeref\":201739.38484375,\"symbol\":\"circle\"},\"mode\":\"markers\",\"name\":\"India\",\"orientation\":\"v\",\"showlegend\":true,\"x\":[1117415123],\"xaxis\":\"x\",\"y\":[24.649916666666662],\"yaxis\":\"y\",\"type\":\"scatter\"},{\"customdata\":[[2003,\"South Africa\"]],\"hovertemplate\":\"Country=%{customdata[1]}\\u003cbr\\u003eYear=%{customdata[0]}\\u003cbr\\u003ePopulation (millions)=%{marker.size}\\u003cbr\\u003eTemperature (\\u00b0F)=%{y}\\u003cextra\\u003e\\u003c\\u002fextra\\u003e\",\"ids\":[\"South Africa\"],\"legendgroup\":\"South Africa\",\"marker\":{\"color\":\"#FFA15A\",\"size\":[48104048],\"sizemode\":\"area\",\"sizeref\":201739.38484375,\"symbol\":\"circle\"},\"mode\":\"markers\",\"name\":\"South Africa\",\"orientation\":\"v\",\"showlegend\":true,\"x\":[48104048],\"xaxis\":\"x\",\"y\":[18.261666666666667],\"yaxis\":\"y\",\"type\":\"scatter\"},{\"customdata\":[[2003,\"United States\"]],\"hovertemplate\":\"Country=%{customdata[1]}\\u003cbr\\u003eYear=%{customdata[0]}\\u003cbr\\u003ePopulation (millions)=%{marker.size}\\u003cbr\\u003eTemperature (\\u00b0F)=%{y}\\u003cextra\\u003e\\u003c\\u002fextra\\u003e\",\"ids\":[\"United States\"],\"legendgroup\":\"United States\",\"marker\":{\"color\":\"#19d3f3\",\"size\":[290107933],\"sizemode\":\"area\",\"sizeref\":201739.38484375,\"symbol\":\"circle\"},\"mode\":\"markers\",\"name\":\"United States\",\"orientation\":\"v\",\"showlegend\":true,\"x\":[290107933],\"xaxis\":\"x\",\"y\":[9.755083333333332],\"yaxis\":\"y\",\"type\":\"scatter\"}],\"name\":\"2003\"},{\"data\":[{\"customdata\":[[2004,\"Australia\"]],\"hovertemplate\":\"Country=%{customdata[1]}\\u003cbr\\u003eYear=%{customdata[0]}\\u003cbr\\u003ePopulation (millions)=%{marker.size}\\u003cbr\\u003eTemperature (\\u00b0F)=%{y}\\u003cextra\\u003e\\u003c\\u002fextra\\u003e\",\"ids\":[\"Australia\"],\"legendgroup\":\"Australia\",\"marker\":{\"color\":\"#636efa\",\"size\":[19932722],\"sizemode\":\"area\",\"sizeref\":201739.38484375,\"symbol\":\"circle\"},\"mode\":\"markers\",\"name\":\"Australia\",\"orientation\":\"v\",\"showlegend\":true,\"x\":[19932722],\"xaxis\":\"x\",\"y\":[22.286916666666663],\"yaxis\":\"y\",\"type\":\"scatter\"},{\"customdata\":[[2004,\"Brazil\"]],\"hovertemplate\":\"Country=%{customdata[1]}\\u003cbr\\u003eYear=%{customdata[0]}\\u003cbr\\u003ePopulation (millions)=%{marker.size}\\u003cbr\\u003eTemperature (\\u00b0F)=%{y}\\u003cextra\\u003e\\u003c\\u002fextra\\u003e\",\"ids\":[\"Brazil\"],\"legendgroup\":\"Brazil\",\"marker\":{\"color\":\"#EF553B\",\"size\":[184722043],\"sizemode\":\"area\",\"sizeref\":201739.38484375,\"symbol\":\"circle\"},\"mode\":\"markers\",\"name\":\"Brazil\",\"orientation\":\"v\",\"showlegend\":true,\"x\":[184722043],\"xaxis\":\"x\",\"y\":[25.4965],\"yaxis\":\"y\",\"type\":\"scatter\"},{\"customdata\":[[2004,\"Germany\"]],\"hovertemplate\":\"Country=%{customdata[1]}\\u003cbr\\u003eYear=%{customdata[0]}\\u003cbr\\u003ePopulation (millions)=%{marker.size}\\u003cbr\\u003eTemperature (\\u00b0F)=%{y}\\u003cextra\\u003e\\u003c\\u002fextra\\u003e\",\"ids\":[\"Germany\"],\"legendgroup\":\"Germany\",\"marker\":{\"color\":\"#00cc96\",\"size\":[82516260],\"sizemode\":\"area\",\"sizeref\":201739.38484375,\"symbol\":\"circle\"},\"mode\":\"markers\",\"name\":\"Germany\",\"orientation\":\"v\",\"showlegend\":true,\"x\":[82516260],\"xaxis\":\"x\",\"y\":[9.053416666666667],\"yaxis\":\"y\",\"type\":\"scatter\"},{\"customdata\":[[2004,\"India\"]],\"hovertemplate\":\"Country=%{customdata[1]}\\u003cbr\\u003eYear=%{customdata[0]}\\u003cbr\\u003ePopulation (millions)=%{marker.size}\\u003cbr\\u003eTemperature (\\u00b0F)=%{y}\\u003cextra\\u003e\\u003c\\u002fextra\\u003e\",\"ids\":[\"India\"],\"legendgroup\":\"India\",\"marker\":{\"color\":\"#ab63fa\",\"size\":[1136264583],\"sizemode\":\"area\",\"sizeref\":201739.38484375,\"symbol\":\"circle\"},\"mode\":\"markers\",\"name\":\"India\",\"orientation\":\"v\",\"showlegend\":true,\"x\":[1136264583],\"xaxis\":\"x\",\"y\":[24.63458333333333],\"yaxis\":\"y\",\"type\":\"scatter\"},{\"customdata\":[[2004,\"South Africa\"]],\"hovertemplate\":\"Country=%{customdata[1]}\\u003cbr\\u003eYear=%{customdata[0]}\\u003cbr\\u003ePopulation (millions)=%{marker.size}\\u003cbr\\u003eTemperature (\\u00b0F)=%{y}\\u003cextra\\u003e\\u003c\\u002fextra\\u003e\",\"ids\":[\"South Africa\"],\"legendgroup\":\"South Africa\",\"marker\":{\"color\":\"#FFA15A\",\"size\":[48556071],\"sizemode\":\"area\",\"sizeref\":201739.38484375,\"symbol\":\"circle\"},\"mode\":\"markers\",\"name\":\"South Africa\",\"orientation\":\"v\",\"showlegend\":true,\"x\":[48556071],\"xaxis\":\"x\",\"y\":[18.082833333333337],\"yaxis\":\"y\",\"type\":\"scatter\"},{\"customdata\":[[2004,\"United States\"]],\"hovertemplate\":\"Country=%{customdata[1]}\\u003cbr\\u003eYear=%{customdata[0]}\\u003cbr\\u003ePopulation (millions)=%{marker.size}\\u003cbr\\u003eTemperature (\\u00b0F)=%{y}\\u003cextra\\u003e\\u003c\\u002fextra\\u003e\",\"ids\":[\"United States\"],\"legendgroup\":\"United States\",\"marker\":{\"color\":\"#19d3f3\",\"size\":[292805298],\"sizemode\":\"area\",\"sizeref\":201739.38484375,\"symbol\":\"circle\"},\"mode\":\"markers\",\"name\":\"United States\",\"orientation\":\"v\",\"showlegend\":true,\"x\":[292805298],\"xaxis\":\"x\",\"y\":[9.6675],\"yaxis\":\"y\",\"type\":\"scatter\"}],\"name\":\"2004\"},{\"data\":[{\"customdata\":[[2005,\"Australia\"]],\"hovertemplate\":\"Country=%{customdata[1]}\\u003cbr\\u003eYear=%{customdata[0]}\\u003cbr\\u003ePopulation (millions)=%{marker.size}\\u003cbr\\u003eTemperature (\\u00b0F)=%{y}\\u003cextra\\u003e\\u003c\\u002fextra\\u003e\",\"ids\":[\"Australia\"],\"legendgroup\":\"Australia\",\"marker\":{\"color\":\"#636efa\",\"size\":[20176844],\"sizemode\":\"area\",\"sizeref\":201739.38484375,\"symbol\":\"circle\"},\"mode\":\"markers\",\"name\":\"Australia\",\"orientation\":\"v\",\"showlegend\":true,\"x\":[20176844],\"xaxis\":\"x\",\"y\":[22.896833333333333],\"yaxis\":\"y\",\"type\":\"scatter\"},{\"customdata\":[[2005,\"Brazil\"]],\"hovertemplate\":\"Country=%{customdata[1]}\\u003cbr\\u003eYear=%{customdata[0]}\\u003cbr\\u003ePopulation (millions)=%{marker.size}\\u003cbr\\u003eTemperature (\\u00b0F)=%{y}\\u003cextra\\u003e\\u003c\\u002fextra\\u003e\",\"ids\":[\"Brazil\"],\"legendgroup\":\"Brazil\",\"marker\":{\"color\":\"#EF553B\",\"size\":[186797334],\"sizemode\":\"area\",\"sizeref\":201739.38484375,\"symbol\":\"circle\"},\"mode\":\"markers\",\"name\":\"Brazil\",\"orientation\":\"v\",\"showlegend\":true,\"x\":[186797334],\"xaxis\":\"x\",\"y\":[25.806],\"yaxis\":\"y\",\"type\":\"scatter\"},{\"customdata\":[[2005,\"Germany\"]],\"hovertemplate\":\"Country=%{customdata[1]}\\u003cbr\\u003eYear=%{customdata[0]}\\u003cbr\\u003ePopulation (millions)=%{marker.size}\\u003cbr\\u003eTemperature (\\u00b0F)=%{y}\\u003cextra\\u003e\\u003c\\u002fextra\\u003e\",\"ids\":[\"Germany\"],\"legendgroup\":\"Germany\",\"marker\":{\"color\":\"#00cc96\",\"size\":[82469422],\"sizemode\":\"area\",\"sizeref\":201739.38484375,\"symbol\":\"circle\"},\"mode\":\"markers\",\"name\":\"Germany\",\"orientation\":\"v\",\"showlegend\":true,\"x\":[82469422],\"xaxis\":\"x\",\"y\":[9.128416666666666],\"yaxis\":\"y\",\"type\":\"scatter\"},{\"customdata\":[[2005,\"India\"]],\"hovertemplate\":\"Country=%{customdata[1]}\\u003cbr\\u003eYear=%{customdata[0]}\\u003cbr\\u003ePopulation (millions)=%{marker.size}\\u003cbr\\u003eTemperature (\\u00b0F)=%{y}\\u003cextra\\u003e\\u003c\\u002fextra\\u003e\",\"ids\":[\"India\"],\"legendgroup\":\"India\",\"marker\":{\"color\":\"#ab63fa\",\"size\":[1154638713],\"sizemode\":\"area\",\"sizeref\":201739.38484375,\"symbol\":\"circle\"},\"mode\":\"markers\",\"name\":\"India\",\"orientation\":\"v\",\"showlegend\":true,\"x\":[1154638713],\"xaxis\":\"x\",\"y\":[24.495416666666667],\"yaxis\":\"y\",\"type\":\"scatter\"},{\"customdata\":[[2005,\"South Africa\"]],\"hovertemplate\":\"Country=%{customdata[1]}\\u003cbr\\u003eYear=%{customdata[0]}\\u003cbr\\u003ePopulation (millions)=%{marker.size}\\u003cbr\\u003eTemperature (\\u00b0F)=%{y}\\u003cextra\\u003e\\u003c\\u002fextra\\u003e\",\"ids\":[\"South Africa\"],\"legendgroup\":\"South Africa\",\"marker\":{\"color\":\"#FFA15A\",\"size\":[49017147],\"sizemode\":\"area\",\"sizeref\":201739.38484375,\"symbol\":\"circle\"},\"mode\":\"markers\",\"name\":\"South Africa\",\"orientation\":\"v\",\"showlegend\":true,\"x\":[49017147],\"xaxis\":\"x\",\"y\":[18.217916666666667],\"yaxis\":\"y\",\"type\":\"scatter\"},{\"customdata\":[[2005,\"United States\"]],\"hovertemplate\":\"Country=%{customdata[1]}\\u003cbr\\u003eYear=%{customdata[0]}\\u003cbr\\u003ePopulation (millions)=%{marker.size}\\u003cbr\\u003eTemperature (\\u00b0F)=%{y}\\u003cextra\\u003e\\u003c\\u002fextra\\u003e\",\"ids\":[\"United States\"],\"legendgroup\":\"United States\",\"marker\":{\"color\":\"#19d3f3\",\"size\":[295516599],\"sizemode\":\"area\",\"sizeref\":201739.38484375,\"symbol\":\"circle\"},\"mode\":\"markers\",\"name\":\"United States\",\"orientation\":\"v\",\"showlegend\":true,\"x\":[295516599],\"xaxis\":\"x\",\"y\":[9.892666666666669],\"yaxis\":\"y\",\"type\":\"scatter\"}],\"name\":\"2005\"},{\"data\":[{\"customdata\":[[2006,\"Australia\"]],\"hovertemplate\":\"Country=%{customdata[1]}\\u003cbr\\u003eYear=%{customdata[0]}\\u003cbr\\u003ePopulation (millions)=%{marker.size}\\u003cbr\\u003eTemperature (\\u00b0F)=%{y}\\u003cextra\\u003e\\u003c\\u002fextra\\u003e\",\"ids\":[\"Australia\"],\"legendgroup\":\"Australia\",\"marker\":{\"color\":\"#636efa\",\"size\":[20450966],\"sizemode\":\"area\",\"sizeref\":201739.38484375,\"symbol\":\"circle\"},\"mode\":\"markers\",\"name\":\"Australia\",\"orientation\":\"v\",\"showlegend\":true,\"x\":[20450966],\"xaxis\":\"x\",\"y\":[22.264416666666666],\"yaxis\":\"y\",\"type\":\"scatter\"},{\"customdata\":[[2006,\"Brazil\"]],\"hovertemplate\":\"Country=%{customdata[1]}\\u003cbr\\u003eYear=%{customdata[0]}\\u003cbr\\u003ePopulation (millions)=%{marker.size}\\u003cbr\\u003eTemperature (\\u00b0F)=%{y}\\u003cextra\\u003e\\u003c\\u002fextra\\u003e\",\"ids\":[\"Brazil\"],\"legendgroup\":\"Brazil\",\"marker\":{\"color\":\"#EF553B\",\"size\":[188820682],\"sizemode\":\"area\",\"sizeref\":201739.38484375,\"symbol\":\"circle\"},\"mode\":\"markers\",\"name\":\"Brazil\",\"orientation\":\"v\",\"showlegend\":true,\"x\":[188820682],\"xaxis\":\"x\",\"y\":[25.517],\"yaxis\":\"y\",\"type\":\"scatter\"},{\"customdata\":[[2006,\"Germany\"]],\"hovertemplate\":\"Country=%{customdata[1]}\\u003cbr\\u003eYear=%{customdata[0]}\\u003cbr\\u003ePopulation (millions)=%{marker.size}\\u003cbr\\u003eTemperature (\\u00b0F)=%{y}\\u003cextra\\u003e\\u003c\\u002fextra\\u003e\",\"ids\":[\"Germany\"],\"legendgroup\":\"Germany\",\"marker\":{\"color\":\"#00cc96\",\"size\":[82376451],\"sizemode\":\"area\",\"sizeref\":201739.38484375,\"symbol\":\"circle\"},\"mode\":\"markers\",\"name\":\"Germany\",\"orientation\":\"v\",\"showlegend\":true,\"x\":[82376451],\"xaxis\":\"x\",\"y\":[9.706],\"yaxis\":\"y\",\"type\":\"scatter\"},{\"customdata\":[[2006,\"India\"]],\"hovertemplate\":\"Country=%{customdata[1]}\\u003cbr\\u003eYear=%{customdata[0]}\\u003cbr\\u003ePopulation (millions)=%{marker.size}\\u003cbr\\u003eTemperature (\\u00b0F)=%{y}\\u003cextra\\u003e\\u003c\\u002fextra\\u003e\",\"ids\":[\"India\"],\"legendgroup\":\"India\",\"marker\":{\"color\":\"#ab63fa\",\"size\":[1172373788],\"sizemode\":\"area\",\"sizeref\":201739.38484375,\"symbol\":\"circle\"},\"mode\":\"markers\",\"name\":\"India\",\"orientation\":\"v\",\"showlegend\":true,\"x\":[1172373788],\"xaxis\":\"x\",\"y\":[24.732083333333332],\"yaxis\":\"y\",\"type\":\"scatter\"},{\"customdata\":[[2006,\"South Africa\"]],\"hovertemplate\":\"Country=%{customdata[1]}\\u003cbr\\u003eYear=%{customdata[0]}\\u003cbr\\u003ePopulation (millions)=%{marker.size}\\u003cbr\\u003eTemperature (\\u00b0F)=%{y}\\u003cextra\\u003e\\u003c\\u002fextra\\u003e\",\"ids\":[\"South Africa\"],\"legendgroup\":\"South Africa\",\"marker\":{\"color\":\"#FFA15A\",\"size\":[49491756],\"sizemode\":\"area\",\"sizeref\":201739.38484375,\"symbol\":\"circle\"},\"mode\":\"markers\",\"name\":\"South Africa\",\"orientation\":\"v\",\"showlegend\":true,\"x\":[49491756],\"xaxis\":\"x\",\"y\":[17.5975],\"yaxis\":\"y\",\"type\":\"scatter\"},{\"customdata\":[[2006,\"United States\"]],\"hovertemplate\":\"Country=%{customdata[1]}\\u003cbr\\u003eYear=%{customdata[0]}\\u003cbr\\u003ePopulation (millions)=%{marker.size}\\u003cbr\\u003eTemperature (\\u00b0F)=%{y}\\u003cextra\\u003e\\u003c\\u002fextra\\u003e\",\"ids\":[\"United States\"],\"legendgroup\":\"United States\",\"marker\":{\"color\":\"#19d3f3\",\"size\":[298379912],\"sizemode\":\"area\",\"sizeref\":201739.38484375,\"symbol\":\"circle\"},\"mode\":\"markers\",\"name\":\"United States\",\"orientation\":\"v\",\"showlegend\":true,\"x\":[298379912],\"xaxis\":\"x\",\"y\":[9.9745],\"yaxis\":\"y\",\"type\":\"scatter\"}],\"name\":\"2006\"},{\"data\":[{\"customdata\":[[2007,\"Australia\"]],\"hovertemplate\":\"Country=%{customdata[1]}\\u003cbr\\u003eYear=%{customdata[0]}\\u003cbr\\u003ePopulation (millions)=%{marker.size}\\u003cbr\\u003eTemperature (\\u00b0F)=%{y}\\u003cextra\\u003e\\u003c\\u002fextra\\u003e\",\"ids\":[\"Australia\"],\"legendgroup\":\"Australia\",\"marker\":{\"color\":\"#636efa\",\"size\":[20827622],\"sizemode\":\"area\",\"sizeref\":201739.38484375,\"symbol\":\"circle\"},\"mode\":\"markers\",\"name\":\"Australia\",\"orientation\":\"v\",\"showlegend\":true,\"x\":[20827622],\"xaxis\":\"x\",\"y\":[22.48675],\"yaxis\":\"y\",\"type\":\"scatter\"},{\"customdata\":[[2007,\"Brazil\"]],\"hovertemplate\":\"Country=%{customdata[1]}\\u003cbr\\u003eYear=%{customdata[0]}\\u003cbr\\u003ePopulation (millions)=%{marker.size}\\u003cbr\\u003eTemperature (\\u00b0F)=%{y}\\u003cextra\\u003e\\u003c\\u002fextra\\u003e\",\"ids\":[\"Brazil\"],\"legendgroup\":\"Brazil\",\"marker\":{\"color\":\"#EF553B\",\"size\":[190779453],\"sizemode\":\"area\",\"sizeref\":201739.38484375,\"symbol\":\"circle\"},\"mode\":\"markers\",\"name\":\"Brazil\",\"orientation\":\"v\",\"showlegend\":true,\"x\":[190779453],\"xaxis\":\"x\",\"y\":[25.668000000000003],\"yaxis\":\"y\",\"type\":\"scatter\"},{\"customdata\":[[2007,\"Germany\"]],\"hovertemplate\":\"Country=%{customdata[1]}\\u003cbr\\u003eYear=%{customdata[0]}\\u003cbr\\u003ePopulation (millions)=%{marker.size}\\u003cbr\\u003eTemperature (\\u00b0F)=%{y}\\u003cextra\\u003e\\u003c\\u002fextra\\u003e\",\"ids\":[\"Germany\"],\"legendgroup\":\"Germany\",\"marker\":{\"color\":\"#00cc96\",\"size\":[82266372],\"sizemode\":\"area\",\"sizeref\":201739.38484375,\"symbol\":\"circle\"},\"mode\":\"markers\",\"name\":\"Germany\",\"orientation\":\"v\",\"showlegend\":true,\"x\":[82266372],\"xaxis\":\"x\",\"y\":[9.9975],\"yaxis\":\"y\",\"type\":\"scatter\"},{\"customdata\":[[2007,\"India\"]],\"hovertemplate\":\"Country=%{customdata[1]}\\u003cbr\\u003eYear=%{customdata[0]}\\u003cbr\\u003ePopulation (millions)=%{marker.size}\\u003cbr\\u003eTemperature (\\u00b0F)=%{y}\\u003cextra\\u003e\\u003c\\u002fextra\\u003e\",\"ids\":[\"India\"],\"legendgroup\":\"India\",\"marker\":{\"color\":\"#ab63fa\",\"size\":[1189691809],\"sizemode\":\"area\",\"sizeref\":201739.38484375,\"symbol\":\"circle\"},\"mode\":\"markers\",\"name\":\"India\",\"orientation\":\"v\",\"showlegend\":true,\"x\":[1189691809],\"xaxis\":\"x\",\"y\":[24.649916666666662],\"yaxis\":\"y\",\"type\":\"scatter\"},{\"customdata\":[[2007,\"South Africa\"]],\"hovertemplate\":\"Country=%{customdata[1]}\\u003cbr\\u003eYear=%{customdata[0]}\\u003cbr\\u003ePopulation (millions)=%{marker.size}\\u003cbr\\u003eTemperature (\\u00b0F)=%{y}\\u003cextra\\u003e\\u003c\\u002fextra\\u003e\",\"ids\":[\"South Africa\"],\"legendgroup\":\"South Africa\",\"marker\":{\"color\":\"#FFA15A\",\"size\":[49996094],\"sizemode\":\"area\",\"sizeref\":201739.38484375,\"symbol\":\"circle\"},\"mode\":\"markers\",\"name\":\"South Africa\",\"orientation\":\"v\",\"showlegend\":true,\"x\":[49996094],\"xaxis\":\"x\",\"y\":[17.98625],\"yaxis\":\"y\",\"type\":\"scatter\"},{\"customdata\":[[2007,\"United States\"]],\"hovertemplate\":\"Country=%{customdata[1]}\\u003cbr\\u003eYear=%{customdata[0]}\\u003cbr\\u003ePopulation (millions)=%{marker.size}\\u003cbr\\u003eTemperature (\\u00b0F)=%{y}\\u003cextra\\u003e\\u003c\\u002fextra\\u003e\",\"ids\":[\"United States\"],\"legendgroup\":\"United States\",\"marker\":{\"color\":\"#19d3f3\",\"size\":[301231207],\"sizemode\":\"area\",\"sizeref\":201739.38484375,\"symbol\":\"circle\"},\"mode\":\"markers\",\"name\":\"United States\",\"orientation\":\"v\",\"showlegend\":true,\"x\":[301231207],\"xaxis\":\"x\",\"y\":[9.8375],\"yaxis\":\"y\",\"type\":\"scatter\"}],\"name\":\"2007\"},{\"data\":[{\"customdata\":[[2008,\"Australia\"]],\"hovertemplate\":\"Country=%{customdata[1]}\\u003cbr\\u003eYear=%{customdata[0]}\\u003cbr\\u003ePopulation (millions)=%{marker.size}\\u003cbr\\u003eTemperature (\\u00b0F)=%{y}\\u003cextra\\u003e\\u003c\\u002fextra\\u003e\",\"ids\":[\"Australia\"],\"legendgroup\":\"Australia\",\"marker\":{\"color\":\"#636efa\",\"size\":[21249199],\"sizemode\":\"area\",\"sizeref\":201739.38484375,\"symbol\":\"circle\"},\"mode\":\"markers\",\"name\":\"Australia\",\"orientation\":\"v\",\"showlegend\":true,\"x\":[21249199],\"xaxis\":\"x\",\"y\":[22.225916666666667],\"yaxis\":\"y\",\"type\":\"scatter\"},{\"customdata\":[[2008,\"Brazil\"]],\"hovertemplate\":\"Country=%{customdata[1]}\\u003cbr\\u003eYear=%{customdata[0]}\\u003cbr\\u003ePopulation (millions)=%{marker.size}\\u003cbr\\u003eTemperature (\\u00b0F)=%{y}\\u003cextra\\u003e\\u003c\\u002fextra\\u003e\",\"ids\":[\"Brazil\"],\"legendgroup\":\"Brazil\",\"marker\":{\"color\":\"#EF553B\",\"size\":[192672317],\"sizemode\":\"area\",\"sizeref\":201739.38484375,\"symbol\":\"circle\"},\"mode\":\"markers\",\"name\":\"Brazil\",\"orientation\":\"v\",\"showlegend\":true,\"x\":[192672317],\"xaxis\":\"x\",\"y\":[25.41033333333333],\"yaxis\":\"y\",\"type\":\"scatter\"},{\"customdata\":[[2008,\"Germany\"]],\"hovertemplate\":\"Country=%{customdata[1]}\\u003cbr\\u003eYear=%{customdata[0]}\\u003cbr\\u003ePopulation (millions)=%{marker.size}\\u003cbr\\u003eTemperature (\\u00b0F)=%{y}\\u003cextra\\u003e\\u003c\\u002fextra\\u003e\",\"ids\":[\"Germany\"],\"legendgroup\":\"Germany\",\"marker\":{\"color\":\"#00cc96\",\"size\":[82110097],\"sizemode\":\"area\",\"sizeref\":201739.38484375,\"symbol\":\"circle\"},\"mode\":\"markers\",\"name\":\"Germany\",\"orientation\":\"v\",\"showlegend\":true,\"x\":[82110097],\"xaxis\":\"x\",\"y\":[9.642166666666666],\"yaxis\":\"y\",\"type\":\"scatter\"},{\"customdata\":[[2008,\"India\"]],\"hovertemplate\":\"Country=%{customdata[1]}\\u003cbr\\u003eYear=%{customdata[0]}\\u003cbr\\u003ePopulation (millions)=%{marker.size}\\u003cbr\\u003eTemperature (\\u00b0F)=%{y}\\u003cextra\\u003e\\u003c\\u002fextra\\u003e\",\"ids\":[\"India\"],\"legendgroup\":\"India\",\"marker\":{\"color\":\"#ab63fa\",\"size\":[1206734806],\"sizemode\":\"area\",\"sizeref\":201739.38484375,\"symbol\":\"circle\"},\"mode\":\"markers\",\"name\":\"India\",\"orientation\":\"v\",\"showlegend\":true,\"x\":[1206734806],\"xaxis\":\"x\",\"y\":[24.406],\"yaxis\":\"y\",\"type\":\"scatter\"},{\"customdata\":[[2008,\"South Africa\"]],\"hovertemplate\":\"Country=%{customdata[1]}\\u003cbr\\u003eYear=%{customdata[0]}\\u003cbr\\u003ePopulation (millions)=%{marker.size}\\u003cbr\\u003eTemperature (\\u00b0F)=%{y}\\u003cextra\\u003e\\u003c\\u002fextra\\u003e\",\"ids\":[\"South Africa\"],\"legendgroup\":\"South Africa\",\"marker\":{\"color\":\"#FFA15A\",\"size\":[50565812],\"sizemode\":\"area\",\"sizeref\":201739.38484375,\"symbol\":\"circle\"},\"mode\":\"markers\",\"name\":\"South Africa\",\"orientation\":\"v\",\"showlegend\":true,\"x\":[50565812],\"xaxis\":\"x\",\"y\":[17.956083333333336],\"yaxis\":\"y\",\"type\":\"scatter\"},{\"customdata\":[[2008,\"United States\"]],\"hovertemplate\":\"Country=%{customdata[1]}\\u003cbr\\u003eYear=%{customdata[0]}\\u003cbr\\u003ePopulation (millions)=%{marker.size}\\u003cbr\\u003eTemperature (\\u00b0F)=%{y}\\u003cextra\\u003e\\u003c\\u002fextra\\u003e\",\"ids\":[\"United States\"],\"legendgroup\":\"United States\",\"marker\":{\"color\":\"#19d3f3\",\"size\":[304093966],\"sizemode\":\"area\",\"sizeref\":201739.38484375,\"symbol\":\"circle\"},\"mode\":\"markers\",\"name\":\"United States\",\"orientation\":\"v\",\"showlegend\":true,\"x\":[304093966],\"xaxis\":\"x\",\"y\":[8.951416666666667],\"yaxis\":\"y\",\"type\":\"scatter\"}],\"name\":\"2008\"},{\"data\":[{\"customdata\":[[2009,\"Australia\"]],\"hovertemplate\":\"Country=%{customdata[1]}\\u003cbr\\u003eYear=%{customdata[0]}\\u003cbr\\u003ePopulation (millions)=%{marker.size}\\u003cbr\\u003eTemperature (\\u00b0F)=%{y}\\u003cextra\\u003e\\u003c\\u002fextra\\u003e\",\"ids\":[\"Australia\"],\"legendgroup\":\"Australia\",\"marker\":{\"color\":\"#636efa\",\"size\":[21691653],\"sizemode\":\"area\",\"sizeref\":201739.38484375,\"symbol\":\"circle\"},\"mode\":\"markers\",\"name\":\"Australia\",\"orientation\":\"v\",\"showlegend\":true,\"x\":[21691653],\"xaxis\":\"x\",\"y\":[22.690583333333333],\"yaxis\":\"y\",\"type\":\"scatter\"},{\"customdata\":[[2009,\"Brazil\"]],\"hovertemplate\":\"Country=%{customdata[1]}\\u003cbr\\u003eYear=%{customdata[0]}\\u003cbr\\u003ePopulation (millions)=%{marker.size}\\u003cbr\\u003eTemperature (\\u00b0F)=%{y}\\u003cextra\\u003e\\u003c\\u002fextra\\u003e\",\"ids\":[\"Brazil\"],\"legendgroup\":\"Brazil\",\"marker\":{\"color\":\"#EF553B\",\"size\":[194517549],\"sizemode\":\"area\",\"sizeref\":201739.38484375,\"symbol\":\"circle\"},\"mode\":\"markers\",\"name\":\"Brazil\",\"orientation\":\"v\",\"showlegend\":true,\"x\":[194517549],\"xaxis\":\"x\",\"y\":[25.600583333333333],\"yaxis\":\"y\",\"type\":\"scatter\"},{\"customdata\":[[2009,\"Germany\"]],\"hovertemplate\":\"Country=%{customdata[1]}\\u003cbr\\u003eYear=%{customdata[0]}\\u003cbr\\u003ePopulation (millions)=%{marker.size}\\u003cbr\\u003eTemperature (\\u00b0F)=%{y}\\u003cextra\\u003e\\u003c\\u002fextra\\u003e\",\"ids\":[\"Germany\"],\"legendgroup\":\"Germany\",\"marker\":{\"color\":\"#00cc96\",\"size\":[81902307],\"sizemode\":\"area\",\"sizeref\":201739.38484375,\"symbol\":\"circle\"},\"mode\":\"markers\",\"name\":\"Germany\",\"orientation\":\"v\",\"showlegend\":true,\"x\":[81902307],\"xaxis\":\"x\",\"y\":[9.359166666666669],\"yaxis\":\"y\",\"type\":\"scatter\"},{\"customdata\":[[2009,\"India\"]],\"hovertemplate\":\"Country=%{customdata[1]}\\u003cbr\\u003eYear=%{customdata[0]}\\u003cbr\\u003ePopulation (millions)=%{marker.size}\\u003cbr\\u003eTemperature (\\u00b0F)=%{y}\\u003cextra\\u003e\\u003c\\u002fextra\\u003e\",\"ids\":[\"India\"],\"legendgroup\":\"India\",\"marker\":{\"color\":\"#ab63fa\",\"size\":[1223640160],\"sizemode\":\"area\",\"sizeref\":201739.38484375,\"symbol\":\"circle\"},\"mode\":\"markers\",\"name\":\"India\",\"orientation\":\"v\",\"showlegend\":true,\"x\":[1223640160],\"xaxis\":\"x\",\"y\":[25.146666666666665],\"yaxis\":\"y\",\"type\":\"scatter\"},{\"customdata\":[[2009,\"South Africa\"]],\"hovertemplate\":\"Country=%{customdata[1]}\\u003cbr\\u003eYear=%{customdata[0]}\\u003cbr\\u003ePopulation (millions)=%{marker.size}\\u003cbr\\u003eTemperature (\\u00b0F)=%{y}\\u003cextra\\u003e\\u003c\\u002fextra\\u003e\",\"ids\":[\"South Africa\"],\"legendgroup\":\"South Africa\",\"marker\":{\"color\":\"#FFA15A\",\"size\":[51170779],\"sizemode\":\"area\",\"sizeref\":201739.38484375,\"symbol\":\"circle\"},\"mode\":\"markers\",\"name\":\"South Africa\",\"orientation\":\"v\",\"showlegend\":true,\"x\":[51170779],\"xaxis\":\"x\",\"y\":[17.886],\"yaxis\":\"y\",\"type\":\"scatter\"},{\"customdata\":[[2009,\"United States\"]],\"hovertemplate\":\"Country=%{customdata[1]}\\u003cbr\\u003eYear=%{customdata[0]}\\u003cbr\\u003ePopulation (millions)=%{marker.size}\\u003cbr\\u003eTemperature (\\u00b0F)=%{y}\\u003cextra\\u003e\\u003c\\u002fextra\\u003e\",\"ids\":[\"United States\"],\"legendgroup\":\"United States\",\"marker\":{\"color\":\"#19d3f3\",\"size\":[306771529],\"sizemode\":\"area\",\"sizeref\":201739.38484375,\"symbol\":\"circle\"},\"mode\":\"markers\",\"name\":\"United States\",\"orientation\":\"v\",\"showlegend\":true,\"x\":[306771529],\"xaxis\":\"x\",\"y\":[9.137083333333331],\"yaxis\":\"y\",\"type\":\"scatter\"}],\"name\":\"2009\"},{\"data\":[{\"customdata\":[[2010,\"Australia\"]],\"hovertemplate\":\"Country=%{customdata[1]}\\u003cbr\\u003eYear=%{customdata[0]}\\u003cbr\\u003ePopulation (millions)=%{marker.size}\\u003cbr\\u003eTemperature (\\u00b0F)=%{y}\\u003cextra\\u003e\\u003c\\u002fextra\\u003e\",\"ids\":[\"Australia\"],\"legendgroup\":\"Australia\",\"marker\":{\"color\":\"#636efa\",\"size\":[22031750],\"sizemode\":\"area\",\"sizeref\":201739.38484375,\"symbol\":\"circle\"},\"mode\":\"markers\",\"name\":\"Australia\",\"orientation\":\"v\",\"showlegend\":true,\"x\":[22031750],\"xaxis\":\"x\",\"y\":[22.078166666666664],\"yaxis\":\"y\",\"type\":\"scatter\"},{\"customdata\":[[2010,\"Brazil\"]],\"hovertemplate\":\"Country=%{customdata[1]}\\u003cbr\\u003eYear=%{customdata[0]}\\u003cbr\\u003ePopulation (millions)=%{marker.size}\\u003cbr\\u003eTemperature (\\u00b0F)=%{y}\\u003cextra\\u003e\\u003c\\u002fextra\\u003e\",\"ids\":[\"Brazil\"],\"legendgroup\":\"Brazil\",\"marker\":{\"color\":\"#EF553B\",\"size\":[196353492],\"sizemode\":\"area\",\"sizeref\":201739.38484375,\"symbol\":\"circle\"},\"mode\":\"markers\",\"name\":\"Brazil\",\"orientation\":\"v\",\"showlegend\":true,\"x\":[196353492],\"xaxis\":\"x\",\"y\":[25.812416666666667],\"yaxis\":\"y\",\"type\":\"scatter\"},{\"customdata\":[[2010,\"Germany\"]],\"hovertemplate\":\"Country=%{customdata[1]}\\u003cbr\\u003eYear=%{customdata[0]}\\u003cbr\\u003ePopulation (millions)=%{marker.size}\\u003cbr\\u003eTemperature (\\u00b0F)=%{y}\\u003cextra\\u003e\\u003c\\u002fextra\\u003e\",\"ids\":[\"Germany\"],\"legendgroup\":\"Germany\",\"marker\":{\"color\":\"#00cc96\",\"size\":[81776930],\"sizemode\":\"area\",\"sizeref\":201739.38484375,\"symbol\":\"circle\"},\"mode\":\"markers\",\"name\":\"Germany\",\"orientation\":\"v\",\"showlegend\":true,\"x\":[81776930],\"xaxis\":\"x\",\"y\":[8.009],\"yaxis\":\"y\",\"type\":\"scatter\"},{\"customdata\":[[2010,\"India\"]],\"hovertemplate\":\"Country=%{customdata[1]}\\u003cbr\\u003eYear=%{customdata[0]}\\u003cbr\\u003ePopulation (millions)=%{marker.size}\\u003cbr\\u003eTemperature (\\u00b0F)=%{y}\\u003cextra\\u003e\\u003c\\u002fextra\\u003e\",\"ids\":[\"India\"],\"legendgroup\":\"India\",\"marker\":{\"color\":\"#ab63fa\",\"size\":[1240613620],\"sizemode\":\"area\",\"sizeref\":201739.38484375,\"symbol\":\"circle\"},\"mode\":\"markers\",\"name\":\"India\",\"orientation\":\"v\",\"showlegend\":true,\"x\":[1240613620],\"xaxis\":\"x\",\"y\":[25.050833333333333],\"yaxis\":\"y\",\"type\":\"scatter\"},{\"customdata\":[[2010,\"South Africa\"]],\"hovertemplate\":\"Country=%{customdata[1]}\\u003cbr\\u003eYear=%{customdata[0]}\\u003cbr\\u003ePopulation (millions)=%{marker.size}\\u003cbr\\u003eTemperature (\\u00b0F)=%{y}\\u003cextra\\u003e\\u003c\\u002fextra\\u003e\",\"ids\":[\"South Africa\"],\"legendgroup\":\"South Africa\",\"marker\":{\"color\":\"#FFA15A\",\"size\":[51784921],\"sizemode\":\"area\",\"sizeref\":201739.38484375,\"symbol\":\"circle\"},\"mode\":\"markers\",\"name\":\"South Africa\",\"orientation\":\"v\",\"showlegend\":true,\"x\":[51784921],\"xaxis\":\"x\",\"y\":[18.302666666666667],\"yaxis\":\"y\",\"type\":\"scatter\"},{\"customdata\":[[2010,\"United States\"]],\"hovertemplate\":\"Country=%{customdata[1]}\\u003cbr\\u003eYear=%{customdata[0]}\\u003cbr\\u003ePopulation (millions)=%{marker.size}\\u003cbr\\u003eTemperature (\\u00b0F)=%{y}\\u003cextra\\u003e\\u003c\\u002fextra\\u003e\",\"ids\":[\"United States\"],\"legendgroup\":\"United States\",\"marker\":{\"color\":\"#19d3f3\",\"size\":[309327143],\"sizemode\":\"area\",\"sizeref\":201739.38484375,\"symbol\":\"circle\"},\"mode\":\"markers\",\"name\":\"United States\",\"orientation\":\"v\",\"showlegend\":true,\"x\":[309327143],\"xaxis\":\"x\",\"y\":[9.505583333333334],\"yaxis\":\"y\",\"type\":\"scatter\"}],\"name\":\"2010\"},{\"data\":[{\"customdata\":[[2011,\"Australia\"]],\"hovertemplate\":\"Country=%{customdata[1]}\\u003cbr\\u003eYear=%{customdata[0]}\\u003cbr\\u003ePopulation (millions)=%{marker.size}\\u003cbr\\u003eTemperature (\\u00b0F)=%{y}\\u003cextra\\u003e\\u003c\\u002fextra\\u003e\",\"ids\":[\"Australia\"],\"legendgroup\":\"Australia\",\"marker\":{\"color\":\"#636efa\",\"size\":[22340024],\"sizemode\":\"area\",\"sizeref\":201739.38484375,\"symbol\":\"circle\"},\"mode\":\"markers\",\"name\":\"Australia\",\"orientation\":\"v\",\"showlegend\":true,\"x\":[22340024],\"xaxis\":\"x\",\"y\":[21.767],\"yaxis\":\"y\",\"type\":\"scatter\"},{\"customdata\":[[2011,\"Brazil\"]],\"hovertemplate\":\"Country=%{customdata[1]}\\u003cbr\\u003eYear=%{customdata[0]}\\u003cbr\\u003ePopulation (millions)=%{marker.size}\\u003cbr\\u003eTemperature (\\u00b0F)=%{y}\\u003cextra\\u003e\\u003c\\u002fextra\\u003e\",\"ids\":[\"Brazil\"],\"legendgroup\":\"Brazil\",\"marker\":{\"color\":\"#EF553B\",\"size\":[198185302],\"sizemode\":\"area\",\"sizeref\":201739.38484375,\"symbol\":\"circle\"},\"mode\":\"markers\",\"name\":\"Brazil\",\"orientation\":\"v\",\"showlegend\":true,\"x\":[198185302],\"xaxis\":\"x\",\"y\":[25.428916666666662],\"yaxis\":\"y\",\"type\":\"scatter\"},{\"customdata\":[[2011,\"Germany\"]],\"hovertemplate\":\"Country=%{customdata[1]}\\u003cbr\\u003eYear=%{customdata[0]}\\u003cbr\\u003ePopulation (millions)=%{marker.size}\\u003cbr\\u003eTemperature (\\u00b0F)=%{y}\\u003cextra\\u003e\\u003c\\u002fextra\\u003e\",\"ids\":[\"Germany\"],\"legendgroup\":\"Germany\",\"marker\":{\"color\":\"#00cc96\",\"size\":[80274983],\"sizemode\":\"area\",\"sizeref\":201739.38484375,\"symbol\":\"circle\"},\"mode\":\"markers\",\"name\":\"Germany\",\"orientation\":\"v\",\"showlegend\":true,\"x\":[80274983],\"xaxis\":\"x\",\"y\":[9.819583333333334],\"yaxis\":\"y\",\"type\":\"scatter\"},{\"customdata\":[[2011,\"India\"]],\"hovertemplate\":\"Country=%{customdata[1]}\\u003cbr\\u003eYear=%{customdata[0]}\\u003cbr\\u003ePopulation (millions)=%{marker.size}\\u003cbr\\u003eTemperature (\\u00b0F)=%{y}\\u003cextra\\u003e\\u003c\\u002fextra\\u003e\",\"ids\":[\"India\"],\"legendgroup\":\"India\",\"marker\":{\"color\":\"#ab63fa\",\"size\":[1257621191],\"sizemode\":\"area\",\"sizeref\":201739.38484375,\"symbol\":\"circle\"},\"mode\":\"markers\",\"name\":\"India\",\"orientation\":\"v\",\"showlegend\":true,\"x\":[1257621191],\"xaxis\":\"x\",\"y\":[24.41558333333333],\"yaxis\":\"y\",\"type\":\"scatter\"},{\"customdata\":[[2011,\"South Africa\"]],\"hovertemplate\":\"Country=%{customdata[1]}\\u003cbr\\u003eYear=%{customdata[0]}\\u003cbr\\u003ePopulation (millions)=%{marker.size}\\u003cbr\\u003eTemperature (\\u00b0F)=%{y}\\u003cextra\\u003e\\u003c\\u002fextra\\u003e\",\"ids\":[\"South Africa\"],\"legendgroup\":\"South Africa\",\"marker\":{\"color\":\"#FFA15A\",\"size\":[52443325],\"sizemode\":\"area\",\"sizeref\":201739.38484375,\"symbol\":\"circle\"},\"mode\":\"markers\",\"name\":\"South Africa\",\"orientation\":\"v\",\"showlegend\":true,\"x\":[52443325],\"xaxis\":\"x\",\"y\":[17.552416666666666],\"yaxis\":\"y\",\"type\":\"scatter\"},{\"customdata\":[[2011,\"United States\"]],\"hovertemplate\":\"Country=%{customdata[1]}\\u003cbr\\u003eYear=%{customdata[0]}\\u003cbr\\u003ePopulation (millions)=%{marker.size}\\u003cbr\\u003eTemperature (\\u00b0F)=%{y}\\u003cextra\\u003e\\u003c\\u002fextra\\u003e\",\"ids\":[\"United States\"],\"legendgroup\":\"United States\",\"marker\":{\"color\":\"#19d3f3\",\"size\":[311583481],\"sizemode\":\"area\",\"sizeref\":201739.38484375,\"symbol\":\"circle\"},\"mode\":\"markers\",\"name\":\"United States\",\"orientation\":\"v\",\"showlegend\":true,\"x\":[311583481],\"xaxis\":\"x\",\"y\":[9.549916666666666],\"yaxis\":\"y\",\"type\":\"scatter\"}],\"name\":\"2011\"},{\"data\":[{\"customdata\":[[2012,\"Australia\"]],\"hovertemplate\":\"Country=%{customdata[1]}\\u003cbr\\u003eYear=%{customdata[0]}\\u003cbr\\u003ePopulation (millions)=%{marker.size}\\u003cbr\\u003eTemperature (\\u00b0F)=%{y}\\u003cextra\\u003e\\u003c\\u002fextra\\u003e\",\"ids\":[\"Australia\"],\"legendgroup\":\"Australia\",\"marker\":{\"color\":\"#636efa\",\"size\":[22733465],\"sizemode\":\"area\",\"sizeref\":201739.38484375,\"symbol\":\"circle\"},\"mode\":\"markers\",\"name\":\"Australia\",\"orientation\":\"v\",\"showlegend\":true,\"x\":[22733465],\"xaxis\":\"x\",\"y\":[22.0245],\"yaxis\":\"y\",\"type\":\"scatter\"},{\"customdata\":[[2012,\"Brazil\"]],\"hovertemplate\":\"Country=%{customdata[1]}\\u003cbr\\u003eYear=%{customdata[0]}\\u003cbr\\u003ePopulation (millions)=%{marker.size}\\u003cbr\\u003eTemperature (\\u00b0F)=%{y}\\u003cextra\\u003e\\u003c\\u002fextra\\u003e\",\"ids\":[\"Brazil\"],\"legendgroup\":\"Brazil\",\"marker\":{\"color\":\"#EF553B\",\"size\":[199977707],\"sizemode\":\"area\",\"sizeref\":201739.38484375,\"symbol\":\"circle\"},\"mode\":\"markers\",\"name\":\"Brazil\",\"orientation\":\"v\",\"showlegend\":true,\"x\":[199977707],\"xaxis\":\"x\",\"y\":[25.71708333333333],\"yaxis\":\"y\",\"type\":\"scatter\"},{\"customdata\":[[2012,\"Germany\"]],\"hovertemplate\":\"Country=%{customdata[1]}\\u003cbr\\u003eYear=%{customdata[0]}\\u003cbr\\u003ePopulation (millions)=%{marker.size}\\u003cbr\\u003eTemperature (\\u00b0F)=%{y}\\u003cextra\\u003e\\u003c\\u002fextra\\u003e\",\"ids\":[\"Germany\"],\"legendgroup\":\"Germany\",\"marker\":{\"color\":\"#00cc96\",\"size\":[80425823],\"sizemode\":\"area\",\"sizeref\":201739.38484375,\"symbol\":\"circle\"},\"mode\":\"markers\",\"name\":\"Germany\",\"orientation\":\"v\",\"showlegend\":true,\"x\":[80425823],\"xaxis\":\"x\",\"y\":[9.227166666666667],\"yaxis\":\"y\",\"type\":\"scatter\"},{\"customdata\":[[2012,\"India\"]],\"hovertemplate\":\"Country=%{customdata[1]}\\u003cbr\\u003eYear=%{customdata[0]}\\u003cbr\\u003ePopulation (millions)=%{marker.size}\\u003cbr\\u003eTemperature (\\u00b0F)=%{y}\\u003cextra\\u003e\\u003c\\u002fextra\\u003e\",\"ids\":[\"India\"],\"legendgroup\":\"India\",\"marker\":{\"color\":\"#ab63fa\",\"size\":[1274487215],\"sizemode\":\"area\",\"sizeref\":201739.38484375,\"symbol\":\"circle\"},\"mode\":\"markers\",\"name\":\"India\",\"orientation\":\"v\",\"showlegend\":true,\"x\":[1274487215],\"xaxis\":\"x\",\"y\":[24.640833333333333],\"yaxis\":\"y\",\"type\":\"scatter\"},{\"customdata\":[[2012,\"South Africa\"]],\"hovertemplate\":\"Country=%{customdata[1]}\\u003cbr\\u003eYear=%{customdata[0]}\\u003cbr\\u003ePopulation (millions)=%{marker.size}\\u003cbr\\u003eTemperature (\\u00b0F)=%{y}\\u003cextra\\u003e\\u003c\\u002fextra\\u003e\",\"ids\":[\"South Africa\"],\"legendgroup\":\"South Africa\",\"marker\":{\"color\":\"#FFA15A\",\"size\":[53145033],\"sizemode\":\"area\",\"sizeref\":201739.38484375,\"symbol\":\"circle\"},\"mode\":\"markers\",\"name\":\"South Africa\",\"orientation\":\"v\",\"showlegend\":true,\"x\":[53145033],\"xaxis\":\"x\",\"y\":[17.84691666666667],\"yaxis\":\"y\",\"type\":\"scatter\"},{\"customdata\":[[2012,\"United States\"]],\"hovertemplate\":\"Country=%{customdata[1]}\\u003cbr\\u003eYear=%{customdata[0]}\\u003cbr\\u003ePopulation (millions)=%{marker.size}\\u003cbr\\u003eTemperature (\\u00b0F)=%{y}\\u003cextra\\u003e\\u003c\\u002fextra\\u003e\",\"ids\":[\"United States\"],\"legendgroup\":\"United States\",\"marker\":{\"color\":\"#19d3f3\",\"size\":[313877662],\"sizemode\":\"area\",\"sizeref\":201739.38484375,\"symbol\":\"circle\"},\"mode\":\"markers\",\"name\":\"United States\",\"orientation\":\"v\",\"showlegend\":true,\"x\":[313877662],\"xaxis\":\"x\",\"y\":[10.261083333333334],\"yaxis\":\"y\",\"type\":\"scatter\"}],\"name\":\"2012\"},{\"data\":[{\"customdata\":[[2013,\"Australia\"]],\"hovertemplate\":\"Country=%{customdata[1]}\\u003cbr\\u003eYear=%{customdata[0]}\\u003cbr\\u003ePopulation (millions)=%{marker.size}\\u003cbr\\u003eTemperature (\\u00b0F)=%{y}\\u003cextra\\u003e\\u003c\\u002fextra\\u003e\",\"ids\":[\"Australia\"],\"legendgroup\":\"Australia\",\"marker\":{\"color\":\"#636efa\",\"size\":[23128129],\"sizemode\":\"area\",\"sizeref\":201739.38484375,\"symbol\":\"circle\"},\"mode\":\"markers\",\"name\":\"Australia\",\"orientation\":\"v\",\"showlegend\":true,\"x\":[23128129],\"xaxis\":\"x\",\"y\":[22.142875],\"yaxis\":\"y\",\"type\":\"scatter\"},{\"customdata\":[[2013,\"Brazil\"]],\"hovertemplate\":\"Country=%{customdata[1]}\\u003cbr\\u003eYear=%{customdata[0]}\\u003cbr\\u003ePopulation (millions)=%{marker.size}\\u003cbr\\u003eTemperature (\\u00b0F)=%{y}\\u003cextra\\u003e\\u003c\\u002fextra\\u003e\",\"ids\":[\"Brazil\"],\"legendgroup\":\"Brazil\",\"marker\":{\"color\":\"#EF553B\",\"size\":[201721767],\"sizemode\":\"area\",\"sizeref\":201739.38484375,\"symbol\":\"circle\"},\"mode\":\"markers\",\"name\":\"Brazil\",\"orientation\":\"v\",\"showlegend\":true,\"x\":[201721767],\"xaxis\":\"x\",\"y\":[25.348125],\"yaxis\":\"y\",\"type\":\"scatter\"},{\"customdata\":[[2013,\"Germany\"]],\"hovertemplate\":\"Country=%{customdata[1]}\\u003cbr\\u003eYear=%{customdata[0]}\\u003cbr\\u003ePopulation (millions)=%{marker.size}\\u003cbr\\u003eTemperature (\\u00b0F)=%{y}\\u003cextra\\u003e\\u003c\\u002fextra\\u003e\",\"ids\":[\"Germany\"],\"legendgroup\":\"Germany\",\"marker\":{\"color\":\"#00cc96\",\"size\":[80645605],\"sizemode\":\"area\",\"sizeref\":201739.38484375,\"symbol\":\"circle\"},\"mode\":\"markers\",\"name\":\"Germany\",\"orientation\":\"v\",\"showlegend\":true,\"x\":[80645605],\"xaxis\":\"x\",\"y\":[9.23525],\"yaxis\":\"y\",\"type\":\"scatter\"},{\"customdata\":[[2013,\"India\"]],\"hovertemplate\":\"Country=%{customdata[1]}\\u003cbr\\u003eYear=%{customdata[0]}\\u003cbr\\u003ePopulation (millions)=%{marker.size}\\u003cbr\\u003eTemperature (\\u00b0F)=%{y}\\u003cextra\\u003e\\u003c\\u002fextra\\u003e\",\"ids\":[\"India\"],\"legendgroup\":\"India\",\"marker\":{\"color\":\"#ab63fa\",\"size\":[1291132063],\"sizemode\":\"area\",\"sizeref\":201739.38484375,\"symbol\":\"circle\"},\"mode\":\"markers\",\"name\":\"India\",\"orientation\":\"v\",\"showlegend\":true,\"x\":[1291132063],\"xaxis\":\"x\",\"y\":[25.41325],\"yaxis\":\"y\",\"type\":\"scatter\"},{\"customdata\":[[2013,\"South Africa\"]],\"hovertemplate\":\"Country=%{customdata[1]}\\u003cbr\\u003eYear=%{customdata[0]}\\u003cbr\\u003ePopulation (millions)=%{marker.size}\\u003cbr\\u003eTemperature (\\u00b0F)=%{y}\\u003cextra\\u003e\\u003c\\u002fextra\\u003e\",\"ids\":[\"South Africa\"],\"legendgroup\":\"South Africa\",\"marker\":{\"color\":\"#FFA15A\",\"size\":[53873616],\"sizemode\":\"area\",\"sizeref\":201739.38484375,\"symbol\":\"circle\"},\"mode\":\"markers\",\"name\":\"South Africa\",\"orientation\":\"v\",\"showlegend\":true,\"x\":[53873616],\"xaxis\":\"x\",\"y\":[17.325375],\"yaxis\":\"y\",\"type\":\"scatter\"},{\"customdata\":[[2013,\"United States\"]],\"hovertemplate\":\"Country=%{customdata[1]}\\u003cbr\\u003eYear=%{customdata[0]}\\u003cbr\\u003ePopulation (millions)=%{marker.size}\\u003cbr\\u003eTemperature (\\u00b0F)=%{y}\\u003cextra\\u003e\\u003c\\u002fextra\\u003e\",\"ids\":[\"United States\"],\"legendgroup\":\"United States\",\"marker\":{\"color\":\"#19d3f3\",\"size\":[316059947],\"sizemode\":\"area\",\"sizeref\":201739.38484375,\"symbol\":\"circle\"},\"mode\":\"markers\",\"name\":\"United States\",\"orientation\":\"v\",\"showlegend\":true,\"x\":[316059947],\"xaxis\":\"x\",\"y\":[11.297111111111112],\"yaxis\":\"y\",\"type\":\"scatter\"}],\"name\":\"2013\"}]);\n",
       "                        }).then(function(){\n",
       "                            \n",
       "var gd = document.getElementById('16090a5e-ab16-42b8-9070-58caf84d68c7');\n",
       "var x = new MutationObserver(function (mutations, observer) {{\n",
       "        var display = window.getComputedStyle(gd).display;\n",
       "        if (!display || display === 'none') {{\n",
       "            console.log([gd, 'removed!']);\n",
       "            Plotly.purge(gd);\n",
       "            observer.disconnect();\n",
       "        }}\n",
       "}});\n",
       "\n",
       "// Listen for the removal of the full notebook cells\n",
       "var notebookContainer = gd.closest('#notebook-container');\n",
       "if (notebookContainer) {{\n",
       "    x.observe(notebookContainer, {childList: true});\n",
       "}}\n",
       "\n",
       "// Listen for the clearing of the current output cell\n",
       "var outputEl = gd.closest('.output');\n",
       "if (outputEl) {{\n",
       "    x.observe(outputEl, {childList: true});\n",
       "}}\n",
       "\n",
       "                        })                };                });            </script>        </div>"
      ]
     },
     "metadata": {},
     "output_type": "display_data"
    }
   ],
   "source": [
    "# Assuming you have the necessary dataframes and variables defined\n",
    "\n",
    "# Merge dataframes on 'Year' and 'Country'\n",
    "merged_df = pd.merge(selected_countries_df, population_df, on=['Year', 'Country'])\n",
    "\n",
    "merged_df.head()\n",
    "\n",
    "# Create Animated Bubble Chart\n",
    "fig = px.scatter(merged_df, x='Population', y='Yearly Average Temperature', color='Country',\n",
    "                 size='Population',\n",
    "                 title='Correlation between Population and Temperature (1973-2013)',\n",
    "                 labels={'Population': 'Population (millions)', 'Yearly Average Temperature': 'Temperature (°F)'},\n",
    "                 hover_data=['Year', 'Country'],\n",
    "                 animation_frame='Year',  # Specify the animation frame\n",
    "                 animation_group='Country',\n",
    "                 size_max=80,\n",
    "                 log_x=True)  # Specify the animation group\n",
    "\n",
    "correlation_coefficient = merged_df['Population'].corr(merged_df['Yearly Average Temperature'])\n",
    "print(merged_df)\n",
    "\n",
    "# print(f\"Pearson Correlation Coefficient: {correlation_coefficient}\")\n",
    "# # Calculate and add correlation annotations\n",
    "# print(merged_df.groupby(['Country', 'Year']).corr()['Population'])\n",
    "# correlations = merged_df.groupby(['Country', 'Year']).corr()['Population']['Yearly Average Temperature'].unstack()\n",
    "#     for year in merged_df['Year'].unique():\n",
    "#         correlation = correlations.loc[country, year]\n",
    "#         fig.add_annotation(\n",
    "#             x=merged_df[(merged_df['Country'] == country) & (merged_df['Year'] == year)]['Population'].iloc[0],\n",
    "#             y=merged_df[(merged_df['Country'] == country) & (merged_df['Year'] == year)]['Yearly Average Temperature'].iloc[0],\n",
    "#             text=f'{country} {year}: {correlation:.2f}',\n",
    "#             showarrow=False,\n",
    "#             xshift=5,\n",
    "#             yshift=5\n",
    "#         )\n",
    "\n",
    "fig.update_layout (xaxis_title='Population (Millions)', yaxis_title='Yearly Average Temperature (°F)')\n",
    "\n",
    "# (xaxis=dict(tickvals=[10, 100, 1000, 2000], ticktext=['10M', '100M', '1B', '2B'], dtick=1),\n",
    "#                   yaxis=dict(tickvals=[10, 15, 20, 25, 30], ticktext=['10°F', '15°F', '20°F', '25°F', '30°F']),\n",
    "\n",
    "fig.show()\n"
   ]
  },
  {
   "cell_type": "code",
   "execution_count": null,
   "metadata": {},
   "outputs": [],
   "source": []
  }
 ],
 "metadata": {
  "kernelspec": {
   "display_name": "Python 3 (ipykernel)",
   "language": "python",
   "name": "python3"
  },
  "language_info": {
   "codemirror_mode": {
    "name": "ipython",
    "version": 3
   },
   "file_extension": ".py",
   "mimetype": "text/x-python",
   "name": "python",
   "nbconvert_exporter": "python",
   "pygments_lexer": "ipython3",
   "version": "3.10.13"
  }
 },
 "nbformat": 4,
 "nbformat_minor": 4
}
