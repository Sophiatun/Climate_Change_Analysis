{
 "cells": [
  {
   "cell_type": "raw",
   "id": "b29ae312",
   "metadata": {},
   "source": [
    "QUESTION: Does higher population result in more air pollution?"
   ]
  },
  {
   "cell_type": "markdown",
   "id": "2ce143e5",
   "metadata": {},
   "source": [
    "# USA"
   ]
  },
  {
   "cell_type": "code",
   "execution_count": 1,
   "id": "d1875bbb",
   "metadata": {},
   "outputs": [],
   "source": [
    "import plotly.express as px \n",
    "import plotly.graph_objects as go\n",
    "import pandas as pd\n",
    "import matplotlib.pyplot as plt"
   ]
  },
  {
   "cell_type": "code",
   "execution_count": 2,
   "id": "18976584",
   "metadata": {},
   "outputs": [
    {
     "data": {
      "text/html": [
       "<div>\n",
       "<style scoped>\n",
       "    .dataframe tbody tr th:only-of-type {\n",
       "        vertical-align: middle;\n",
       "    }\n",
       "\n",
       "    .dataframe tbody tr th {\n",
       "        vertical-align: top;\n",
       "    }\n",
       "\n",
       "    .dataframe thead th {\n",
       "        text-align: right;\n",
       "    }\n",
       "</style>\n",
       "<table border=\"1\" class=\"dataframe\">\n",
       "  <thead>\n",
       "    <tr style=\"text-align: right;\">\n",
       "      <th></th>\n",
       "      <th>Date</th>\n",
       "      <th>USA</th>\n",
       "      <th>ZAF</th>\n",
       "      <th>IND</th>\n",
       "      <th>DEU</th>\n",
       "      <th>BRA</th>\n",
       "      <th>AUS</th>\n",
       "    </tr>\n",
       "  </thead>\n",
       "  <tbody>\n",
       "    <tr>\n",
       "      <th>0</th>\n",
       "      <td>1973</td>\n",
       "      <td>211909000.0</td>\n",
       "      <td>24382513.0</td>\n",
       "      <td>596107483.0</td>\n",
       "      <td>78936666.0</td>\n",
       "      <td>103666904.0</td>\n",
       "      <td>13380000.0</td>\n",
       "    </tr>\n",
       "    <tr>\n",
       "      <th>1</th>\n",
       "      <td>1974</td>\n",
       "      <td>213854000.0</td>\n",
       "      <td>25077016.0</td>\n",
       "      <td>609721951.0</td>\n",
       "      <td>78967433.0</td>\n",
       "      <td>106167372.0</td>\n",
       "      <td>13723000.0</td>\n",
       "    </tr>\n",
       "    <tr>\n",
       "      <th>2</th>\n",
       "      <td>1975</td>\n",
       "      <td>215973000.0</td>\n",
       "      <td>25777964.0</td>\n",
       "      <td>623524219.0</td>\n",
       "      <td>78673554.0</td>\n",
       "      <td>108700515.0</td>\n",
       "      <td>13893000.0</td>\n",
       "    </tr>\n",
       "    <tr>\n",
       "      <th>3</th>\n",
       "      <td>1976</td>\n",
       "      <td>218035000.0</td>\n",
       "      <td>26480300.0</td>\n",
       "      <td>637451448.0</td>\n",
       "      <td>78336950.0</td>\n",
       "      <td>111286504.0</td>\n",
       "      <td>14033000.0</td>\n",
       "    </tr>\n",
       "    <tr>\n",
       "      <th>4</th>\n",
       "      <td>1977</td>\n",
       "      <td>220239000.0</td>\n",
       "      <td>27199838.0</td>\n",
       "      <td>651685628.0</td>\n",
       "      <td>78159814.0</td>\n",
       "      <td>113939886.0</td>\n",
       "      <td>14192000.0</td>\n",
       "    </tr>\n",
       "  </tbody>\n",
       "</table>\n",
       "</div>"
      ],
      "text/plain": [
       "   Date          USA         ZAF          IND         DEU          BRA  \\\n",
       "0  1973  211909000.0  24382513.0  596107483.0  78936666.0  103666904.0   \n",
       "1  1974  213854000.0  25077016.0  609721951.0  78967433.0  106167372.0   \n",
       "2  1975  215973000.0  25777964.0  623524219.0  78673554.0  108700515.0   \n",
       "3  1976  218035000.0  26480300.0  637451448.0  78336950.0  111286504.0   \n",
       "4  1977  220239000.0  27199838.0  651685628.0  78159814.0  113939886.0   \n",
       "\n",
       "          AUS  \n",
       "0  13380000.0  \n",
       "1  13723000.0  \n",
       "2  13893000.0  \n",
       "3  14033000.0  \n",
       "4  14192000.0  "
      ]
     },
     "execution_count": 2,
     "metadata": {},
     "output_type": "execute_result"
    }
   ],
   "source": [
    "population_df = pd.read_csv(\"Cleaned Data/population.csv\")\n",
    "population_df.head()"
   ]
  },
  {
   "cell_type": "code",
   "execution_count": 3,
   "id": "8190d971",
   "metadata": {},
   "outputs": [
    {
     "data": {
      "text/html": [
       "<div>\n",
       "<style scoped>\n",
       "    .dataframe tbody tr th:only-of-type {\n",
       "        vertical-align: middle;\n",
       "    }\n",
       "\n",
       "    .dataframe tbody tr th {\n",
       "        vertical-align: top;\n",
       "    }\n",
       "\n",
       "    .dataframe thead th {\n",
       "        text-align: right;\n",
       "    }\n",
       "</style>\n",
       "<table border=\"1\" class=\"dataframe\">\n",
       "  <thead>\n",
       "    <tr style=\"text-align: right;\">\n",
       "      <th></th>\n",
       "      <th>Year</th>\n",
       "      <th>USA Population</th>\n",
       "      <th>ZAF</th>\n",
       "      <th>IND</th>\n",
       "      <th>DEU</th>\n",
       "      <th>BRA</th>\n",
       "      <th>AUS</th>\n",
       "    </tr>\n",
       "  </thead>\n",
       "  <tbody>\n",
       "    <tr>\n",
       "      <th>0</th>\n",
       "      <td>1973</td>\n",
       "      <td>211909000.0</td>\n",
       "      <td>24382513.0</td>\n",
       "      <td>596107483.0</td>\n",
       "      <td>78936666.0</td>\n",
       "      <td>103666904.0</td>\n",
       "      <td>13380000.0</td>\n",
       "    </tr>\n",
       "    <tr>\n",
       "      <th>1</th>\n",
       "      <td>1974</td>\n",
       "      <td>213854000.0</td>\n",
       "      <td>25077016.0</td>\n",
       "      <td>609721951.0</td>\n",
       "      <td>78967433.0</td>\n",
       "      <td>106167372.0</td>\n",
       "      <td>13723000.0</td>\n",
       "    </tr>\n",
       "    <tr>\n",
       "      <th>2</th>\n",
       "      <td>1975</td>\n",
       "      <td>215973000.0</td>\n",
       "      <td>25777964.0</td>\n",
       "      <td>623524219.0</td>\n",
       "      <td>78673554.0</td>\n",
       "      <td>108700515.0</td>\n",
       "      <td>13893000.0</td>\n",
       "    </tr>\n",
       "    <tr>\n",
       "      <th>3</th>\n",
       "      <td>1976</td>\n",
       "      <td>218035000.0</td>\n",
       "      <td>26480300.0</td>\n",
       "      <td>637451448.0</td>\n",
       "      <td>78336950.0</td>\n",
       "      <td>111286504.0</td>\n",
       "      <td>14033000.0</td>\n",
       "    </tr>\n",
       "    <tr>\n",
       "      <th>4</th>\n",
       "      <td>1977</td>\n",
       "      <td>220239000.0</td>\n",
       "      <td>27199838.0</td>\n",
       "      <td>651685628.0</td>\n",
       "      <td>78159814.0</td>\n",
       "      <td>113939886.0</td>\n",
       "      <td>14192000.0</td>\n",
       "    </tr>\n",
       "  </tbody>\n",
       "</table>\n",
       "</div>"
      ],
      "text/plain": [
       "   Year  USA Population         ZAF          IND         DEU          BRA  \\\n",
       "0  1973     211909000.0  24382513.0  596107483.0  78936666.0  103666904.0   \n",
       "1  1974     213854000.0  25077016.0  609721951.0  78967433.0  106167372.0   \n",
       "2  1975     215973000.0  25777964.0  623524219.0  78673554.0  108700515.0   \n",
       "3  1976     218035000.0  26480300.0  637451448.0  78336950.0  111286504.0   \n",
       "4  1977     220239000.0  27199838.0  651685628.0  78159814.0  113939886.0   \n",
       "\n",
       "          AUS  \n",
       "0  13380000.0  \n",
       "1  13723000.0  \n",
       "2  13893000.0  \n",
       "3  14033000.0  \n",
       "4  14192000.0  "
      ]
     },
     "execution_count": 3,
     "metadata": {},
     "output_type": "execute_result"
    }
   ],
   "source": [
    "population_df2 =population_df.rename(columns={'Date': 'Year', 'USA': 'USA Population'})\n",
    "population_df2.head()"
   ]
  },
  {
   "cell_type": "code",
   "execution_count": 4,
   "id": "150bfa5a",
   "metadata": {},
   "outputs": [
    {
     "data": {
      "text/html": [
       "<div>\n",
       "<style scoped>\n",
       "    .dataframe tbody tr th:only-of-type {\n",
       "        vertical-align: middle;\n",
       "    }\n",
       "\n",
       "    .dataframe tbody tr th {\n",
       "        vertical-align: top;\n",
       "    }\n",
       "\n",
       "    .dataframe thead th {\n",
       "        text-align: right;\n",
       "    }\n",
       "</style>\n",
       "<table border=\"1\" class=\"dataframe\">\n",
       "  <thead>\n",
       "    <tr style=\"text-align: right;\">\n",
       "      <th></th>\n",
       "      <th>Year</th>\n",
       "      <th>USA Population</th>\n",
       "    </tr>\n",
       "  </thead>\n",
       "  <tbody>\n",
       "    <tr>\n",
       "      <th>0</th>\n",
       "      <td>1973</td>\n",
       "      <td>211909000.0</td>\n",
       "    </tr>\n",
       "    <tr>\n",
       "      <th>1</th>\n",
       "      <td>1974</td>\n",
       "      <td>213854000.0</td>\n",
       "    </tr>\n",
       "    <tr>\n",
       "      <th>2</th>\n",
       "      <td>1975</td>\n",
       "      <td>215973000.0</td>\n",
       "    </tr>\n",
       "    <tr>\n",
       "      <th>3</th>\n",
       "      <td>1976</td>\n",
       "      <td>218035000.0</td>\n",
       "    </tr>\n",
       "    <tr>\n",
       "      <th>4</th>\n",
       "      <td>1977</td>\n",
       "      <td>220239000.0</td>\n",
       "    </tr>\n",
       "  </tbody>\n",
       "</table>\n",
       "</div>"
      ],
      "text/plain": [
       "   Year  USA Population\n",
       "0  1973     211909000.0\n",
       "1  1974     213854000.0\n",
       "2  1975     215973000.0\n",
       "3  1976     218035000.0\n",
       "4  1977     220239000.0"
      ]
     },
     "execution_count": 4,
     "metadata": {},
     "output_type": "execute_result"
    }
   ],
   "source": [
    "usa_df = population_df2[['Year', 'USA Population']]\n",
    "usa_df.head()"
   ]
  },
  {
   "cell_type": "code",
   "execution_count": 5,
   "id": "bd15eb6d",
   "metadata": {},
   "outputs": [
    {
     "data": {
      "text/html": [
       "<div>\n",
       "<style scoped>\n",
       "    .dataframe tbody tr th:only-of-type {\n",
       "        vertical-align: middle;\n",
       "    }\n",
       "\n",
       "    .dataframe tbody tr th {\n",
       "        vertical-align: top;\n",
       "    }\n",
       "\n",
       "    .dataframe thead th {\n",
       "        text-align: right;\n",
       "    }\n",
       "</style>\n",
       "<table border=\"1\" class=\"dataframe\">\n",
       "  <thead>\n",
       "    <tr style=\"text-align: right;\">\n",
       "      <th></th>\n",
       "      <th>Country</th>\n",
       "      <th>Year</th>\n",
       "      <th>Nitrogen Oxide</th>\n",
       "      <th>Sulphur Dioxide</th>\n",
       "      <th>Carbon Monoxide</th>\n",
       "      <th>Organic Carbon</th>\n",
       "      <th>NMVOCs</th>\n",
       "      <th>Black Carbon</th>\n",
       "      <th>Ammonia</th>\n",
       "    </tr>\n",
       "  </thead>\n",
       "  <tbody>\n",
       "    <tr>\n",
       "      <th>0</th>\n",
       "      <td>Afghanistan</td>\n",
       "      <td>1950</td>\n",
       "      <td>22275.35</td>\n",
       "      <td>777.88</td>\n",
       "      <td>440870.96</td>\n",
       "      <td>15114.38</td>\n",
       "      <td>35305.46</td>\n",
       "      <td>4558.01</td>\n",
       "      <td>35738.03</td>\n",
       "    </tr>\n",
       "    <tr>\n",
       "      <th>1</th>\n",
       "      <td>Afghanistan</td>\n",
       "      <td>1951</td>\n",
       "      <td>22543.15</td>\n",
       "      <td>798.25</td>\n",
       "      <td>420386.77</td>\n",
       "      <td>15181.04</td>\n",
       "      <td>35130.32</td>\n",
       "      <td>4577.78</td>\n",
       "      <td>36392.72</td>\n",
       "    </tr>\n",
       "    <tr>\n",
       "      <th>2</th>\n",
       "      <td>Afghanistan</td>\n",
       "      <td>1952</td>\n",
       "      <td>21627.07</td>\n",
       "      <td>808.01</td>\n",
       "      <td>397146.98</td>\n",
       "      <td>15248.12</td>\n",
       "      <td>33781.44</td>\n",
       "      <td>4596.74</td>\n",
       "      <td>36974.06</td>\n",
       "    </tr>\n",
       "    <tr>\n",
       "      <th>3</th>\n",
       "      <td>Afghanistan</td>\n",
       "      <td>1953</td>\n",
       "      <td>22802.86</td>\n",
       "      <td>852.10</td>\n",
       "      <td>378114.13</td>\n",
       "      <td>15310.15</td>\n",
       "      <td>34532.97</td>\n",
       "      <td>4615.94</td>\n",
       "      <td>37591.01</td>\n",
       "    </tr>\n",
       "    <tr>\n",
       "      <th>4</th>\n",
       "      <td>Afghanistan</td>\n",
       "      <td>1954</td>\n",
       "      <td>22913.53</td>\n",
       "      <td>877.14</td>\n",
       "      <td>356587.85</td>\n",
       "      <td>15367.04</td>\n",
       "      <td>34223.80</td>\n",
       "      <td>4632.69</td>\n",
       "      <td>38072.12</td>\n",
       "    </tr>\n",
       "  </tbody>\n",
       "</table>\n",
       "</div>"
      ],
      "text/plain": [
       "       Country  Year  Nitrogen Oxide  Sulphur Dioxide  Carbon Monoxide  \\\n",
       "0  Afghanistan  1950        22275.35           777.88        440870.96   \n",
       "1  Afghanistan  1951        22543.15           798.25        420386.77   \n",
       "2  Afghanistan  1952        21627.07           808.01        397146.98   \n",
       "3  Afghanistan  1953        22802.86           852.10        378114.13   \n",
       "4  Afghanistan  1954        22913.53           877.14        356587.85   \n",
       "\n",
       "   Organic Carbon    NMVOCs  Black Carbon   Ammonia  \n",
       "0        15114.38  35305.46       4558.01  35738.03  \n",
       "1        15181.04  35130.32       4577.78  36392.72  \n",
       "2        15248.12  33781.44       4596.74  36974.06  \n",
       "3        15310.15  34532.97       4615.94  37591.01  \n",
       "4        15367.04  34223.80       4632.69  38072.12  "
      ]
     },
     "execution_count": 5,
     "metadata": {},
     "output_type": "execute_result"
    }
   ],
   "source": [
    "pollution_df = pd.read_csv(\"Cleaned Data/Filtered_Air_Pollution (1).csv\")\n",
    "pollution_df.head()"
   ]
  },
  {
   "cell_type": "code",
   "execution_count": 6,
   "id": "56b18acc",
   "metadata": {},
   "outputs": [
    {
     "data": {
      "text/html": [
       "<div>\n",
       "<style scoped>\n",
       "    .dataframe tbody tr th:only-of-type {\n",
       "        vertical-align: middle;\n",
       "    }\n",
       "\n",
       "    .dataframe tbody tr th {\n",
       "        vertical-align: top;\n",
       "    }\n",
       "\n",
       "    .dataframe thead th {\n",
       "        text-align: right;\n",
       "    }\n",
       "</style>\n",
       "<table border=\"1\" class=\"dataframe\">\n",
       "  <thead>\n",
       "    <tr style=\"text-align: right;\">\n",
       "      <th></th>\n",
       "      <th>Country</th>\n",
       "      <th>Year</th>\n",
       "      <th>Nitrogen Oxide</th>\n",
       "      <th>Sulphur Dioxide</th>\n",
       "      <th>Carbon Monoxide</th>\n",
       "      <th>Organic Carbon</th>\n",
       "      <th>NMVOCs</th>\n",
       "      <th>Black Carbon</th>\n",
       "      <th>Ammonia</th>\n",
       "    </tr>\n",
       "  </thead>\n",
       "  <tbody>\n",
       "    <tr>\n",
       "      <th>15120</th>\n",
       "      <td>United States</td>\n",
       "      <td>1950</td>\n",
       "      <td>13954548.86</td>\n",
       "      <td>18070600.70</td>\n",
       "      <td>104890167.0</td>\n",
       "      <td>971897.53</td>\n",
       "      <td>16906860.46</td>\n",
       "      <td>595505.71</td>\n",
       "      <td>1475247.84</td>\n",
       "    </tr>\n",
       "    <tr>\n",
       "      <th>15121</th>\n",
       "      <td>United States</td>\n",
       "      <td>1951</td>\n",
       "      <td>14846007.24</td>\n",
       "      <td>18931393.23</td>\n",
       "      <td>109586829.5</td>\n",
       "      <td>916771.12</td>\n",
       "      <td>17899937.26</td>\n",
       "      <td>563353.25</td>\n",
       "      <td>1539565.66</td>\n",
       "    </tr>\n",
       "    <tr>\n",
       "      <th>15122</th>\n",
       "      <td>United States</td>\n",
       "      <td>1952</td>\n",
       "      <td>15041019.78</td>\n",
       "      <td>18155661.63</td>\n",
       "      <td>111168476.7</td>\n",
       "      <td>866243.60</td>\n",
       "      <td>18300562.62</td>\n",
       "      <td>526039.13</td>\n",
       "      <td>1590965.42</td>\n",
       "    </tr>\n",
       "    <tr>\n",
       "      <th>15123</th>\n",
       "      <td>United States</td>\n",
       "      <td>1953</td>\n",
       "      <td>15461560.50</td>\n",
       "      <td>18566980.43</td>\n",
       "      <td>114587781.4</td>\n",
       "      <td>802384.14</td>\n",
       "      <td>18948345.03</td>\n",
       "      <td>486947.18</td>\n",
       "      <td>1650190.98</td>\n",
       "    </tr>\n",
       "    <tr>\n",
       "      <th>15124</th>\n",
       "      <td>United States</td>\n",
       "      <td>1954</td>\n",
       "      <td>15290297.03</td>\n",
       "      <td>17357792.95</td>\n",
       "      <td>113743179.8</td>\n",
       "      <td>755303.80</td>\n",
       "      <td>18949674.30</td>\n",
       "      <td>448050.95</td>\n",
       "      <td>1688582.35</td>\n",
       "    </tr>\n",
       "  </tbody>\n",
       "</table>\n",
       "</div>"
      ],
      "text/plain": [
       "             Country  Year  Nitrogen Oxide  Sulphur Dioxide  Carbon Monoxide  \\\n",
       "15120  United States  1950     13954548.86      18070600.70      104890167.0   \n",
       "15121  United States  1951     14846007.24      18931393.23      109586829.5   \n",
       "15122  United States  1952     15041019.78      18155661.63      111168476.7   \n",
       "15123  United States  1953     15461560.50      18566980.43      114587781.4   \n",
       "15124  United States  1954     15290297.03      17357792.95      113743179.8   \n",
       "\n",
       "       Organic Carbon       NMVOCs  Black Carbon     Ammonia  \n",
       "15120       971897.53  16906860.46     595505.71  1475247.84  \n",
       "15121       916771.12  17899937.26     563353.25  1539565.66  \n",
       "15122       866243.60  18300562.62     526039.13  1590965.42  \n",
       "15123       802384.14  18948345.03     486947.18  1650190.98  \n",
       "15124       755303.80  18949674.30     448050.95  1688582.35  "
      ]
     },
     "execution_count": 6,
     "metadata": {},
     "output_type": "execute_result"
    }
   ],
   "source": [
    "# Select countries of interest\n",
    "country_of_interest = ['United States']\n",
    "\n",
    "# Filter data for selected countries\n",
    "usa_pollution_df = pollution_df[pollution_df['Country'].isin(country_of_interest)]\n",
    "usa_pollution_df.head()"
   ]
  },
  {
   "cell_type": "code",
   "execution_count": 7,
   "id": "cb1ba317",
   "metadata": {},
   "outputs": [
    {
     "data": {
      "text/html": [
       "<div>\n",
       "<style scoped>\n",
       "    .dataframe tbody tr th:only-of-type {\n",
       "        vertical-align: middle;\n",
       "    }\n",
       "\n",
       "    .dataframe tbody tr th {\n",
       "        vertical-align: top;\n",
       "    }\n",
       "\n",
       "    .dataframe thead th {\n",
       "        text-align: right;\n",
       "    }\n",
       "</style>\n",
       "<table border=\"1\" class=\"dataframe\">\n",
       "  <thead>\n",
       "    <tr style=\"text-align: right;\">\n",
       "      <th></th>\n",
       "      <th>Year</th>\n",
       "      <th>USA Population</th>\n",
       "      <th>Country</th>\n",
       "      <th>Nitrogen Oxide</th>\n",
       "      <th>Sulphur Dioxide</th>\n",
       "      <th>Carbon Monoxide</th>\n",
       "      <th>Organic Carbon</th>\n",
       "      <th>NMVOCs</th>\n",
       "      <th>Black Carbon</th>\n",
       "      <th>Ammonia</th>\n",
       "    </tr>\n",
       "  </thead>\n",
       "  <tbody>\n",
       "    <tr>\n",
       "      <th>0</th>\n",
       "      <td>1973</td>\n",
       "      <td>211909000.0</td>\n",
       "      <td>United States</td>\n",
       "      <td>27172554.30</td>\n",
       "      <td>30179080.68</td>\n",
       "      <td>179352235.5</td>\n",
       "      <td>579304.81</td>\n",
       "      <td>30324240.07</td>\n",
       "      <td>394811.97</td>\n",
       "      <td>2898431.27</td>\n",
       "    </tr>\n",
       "    <tr>\n",
       "      <th>1</th>\n",
       "      <td>1974</td>\n",
       "      <td>213854000.0</td>\n",
       "      <td>United States</td>\n",
       "      <td>25823442.75</td>\n",
       "      <td>28155975.69</td>\n",
       "      <td>168050029.9</td>\n",
       "      <td>582602.07</td>\n",
       "      <td>28655881.97</td>\n",
       "      <td>381489.51</td>\n",
       "      <td>2871177.27</td>\n",
       "    </tr>\n",
       "    <tr>\n",
       "      <th>2</th>\n",
       "      <td>1975</td>\n",
       "      <td>215973000.0</td>\n",
       "      <td>United States</td>\n",
       "      <td>24579698.36</td>\n",
       "      <td>26301377.53</td>\n",
       "      <td>162504676.3</td>\n",
       "      <td>595398.83</td>\n",
       "      <td>27354428.33</td>\n",
       "      <td>365693.38</td>\n",
       "      <td>2932685.72</td>\n",
       "    </tr>\n",
       "    <tr>\n",
       "      <th>3</th>\n",
       "      <td>1976</td>\n",
       "      <td>218035000.0</td>\n",
       "      <td>United States</td>\n",
       "      <td>25805583.84</td>\n",
       "      <td>27379725.29</td>\n",
       "      <td>168243710.8</td>\n",
       "      <td>636662.10</td>\n",
       "      <td>28016717.02</td>\n",
       "      <td>384568.12</td>\n",
       "      <td>2966551.17</td>\n",
       "    </tr>\n",
       "    <tr>\n",
       "      <th>4</th>\n",
       "      <td>1977</td>\n",
       "      <td>220239000.0</td>\n",
       "      <td>United States</td>\n",
       "      <td>26410632.75</td>\n",
       "      <td>27345283.71</td>\n",
       "      <td>170672136.1</td>\n",
       "      <td>674992.98</td>\n",
       "      <td>28627040.34</td>\n",
       "      <td>398215.92</td>\n",
       "      <td>2932010.06</td>\n",
       "    </tr>\n",
       "  </tbody>\n",
       "</table>\n",
       "</div>"
      ],
      "text/plain": [
       "   Year  USA Population        Country  Nitrogen Oxide  Sulphur Dioxide  \\\n",
       "0  1973     211909000.0  United States     27172554.30      30179080.68   \n",
       "1  1974     213854000.0  United States     25823442.75      28155975.69   \n",
       "2  1975     215973000.0  United States     24579698.36      26301377.53   \n",
       "3  1976     218035000.0  United States     25805583.84      27379725.29   \n",
       "4  1977     220239000.0  United States     26410632.75      27345283.71   \n",
       "\n",
       "   Carbon Monoxide  Organic Carbon       NMVOCs  Black Carbon     Ammonia  \n",
       "0      179352235.5       579304.81  30324240.07     394811.97  2898431.27  \n",
       "1      168050029.9       582602.07  28655881.97     381489.51  2871177.27  \n",
       "2      162504676.3       595398.83  27354428.33     365693.38  2932685.72  \n",
       "3      168243710.8       636662.10  28016717.02     384568.12  2966551.17  \n",
       "4      170672136.1       674992.98  28627040.34     398215.92  2932010.06  "
      ]
     },
     "execution_count": 7,
     "metadata": {},
     "output_type": "execute_result"
    }
   ],
   "source": [
    "combined_df = usa_df.merge(usa_pollution_df, on=\"Year\")\n",
    "combined_df.head()"
   ]
  },
  {
   "cell_type": "code",
   "execution_count": 8,
   "id": "4f42fe07",
   "metadata": {},
   "outputs": [
    {
     "data": {
      "text/html": [
       "<div>\n",
       "<style scoped>\n",
       "    .dataframe tbody tr th:only-of-type {\n",
       "        vertical-align: middle;\n",
       "    }\n",
       "\n",
       "    .dataframe tbody tr th {\n",
       "        vertical-align: top;\n",
       "    }\n",
       "\n",
       "    .dataframe thead th {\n",
       "        text-align: right;\n",
       "    }\n",
       "</style>\n",
       "<table border=\"1\" class=\"dataframe\">\n",
       "  <thead>\n",
       "    <tr style=\"text-align: right;\">\n",
       "      <th></th>\n",
       "      <th>Year</th>\n",
       "      <th>USA Population</th>\n",
       "      <th>Nitrogen Oxide</th>\n",
       "      <th>Sulphur Dioxide</th>\n",
       "      <th>Carbon Monoxide</th>\n",
       "      <th>Organic Carbon</th>\n",
       "      <th>NMVOCs</th>\n",
       "      <th>Black Carbon</th>\n",
       "      <th>Ammonia</th>\n",
       "    </tr>\n",
       "  </thead>\n",
       "  <tbody>\n",
       "    <tr>\n",
       "      <th>0</th>\n",
       "      <td>1973</td>\n",
       "      <td>211909000.0</td>\n",
       "      <td>27172554.30</td>\n",
       "      <td>30179080.68</td>\n",
       "      <td>179352235.5</td>\n",
       "      <td>579304.81</td>\n",
       "      <td>30324240.07</td>\n",
       "      <td>394811.97</td>\n",
       "      <td>2898431.27</td>\n",
       "    </tr>\n",
       "    <tr>\n",
       "      <th>1</th>\n",
       "      <td>1974</td>\n",
       "      <td>213854000.0</td>\n",
       "      <td>25823442.75</td>\n",
       "      <td>28155975.69</td>\n",
       "      <td>168050029.9</td>\n",
       "      <td>582602.07</td>\n",
       "      <td>28655881.97</td>\n",
       "      <td>381489.51</td>\n",
       "      <td>2871177.27</td>\n",
       "    </tr>\n",
       "    <tr>\n",
       "      <th>2</th>\n",
       "      <td>1975</td>\n",
       "      <td>215973000.0</td>\n",
       "      <td>24579698.36</td>\n",
       "      <td>26301377.53</td>\n",
       "      <td>162504676.3</td>\n",
       "      <td>595398.83</td>\n",
       "      <td>27354428.33</td>\n",
       "      <td>365693.38</td>\n",
       "      <td>2932685.72</td>\n",
       "    </tr>\n",
       "    <tr>\n",
       "      <th>3</th>\n",
       "      <td>1976</td>\n",
       "      <td>218035000.0</td>\n",
       "      <td>25805583.84</td>\n",
       "      <td>27379725.29</td>\n",
       "      <td>168243710.8</td>\n",
       "      <td>636662.10</td>\n",
       "      <td>28016717.02</td>\n",
       "      <td>384568.12</td>\n",
       "      <td>2966551.17</td>\n",
       "    </tr>\n",
       "    <tr>\n",
       "      <th>4</th>\n",
       "      <td>1977</td>\n",
       "      <td>220239000.0</td>\n",
       "      <td>26410632.75</td>\n",
       "      <td>27345283.71</td>\n",
       "      <td>170672136.1</td>\n",
       "      <td>674992.98</td>\n",
       "      <td>28627040.34</td>\n",
       "      <td>398215.92</td>\n",
       "      <td>2932010.06</td>\n",
       "    </tr>\n",
       "  </tbody>\n",
       "</table>\n",
       "</div>"
      ],
      "text/plain": [
       "   Year  USA Population  Nitrogen Oxide  Sulphur Dioxide  Carbon Monoxide  \\\n",
       "0  1973     211909000.0     27172554.30      30179080.68      179352235.5   \n",
       "1  1974     213854000.0     25823442.75      28155975.69      168050029.9   \n",
       "2  1975     215973000.0     24579698.36      26301377.53      162504676.3   \n",
       "3  1976     218035000.0     25805583.84      27379725.29      168243710.8   \n",
       "4  1977     220239000.0     26410632.75      27345283.71      170672136.1   \n",
       "\n",
       "   Organic Carbon       NMVOCs  Black Carbon     Ammonia  \n",
       "0       579304.81  30324240.07     394811.97  2898431.27  \n",
       "1       582602.07  28655881.97     381489.51  2871177.27  \n",
       "2       595398.83  27354428.33     365693.38  2932685.72  \n",
       "3       636662.10  28016717.02     384568.12  2966551.17  \n",
       "4       674992.98  28627040.34     398215.92  2932010.06  "
      ]
     },
     "execution_count": 8,
     "metadata": {},
     "output_type": "execute_result"
    }
   ],
   "source": [
    "final_usa_df = combined_df[['Year', 'USA Population', 'Nitrogen Oxide', 'Sulphur Dioxide', 'Carbon Monoxide', 'Organic Carbon', 'NMVOCs', 'Black Carbon', 'Ammonia']]\n",
    "final_usa_df.head()"
   ]
  },
  {
   "cell_type": "code",
   "execution_count": 31,
   "id": "6e6b951c",
   "metadata": {},
   "outputs": [
    {
     "data": {
      "application/vnd.plotly.v1+json": {
       "config": {
        "plotlyServerURL": "https://plot.ly"
       },
       "data": [
        {
         "hovertemplate": "USA Population=%{x}<br>Nitrogen Oxide=%{y}<extra></extra>",
         "legendgroup": "",
         "marker": {
          "color": "red",
          "symbol": "circle"
         },
         "mode": "markers",
         "name": "Nitrogen Oxide",
         "orientation": "v",
         "showlegend": false,
         "type": "scatter",
         "x": [
          211909000,
          213854000,
          215973000,
          218035000,
          220239000,
          222585000,
          225055000,
          227225000,
          229466000,
          231664000,
          233792000,
          235825000,
          237924000,
          240133000,
          242289000,
          244499000,
          246819000,
          249623000,
          252981000,
          256514000,
          259919000,
          263126000,
          266278000,
          269394000,
          272657000,
          275854000,
          279040000,
          282162411,
          284968955,
          287625193,
          290107933,
          292805298,
          295516599,
          298379912,
          301231207,
          304093966,
          306771529,
          309327143,
          311583481,
          313877662,
          316059947,
          318386329,
          320738994,
          323071755,
          325122128,
          326838199,
          328329953
         ],
         "xaxis": "x",
         "y": [
          27172554.3,
          25823442.75,
          24579698.36,
          25805583.84,
          26410632.75,
          26381758.56,
          26066032.39,
          24693056.47,
          24189160.1,
          22798108.69,
          22698412.07,
          23554834.53,
          23263629.04,
          22879525.79,
          23224761.42,
          23844857.31,
          23606631.41,
          22793844.74,
          22400598.8,
          22530462.56,
          22327876.86,
          22077568.64,
          21814666.8,
          21494017.34,
          21500103.54,
          21158623.84,
          19811980.53,
          19789098.46,
          19212334.29,
          18255470.68,
          17507746.06,
          17251537.75,
          16603341.14,
          16121716.19,
          15344278.57,
          14022631.9,
          12890227.38,
          12016561.45,
          11998356.97,
          11339090.47,
          10942089.08,
          10472476.25,
          9862492.32,
          8891820.48,
          8352825.57,
          8004348.01,
          7679316.62
         ],
         "yaxis": "y"
        },
        {
         "hovertemplate": "USA Population=%{x}<br>Sulphur Dioxide=%{y}<extra></extra>",
         "legendgroup": "",
         "marker": {
          "color": "blue",
          "symbol": "circle"
         },
         "mode": "markers",
         "name": "Sulphur Dioxide",
         "orientation": "v",
         "showlegend": false,
         "type": "scatter",
         "x": [
          211909000,
          213854000,
          215973000,
          218035000,
          220239000,
          222585000,
          225055000,
          227225000,
          229466000,
          231664000,
          233792000,
          235825000,
          237924000,
          240133000,
          242289000,
          244499000,
          246819000,
          249623000,
          252981000,
          256514000,
          259919000,
          263126000,
          266278000,
          269394000,
          272657000,
          275854000,
          279040000,
          282162411,
          284968955,
          287625193,
          290107933,
          292805298,
          295516599,
          298379912,
          301231207,
          304093966,
          306771529,
          309327143,
          311583481,
          313877662,
          316059947,
          318386329,
          320738994,
          323071755,
          325122128,
          326838199,
          328329953
         ],
         "xaxis": "x",
         "y": [
          30179080.68,
          28155975.69,
          26301377.53,
          27379725.29,
          27345283.71,
          25377444.93,
          25163499.02,
          23841380.12,
          22729978.22,
          21318466.78,
          20706292.36,
          21697036.39,
          21394536.4,
          20978919.01,
          21192734.16,
          21653740.51,
          21640143.1,
          21123048.33,
          20444618.1,
          20058118.96,
          19733550.83,
          19339483.13,
          16857011,
          16642916.22,
          17033129.11,
          17099078.69,
          15725534.19,
          14703387.32,
          14357674.13,
          13191002.09,
          13054294.38,
          12922228.67,
          12966839.11,
          11745092.32,
          10529983.48,
          9305275.74,
          8163445.61,
          7000107.86,
          5850552.47,
          4614837.6,
          4421267.7,
          4277573.02,
          3655967.34,
          3015954.72,
          2364006.07,
          2280939.46,
          1921172.15
         ],
         "yaxis": "y"
        },
        {
         "hovertemplate": "USA Population=%{x}<br>NMVOCs=%{y}<extra></extra>",
         "legendgroup": "",
         "marker": {
          "color": "green",
          "symbol": "circle"
         },
         "mode": "markers",
         "name": "NMVOCs",
         "orientation": "v",
         "showlegend": false,
         "type": "scatter",
         "x": [
          211909000,
          213854000,
          215973000,
          218035000,
          220239000,
          222585000,
          225055000,
          227225000,
          229466000,
          231664000,
          233792000,
          235825000,
          237924000,
          240133000,
          242289000,
          244499000,
          246819000,
          249623000,
          252981000,
          256514000,
          259919000,
          263126000,
          266278000,
          269394000,
          272657000,
          275854000,
          279040000,
          282162411,
          284968955,
          287625193,
          290107933,
          292805298,
          295516599,
          298379912,
          301231207,
          304093966,
          306771529,
          309327143,
          311583481,
          313877662,
          316059947,
          318386329,
          320738994,
          323071755,
          325122128,
          326838199,
          328329953
         ],
         "xaxis": "x",
         "y": [
          30324240.07,
          28655881.97,
          27354428.33,
          28016717.02,
          28627040.34,
          29017591.92,
          28481861.91,
          27028848.26,
          26361710.89,
          25552870.17,
          24998625.97,
          24635315.44,
          24443455.92,
          23994615.18,
          23614297.72,
          23210331.45,
          22385293.35,
          20763012.1,
          20894550.8,
          20603006.84,
          19871148.97,
          20045072.84,
          20030704.06,
          17439939.3,
          17435510.08,
          16911893.78,
          15831159.17,
          15606780.69,
          15527200.69,
          14985288.43,
          14286801.44,
          13833431.95,
          13644331.39,
          14001871.89,
          14020344.85,
          12704376.46,
          12433575.01,
          12438856.79,
          12942124.46,
          12426273.95,
          12329489.93,
          12116320.02,
          11795045.13,
          11243907.44,
          10883947.31,
          10698303.81,
          10646076.14
         ],
         "yaxis": "y"
        }
       ],
       "layout": {
        "legend": {
         "tracegroupgap": 0
        },
        "template": {
         "data": {
          "bar": [
           {
            "error_x": {
             "color": "#2a3f5f"
            },
            "error_y": {
             "color": "#2a3f5f"
            },
            "marker": {
             "line": {
              "color": "#E5ECF6",
              "width": 0.5
             },
             "pattern": {
              "fillmode": "overlay",
              "size": 10,
              "solidity": 0.2
             }
            },
            "type": "bar"
           }
          ],
          "barpolar": [
           {
            "marker": {
             "line": {
              "color": "#E5ECF6",
              "width": 0.5
             },
             "pattern": {
              "fillmode": "overlay",
              "size": 10,
              "solidity": 0.2
             }
            },
            "type": "barpolar"
           }
          ],
          "carpet": [
           {
            "aaxis": {
             "endlinecolor": "#2a3f5f",
             "gridcolor": "white",
             "linecolor": "white",
             "minorgridcolor": "white",
             "startlinecolor": "#2a3f5f"
            },
            "baxis": {
             "endlinecolor": "#2a3f5f",
             "gridcolor": "white",
             "linecolor": "white",
             "minorgridcolor": "white",
             "startlinecolor": "#2a3f5f"
            },
            "type": "carpet"
           }
          ],
          "choropleth": [
           {
            "colorbar": {
             "outlinewidth": 0,
             "ticks": ""
            },
            "type": "choropleth"
           }
          ],
          "contour": [
           {
            "colorbar": {
             "outlinewidth": 0,
             "ticks": ""
            },
            "colorscale": [
             [
              0,
              "#0d0887"
             ],
             [
              0.1111111111111111,
              "#46039f"
             ],
             [
              0.2222222222222222,
              "#7201a8"
             ],
             [
              0.3333333333333333,
              "#9c179e"
             ],
             [
              0.4444444444444444,
              "#bd3786"
             ],
             [
              0.5555555555555556,
              "#d8576b"
             ],
             [
              0.6666666666666666,
              "#ed7953"
             ],
             [
              0.7777777777777778,
              "#fb9f3a"
             ],
             [
              0.8888888888888888,
              "#fdca26"
             ],
             [
              1,
              "#f0f921"
             ]
            ],
            "type": "contour"
           }
          ],
          "contourcarpet": [
           {
            "colorbar": {
             "outlinewidth": 0,
             "ticks": ""
            },
            "type": "contourcarpet"
           }
          ],
          "heatmap": [
           {
            "colorbar": {
             "outlinewidth": 0,
             "ticks": ""
            },
            "colorscale": [
             [
              0,
              "#0d0887"
             ],
             [
              0.1111111111111111,
              "#46039f"
             ],
             [
              0.2222222222222222,
              "#7201a8"
             ],
             [
              0.3333333333333333,
              "#9c179e"
             ],
             [
              0.4444444444444444,
              "#bd3786"
             ],
             [
              0.5555555555555556,
              "#d8576b"
             ],
             [
              0.6666666666666666,
              "#ed7953"
             ],
             [
              0.7777777777777778,
              "#fb9f3a"
             ],
             [
              0.8888888888888888,
              "#fdca26"
             ],
             [
              1,
              "#f0f921"
             ]
            ],
            "type": "heatmap"
           }
          ],
          "heatmapgl": [
           {
            "colorbar": {
             "outlinewidth": 0,
             "ticks": ""
            },
            "colorscale": [
             [
              0,
              "#0d0887"
             ],
             [
              0.1111111111111111,
              "#46039f"
             ],
             [
              0.2222222222222222,
              "#7201a8"
             ],
             [
              0.3333333333333333,
              "#9c179e"
             ],
             [
              0.4444444444444444,
              "#bd3786"
             ],
             [
              0.5555555555555556,
              "#d8576b"
             ],
             [
              0.6666666666666666,
              "#ed7953"
             ],
             [
              0.7777777777777778,
              "#fb9f3a"
             ],
             [
              0.8888888888888888,
              "#fdca26"
             ],
             [
              1,
              "#f0f921"
             ]
            ],
            "type": "heatmapgl"
           }
          ],
          "histogram": [
           {
            "marker": {
             "pattern": {
              "fillmode": "overlay",
              "size": 10,
              "solidity": 0.2
             }
            },
            "type": "histogram"
           }
          ],
          "histogram2d": [
           {
            "colorbar": {
             "outlinewidth": 0,
             "ticks": ""
            },
            "colorscale": [
             [
              0,
              "#0d0887"
             ],
             [
              0.1111111111111111,
              "#46039f"
             ],
             [
              0.2222222222222222,
              "#7201a8"
             ],
             [
              0.3333333333333333,
              "#9c179e"
             ],
             [
              0.4444444444444444,
              "#bd3786"
             ],
             [
              0.5555555555555556,
              "#d8576b"
             ],
             [
              0.6666666666666666,
              "#ed7953"
             ],
             [
              0.7777777777777778,
              "#fb9f3a"
             ],
             [
              0.8888888888888888,
              "#fdca26"
             ],
             [
              1,
              "#f0f921"
             ]
            ],
            "type": "histogram2d"
           }
          ],
          "histogram2dcontour": [
           {
            "colorbar": {
             "outlinewidth": 0,
             "ticks": ""
            },
            "colorscale": [
             [
              0,
              "#0d0887"
             ],
             [
              0.1111111111111111,
              "#46039f"
             ],
             [
              0.2222222222222222,
              "#7201a8"
             ],
             [
              0.3333333333333333,
              "#9c179e"
             ],
             [
              0.4444444444444444,
              "#bd3786"
             ],
             [
              0.5555555555555556,
              "#d8576b"
             ],
             [
              0.6666666666666666,
              "#ed7953"
             ],
             [
              0.7777777777777778,
              "#fb9f3a"
             ],
             [
              0.8888888888888888,
              "#fdca26"
             ],
             [
              1,
              "#f0f921"
             ]
            ],
            "type": "histogram2dcontour"
           }
          ],
          "mesh3d": [
           {
            "colorbar": {
             "outlinewidth": 0,
             "ticks": ""
            },
            "type": "mesh3d"
           }
          ],
          "parcoords": [
           {
            "line": {
             "colorbar": {
              "outlinewidth": 0,
              "ticks": ""
             }
            },
            "type": "parcoords"
           }
          ],
          "pie": [
           {
            "automargin": true,
            "type": "pie"
           }
          ],
          "scatter": [
           {
            "fillpattern": {
             "fillmode": "overlay",
             "size": 10,
             "solidity": 0.2
            },
            "type": "scatter"
           }
          ],
          "scatter3d": [
           {
            "line": {
             "colorbar": {
              "outlinewidth": 0,
              "ticks": ""
             }
            },
            "marker": {
             "colorbar": {
              "outlinewidth": 0,
              "ticks": ""
             }
            },
            "type": "scatter3d"
           }
          ],
          "scattercarpet": [
           {
            "marker": {
             "colorbar": {
              "outlinewidth": 0,
              "ticks": ""
             }
            },
            "type": "scattercarpet"
           }
          ],
          "scattergeo": [
           {
            "marker": {
             "colorbar": {
              "outlinewidth": 0,
              "ticks": ""
             }
            },
            "type": "scattergeo"
           }
          ],
          "scattergl": [
           {
            "marker": {
             "colorbar": {
              "outlinewidth": 0,
              "ticks": ""
             }
            },
            "type": "scattergl"
           }
          ],
          "scattermapbox": [
           {
            "marker": {
             "colorbar": {
              "outlinewidth": 0,
              "ticks": ""
             }
            },
            "type": "scattermapbox"
           }
          ],
          "scatterpolar": [
           {
            "marker": {
             "colorbar": {
              "outlinewidth": 0,
              "ticks": ""
             }
            },
            "type": "scatterpolar"
           }
          ],
          "scatterpolargl": [
           {
            "marker": {
             "colorbar": {
              "outlinewidth": 0,
              "ticks": ""
             }
            },
            "type": "scatterpolargl"
           }
          ],
          "scatterternary": [
           {
            "marker": {
             "colorbar": {
              "outlinewidth": 0,
              "ticks": ""
             }
            },
            "type": "scatterternary"
           }
          ],
          "surface": [
           {
            "colorbar": {
             "outlinewidth": 0,
             "ticks": ""
            },
            "colorscale": [
             [
              0,
              "#0d0887"
             ],
             [
              0.1111111111111111,
              "#46039f"
             ],
             [
              0.2222222222222222,
              "#7201a8"
             ],
             [
              0.3333333333333333,
              "#9c179e"
             ],
             [
              0.4444444444444444,
              "#bd3786"
             ],
             [
              0.5555555555555556,
              "#d8576b"
             ],
             [
              0.6666666666666666,
              "#ed7953"
             ],
             [
              0.7777777777777778,
              "#fb9f3a"
             ],
             [
              0.8888888888888888,
              "#fdca26"
             ],
             [
              1,
              "#f0f921"
             ]
            ],
            "type": "surface"
           }
          ],
          "table": [
           {
            "cells": {
             "fill": {
              "color": "#EBF0F8"
             },
             "line": {
              "color": "white"
             }
            },
            "header": {
             "fill": {
              "color": "#C8D4E3"
             },
             "line": {
              "color": "white"
             }
            },
            "type": "table"
           }
          ]
         },
         "layout": {
          "annotationdefaults": {
           "arrowcolor": "#2a3f5f",
           "arrowhead": 0,
           "arrowwidth": 1
          },
          "autotypenumbers": "strict",
          "coloraxis": {
           "colorbar": {
            "outlinewidth": 0,
            "ticks": ""
           }
          },
          "colorscale": {
           "diverging": [
            [
             0,
             "#8e0152"
            ],
            [
             0.1,
             "#c51b7d"
            ],
            [
             0.2,
             "#de77ae"
            ],
            [
             0.3,
             "#f1b6da"
            ],
            [
             0.4,
             "#fde0ef"
            ],
            [
             0.5,
             "#f7f7f7"
            ],
            [
             0.6,
             "#e6f5d0"
            ],
            [
             0.7,
             "#b8e186"
            ],
            [
             0.8,
             "#7fbc41"
            ],
            [
             0.9,
             "#4d9221"
            ],
            [
             1,
             "#276419"
            ]
           ],
           "sequential": [
            [
             0,
             "#0d0887"
            ],
            [
             0.1111111111111111,
             "#46039f"
            ],
            [
             0.2222222222222222,
             "#7201a8"
            ],
            [
             0.3333333333333333,
             "#9c179e"
            ],
            [
             0.4444444444444444,
             "#bd3786"
            ],
            [
             0.5555555555555556,
             "#d8576b"
            ],
            [
             0.6666666666666666,
             "#ed7953"
            ],
            [
             0.7777777777777778,
             "#fb9f3a"
            ],
            [
             0.8888888888888888,
             "#fdca26"
            ],
            [
             1,
             "#f0f921"
            ]
           ],
           "sequentialminus": [
            [
             0,
             "#0d0887"
            ],
            [
             0.1111111111111111,
             "#46039f"
            ],
            [
             0.2222222222222222,
             "#7201a8"
            ],
            [
             0.3333333333333333,
             "#9c179e"
            ],
            [
             0.4444444444444444,
             "#bd3786"
            ],
            [
             0.5555555555555556,
             "#d8576b"
            ],
            [
             0.6666666666666666,
             "#ed7953"
            ],
            [
             0.7777777777777778,
             "#fb9f3a"
            ],
            [
             0.8888888888888888,
             "#fdca26"
            ],
            [
             1,
             "#f0f921"
            ]
           ]
          },
          "colorway": [
           "#636efa",
           "#EF553B",
           "#00cc96",
           "#ab63fa",
           "#FFA15A",
           "#19d3f3",
           "#FF6692",
           "#B6E880",
           "#FF97FF",
           "#FECB52"
          ],
          "font": {
           "color": "#2a3f5f"
          },
          "geo": {
           "bgcolor": "white",
           "lakecolor": "white",
           "landcolor": "#E5ECF6",
           "showlakes": true,
           "showland": true,
           "subunitcolor": "white"
          },
          "hoverlabel": {
           "align": "left"
          },
          "hovermode": "closest",
          "mapbox": {
           "style": "light"
          },
          "paper_bgcolor": "white",
          "plot_bgcolor": "#E5ECF6",
          "polar": {
           "angularaxis": {
            "gridcolor": "white",
            "linecolor": "white",
            "ticks": ""
           },
           "bgcolor": "#E5ECF6",
           "radialaxis": {
            "gridcolor": "white",
            "linecolor": "white",
            "ticks": ""
           }
          },
          "scene": {
           "xaxis": {
            "backgroundcolor": "#E5ECF6",
            "gridcolor": "white",
            "gridwidth": 2,
            "linecolor": "white",
            "showbackground": true,
            "ticks": "",
            "zerolinecolor": "white"
           },
           "yaxis": {
            "backgroundcolor": "#E5ECF6",
            "gridcolor": "white",
            "gridwidth": 2,
            "linecolor": "white",
            "showbackground": true,
            "ticks": "",
            "zerolinecolor": "white"
           },
           "zaxis": {
            "backgroundcolor": "#E5ECF6",
            "gridcolor": "white",
            "gridwidth": 2,
            "linecolor": "white",
            "showbackground": true,
            "ticks": "",
            "zerolinecolor": "white"
           }
          },
          "shapedefaults": {
           "line": {
            "color": "#2a3f5f"
           }
          },
          "ternary": {
           "aaxis": {
            "gridcolor": "white",
            "linecolor": "white",
            "ticks": ""
           },
           "baxis": {
            "gridcolor": "white",
            "linecolor": "white",
            "ticks": ""
           },
           "bgcolor": "#E5ECF6",
           "caxis": {
            "gridcolor": "white",
            "linecolor": "white",
            "ticks": ""
           }
          },
          "title": {
           "x": 0.05
          },
          "xaxis": {
           "automargin": true,
           "gridcolor": "white",
           "linecolor": "white",
           "ticks": "",
           "title": {
            "standoff": 15
           },
           "zerolinecolor": "white",
           "zerolinewidth": 2
          },
          "yaxis": {
           "automargin": true,
           "gridcolor": "white",
           "linecolor": "white",
           "ticks": "",
           "title": {
            "standoff": 15
           },
           "zerolinecolor": "white",
           "zerolinewidth": 2
          }
         }
        },
        "title": {
         "text": "Population Correlation to Air Pollution"
        },
        "xaxis": {
         "anchor": "y",
         "domain": [
          0,
          1
         ],
         "title": {
          "text": "USA Population"
         }
        },
        "yaxis": {
         "anchor": "x",
         "domain": [
          0,
          1
         ],
         "title": {
          "text": "Nitrogen Oxide"
         }
        }
       }
      },
      "text/html": [
       "<div>                            <div id=\"3dc51873-311b-4024-95c7-52ee939eeb6d\" class=\"plotly-graph-div\" style=\"height:525px; width:100%;\"></div>            <script type=\"text/javascript\">                require([\"plotly\"], function(Plotly) {                    window.PLOTLYENV=window.PLOTLYENV || {};                                    if (document.getElementById(\"3dc51873-311b-4024-95c7-52ee939eeb6d\")) {                    Plotly.newPlot(                        \"3dc51873-311b-4024-95c7-52ee939eeb6d\",                        [{\"hovertemplate\":\"USA Population=%{x}<br>Nitrogen Oxide=%{y}<extra></extra>\",\"legendgroup\":\"\",\"marker\":{\"color\":\"red\",\"symbol\":\"circle\"},\"mode\":\"markers\",\"name\":\"Nitrogen Oxide\",\"orientation\":\"v\",\"showlegend\":false,\"x\":[211909000.0,213854000.0,215973000.0,218035000.0,220239000.0,222585000.0,225055000.0,227225000.0,229466000.0,231664000.0,233792000.0,235825000.0,237924000.0,240133000.0,242289000.0,244499000.0,246819000.0,249623000.0,252981000.0,256514000.0,259919000.0,263126000.0,266278000.0,269394000.0,272657000.0,275854000.0,279040000.0,282162411.0,284968955.0,287625193.0,290107933.0,292805298.0,295516599.0,298379912.0,301231207.0,304093966.0,306771529.0,309327143.0,311583481.0,313877662.0,316059947.0,318386329.0,320738994.0,323071755.0,325122128.0,326838199.0,328329953.0],\"xaxis\":\"x\",\"y\":[27172554.3,25823442.75,24579698.36,25805583.84,26410632.75,26381758.56,26066032.39,24693056.47,24189160.1,22798108.69,22698412.07,23554834.53,23263629.04,22879525.79,23224761.42,23844857.31,23606631.41,22793844.74,22400598.8,22530462.56,22327876.86,22077568.64,21814666.8,21494017.34,21500103.54,21158623.84,19811980.53,19789098.46,19212334.29,18255470.68,17507746.06,17251537.75,16603341.14,16121716.19,15344278.57,14022631.9,12890227.38,12016561.45,11998356.97,11339090.47,10942089.08,10472476.25,9862492.32,8891820.48,8352825.57,8004348.01,7679316.62],\"yaxis\":\"y\",\"type\":\"scatter\"},{\"hovertemplate\":\"USA Population=%{x}<br>Sulphur Dioxide=%{y}<extra></extra>\",\"legendgroup\":\"\",\"marker\":{\"color\":\"blue\",\"symbol\":\"circle\"},\"mode\":\"markers\",\"name\":\"Sulphur Dioxide\",\"orientation\":\"v\",\"showlegend\":false,\"x\":[211909000.0,213854000.0,215973000.0,218035000.0,220239000.0,222585000.0,225055000.0,227225000.0,229466000.0,231664000.0,233792000.0,235825000.0,237924000.0,240133000.0,242289000.0,244499000.0,246819000.0,249623000.0,252981000.0,256514000.0,259919000.0,263126000.0,266278000.0,269394000.0,272657000.0,275854000.0,279040000.0,282162411.0,284968955.0,287625193.0,290107933.0,292805298.0,295516599.0,298379912.0,301231207.0,304093966.0,306771529.0,309327143.0,311583481.0,313877662.0,316059947.0,318386329.0,320738994.0,323071755.0,325122128.0,326838199.0,328329953.0],\"xaxis\":\"x\",\"y\":[30179080.68,28155975.69,26301377.53,27379725.29,27345283.71,25377444.93,25163499.02,23841380.12,22729978.22,21318466.78,20706292.36,21697036.39,21394536.4,20978919.01,21192734.16,21653740.51,21640143.1,21123048.33,20444618.1,20058118.96,19733550.83,19339483.13,16857011.0,16642916.22,17033129.11,17099078.69,15725534.19,14703387.32,14357674.13,13191002.09,13054294.38,12922228.67,12966839.11,11745092.32,10529983.48,9305275.74,8163445.61,7000107.86,5850552.47,4614837.6,4421267.7,4277573.02,3655967.34,3015954.72,2364006.07,2280939.46,1921172.15],\"yaxis\":\"y\",\"type\":\"scatter\"},{\"hovertemplate\":\"USA Population=%{x}<br>NMVOCs=%{y}<extra></extra>\",\"legendgroup\":\"\",\"marker\":{\"color\":\"green\",\"symbol\":\"circle\"},\"mode\":\"markers\",\"name\":\"NMVOCs\",\"orientation\":\"v\",\"showlegend\":false,\"x\":[211909000.0,213854000.0,215973000.0,218035000.0,220239000.0,222585000.0,225055000.0,227225000.0,229466000.0,231664000.0,233792000.0,235825000.0,237924000.0,240133000.0,242289000.0,244499000.0,246819000.0,249623000.0,252981000.0,256514000.0,259919000.0,263126000.0,266278000.0,269394000.0,272657000.0,275854000.0,279040000.0,282162411.0,284968955.0,287625193.0,290107933.0,292805298.0,295516599.0,298379912.0,301231207.0,304093966.0,306771529.0,309327143.0,311583481.0,313877662.0,316059947.0,318386329.0,320738994.0,323071755.0,325122128.0,326838199.0,328329953.0],\"xaxis\":\"x\",\"y\":[30324240.07,28655881.97,27354428.33,28016717.02,28627040.34,29017591.92,28481861.91,27028848.26,26361710.89,25552870.17,24998625.97,24635315.44,24443455.92,23994615.18,23614297.72,23210331.45,22385293.35,20763012.1,20894550.8,20603006.84,19871148.97,20045072.84,20030704.06,17439939.3,17435510.08,16911893.78,15831159.17,15606780.69,15527200.69,14985288.43,14286801.44,13833431.95,13644331.39,14001871.89,14020344.85,12704376.46,12433575.01,12438856.79,12942124.46,12426273.95,12329489.93,12116320.02,11795045.13,11243907.44,10883947.31,10698303.81,10646076.14],\"yaxis\":\"y\",\"type\":\"scatter\"}],                        {\"legend\":{\"tracegroupgap\":0},\"template\":{\"data\":{\"barpolar\":[{\"marker\":{\"line\":{\"color\":\"#E5ECF6\",\"width\":0.5},\"pattern\":{\"fillmode\":\"overlay\",\"size\":10,\"solidity\":0.2}},\"type\":\"barpolar\"}],\"bar\":[{\"error_x\":{\"color\":\"#2a3f5f\"},\"error_y\":{\"color\":\"#2a3f5f\"},\"marker\":{\"line\":{\"color\":\"#E5ECF6\",\"width\":0.5},\"pattern\":{\"fillmode\":\"overlay\",\"size\":10,\"solidity\":0.2}},\"type\":\"bar\"}],\"carpet\":[{\"aaxis\":{\"endlinecolor\":\"#2a3f5f\",\"gridcolor\":\"white\",\"linecolor\":\"white\",\"minorgridcolor\":\"white\",\"startlinecolor\":\"#2a3f5f\"},\"baxis\":{\"endlinecolor\":\"#2a3f5f\",\"gridcolor\":\"white\",\"linecolor\":\"white\",\"minorgridcolor\":\"white\",\"startlinecolor\":\"#2a3f5f\"},\"type\":\"carpet\"}],\"choropleth\":[{\"colorbar\":{\"outlinewidth\":0,\"ticks\":\"\"},\"type\":\"choropleth\"}],\"contourcarpet\":[{\"colorbar\":{\"outlinewidth\":0,\"ticks\":\"\"},\"type\":\"contourcarpet\"}],\"contour\":[{\"colorbar\":{\"outlinewidth\":0,\"ticks\":\"\"},\"colorscale\":[[0.0,\"#0d0887\"],[0.1111111111111111,\"#46039f\"],[0.2222222222222222,\"#7201a8\"],[0.3333333333333333,\"#9c179e\"],[0.4444444444444444,\"#bd3786\"],[0.5555555555555556,\"#d8576b\"],[0.6666666666666666,\"#ed7953\"],[0.7777777777777778,\"#fb9f3a\"],[0.8888888888888888,\"#fdca26\"],[1.0,\"#f0f921\"]],\"type\":\"contour\"}],\"heatmapgl\":[{\"colorbar\":{\"outlinewidth\":0,\"ticks\":\"\"},\"colorscale\":[[0.0,\"#0d0887\"],[0.1111111111111111,\"#46039f\"],[0.2222222222222222,\"#7201a8\"],[0.3333333333333333,\"#9c179e\"],[0.4444444444444444,\"#bd3786\"],[0.5555555555555556,\"#d8576b\"],[0.6666666666666666,\"#ed7953\"],[0.7777777777777778,\"#fb9f3a\"],[0.8888888888888888,\"#fdca26\"],[1.0,\"#f0f921\"]],\"type\":\"heatmapgl\"}],\"heatmap\":[{\"colorbar\":{\"outlinewidth\":0,\"ticks\":\"\"},\"colorscale\":[[0.0,\"#0d0887\"],[0.1111111111111111,\"#46039f\"],[0.2222222222222222,\"#7201a8\"],[0.3333333333333333,\"#9c179e\"],[0.4444444444444444,\"#bd3786\"],[0.5555555555555556,\"#d8576b\"],[0.6666666666666666,\"#ed7953\"],[0.7777777777777778,\"#fb9f3a\"],[0.8888888888888888,\"#fdca26\"],[1.0,\"#f0f921\"]],\"type\":\"heatmap\"}],\"histogram2dcontour\":[{\"colorbar\":{\"outlinewidth\":0,\"ticks\":\"\"},\"colorscale\":[[0.0,\"#0d0887\"],[0.1111111111111111,\"#46039f\"],[0.2222222222222222,\"#7201a8\"],[0.3333333333333333,\"#9c179e\"],[0.4444444444444444,\"#bd3786\"],[0.5555555555555556,\"#d8576b\"],[0.6666666666666666,\"#ed7953\"],[0.7777777777777778,\"#fb9f3a\"],[0.8888888888888888,\"#fdca26\"],[1.0,\"#f0f921\"]],\"type\":\"histogram2dcontour\"}],\"histogram2d\":[{\"colorbar\":{\"outlinewidth\":0,\"ticks\":\"\"},\"colorscale\":[[0.0,\"#0d0887\"],[0.1111111111111111,\"#46039f\"],[0.2222222222222222,\"#7201a8\"],[0.3333333333333333,\"#9c179e\"],[0.4444444444444444,\"#bd3786\"],[0.5555555555555556,\"#d8576b\"],[0.6666666666666666,\"#ed7953\"],[0.7777777777777778,\"#fb9f3a\"],[0.8888888888888888,\"#fdca26\"],[1.0,\"#f0f921\"]],\"type\":\"histogram2d\"}],\"histogram\":[{\"marker\":{\"pattern\":{\"fillmode\":\"overlay\",\"size\":10,\"solidity\":0.2}},\"type\":\"histogram\"}],\"mesh3d\":[{\"colorbar\":{\"outlinewidth\":0,\"ticks\":\"\"},\"type\":\"mesh3d\"}],\"parcoords\":[{\"line\":{\"colorbar\":{\"outlinewidth\":0,\"ticks\":\"\"}},\"type\":\"parcoords\"}],\"pie\":[{\"automargin\":true,\"type\":\"pie\"}],\"scatter3d\":[{\"line\":{\"colorbar\":{\"outlinewidth\":0,\"ticks\":\"\"}},\"marker\":{\"colorbar\":{\"outlinewidth\":0,\"ticks\":\"\"}},\"type\":\"scatter3d\"}],\"scattercarpet\":[{\"marker\":{\"colorbar\":{\"outlinewidth\":0,\"ticks\":\"\"}},\"type\":\"scattercarpet\"}],\"scattergeo\":[{\"marker\":{\"colorbar\":{\"outlinewidth\":0,\"ticks\":\"\"}},\"type\":\"scattergeo\"}],\"scattergl\":[{\"marker\":{\"colorbar\":{\"outlinewidth\":0,\"ticks\":\"\"}},\"type\":\"scattergl\"}],\"scattermapbox\":[{\"marker\":{\"colorbar\":{\"outlinewidth\":0,\"ticks\":\"\"}},\"type\":\"scattermapbox\"}],\"scatterpolargl\":[{\"marker\":{\"colorbar\":{\"outlinewidth\":0,\"ticks\":\"\"}},\"type\":\"scatterpolargl\"}],\"scatterpolar\":[{\"marker\":{\"colorbar\":{\"outlinewidth\":0,\"ticks\":\"\"}},\"type\":\"scatterpolar\"}],\"scatter\":[{\"fillpattern\":{\"fillmode\":\"overlay\",\"size\":10,\"solidity\":0.2},\"type\":\"scatter\"}],\"scatterternary\":[{\"marker\":{\"colorbar\":{\"outlinewidth\":0,\"ticks\":\"\"}},\"type\":\"scatterternary\"}],\"surface\":[{\"colorbar\":{\"outlinewidth\":0,\"ticks\":\"\"},\"colorscale\":[[0.0,\"#0d0887\"],[0.1111111111111111,\"#46039f\"],[0.2222222222222222,\"#7201a8\"],[0.3333333333333333,\"#9c179e\"],[0.4444444444444444,\"#bd3786\"],[0.5555555555555556,\"#d8576b\"],[0.6666666666666666,\"#ed7953\"],[0.7777777777777778,\"#fb9f3a\"],[0.8888888888888888,\"#fdca26\"],[1.0,\"#f0f921\"]],\"type\":\"surface\"}],\"table\":[{\"cells\":{\"fill\":{\"color\":\"#EBF0F8\"},\"line\":{\"color\":\"white\"}},\"header\":{\"fill\":{\"color\":\"#C8D4E3\"},\"line\":{\"color\":\"white\"}},\"type\":\"table\"}]},\"layout\":{\"annotationdefaults\":{\"arrowcolor\":\"#2a3f5f\",\"arrowhead\":0,\"arrowwidth\":1},\"autotypenumbers\":\"strict\",\"coloraxis\":{\"colorbar\":{\"outlinewidth\":0,\"ticks\":\"\"}},\"colorscale\":{\"diverging\":[[0,\"#8e0152\"],[0.1,\"#c51b7d\"],[0.2,\"#de77ae\"],[0.3,\"#f1b6da\"],[0.4,\"#fde0ef\"],[0.5,\"#f7f7f7\"],[0.6,\"#e6f5d0\"],[0.7,\"#b8e186\"],[0.8,\"#7fbc41\"],[0.9,\"#4d9221\"],[1,\"#276419\"]],\"sequential\":[[0.0,\"#0d0887\"],[0.1111111111111111,\"#46039f\"],[0.2222222222222222,\"#7201a8\"],[0.3333333333333333,\"#9c179e\"],[0.4444444444444444,\"#bd3786\"],[0.5555555555555556,\"#d8576b\"],[0.6666666666666666,\"#ed7953\"],[0.7777777777777778,\"#fb9f3a\"],[0.8888888888888888,\"#fdca26\"],[1.0,\"#f0f921\"]],\"sequentialminus\":[[0.0,\"#0d0887\"],[0.1111111111111111,\"#46039f\"],[0.2222222222222222,\"#7201a8\"],[0.3333333333333333,\"#9c179e\"],[0.4444444444444444,\"#bd3786\"],[0.5555555555555556,\"#d8576b\"],[0.6666666666666666,\"#ed7953\"],[0.7777777777777778,\"#fb9f3a\"],[0.8888888888888888,\"#fdca26\"],[1.0,\"#f0f921\"]]},\"colorway\":[\"#636efa\",\"#EF553B\",\"#00cc96\",\"#ab63fa\",\"#FFA15A\",\"#19d3f3\",\"#FF6692\",\"#B6E880\",\"#FF97FF\",\"#FECB52\"],\"font\":{\"color\":\"#2a3f5f\"},\"geo\":{\"bgcolor\":\"white\",\"lakecolor\":\"white\",\"landcolor\":\"#E5ECF6\",\"showlakes\":true,\"showland\":true,\"subunitcolor\":\"white\"},\"hoverlabel\":{\"align\":\"left\"},\"hovermode\":\"closest\",\"mapbox\":{\"style\":\"light\"},\"paper_bgcolor\":\"white\",\"plot_bgcolor\":\"#E5ECF6\",\"polar\":{\"angularaxis\":{\"gridcolor\":\"white\",\"linecolor\":\"white\",\"ticks\":\"\"},\"bgcolor\":\"#E5ECF6\",\"radialaxis\":{\"gridcolor\":\"white\",\"linecolor\":\"white\",\"ticks\":\"\"}},\"scene\":{\"xaxis\":{\"backgroundcolor\":\"#E5ECF6\",\"gridcolor\":\"white\",\"gridwidth\":2,\"linecolor\":\"white\",\"showbackground\":true,\"ticks\":\"\",\"zerolinecolor\":\"white\"},\"yaxis\":{\"backgroundcolor\":\"#E5ECF6\",\"gridcolor\":\"white\",\"gridwidth\":2,\"linecolor\":\"white\",\"showbackground\":true,\"ticks\":\"\",\"zerolinecolor\":\"white\"},\"zaxis\":{\"backgroundcolor\":\"#E5ECF6\",\"gridcolor\":\"white\",\"gridwidth\":2,\"linecolor\":\"white\",\"showbackground\":true,\"ticks\":\"\",\"zerolinecolor\":\"white\"}},\"shapedefaults\":{\"line\":{\"color\":\"#2a3f5f\"}},\"ternary\":{\"aaxis\":{\"gridcolor\":\"white\",\"linecolor\":\"white\",\"ticks\":\"\"},\"baxis\":{\"gridcolor\":\"white\",\"linecolor\":\"white\",\"ticks\":\"\"},\"bgcolor\":\"#E5ECF6\",\"caxis\":{\"gridcolor\":\"white\",\"linecolor\":\"white\",\"ticks\":\"\"}},\"title\":{\"x\":0.05},\"xaxis\":{\"automargin\":true,\"gridcolor\":\"white\",\"linecolor\":\"white\",\"ticks\":\"\",\"title\":{\"standoff\":15},\"zerolinecolor\":\"white\",\"zerolinewidth\":2},\"yaxis\":{\"automargin\":true,\"gridcolor\":\"white\",\"linecolor\":\"white\",\"ticks\":\"\",\"title\":{\"standoff\":15},\"zerolinecolor\":\"white\",\"zerolinewidth\":2}}},\"title\":{\"text\":\"Population Correlation to Air Pollution\"},\"xaxis\":{\"anchor\":\"y\",\"domain\":[0.0,1.0],\"title\":{\"text\":\"USA Population\"}},\"yaxis\":{\"anchor\":\"x\",\"domain\":[0.0,1.0],\"title\":{\"text\":\"Nitrogen Oxide\"}}},                        {\"responsive\": true}                    ).then(function(){\n",
       "                            \n",
       "var gd = document.getElementById('3dc51873-311b-4024-95c7-52ee939eeb6d');\n",
       "var x = new MutationObserver(function (mutations, observer) {{\n",
       "        var display = window.getComputedStyle(gd).display;\n",
       "        if (!display || display === 'none') {{\n",
       "            console.log([gd, 'removed!']);\n",
       "            Plotly.purge(gd);\n",
       "            observer.disconnect();\n",
       "        }}\n",
       "}});\n",
       "\n",
       "// Listen for the removal of the full notebook cells\n",
       "var notebookContainer = gd.closest('#notebook-container');\n",
       "if (notebookContainer) {{\n",
       "    x.observe(notebookContainer, {childList: true});\n",
       "}}\n",
       "\n",
       "// Listen for the clearing of the current output cell\n",
       "var outputEl = gd.closest('.output');\n",
       "if (outputEl) {{\n",
       "    x.observe(outputEl, {childList: true});\n",
       "}}\n",
       "\n",
       "                        })                };                });            </script>        </div>"
      ]
     },
     "metadata": {},
     "output_type": "display_data"
    }
   ],
   "source": [
    "fig1 = px.scatter(final_usa_df, x='USA Population', y='Nitrogen Oxide', color_discrete_sequence=['red'], title='Population Correlation to Air Pollution')\n",
    "labels={'USA Population': 'Population', 'Nitrogen Oxide': 'Nitrogen Oxide'}\n",
    "fig1.data[0].name = 'Nitrogen Oxide'\n",
    "\n",
    "fig2 = px.scatter(final_usa_df, x='USA Population', y='Sulphur Dioxide', color_discrete_sequence=['blue'])\n",
    "labels={'USA Population': 'Population', 'Sulphur Dioxide': 'Sulphur Dioxide'}\n",
    "fig2.data[0].name = 'Sulphur Dioxide'\n",
    "\n",
    "fig3 = px.scatter(final_usa_df, x='USA Population', y='NMVOCs', color_discrete_sequence=['green'])\n",
    "labels={'USA Population': 'Population', 'NMVOCs': 'NMVOCs'}\n",
    "fig3.data[0].name = 'NMVOCs'\n",
    "\n",
    "fig8 = go.Figure(data=fig1.data + fig2.data + fig3.data)\n",
    "all_fig = go.Figure(data=fig1.data + fig2.data + fig3.data, layout = fig1.layout)\n",
    "all_fig.show()"
   ]
  },
  {
   "cell_type": "code",
   "execution_count": null,
   "id": "4de90586",
   "metadata": {},
   "outputs": [],
   "source": []
  }
 ],
 "metadata": {
  "kernelspec": {
   "display_name": "Python 3 (ipykernel)",
   "language": "python",
   "name": "python3"
  },
  "language_info": {
   "codemirror_mode": {
    "name": "ipython",
    "version": 3
   },
   "file_extension": ".py",
   "mimetype": "text/x-python",
   "name": "python",
   "nbconvert_exporter": "python",
   "pygments_lexer": "ipython3",
   "version": "3.11.4"
  }
 },
 "nbformat": 4,
 "nbformat_minor": 5
}
